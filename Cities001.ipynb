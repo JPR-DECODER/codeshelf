{
 "cells": [
  {
   "cell_type": "code",
   "execution_count": 1,
   "id": "1ae5b276",
   "metadata": {},
   "outputs": [
    {
     "data": {
      "text/html": [
       "<div>\n",
       "<style scoped>\n",
       "    .dataframe tbody tr th:only-of-type {\n",
       "        vertical-align: middle;\n",
       "    }\n",
       "\n",
       "    .dataframe tbody tr th {\n",
       "        vertical-align: top;\n",
       "    }\n",
       "\n",
       "    .dataframe thead th {\n",
       "        text-align: right;\n",
       "    }\n",
       "</style>\n",
       "<table border=\"1\" class=\"dataframe\">\n",
       "  <thead>\n",
       "    <tr style=\"text-align: right;\">\n",
       "      <th></th>\n",
       "      <th>LARGEST CITIES AMONG TOP 250 COUNTRIES</th>\n",
       "      <th>Unnamed: 1</th>\n",
       "      <th>Unnamed: 2</th>\n",
       "      <th>Unnamed: 3</th>\n",
       "      <th>Unnamed: 4</th>\n",
       "      <th>Unnamed: 5</th>\n",
       "      <th>Unnamed: 6</th>\n",
       "      <th>Unnamed: 7</th>\n",
       "      <th>Unnamed: 8</th>\n",
       "      <th>Unnamed: 9</th>\n",
       "      <th>Unnamed: 10</th>\n",
       "      <th>Unnamed: 11</th>\n",
       "      <th>Unnamed: 12</th>\n",
       "    </tr>\n",
       "  </thead>\n",
       "  <tbody>\n",
       "    <tr>\n",
       "      <th>0</th>\n",
       "      <td>Rank</td>\n",
       "      <td>City</td>\n",
       "      <td>Country</td>\n",
       "      <td>Landarea (In Sqkm)</td>\n",
       "      <td>Density</td>\n",
       "      <td>NaN</td>\n",
       "      <td>NaN</td>\n",
       "      <td>NaN</td>\n",
       "      <td>NaN</td>\n",
       "      <td>NaN</td>\n",
       "      <td>NaN</td>\n",
       "      <td>NaN</td>\n",
       "      <td>NaN</td>\n",
       "    </tr>\n",
       "    <tr>\n",
       "      <th>1</th>\n",
       "      <td>1</td>\n",
       "      <td>New York Metro</td>\n",
       "      <td>USA</td>\n",
       "      <td>8,683</td>\n",
       "      <td>2,050</td>\n",
       "      <td>NaN</td>\n",
       "      <td>NaN</td>\n",
       "      <td>NaN</td>\n",
       "      <td>NaN</td>\n",
       "      <td>NaN</td>\n",
       "      <td>NaN</td>\n",
       "      <td>NaN</td>\n",
       "      <td>NaN</td>\n",
       "    </tr>\n",
       "    <tr>\n",
       "      <th>2</th>\n",
       "      <td>2</td>\n",
       "      <td>Yokyo / yokohana</td>\n",
       "      <td>Japan</td>\n",
       "      <td>6,993</td>\n",
       "      <td>4,750</td>\n",
       "      <td>NaN</td>\n",
       "      <td>NaN</td>\n",
       "      <td>NaN</td>\n",
       "      <td>NaN</td>\n",
       "      <td>NaN</td>\n",
       "      <td>NaN</td>\n",
       "      <td>NaN</td>\n",
       "      <td>NaN</td>\n",
       "    </tr>\n",
       "    <tr>\n",
       "      <th>3</th>\n",
       "      <td>3</td>\n",
       "      <td>chicapo</td>\n",
       "      <td>USA</td>\n",
       "      <td>5,498</td>\n",
       "      <td>1,500</td>\n",
       "      <td>NaN</td>\n",
       "      <td>NaN</td>\n",
       "      <td>NaN</td>\n",
       "      <td>NaN</td>\n",
       "      <td>NaN</td>\n",
       "      <td>NaN</td>\n",
       "      <td>NaN</td>\n",
       "      <td>NaN</td>\n",
       "    </tr>\n",
       "    <tr>\n",
       "      <th>4</th>\n",
       "      <td>4</td>\n",
       "      <td>aflanta</td>\n",
       "      <td>USA</td>\n",
       "      <td>5,083</td>\n",
       "      <td>700</td>\n",
       "      <td>NaN</td>\n",
       "      <td>NaN</td>\n",
       "      <td>NaN</td>\n",
       "      <td>NaN</td>\n",
       "      <td>NaN</td>\n",
       "      <td>NaN</td>\n",
       "      <td>NaN</td>\n",
       "      <td>NaN</td>\n",
       "    </tr>\n",
       "  </tbody>\n",
       "</table>\n",
       "</div>"
      ],
      "text/plain": [
       "  LARGEST CITIES AMONG TOP 250 COUNTRIES        Unnamed: 1 Unnamed: 2  \\\n",
       "0                                   Rank              City    Country   \n",
       "1                                      1    New York Metro        USA   \n",
       "2                                      2  Yokyo / yokohana      Japan   \n",
       "3                                      3           chicapo        USA   \n",
       "4                                      4           aflanta        USA   \n",
       "\n",
       "           Unnamed: 3 Unnamed: 4  Unnamed: 5  Unnamed: 6  Unnamed: 7  \\\n",
       "0  Landarea (In Sqkm)    Density         NaN         NaN         NaN   \n",
       "1               8,683      2,050         NaN         NaN         NaN   \n",
       "2               6,993      4,750         NaN         NaN         NaN   \n",
       "3               5,498      1,500         NaN         NaN         NaN   \n",
       "4               5,083        700         NaN         NaN         NaN   \n",
       "\n",
       "   Unnamed: 8  Unnamed: 9  Unnamed: 10  Unnamed: 11  Unnamed: 12  \n",
       "0         NaN         NaN          NaN          NaN          NaN  \n",
       "1         NaN         NaN          NaN          NaN          NaN  \n",
       "2         NaN         NaN          NaN          NaN          NaN  \n",
       "3         NaN         NaN          NaN          NaN          NaN  \n",
       "4         NaN         NaN          NaN          NaN          NaN  "
      ]
     },
     "execution_count": 1,
     "metadata": {},
     "output_type": "execute_result"
    }
   ],
   "source": [
    "import pandas as pd\n",
    "\n",
    "df = pd.read_csv(\"C:\\\\Users\\\\home\\\\cities.csv\")\n",
    "df.head()"
   ]
  },
  {
   "cell_type": "code",
   "execution_count": 2,
   "id": "c7deee69",
   "metadata": {},
   "outputs": [],
   "source": [
    "df.drop(['Unnamed: 5','Unnamed: 6','Unnamed: 7','Unnamed: 8','Unnamed: 9','Unnamed: 10','Unnamed: 11','Unnamed: 12'],axis=1,inplace=True)"
   ]
  },
  {
   "cell_type": "code",
   "execution_count": 3,
   "id": "2b35f20f",
   "metadata": {},
   "outputs": [
    {
     "data": {
      "text/html": [
       "<div>\n",
       "<style scoped>\n",
       "    .dataframe tbody tr th:only-of-type {\n",
       "        vertical-align: middle;\n",
       "    }\n",
       "\n",
       "    .dataframe tbody tr th {\n",
       "        vertical-align: top;\n",
       "    }\n",
       "\n",
       "    .dataframe thead th {\n",
       "        text-align: right;\n",
       "    }\n",
       "</style>\n",
       "<table border=\"1\" class=\"dataframe\">\n",
       "  <thead>\n",
       "    <tr style=\"text-align: right;\">\n",
       "      <th></th>\n",
       "      <th>Rank</th>\n",
       "      <th>City</th>\n",
       "      <th>Country</th>\n",
       "      <th>Landarea (In Sqkm)</th>\n",
       "      <th>Density</th>\n",
       "    </tr>\n",
       "  </thead>\n",
       "  <tbody>\n",
       "    <tr>\n",
       "      <th>0</th>\n",
       "      <td>Rank</td>\n",
       "      <td>City</td>\n",
       "      <td>Country</td>\n",
       "      <td>Landarea (In Sqkm)</td>\n",
       "      <td>Density</td>\n",
       "    </tr>\n",
       "    <tr>\n",
       "      <th>1</th>\n",
       "      <td>1</td>\n",
       "      <td>New York Metro</td>\n",
       "      <td>USA</td>\n",
       "      <td>8,683</td>\n",
       "      <td>2,050</td>\n",
       "    </tr>\n",
       "    <tr>\n",
       "      <th>2</th>\n",
       "      <td>2</td>\n",
       "      <td>Yokyo / yokohana</td>\n",
       "      <td>Japan</td>\n",
       "      <td>6,993</td>\n",
       "      <td>4,750</td>\n",
       "    </tr>\n",
       "    <tr>\n",
       "      <th>3</th>\n",
       "      <td>3</td>\n",
       "      <td>chicapo</td>\n",
       "      <td>USA</td>\n",
       "      <td>5,498</td>\n",
       "      <td>1,500</td>\n",
       "    </tr>\n",
       "    <tr>\n",
       "      <th>4</th>\n",
       "      <td>4</td>\n",
       "      <td>aflanta</td>\n",
       "      <td>USA</td>\n",
       "      <td>5,083</td>\n",
       "      <td>700</td>\n",
       "    </tr>\n",
       "  </tbody>\n",
       "</table>\n",
       "</div>"
      ],
      "text/plain": [
       "   Rank              City  Country  Landarea (In Sqkm)  Density\n",
       "0  Rank              City  Country  Landarea (In Sqkm)  Density\n",
       "1     1    New York Metro      USA               8,683    2,050\n",
       "2     2  Yokyo / yokohana    Japan               6,993    4,750\n",
       "3     3           chicapo      USA               5,498    1,500\n",
       "4     4           aflanta      USA               5,083      700"
      ]
     },
     "execution_count": 3,
     "metadata": {},
     "output_type": "execute_result"
    }
   ],
   "source": [
    "df_cols=['Rank','City','Country','Landarea (In Sqkm)','Density']\n",
    "df.columns=df_cols\n",
    "df.head()"
   ]
  },
  {
   "cell_type": "code",
   "execution_count": 4,
   "id": "d8373213",
   "metadata": {},
   "outputs": [
    {
     "data": {
      "text/html": [
       "<div>\n",
       "<style scoped>\n",
       "    .dataframe tbody tr th:only-of-type {\n",
       "        vertical-align: middle;\n",
       "    }\n",
       "\n",
       "    .dataframe tbody tr th {\n",
       "        vertical-align: top;\n",
       "    }\n",
       "\n",
       "    .dataframe thead th {\n",
       "        text-align: right;\n",
       "    }\n",
       "</style>\n",
       "<table border=\"1\" class=\"dataframe\">\n",
       "  <thead>\n",
       "    <tr style=\"text-align: right;\">\n",
       "      <th></th>\n",
       "      <th>Rank</th>\n",
       "      <th>City</th>\n",
       "      <th>Country</th>\n",
       "      <th>Landarea (In Sqkm)</th>\n",
       "      <th>Density</th>\n",
       "    </tr>\n",
       "  </thead>\n",
       "  <tbody>\n",
       "    <tr>\n",
       "      <th>1</th>\n",
       "      <td>1</td>\n",
       "      <td>New York Metro</td>\n",
       "      <td>USA</td>\n",
       "      <td>8,683</td>\n",
       "      <td>2,050</td>\n",
       "    </tr>\n",
       "    <tr>\n",
       "      <th>2</th>\n",
       "      <td>2</td>\n",
       "      <td>Yokyo / yokohana</td>\n",
       "      <td>Japan</td>\n",
       "      <td>6,993</td>\n",
       "      <td>4,750</td>\n",
       "    </tr>\n",
       "    <tr>\n",
       "      <th>3</th>\n",
       "      <td>3</td>\n",
       "      <td>chicapo</td>\n",
       "      <td>USA</td>\n",
       "      <td>5,498</td>\n",
       "      <td>1,500</td>\n",
       "    </tr>\n",
       "    <tr>\n",
       "      <th>4</th>\n",
       "      <td>4</td>\n",
       "      <td>aflanta</td>\n",
       "      <td>USA</td>\n",
       "      <td>5,083</td>\n",
       "      <td>700</td>\n",
       "    </tr>\n",
       "    <tr>\n",
       "      <th>5</th>\n",
       "      <td>5</td>\n",
       "      <td>philadelphia</td>\n",
       "      <td>USA</td>\n",
       "      <td>4,661</td>\n",
       "      <td>1,100</td>\n",
       "    </tr>\n",
       "  </tbody>\n",
       "</table>\n",
       "</div>"
      ],
      "text/plain": [
       "  Rank              City Country Landarea (In Sqkm) Density\n",
       "1    1    New York Metro     USA              8,683   2,050\n",
       "2    2  Yokyo / yokohana   Japan              6,993   4,750\n",
       "3    3           chicapo     USA              5,498   1,500\n",
       "4    4           aflanta     USA              5,083     700\n",
       "5    5      philadelphia     USA              4,661   1,100"
      ]
     },
     "execution_count": 4,
     "metadata": {},
     "output_type": "execute_result"
    }
   ],
   "source": [
    "\n",
    "df.drop([0],axis=0,inplace=True)\n",
    "df.head()"
   ]
  },
  {
   "cell_type": "code",
   "execution_count": 5,
   "id": "2e676a8c",
   "metadata": {},
   "outputs": [
    {
     "data": {
      "text/html": [
       "<div>\n",
       "<style scoped>\n",
       "    .dataframe tbody tr th:only-of-type {\n",
       "        vertical-align: middle;\n",
       "    }\n",
       "\n",
       "    .dataframe tbody tr th {\n",
       "        vertical-align: top;\n",
       "    }\n",
       "\n",
       "    .dataframe thead th {\n",
       "        text-align: right;\n",
       "    }\n",
       "</style>\n",
       "<table border=\"1\" class=\"dataframe\">\n",
       "  <thead>\n",
       "    <tr style=\"text-align: right;\">\n",
       "      <th></th>\n",
       "      <th>City</th>\n",
       "      <th>Country</th>\n",
       "      <th>Landarea (In Sqkm)</th>\n",
       "      <th>Density</th>\n",
       "    </tr>\n",
       "  </thead>\n",
       "  <tbody>\n",
       "    <tr>\n",
       "      <th>1</th>\n",
       "      <td>New York Metro</td>\n",
       "      <td>USA</td>\n",
       "      <td>8,683</td>\n",
       "      <td>2,050</td>\n",
       "    </tr>\n",
       "    <tr>\n",
       "      <th>2</th>\n",
       "      <td>Yokyo / yokohana</td>\n",
       "      <td>Japan</td>\n",
       "      <td>6,993</td>\n",
       "      <td>4,750</td>\n",
       "    </tr>\n",
       "    <tr>\n",
       "      <th>3</th>\n",
       "      <td>chicapo</td>\n",
       "      <td>USA</td>\n",
       "      <td>5,498</td>\n",
       "      <td>1,500</td>\n",
       "    </tr>\n",
       "    <tr>\n",
       "      <th>4</th>\n",
       "      <td>aflanta</td>\n",
       "      <td>USA</td>\n",
       "      <td>5,083</td>\n",
       "      <td>700</td>\n",
       "    </tr>\n",
       "    <tr>\n",
       "      <th>5</th>\n",
       "      <td>philadelphia</td>\n",
       "      <td>USA</td>\n",
       "      <td>4,661</td>\n",
       "      <td>1,100</td>\n",
       "    </tr>\n",
       "  </tbody>\n",
       "</table>\n",
       "</div>"
      ],
      "text/plain": [
       "               City Country Landarea (In Sqkm) Density\n",
       "1    New York Metro     USA              8,683   2,050\n",
       "2  Yokyo / yokohana   Japan              6,993   4,750\n",
       "3           chicapo     USA              5,498   1,500\n",
       "4           aflanta     USA              5,083     700\n",
       "5      philadelphia     USA              4,661   1,100"
      ]
     },
     "execution_count": 5,
     "metadata": {},
     "output_type": "execute_result"
    }
   ],
   "source": [
    "df.drop('Rank',axis=1,inplace=True)\n",
    "df.head()"
   ]
  },
  {
   "cell_type": "code",
   "execution_count": 6,
   "id": "1f57397f",
   "metadata": {},
   "outputs": [
    {
     "data": {
      "text/plain": [
       "(250, 4)"
      ]
     },
     "execution_count": 6,
     "metadata": {},
     "output_type": "execute_result"
    }
   ],
   "source": [
    "df.shape"
   ]
  },
  {
   "cell_type": "code",
   "execution_count": 7,
   "id": "c6ecbba6",
   "metadata": {},
   "outputs": [],
   "source": [
    "#df.to_csv(\"cities4.csv\")"
   ]
  },
  {
   "cell_type": "code",
   "execution_count": 8,
   "id": "8621fae9",
   "metadata": {},
   "outputs": [
    {
     "data": {
      "text/html": [
       "<div>\n",
       "<style scoped>\n",
       "    .dataframe tbody tr th:only-of-type {\n",
       "        vertical-align: middle;\n",
       "    }\n",
       "\n",
       "    .dataframe tbody tr th {\n",
       "        vertical-align: top;\n",
       "    }\n",
       "\n",
       "    .dataframe thead th {\n",
       "        text-align: right;\n",
       "    }\n",
       "</style>\n",
       "<table border=\"1\" class=\"dataframe\">\n",
       "  <thead>\n",
       "    <tr style=\"text-align: right;\">\n",
       "      <th></th>\n",
       "      <th>Country</th>\n",
       "    </tr>\n",
       "  </thead>\n",
       "  <tbody>\n",
       "    <tr>\n",
       "      <th>count</th>\n",
       "      <td>250</td>\n",
       "    </tr>\n",
       "    <tr>\n",
       "      <th>unique</th>\n",
       "      <td>69</td>\n",
       "    </tr>\n",
       "    <tr>\n",
       "      <th>top</th>\n",
       "      <td>USA</td>\n",
       "    </tr>\n",
       "    <tr>\n",
       "      <th>freq</th>\n",
       "      <td>106</td>\n",
       "    </tr>\n",
       "  </tbody>\n",
       "</table>\n",
       "</div>"
      ],
      "text/plain": [
       "       Country\n",
       "count      250\n",
       "unique      69\n",
       "top        USA\n",
       "freq       106"
      ]
     },
     "execution_count": 8,
     "metadata": {},
     "output_type": "execute_result"
    }
   ],
   "source": [
    "df[[\"Country\"]].describe()"
   ]
  },
  {
   "cell_type": "code",
   "execution_count": 9,
   "id": "ef0f25f0",
   "metadata": {},
   "outputs": [
    {
     "data": {
      "text/html": [
       "<div>\n",
       "<style scoped>\n",
       "    .dataframe tbody tr th:only-of-type {\n",
       "        vertical-align: middle;\n",
       "    }\n",
       "\n",
       "    .dataframe tbody tr th {\n",
       "        vertical-align: top;\n",
       "    }\n",
       "\n",
       "    .dataframe thead th {\n",
       "        text-align: right;\n",
       "    }\n",
       "</style>\n",
       "<table border=\"1\" class=\"dataframe\">\n",
       "  <thead>\n",
       "    <tr style=\"text-align: right;\">\n",
       "      <th></th>\n",
       "      <th>City</th>\n",
       "      <th>Country</th>\n",
       "      <th>Landarea (In Sqkm)</th>\n",
       "      <th>Density</th>\n",
       "    </tr>\n",
       "  </thead>\n",
       "  <tbody>\n",
       "    <tr>\n",
       "      <th>count</th>\n",
       "      <td>250</td>\n",
       "      <td>250</td>\n",
       "      <td>250</td>\n",
       "      <td>250</td>\n",
       "    </tr>\n",
       "    <tr>\n",
       "      <th>unique</th>\n",
       "      <td>249</td>\n",
       "      <td>69</td>\n",
       "      <td>189</td>\n",
       "      <td>114</td>\n",
       "    </tr>\n",
       "    <tr>\n",
       "      <th>top</th>\n",
       "      <td>birmingham</td>\n",
       "      <td>USA</td>\n",
       "      <td>583</td>\n",
       "      <td>700</td>\n",
       "    </tr>\n",
       "    <tr>\n",
       "      <th>freq</th>\n",
       "      <td>2</td>\n",
       "      <td>106</td>\n",
       "      <td>7</td>\n",
       "      <td>19</td>\n",
       "    </tr>\n",
       "  </tbody>\n",
       "</table>\n",
       "</div>"
      ],
      "text/plain": [
       "              City Country Landarea (In Sqkm) Density\n",
       "count          250     250                250     250\n",
       "unique         249      69                189     114\n",
       "top     birmingham     USA                583     700\n",
       "freq             2     106                  7      19"
      ]
     },
     "execution_count": 9,
     "metadata": {},
     "output_type": "execute_result"
    }
   ],
   "source": [
    "df.describe()"
   ]
  },
  {
   "cell_type": "code",
   "execution_count": 10,
   "id": "314fd9c3",
   "metadata": {},
   "outputs": [],
   "source": [
    "#pd.set_option('max_rows', None)"
   ]
  },
  {
   "cell_type": "code",
   "execution_count": 11,
   "id": "b960d98d",
   "metadata": {},
   "outputs": [
    {
     "data": {
      "text/plain": [
       "Kuwait          1\n",
       "New Zealand     1\n",
       "Colombia        1\n",
       "Azerbaijan      1\n",
       "Sudan           1\n",
       "Netherlands     1\n",
       "Uzbekistan      1\n",
       "Singapore       1\n",
       "Vietnam         1\n",
       "Cambodia        1\n",
       "Sweden          1\n",
       "Finland         1\n",
       "Ecuador         1\n",
       "Iraq            1\n",
       "Ghana           1\n",
       "Israel          1\n",
       "Austria         1\n",
       "Ukraine         1\n",
       "Peru            1\n",
       "belgium         1\n",
       "Belgium         1\n",
       "denmark         1\n",
       "Argentina       1\n",
       "Malaysia        1\n",
       "Philippines     1\n",
       "Indonesia       1\n",
       "Egypt           1\n",
       "South Korea     1\n",
       "Thailand        1\n",
       "Spain           1\n",
       "germany         1\n",
       "spain           1\n",
       "Chile           1\n",
       "saudi arabia    1\n",
       "nigeria         1\n",
       "australia       1\n",
       "zimbabwe        1\n",
       "hungry          1\n",
       "south africa    1\n",
       "iran            1\n",
       "Greece          1\n",
       "lebanon         1\n",
       "Ireland         1\n",
       "Name: Country, dtype: int64"
      ]
     },
     "execution_count": 11,
     "metadata": {},
     "output_type": "execute_result"
    }
   ],
   "source": [
    "ser= pd.value_counts(df['Country'])#count of unique countries ex USA is repeated 106 times\n",
    "#df[\"Country\"].value_counts()\n",
    "ser1= ser[ser==1]\n",
    "ser1"
   ]
  },
  {
   "cell_type": "code",
   "execution_count": 12,
   "id": "c39a1fa3",
   "metadata": {},
   "outputs": [
    {
     "data": {
      "text/plain": [
       "Index(['City', 'Country', 'Landarea (In Sqkm)', 'Density'], dtype='object')"
      ]
     },
     "execution_count": 12,
     "metadata": {},
     "output_type": "execute_result"
    }
   ],
   "source": [
    "df.columns"
   ]
  },
  {
   "cell_type": "code",
   "execution_count": 13,
   "id": "fd71fea7",
   "metadata": {},
   "outputs": [
    {
     "data": {
      "text/plain": [
       "Index(['Kuwait', 'New Zealand', 'Colombia', 'Azerbaijan', 'Sudan',\n",
       "       'Netherlands', 'Uzbekistan', 'Singapore', 'Vietnam', 'Cambodia',\n",
       "       'Sweden', 'Finland', 'Ecuador', 'Iraq', 'Ghana', 'Israel', 'Austria',\n",
       "       'Ukraine', 'Peru', 'belgium', 'Belgium', 'denmark', 'Argentina',\n",
       "       'Malaysia', 'Philippines', 'Indonesia', 'Egypt', 'South Korea',\n",
       "       'Thailand', 'Spain', 'germany', 'spain', 'Chile', 'saudi arabia',\n",
       "       'nigeria', 'australia', 'zimbabwe', 'hungry', 'south africa', 'iran',\n",
       "       'Greece', 'lebanon', 'Ireland'],\n",
       "      dtype='object')"
      ]
     },
     "execution_count": 13,
     "metadata": {},
     "output_type": "execute_result"
    }
   ],
   "source": [
    "ser1.index"
   ]
  },
  {
   "cell_type": "code",
   "execution_count": 14,
   "id": "21bd4a0b",
   "metadata": {},
   "outputs": [],
   "source": [
    "#df[df['Country']==ser1.index]"
   ]
  },
  {
   "cell_type": "code",
   "execution_count": null,
   "id": "f541958c",
   "metadata": {},
   "outputs": [],
   "source": []
  },
  {
   "cell_type": "code",
   "execution_count": 15,
   "id": "e5a3fb3c",
   "metadata": {},
   "outputs": [],
   "source": [
    "#pd.set_option('max_rows', None)"
   ]
  },
  {
   "cell_type": "code",
   "execution_count": 16,
   "id": "2302dfbf",
   "metadata": {},
   "outputs": [
    {
     "data": {
      "text/plain": [
       "583     7\n",
       "518     6\n",
       "479     6\n",
       "453     6\n",
       "531     4\n",
       "       ..\n",
       "1049    1\n",
       "1036    1\n",
       "1030    1\n",
       "1016    1\n",
       "365     1\n",
       "Name: Landarea (In Sqkm), Length: 189, dtype: int64"
      ]
     },
     "execution_count": 16,
     "metadata": {},
     "output_type": "execute_result"
    }
   ],
   "source": [
    "#count of unique land areas ex 583 is repeated 7 times\n",
    "pd.value_counts(df['Landarea (In Sqkm)'])"
   ]
  },
  {
   "cell_type": "code",
   "execution_count": 17,
   "id": "de8a2e0d",
   "metadata": {},
   "outputs": [
    {
     "data": {
      "text/plain": [
       "700       19\n",
       "650       12\n",
       "900       10\n",
       "950        9\n",
       "1,050      7\n",
       "          ..\n",
       "13,400     1\n",
       "11,500     1\n",
       "4,750      1\n",
       "4,850      1\n",
       "3,250      1\n",
       "Name: Density, Length: 114, dtype: int64"
      ]
     },
     "execution_count": 17,
     "metadata": {},
     "output_type": "execute_result"
    }
   ],
   "source": [
    "pd.value_counts(df['Density'])#count of unique Densities ex 700 is repeated 19 times "
   ]
  },
  {
   "cell_type": "code",
   "execution_count": 18,
   "id": "9ec52935",
   "metadata": {},
   "outputs": [
    {
     "data": {
      "text/plain": [
       "array(['USA', 'Japan', 'France', 'Germany', 'South Africa', 'Puerto Rico',\n",
       "       'Argentina', 'Russia', 'Australia', 'Mexico', 'Brazil', 'Canada',\n",
       "       'UK', 'Malaysia', 'Italy', 'Philippines', 'Indonesia', 'Egypt',\n",
       "       'India', 'Turkey', 'Saudi Arabia', 'South Korea', 'Thailand',\n",
       "       'Spain', 'Portugal', 'germany', 'denmark', 'france', 'spain',\n",
       "       'UAE', 'saudi arabia', 'china', 'nigeria', 'australia', 'belgium',\n",
       "       'zimbabwe', 'hungry', 'canada', 'south africa', 'iran', 'Greece',\n",
       "       'lebanon', 'Chile', 'Pakistan', 'Belgium', 'Iraq', 'Peru', 'Sudan',\n",
       "       'Azerbaijan', 'Poland', 'Kuwait', 'New Zealand', 'Netherlands',\n",
       "       'Uzbekistan', 'Colombia', 'Vietnam', 'Cambodia', 'Sweden',\n",
       "       'Taiwan', 'Finland', 'Ecuador', 'Singapore', 'Congo', 'China',\n",
       "       'Ghana', 'Israel', 'Austria', 'Ukraine', 'Ireland'], dtype=object)"
      ]
     },
     "execution_count": 18,
     "metadata": {},
     "output_type": "execute_result"
    }
   ],
   "source": [
    "df['Country'].unique() #unique  elements  without repeation"
   ]
  },
  {
   "cell_type": "code",
   "execution_count": 19,
   "id": "193511e8",
   "metadata": {},
   "outputs": [
    {
     "data": {
      "text/plain": [
       "69"
      ]
     },
     "execution_count": 19,
     "metadata": {},
     "output_type": "execute_result"
    }
   ],
   "source": [
    "len(df['Country'].unique())# no of countries"
   ]
  },
  {
   "cell_type": "code",
   "execution_count": 20,
   "id": "053a5025",
   "metadata": {},
   "outputs": [
    {
     "data": {
      "text/plain": [
       "array(['2,050', '4,750', '1,500', '700', '1,100', '900', '2,750', '1,150',\n",
       "       '1,200', '1,300', '1,700', '3,150', '3,550', '2,800', '6,400',\n",
       "       '2,500', '1,050', '950', '4,950', '800', '4,900', '1,000', '8,400',\n",
       "       '1,400', '9,000', '850', '1,850', '2,100', '2,650', '5,100',\n",
       "       '6,850', '10,550', '2,350', '10,500', '9,400', '11,050', '1,550',\n",
       "       '750', '7,700', '1,350', '650', '1,650', '3,650', '1,250',\n",
       "       '16,700', '6,450', '3,750', '2,300', '1,450', '5,200', '2,550',\n",
       "       '500', '4,600', '2,950', '3,500', '2,400', '4,850', '450',\n",
       "       '11,500', '13,400', '350', '1,750', '18,150', '2,200', '2,450',\n",
       "       '600', '3,950', '5,400', '2,250', '3,850', '8,200', '8,550', '550',\n",
       "       '3,800', '9,250', '5,900', '11,750', '5,300', '4,550', '9,100',\n",
       "       '4,100', '4,800', '4,000', '4,050', '400', '10,100', '2,000',\n",
       "       '23,900', '4,150', '13,500', '9,450', '8,900', '3,100', '2,900',\n",
       "       '2,700', '1,950', '3,900', '29,650', '6,700', '8,350', '10,650',\n",
       "       '17,150', '4,300', '3,300', '5,050', '3,400', '14,350', '5,000',\n",
       "       '3,000', '1,800', '7,100', '8,050', '15,200', '3,250'],\n",
       "      dtype=object)"
      ]
     },
     "execution_count": 20,
     "metadata": {},
     "output_type": "execute_result"
    }
   ],
   "source": [
    "df['Density'].unique()# unique density elements without repeation"
   ]
  },
  {
   "cell_type": "code",
   "execution_count": 21,
   "id": "0aed31f0",
   "metadata": {},
   "outputs": [],
   "source": [
    "df[\"Density\"]= df[\"Density\"].replace(\"[,]\", \"\", regex= True).astype(int)"
   ]
  },
  {
   "cell_type": "code",
   "execution_count": 22,
   "id": "ed521cea",
   "metadata": {},
   "outputs": [
    {
     "data": {
      "text/plain": [
       "City                  object\n",
       "Country               object\n",
       "Landarea (In Sqkm)    object\n",
       "Density                int32\n",
       "dtype: object"
      ]
     },
     "execution_count": 22,
     "metadata": {},
     "output_type": "execute_result"
    }
   ],
   "source": [
    "df.dtypes"
   ]
  },
  {
   "cell_type": "code",
   "execution_count": 23,
   "id": "79c6cc0f",
   "metadata": {},
   "outputs": [
    {
     "data": {
      "text/plain": [
       "114"
      ]
     },
     "execution_count": 23,
     "metadata": {},
     "output_type": "execute_result"
    }
   ],
   "source": [
    "len(df['Density'].unique())"
   ]
  },
  {
   "cell_type": "code",
   "execution_count": 24,
   "id": "9f0546e5",
   "metadata": {},
   "outputs": [
    {
     "data": {
      "text/plain": [
       "array(['8,683', '6,993', '5,498', '5,083', '4,661', '4,497', '4,320',\n",
       "       '3,644', '3,355', '3,267', '2,996', '2,891', '2,875', '2,723',\n",
       "       '2,642', '2,664', '2,470', '2,396', '2,316', '2,309', '2,266',\n",
       "       '2,208', '2,150', '2,147', '2,080', '2,078', '2,072', '2,069',\n",
       "       '2,026', '1968', '1768', '1740', '1687', '1675', '1655', '1623',\n",
       "       '1,606', '1603', '1580', '1554', '1514', '1432', '1399', '1365',\n",
       "       '1364', '1360', '1304', '1295', '1292', '1261', '1228', '1216',\n",
       "       '1205', '1204', '1174', '1166', '1136', '1131', '1126', '1120',\n",
       "       '1116', '1101', '1063', '1057', '1056', '1049', '1036', '1030',\n",
       "       '1016', '1013', '1010', '984', '964', '956', '954', '950', '945',\n",
       "       '881', '879', '868', '850', '842', '838', '835', '829', '828',\n",
       "       '824', '816', '813', '808', '803', '800', '797', '777', '764',\n",
       "       '755', '751', '750', '748', '746', '741', '739', '738', '736',\n",
       "       '729', '727', '721', '713', '712', '702', '700', '697', '686',\n",
       "       '684', '677', '674', '673', '669', '667', '651', '648', '622',\n",
       "       '620', '600', '599', '598', '596', '591', '587', '586', '583',\n",
       "       '580', '569', '568', '558', '546', '544', '540', '536', '534',\n",
       "       '532', '531', '524', '518', '517', '512', '511', '510', '508',\n",
       "       '507', '505', '500', '497', '492', '490', '489', '484', '479',\n",
       "       '476', '474', '469', '466', '465', '457', '453', '451', '450',\n",
       "       '446', '438', '433', '427', '421', '417', '414', '411', '407',\n",
       "       '406', '404', '401', '399', '390', '389', '383', '376', '372',\n",
       "       '371', '370', '368', '365'], dtype=object)"
      ]
     },
     "execution_count": 24,
     "metadata": {},
     "output_type": "execute_result"
    }
   ],
   "source": [
    "df['Landarea (In Sqkm)'].unique()#unique Landarea (In Sqkm) elements"
   ]
  },
  {
   "cell_type": "code",
   "execution_count": 25,
   "id": "0e256ad1",
   "metadata": {},
   "outputs": [],
   "source": [
    "pd.set_option('display.max_rows', None)"
   ]
  },
  {
   "cell_type": "code",
   "execution_count": 26,
   "id": "4e4abde9",
   "metadata": {},
   "outputs": [
    {
     "data": {
      "text/html": [
       "<div>\n",
       "<style scoped>\n",
       "    .dataframe tbody tr th:only-of-type {\n",
       "        vertical-align: middle;\n",
       "    }\n",
       "\n",
       "    .dataframe tbody tr th {\n",
       "        vertical-align: top;\n",
       "    }\n",
       "\n",
       "    .dataframe thead th {\n",
       "        text-align: right;\n",
       "    }\n",
       "</style>\n",
       "<table border=\"1\" class=\"dataframe\">\n",
       "  <thead>\n",
       "    <tr style=\"text-align: right;\">\n",
       "      <th></th>\n",
       "      <th>City</th>\n",
       "      <th>Country</th>\n",
       "      <th>Landarea (In Sqkm)</th>\n",
       "      <th>Density</th>\n",
       "    </tr>\n",
       "  </thead>\n",
       "  <tbody>\n",
       "    <tr>\n",
       "      <th>1</th>\n",
       "      <td>New York Metro</td>\n",
       "      <td>USA</td>\n",
       "      <td>8,683</td>\n",
       "      <td>2050</td>\n",
       "    </tr>\n",
       "    <tr>\n",
       "      <th>3</th>\n",
       "      <td>chicapo</td>\n",
       "      <td>USA</td>\n",
       "      <td>5,498</td>\n",
       "      <td>1500</td>\n",
       "    </tr>\n",
       "    <tr>\n",
       "      <th>4</th>\n",
       "      <td>aflanta</td>\n",
       "      <td>USA</td>\n",
       "      <td>5,083</td>\n",
       "      <td>700</td>\n",
       "    </tr>\n",
       "    <tr>\n",
       "      <th>5</th>\n",
       "      <td>philadelphia</td>\n",
       "      <td>USA</td>\n",
       "      <td>4,661</td>\n",
       "      <td>1100</td>\n",
       "    </tr>\n",
       "    <tr>\n",
       "      <th>6</th>\n",
       "      <td>boston</td>\n",
       "      <td>USA</td>\n",
       "      <td>4,497</td>\n",
       "      <td>900</td>\n",
       "    </tr>\n",
       "    <tr>\n",
       "      <th>7</th>\n",
       "      <td>los anpletes</td>\n",
       "      <td>USA</td>\n",
       "      <td>4,320</td>\n",
       "      <td>2750</td>\n",
       "    </tr>\n",
       "    <tr>\n",
       "      <th>8</th>\n",
       "      <td>Dallas/fort worth</td>\n",
       "      <td>USA</td>\n",
       "      <td>3,644</td>\n",
       "      <td>1150</td>\n",
       "    </tr>\n",
       "    <tr>\n",
       "      <th>9</th>\n",
       "      <td>houston</td>\n",
       "      <td>USA</td>\n",
       "      <td>3,355</td>\n",
       "      <td>1150</td>\n",
       "    </tr>\n",
       "    <tr>\n",
       "      <th>10</th>\n",
       "      <td>detroit</td>\n",
       "      <td>USA</td>\n",
       "      <td>3,267</td>\n",
       "      <td>1200</td>\n",
       "    </tr>\n",
       "    <tr>\n",
       "      <th>11</th>\n",
       "      <td>washington</td>\n",
       "      <td>USA</td>\n",
       "      <td>2,996</td>\n",
       "      <td>1300</td>\n",
       "    </tr>\n",
       "    <tr>\n",
       "      <th>12</th>\n",
       "      <td>miami</td>\n",
       "      <td>USA</td>\n",
       "      <td>2,891</td>\n",
       "      <td>1700</td>\n",
       "    </tr>\n",
       "    <tr>\n",
       "      <th>17</th>\n",
       "      <td>seattle</td>\n",
       "      <td>USA</td>\n",
       "      <td>2,470</td>\n",
       "      <td>1100</td>\n",
       "    </tr>\n",
       "    <tr>\n",
       "      <th>19</th>\n",
       "      <td>minneapolis/st.paul</td>\n",
       "      <td>USA</td>\n",
       "      <td>2,316</td>\n",
       "      <td>1050</td>\n",
       "    </tr>\n",
       "    <tr>\n",
       "      <th>22</th>\n",
       "      <td>pittsburgh</td>\n",
       "      <td>USA</td>\n",
       "      <td>2,208</td>\n",
       "      <td>800</td>\n",
       "    </tr>\n",
       "    <tr>\n",
       "      <th>24</th>\n",
       "      <td>st.lousi</td>\n",
       "      <td>USA</td>\n",
       "      <td>2,147</td>\n",
       "      <td>950</td>\n",
       "    </tr>\n",
       "    <tr>\n",
       "      <th>26</th>\n",
       "      <td>tampa//st.petersburg</td>\n",
       "      <td>USA</td>\n",
       "      <td>2,078</td>\n",
       "      <td>1000</td>\n",
       "    </tr>\n",
       "    <tr>\n",
       "      <th>28</th>\n",
       "      <td>phoenix/mesa</td>\n",
       "      <td>USA</td>\n",
       "      <td>2,069</td>\n",
       "      <td>1400</td>\n",
       "    </tr>\n",
       "    <tr>\n",
       "      <th>29</th>\n",
       "      <td>san diego</td>\n",
       "      <td>USA</td>\n",
       "      <td>2,026</td>\n",
       "      <td>1300</td>\n",
       "    </tr>\n",
       "    <tr>\n",
       "      <th>31</th>\n",
       "      <td>baltimore</td>\n",
       "      <td>USA</td>\n",
       "      <td>1768</td>\n",
       "      <td>1150</td>\n",
       "    </tr>\n",
       "    <tr>\n",
       "      <th>32</th>\n",
       "      <td>cincinnati</td>\n",
       "      <td>USA</td>\n",
       "      <td>1740</td>\n",
       "      <td>850</td>\n",
       "    </tr>\n",
       "    <tr>\n",
       "      <th>35</th>\n",
       "      <td>cleveland</td>\n",
       "      <td>USA</td>\n",
       "      <td>1675</td>\n",
       "      <td>1050</td>\n",
       "    </tr>\n",
       "    <tr>\n",
       "      <th>42</th>\n",
       "      <td>kanas city</td>\n",
       "      <td>USA</td>\n",
       "      <td>1514</td>\n",
       "      <td>900</td>\n",
       "    </tr>\n",
       "    <tr>\n",
       "      <th>43</th>\n",
       "      <td>indiana polis</td>\n",
       "      <td>USA</td>\n",
       "      <td>1432</td>\n",
       "      <td>850</td>\n",
       "    </tr>\n",
       "    <tr>\n",
       "      <th>45</th>\n",
       "      <td>san francisco//oakland</td>\n",
       "      <td>USA</td>\n",
       "      <td>1365</td>\n",
       "      <td>2350</td>\n",
       "    </tr>\n",
       "    <tr>\n",
       "      <th>46</th>\n",
       "      <td>virginia beach</td>\n",
       "      <td>USA</td>\n",
       "      <td>1364</td>\n",
       "      <td>1000</td>\n",
       "    </tr>\n",
       "    <tr>\n",
       "      <th>48</th>\n",
       "      <td>providence</td>\n",
       "      <td>USA</td>\n",
       "      <td>1304</td>\n",
       "      <td>900</td>\n",
       "    </tr>\n",
       "    <tr>\n",
       "      <th>51</th>\n",
       "      <td>denver</td>\n",
       "      <td>USA</td>\n",
       "      <td>1292</td>\n",
       "      <td>1550</td>\n",
       "    </tr>\n",
       "    <tr>\n",
       "      <th>52</th>\n",
       "      <td>milwaukee</td>\n",
       "      <td>USA</td>\n",
       "      <td>1261</td>\n",
       "      <td>1050</td>\n",
       "    </tr>\n",
       "    <tr>\n",
       "      <th>53</th>\n",
       "      <td>portland</td>\n",
       "      <td>USA</td>\n",
       "      <td>1228</td>\n",
       "      <td>1300</td>\n",
       "    </tr>\n",
       "    <tr>\n",
       "      <th>54</th>\n",
       "      <td>hartford</td>\n",
       "      <td>USA</td>\n",
       "      <td>1216</td>\n",
       "      <td>700</td>\n",
       "    </tr>\n",
       "    <tr>\n",
       "      <th>55</th>\n",
       "      <td>bridgeport//stamford</td>\n",
       "      <td>USA</td>\n",
       "      <td>1205</td>\n",
       "      <td>750</td>\n",
       "    </tr>\n",
       "    <tr>\n",
       "      <th>57</th>\n",
       "      <td>orlando</td>\n",
       "      <td>USA</td>\n",
       "      <td>1174</td>\n",
       "      <td>1000</td>\n",
       "    </tr>\n",
       "    <tr>\n",
       "      <th>59</th>\n",
       "      <td>riverside/san bernardino</td>\n",
       "      <td>USA</td>\n",
       "      <td>1136</td>\n",
       "      <td>1350</td>\n",
       "    </tr>\n",
       "    <tr>\n",
       "      <th>60</th>\n",
       "      <td>richmond</td>\n",
       "      <td>USA</td>\n",
       "      <td>1131</td>\n",
       "      <td>700</td>\n",
       "    </tr>\n",
       "    <tr>\n",
       "      <th>61</th>\n",
       "      <td>charlotte</td>\n",
       "      <td>USA</td>\n",
       "      <td>1126</td>\n",
       "      <td>650</td>\n",
       "    </tr>\n",
       "    <tr>\n",
       "      <th>63</th>\n",
       "      <td>nashville</td>\n",
       "      <td>USA</td>\n",
       "      <td>1116</td>\n",
       "      <td>650</td>\n",
       "    </tr>\n",
       "    <tr>\n",
       "      <th>65</th>\n",
       "      <td>jacksonville</td>\n",
       "      <td>USA</td>\n",
       "      <td>1063</td>\n",
       "      <td>850</td>\n",
       "    </tr>\n",
       "    <tr>\n",
       "      <th>67</th>\n",
       "      <td>san antonio</td>\n",
       "      <td>USA</td>\n",
       "      <td>1056</td>\n",
       "      <td>1250</td>\n",
       "    </tr>\n",
       "    <tr>\n",
       "      <th>69</th>\n",
       "      <td>memphis</td>\n",
       "      <td>USA</td>\n",
       "      <td>1036</td>\n",
       "      <td>950</td>\n",
       "    </tr>\n",
       "    <tr>\n",
       "      <th>70</th>\n",
       "      <td>columbus</td>\n",
       "      <td>USA</td>\n",
       "      <td>1030</td>\n",
       "      <td>1100</td>\n",
       "    </tr>\n",
       "    <tr>\n",
       "      <th>71</th>\n",
       "      <td>birmingham</td>\n",
       "      <td>USA</td>\n",
       "      <td>1016</td>\n",
       "      <td>650</td>\n",
       "    </tr>\n",
       "    <tr>\n",
       "      <th>72</th>\n",
       "      <td>louisville</td>\n",
       "      <td>USA</td>\n",
       "      <td>1013</td>\n",
       "      <td>850</td>\n",
       "    </tr>\n",
       "    <tr>\n",
       "      <th>77</th>\n",
       "      <td>sa cramento</td>\n",
       "      <td>USA</td>\n",
       "      <td>956</td>\n",
       "      <td>1450</td>\n",
       "    </tr>\n",
       "    <tr>\n",
       "      <th>79</th>\n",
       "      <td>buffalo</td>\n",
       "      <td>USA</td>\n",
       "      <td>950</td>\n",
       "      <td>1050</td>\n",
       "    </tr>\n",
       "    <tr>\n",
       "      <th>82</th>\n",
       "      <td>knoxville</td>\n",
       "      <td>USA</td>\n",
       "      <td>879</td>\n",
       "      <td>500</td>\n",
       "    </tr>\n",
       "    <tr>\n",
       "      <th>86</th>\n",
       "      <td>dayton</td>\n",
       "      <td>USA</td>\n",
       "      <td>838</td>\n",
       "      <td>850</td>\n",
       "    </tr>\n",
       "    <tr>\n",
       "      <th>87</th>\n",
       "      <td>oklahoma city</td>\n",
       "      <td>USA</td>\n",
       "      <td>835</td>\n",
       "      <td>900</td>\n",
       "    </tr>\n",
       "    <tr>\n",
       "      <th>90</th>\n",
       "      <td>raleigh</td>\n",
       "      <td>USA</td>\n",
       "      <td>828</td>\n",
       "      <td>650</td>\n",
       "    </tr>\n",
       "    <tr>\n",
       "      <th>91</th>\n",
       "      <td>austin</td>\n",
       "      <td>USA</td>\n",
       "      <td>824</td>\n",
       "      <td>1100</td>\n",
       "    </tr>\n",
       "    <tr>\n",
       "      <th>94</th>\n",
       "      <td>mc allen</td>\n",
       "      <td>USA</td>\n",
       "      <td>813</td>\n",
       "      <td>650</td>\n",
       "    </tr>\n",
       "    <tr>\n",
       "      <th>97</th>\n",
       "      <td>springfield</td>\n",
       "      <td>USA</td>\n",
       "      <td>800</td>\n",
       "      <td>700</td>\n",
       "    </tr>\n",
       "    <tr>\n",
       "      <th>98</th>\n",
       "      <td>akron</td>\n",
       "      <td>USA</td>\n",
       "      <td>797</td>\n",
       "      <td>700</td>\n",
       "    </tr>\n",
       "    <tr>\n",
       "      <th>101</th>\n",
       "      <td>rochester</td>\n",
       "      <td>USA</td>\n",
       "      <td>764</td>\n",
       "      <td>900</td>\n",
       "    </tr>\n",
       "    <tr>\n",
       "      <th>102</th>\n",
       "      <td>tucson</td>\n",
       "      <td>USA</td>\n",
       "      <td>755</td>\n",
       "      <td>950</td>\n",
       "    </tr>\n",
       "    <tr>\n",
       "      <th>103</th>\n",
       "      <td>chattanooga</td>\n",
       "      <td>USA</td>\n",
       "      <td>751</td>\n",
       "      <td>450</td>\n",
       "    </tr>\n",
       "    <tr>\n",
       "      <th>104</th>\n",
       "      <td>allen town/bethlehem</td>\n",
       "      <td>USA</td>\n",
       "      <td>750</td>\n",
       "      <td>750</td>\n",
       "    </tr>\n",
       "    <tr>\n",
       "      <th>107</th>\n",
       "      <td>barnstable town</td>\n",
       "      <td>USA</td>\n",
       "      <td>741</td>\n",
       "      <td>350</td>\n",
       "    </tr>\n",
       "    <tr>\n",
       "      <th>108</th>\n",
       "      <td>las vegas</td>\n",
       "      <td>USA</td>\n",
       "      <td>741</td>\n",
       "      <td>1750</td>\n",
       "    </tr>\n",
       "    <tr>\n",
       "      <th>109</th>\n",
       "      <td>new hawen</td>\n",
       "      <td>USA</td>\n",
       "      <td>739</td>\n",
       "      <td>700</td>\n",
       "    </tr>\n",
       "    <tr>\n",
       "      <th>111</th>\n",
       "      <td>albany</td>\n",
       "      <td>USA</td>\n",
       "      <td>736</td>\n",
       "      <td>750</td>\n",
       "    </tr>\n",
       "    <tr>\n",
       "      <th>113</th>\n",
       "      <td>baton rouge</td>\n",
       "      <td>USA</td>\n",
       "      <td>727</td>\n",
       "      <td>650</td>\n",
       "    </tr>\n",
       "    <tr>\n",
       "      <th>121</th>\n",
       "      <td>sarasota//bradenton</td>\n",
       "      <td>USA</td>\n",
       "      <td>700</td>\n",
       "      <td>800</td>\n",
       "    </tr>\n",
       "    <tr>\n",
       "      <th>122</th>\n",
       "      <td>columbia</td>\n",
       "      <td>USA</td>\n",
       "      <td>697</td>\n",
       "      <td>600</td>\n",
       "    </tr>\n",
       "    <tr>\n",
       "      <th>124</th>\n",
       "      <td>pough keepsie</td>\n",
       "      <td>USA</td>\n",
       "      <td>686</td>\n",
       "      <td>500</td>\n",
       "    </tr>\n",
       "    <tr>\n",
       "      <th>127</th>\n",
       "      <td>tulsa</td>\n",
       "      <td>USA</td>\n",
       "      <td>677</td>\n",
       "      <td>800</td>\n",
       "    </tr>\n",
       "    <tr>\n",
       "      <th>128</th>\n",
       "      <td>san jose</td>\n",
       "      <td>USA</td>\n",
       "      <td>674</td>\n",
       "      <td>2300</td>\n",
       "    </tr>\n",
       "    <tr>\n",
       "      <th>132</th>\n",
       "      <td>grand rapids</td>\n",
       "      <td>USA</td>\n",
       "      <td>667</td>\n",
       "      <td>800</td>\n",
       "    </tr>\n",
       "    <tr>\n",
       "      <th>133</th>\n",
       "      <td>winston/salem</td>\n",
       "      <td>USA</td>\n",
       "      <td>651</td>\n",
       "      <td>450</td>\n",
       "    </tr>\n",
       "    <tr>\n",
       "      <th>137</th>\n",
       "      <td>worecester</td>\n",
       "      <td>USA</td>\n",
       "      <td>648</td>\n",
       "      <td>650</td>\n",
       "    </tr>\n",
       "    <tr>\n",
       "      <th>141</th>\n",
       "      <td>augusta</td>\n",
       "      <td>USA</td>\n",
       "      <td>600</td>\n",
       "      <td>550</td>\n",
       "    </tr>\n",
       "    <tr>\n",
       "      <th>143</th>\n",
       "      <td>flint</td>\n",
       "      <td>USA</td>\n",
       "      <td>599</td>\n",
       "      <td>600</td>\n",
       "    </tr>\n",
       "    <tr>\n",
       "      <th>144</th>\n",
       "      <td>charleston</td>\n",
       "      <td>USA</td>\n",
       "      <td>598</td>\n",
       "      <td>700</td>\n",
       "    </tr>\n",
       "    <tr>\n",
       "      <th>145</th>\n",
       "      <td>salt lake city</td>\n",
       "      <td>USA</td>\n",
       "      <td>598</td>\n",
       "      <td>1500</td>\n",
       "    </tr>\n",
       "    <tr>\n",
       "      <th>150</th>\n",
       "      <td>youngstown</td>\n",
       "      <td>USA</td>\n",
       "      <td>591</td>\n",
       "      <td>700</td>\n",
       "    </tr>\n",
       "    <tr>\n",
       "      <th>151</th>\n",
       "      <td>greenville</td>\n",
       "      <td>USA</td>\n",
       "      <td>587</td>\n",
       "      <td>500</td>\n",
       "    </tr>\n",
       "    <tr>\n",
       "      <th>152</th>\n",
       "      <td>omaha</td>\n",
       "      <td>USA</td>\n",
       "      <td>586</td>\n",
       "      <td>1050</td>\n",
       "    </tr>\n",
       "    <tr>\n",
       "      <th>160</th>\n",
       "      <td>albuquerque</td>\n",
       "      <td>USA</td>\n",
       "      <td>580</td>\n",
       "      <td>1050</td>\n",
       "    </tr>\n",
       "    <tr>\n",
       "      <th>161</th>\n",
       "      <td>palm bay</td>\n",
       "      <td>USA</td>\n",
       "      <td>569</td>\n",
       "      <td>700</td>\n",
       "    </tr>\n",
       "    <tr>\n",
       "      <th>162</th>\n",
       "      <td>el paso</td>\n",
       "      <td>USA</td>\n",
       "      <td>568</td>\n",
       "      <td>1200</td>\n",
       "    </tr>\n",
       "    <tr>\n",
       "      <th>163</th>\n",
       "      <td>pensacola</td>\n",
       "      <td>USA</td>\n",
       "      <td>568</td>\n",
       "      <td>550</td>\n",
       "    </tr>\n",
       "    <tr>\n",
       "      <th>165</th>\n",
       "      <td>hickory</td>\n",
       "      <td>USA</td>\n",
       "      <td>546</td>\n",
       "      <td>350</td>\n",
       "    </tr>\n",
       "    <tr>\n",
       "      <th>166</th>\n",
       "      <td>mobile</td>\n",
       "      <td>USA</td>\n",
       "      <td>546</td>\n",
       "      <td>600</td>\n",
       "    </tr>\n",
       "    <tr>\n",
       "      <th>171</th>\n",
       "      <td>harrisburg</td>\n",
       "      <td>USA</td>\n",
       "      <td>540</td>\n",
       "      <td>650</td>\n",
       "    </tr>\n",
       "    <tr>\n",
       "      <th>172</th>\n",
       "      <td>asheville</td>\n",
       "      <td>USA</td>\n",
       "      <td>536</td>\n",
       "      <td>400</td>\n",
       "    </tr>\n",
       "    <tr>\n",
       "      <th>174</th>\n",
       "      <td>little rock</td>\n",
       "      <td>USA</td>\n",
       "      <td>532</td>\n",
       "      <td>700</td>\n",
       "    </tr>\n",
       "    <tr>\n",
       "      <th>179</th>\n",
       "      <td>toledo</td>\n",
       "      <td>USA</td>\n",
       "      <td>524</td>\n",
       "      <td>950</td>\n",
       "    </tr>\n",
       "    <tr>\n",
       "      <th>186</th>\n",
       "      <td>lancaster</td>\n",
       "      <td>USA</td>\n",
       "      <td>517</td>\n",
       "      <td>650</td>\n",
       "    </tr>\n",
       "    <tr>\n",
       "      <th>187</th>\n",
       "      <td>new orleans</td>\n",
       "      <td>USA</td>\n",
       "      <td>512</td>\n",
       "      <td>1950</td>\n",
       "    </tr>\n",
       "    <tr>\n",
       "      <th>188</th>\n",
       "      <td>colorado springs</td>\n",
       "      <td>USA</td>\n",
       "      <td>511</td>\n",
       "      <td>900</td>\n",
       "    </tr>\n",
       "    <tr>\n",
       "      <th>194</th>\n",
       "      <td>cape coral</td>\n",
       "      <td>USA</td>\n",
       "      <td>497</td>\n",
       "      <td>650</td>\n",
       "    </tr>\n",
       "    <tr>\n",
       "      <th>208</th>\n",
       "      <td>ogden</td>\n",
       "      <td>USA</td>\n",
       "      <td>466</td>\n",
       "      <td>900</td>\n",
       "    </tr>\n",
       "    <tr>\n",
       "      <th>211</th>\n",
       "      <td>syracuse</td>\n",
       "      <td>USA</td>\n",
       "      <td>465</td>\n",
       "      <td>850</td>\n",
       "    </tr>\n",
       "    <tr>\n",
       "      <th>212</th>\n",
       "      <td>wichita</td>\n",
       "      <td>USA</td>\n",
       "      <td>457</td>\n",
       "      <td>900</td>\n",
       "    </tr>\n",
       "    <tr>\n",
       "      <th>213</th>\n",
       "      <td>concord</td>\n",
       "      <td>USA</td>\n",
       "      <td>453</td>\n",
       "      <td>1200</td>\n",
       "    </tr>\n",
       "    <tr>\n",
       "      <th>222</th>\n",
       "      <td>port st wcie</td>\n",
       "      <td>USA</td>\n",
       "      <td>438</td>\n",
       "      <td>600</td>\n",
       "    </tr>\n",
       "    <tr>\n",
       "      <th>223</th>\n",
       "      <td>fayetteville</td>\n",
       "      <td>USA</td>\n",
       "      <td>433</td>\n",
       "      <td>650</td>\n",
       "    </tr>\n",
       "    <tr>\n",
       "      <th>227</th>\n",
       "      <td>jackson</td>\n",
       "      <td>USA</td>\n",
       "      <td>417</td>\n",
       "      <td>700</td>\n",
       "    </tr>\n",
       "    <tr>\n",
       "      <th>231</th>\n",
       "      <td>scranton</td>\n",
       "      <td>USA</td>\n",
       "      <td>411</td>\n",
       "      <td>950</td>\n",
       "    </tr>\n",
       "    <tr>\n",
       "      <th>232</th>\n",
       "      <td>huntsuille</td>\n",
       "      <td>USA</td>\n",
       "      <td>407</td>\n",
       "      <td>500</td>\n",
       "    </tr>\n",
       "    <tr>\n",
       "      <th>233</th>\n",
       "      <td>durham</td>\n",
       "      <td>USA</td>\n",
       "      <td>406</td>\n",
       "      <td>700</td>\n",
       "    </tr>\n",
       "    <tr>\n",
       "      <th>234</th>\n",
       "      <td>south bend</td>\n",
       "      <td>USA</td>\n",
       "      <td>404</td>\n",
       "      <td>700</td>\n",
       "    </tr>\n",
       "    <tr>\n",
       "      <th>236</th>\n",
       "      <td>shreveport</td>\n",
       "      <td>USA</td>\n",
       "      <td>401</td>\n",
       "      <td>700</td>\n",
       "    </tr>\n",
       "    <tr>\n",
       "      <th>237</th>\n",
       "      <td>honolulu</td>\n",
       "      <td>USA</td>\n",
       "      <td>399</td>\n",
       "      <td>1800</td>\n",
       "    </tr>\n",
       "    <tr>\n",
       "      <th>239</th>\n",
       "      <td>bonita springs /naples</td>\n",
       "      <td>USA</td>\n",
       "      <td>389</td>\n",
       "      <td>550</td>\n",
       "    </tr>\n",
       "    <tr>\n",
       "      <th>246</th>\n",
       "      <td>canton</td>\n",
       "      <td>USA</td>\n",
       "      <td>372</td>\n",
       "      <td>700</td>\n",
       "    </tr>\n",
       "    <tr>\n",
       "      <th>247</th>\n",
       "      <td>spokane</td>\n",
       "      <td>USA</td>\n",
       "      <td>371</td>\n",
       "      <td>900</td>\n",
       "    </tr>\n",
       "  </tbody>\n",
       "</table>\n",
       "</div>"
      ],
      "text/plain": [
       "                         City Country Landarea (In Sqkm)  Density\n",
       "1              New York Metro     USA              8,683     2050\n",
       "3                     chicapo     USA              5,498     1500\n",
       "4                     aflanta     USA              5,083      700\n",
       "5                philadelphia     USA              4,661     1100\n",
       "6                     boston      USA              4,497      900\n",
       "7                los anpletes     USA              4,320     2750\n",
       "8           Dallas/fort worth     USA              3,644     1150\n",
       "9                     houston     USA              3,355     1150\n",
       "10                    detroit     USA              3,267     1200\n",
       "11                 washington     USA              2,996     1300\n",
       "12                      miami     USA              2,891     1700\n",
       "17                    seattle     USA              2,470     1100\n",
       "19        minneapolis/st.paul     USA              2,316     1050\n",
       "22                 pittsburgh     USA              2,208      800\n",
       "24                   st.lousi     USA              2,147      950\n",
       "26       tampa//st.petersburg     USA              2,078     1000\n",
       "28               phoenix/mesa     USA              2,069     1400\n",
       "29                  san diego     USA              2,026     1300\n",
       "31                  baltimore     USA               1768     1150\n",
       "32                 cincinnati     USA               1740      850\n",
       "35                  cleveland     USA               1675     1050\n",
       "42                 kanas city     USA               1514      900\n",
       "43              indiana polis     USA               1432      850\n",
       "45     san francisco//oakland     USA               1365     2350\n",
       "46             virginia beach     USA               1364     1000\n",
       "48                 providence     USA               1304      900\n",
       "51                     denver     USA               1292     1550\n",
       "52                  milwaukee     USA               1261     1050\n",
       "53                   portland     USA               1228     1300\n",
       "54                   hartford     USA               1216      700\n",
       "55       bridgeport//stamford     USA               1205      750\n",
       "57                    orlando     USA               1174     1000\n",
       "59   riverside/san bernardino     USA               1136     1350\n",
       "60                   richmond     USA               1131      700\n",
       "61                  charlotte     USA               1126      650\n",
       "63                  nashville     USA               1116      650\n",
       "65               jacksonville     USA               1063      850\n",
       "67                san antonio     USA               1056     1250\n",
       "69                    memphis     USA               1036      950\n",
       "70                   columbus     USA               1030     1100\n",
       "71                 birmingham     USA               1016      650\n",
       "72                 louisville     USA               1013      850\n",
       "77                sa cramento     USA                956     1450\n",
       "79                    buffalo     USA                950     1050\n",
       "82                  knoxville     USA                879      500\n",
       "86                     dayton     USA                838      850\n",
       "87              oklahoma city     USA                835      900\n",
       "90                    raleigh     USA                828      650\n",
       "91                     austin     USA                824     1100\n",
       "94                   mc allen     USA                813      650\n",
       "97                springfield     USA                800      700\n",
       "98                      akron     USA                797      700\n",
       "101                 rochester     USA                764      900\n",
       "102                    tucson     USA                755      950\n",
       "103               chattanooga     USA                751      450\n",
       "104      allen town/bethlehem     USA                750      750\n",
       "107           barnstable town     USA                741      350\n",
       "108                 las vegas     USA                741     1750\n",
       "109                 new hawen     USA                739      700\n",
       "111                    albany     USA                736      750\n",
       "113               baton rouge     USA                727      650\n",
       "121       sarasota//bradenton     USA                700      800\n",
       "122                  columbia     USA                697      600\n",
       "124             pough keepsie     USA                686      500\n",
       "127                     tulsa     USA                677      800\n",
       "128                  san jose     USA                674     2300\n",
       "132              grand rapids     USA                667      800\n",
       "133             winston/salem     USA                651      450\n",
       "137                worecester     USA                648      650\n",
       "141                   augusta     USA                600      550\n",
       "143                     flint     USA                599      600\n",
       "144                charleston     USA                598      700\n",
       "145            salt lake city     USA                598     1500\n",
       "150                youngstown     USA                591      700\n",
       "151                greenville     USA                587      500\n",
       "152                     omaha     USA                586     1050\n",
       "160               albuquerque     USA                580     1050\n",
       "161                  palm bay     USA                569      700\n",
       "162                   el paso     USA                568     1200\n",
       "163                 pensacola     USA                568      550\n",
       "165                   hickory     USA                546      350\n",
       "166                    mobile     USA                546      600\n",
       "171                harrisburg     USA                540      650\n",
       "172                 asheville     USA                536      400\n",
       "174               little rock     USA                532      700\n",
       "179                    toledo     USA                524      950\n",
       "186                 lancaster     USA                517      650\n",
       "187               new orleans     USA                512     1950\n",
       "188          colorado springs     USA                511      900\n",
       "194                cape coral     USA                497      650\n",
       "208                     ogden     USA                466      900\n",
       "211                  syracuse     USA                465      850\n",
       "212                   wichita     USA                457      900\n",
       "213                   concord     USA                453     1200\n",
       "222              port st wcie     USA                438      600\n",
       "223              fayetteville     USA                433      650\n",
       "227                   jackson     USA                417      700\n",
       "231                  scranton     USA                411      950\n",
       "232                huntsuille     USA                407      500\n",
       "233                    durham     USA                406      700\n",
       "234                south bend     USA                404      700\n",
       "236                shreveport     USA                401      700\n",
       "237                  honolulu     USA                399     1800\n",
       "239    bonita springs /naples     USA                389      550\n",
       "246                    canton     USA                372      700\n",
       "247                   spokane     USA                371      900"
      ]
     },
     "metadata": {},
     "output_type": "display_data"
    }
   ],
   "source": [
    "df1=df[df['Country']== \"USA\"]\n",
    "display(df1)"
   ]
  },
  {
   "cell_type": "code",
   "execution_count": 27,
   "id": "be35f8eb",
   "metadata": {},
   "outputs": [
    {
     "data": {
      "text/plain": [
       "City                  249\n",
       "Country                69\n",
       "Landarea (In Sqkm)    189\n",
       "Density               114\n",
       "dtype: int64"
      ]
     },
     "execution_count": 27,
     "metadata": {},
     "output_type": "execute_result"
    }
   ],
   "source": [
    "df.nunique()# count of unique items  of every column "
   ]
  },
  {
   "cell_type": "markdown",
   "id": "31d2f07e",
   "metadata": {},
   "source": [
    "# Landarea vs Density (France with Decreasing order of Landarea) "
   ]
  },
  {
   "cell_type": "code",
   "execution_count": 28,
   "id": "ba92d856",
   "metadata": {},
   "outputs": [
    {
     "data": {
      "text/html": [
       "<div>\n",
       "<style scoped>\n",
       "    .dataframe tbody tr th:only-of-type {\n",
       "        vertical-align: middle;\n",
       "    }\n",
       "\n",
       "    .dataframe tbody tr th {\n",
       "        vertical-align: top;\n",
       "    }\n",
       "\n",
       "    .dataframe thead th {\n",
       "        text-align: right;\n",
       "    }\n",
       "</style>\n",
       "<table border=\"1\" class=\"dataframe\">\n",
       "  <thead>\n",
       "    <tr style=\"text-align: right;\">\n",
       "      <th></th>\n",
       "      <th>City</th>\n",
       "      <th>Country</th>\n",
       "      <th>Landarea (In Sqkm)</th>\n",
       "      <th>Density</th>\n",
       "    </tr>\n",
       "  </thead>\n",
       "  <tbody>\n",
       "    <tr>\n",
       "      <th>14</th>\n",
       "      <td>paris</td>\n",
       "      <td>France</td>\n",
       "      <td>2,723</td>\n",
       "      <td>3550</td>\n",
       "    </tr>\n",
       "    <tr>\n",
       "      <th>56</th>\n",
       "      <td>marseille</td>\n",
       "      <td>France</td>\n",
       "      <td>1204</td>\n",
       "      <td>1100</td>\n",
       "    </tr>\n",
       "    <tr>\n",
       "      <th>66</th>\n",
       "      <td>bordeaux</td>\n",
       "      <td>France</td>\n",
       "      <td>1057</td>\n",
       "      <td>700</td>\n",
       "    </tr>\n",
       "    <tr>\n",
       "      <th>78</th>\n",
       "      <td>lyon</td>\n",
       "      <td>France</td>\n",
       "      <td>954</td>\n",
       "      <td>1400</td>\n",
       "    </tr>\n",
       "    <tr>\n",
       "      <th>190</th>\n",
       "      <td>avignon</td>\n",
       "      <td>France</td>\n",
       "      <td>508</td>\n",
       "      <td>500</td>\n",
       "    </tr>\n",
       "    <tr>\n",
       "      <th>191</th>\n",
       "      <td>valenciennes</td>\n",
       "      <td>France</td>\n",
       "      <td>507</td>\n",
       "      <td>700</td>\n",
       "    </tr>\n",
       "    <tr>\n",
       "      <th>197</th>\n",
       "      <td>douai/lens</td>\n",
       "      <td>France</td>\n",
       "      <td>489</td>\n",
       "      <td>1050</td>\n",
       "    </tr>\n",
       "    <tr>\n",
       "      <th>205</th>\n",
       "      <td>nantes</td>\n",
       "      <td>France</td>\n",
       "      <td>476</td>\n",
       "      <td>1150</td>\n",
       "    </tr>\n",
       "    <tr>\n",
       "      <th>206</th>\n",
       "      <td>lille</td>\n",
       "      <td>France</td>\n",
       "      <td>474</td>\n",
       "      <td>2200</td>\n",
       "    </tr>\n",
       "    <tr>\n",
       "      <th>220</th>\n",
       "      <td>pau</td>\n",
       "      <td>France</td>\n",
       "      <td>450</td>\n",
       "      <td>400</td>\n",
       "    </tr>\n",
       "    <tr>\n",
       "      <th>226</th>\n",
       "      <td>tours</td>\n",
       "      <td>France</td>\n",
       "      <td>421</td>\n",
       "      <td>700</td>\n",
       "    </tr>\n",
       "    <tr>\n",
       "      <th>238</th>\n",
       "      <td>bethune</td>\n",
       "      <td>France</td>\n",
       "      <td>390</td>\n",
       "      <td>650</td>\n",
       "    </tr>\n",
       "  </tbody>\n",
       "</table>\n",
       "</div>"
      ],
      "text/plain": [
       "             City Country Landarea (In Sqkm)  Density\n",
       "14          paris  France              2,723     3550\n",
       "56      marseille  France               1204     1100\n",
       "66       bordeaux  France               1057      700\n",
       "78           lyon  France                954     1400\n",
       "190       avignon  France                508      500\n",
       "191  valenciennes  France                507      700\n",
       "197    douai/lens  France                489     1050\n",
       "205        nantes  France                476     1150\n",
       "206         lille  France                474     2200\n",
       "220           pau  France                450      400\n",
       "226         tours  France                421      700\n",
       "238       bethune  France                390      650"
      ]
     },
     "metadata": {},
     "output_type": "display_data"
    }
   ],
   "source": [
    "df1=df[df['Country']== \"France\"]\n",
    "display(df[df['Country']== \"France\"])"
   ]
  },
  {
   "cell_type": "code",
   "execution_count": 29,
   "id": "f7b544fb",
   "metadata": {},
   "outputs": [],
   "source": [
    "#df1.to_csv(\"France.csv\")"
   ]
  },
  {
   "cell_type": "code",
   "execution_count": 30,
   "id": "eafc28d3",
   "metadata": {},
   "outputs": [],
   "source": [
    "df.columns= [\"City\", \"Country\", \"Landarea\", \"Density\"]"
   ]
  },
  {
   "cell_type": "code",
   "execution_count": 31,
   "id": "ce08c880",
   "metadata": {},
   "outputs": [],
   "source": [
    "df[\"Landarea\"]= df[\"Landarea\"].replace(\"[,]\", \"\", regex= True).astype(\"int\")"
   ]
  },
  {
   "cell_type": "code",
   "execution_count": 32,
   "id": "ae804df0",
   "metadata": {},
   "outputs": [],
   "source": [
    "df[\"Density\"]= df[\"Density\"].astype('int')"
   ]
  },
  {
   "cell_type": "code",
   "execution_count": 33,
   "id": "f16ccc98",
   "metadata": {},
   "outputs": [
    {
     "data": {
      "text/plain": [
       "City        object\n",
       "Country     object\n",
       "Landarea     int32\n",
       "Density      int32\n",
       "dtype: object"
      ]
     },
     "execution_count": 33,
     "metadata": {},
     "output_type": "execute_result"
    }
   ],
   "source": [
    "df.dtypes"
   ]
  },
  {
   "cell_type": "code",
   "execution_count": 34,
   "id": "eae146e9",
   "metadata": {},
   "outputs": [],
   "source": [
    "\n",
    "from sklearn.linear_model import LinearRegression"
   ]
  },
  {
   "cell_type": "code",
   "execution_count": 35,
   "id": "8a46b090",
   "metadata": {},
   "outputs": [],
   "source": [
    "import matplotlib.pyplot as plt\n",
    "import matplotlib\n",
    "%matplotlib inline"
   ]
  },
  {
   "cell_type": "code",
   "execution_count": 36,
   "id": "59a16918",
   "metadata": {},
   "outputs": [
    {
     "data": {
      "text/plain": [
       "14     2,723\n",
       "56      1204\n",
       "66      1057\n",
       "78       954\n",
       "190      508\n",
       "Name: Landarea (In Sqkm), dtype: object"
      ]
     },
     "execution_count": 36,
     "metadata": {},
     "output_type": "execute_result"
    }
   ],
   "source": [
    "Land=df1.iloc[:,2]\n",
    "Land.head()"
   ]
  },
  {
   "cell_type": "code",
   "execution_count": 37,
   "id": "9f6a5624",
   "metadata": {},
   "outputs": [
    {
     "data": {
      "text/plain": [
       "14     3550\n",
       "56     1100\n",
       "66      700\n",
       "78     1400\n",
       "190     500\n",
       "Name: Density, dtype: int32"
      ]
     },
     "execution_count": 37,
     "metadata": {},
     "output_type": "execute_result"
    }
   ],
   "source": [
    "Density=df1.iloc[:,3]\n",
    "Density.head()"
   ]
  },
  {
   "cell_type": "code",
   "execution_count": 38,
   "id": "6481b4f1",
   "metadata": {},
   "outputs": [
    {
     "data": {
      "text/plain": [
       "array(['2,723', '1204', '1057', '954', '508', '507', '489', '476', '474',\n",
       "       '450', '421', '390'], dtype=object)"
      ]
     },
     "execution_count": 38,
     "metadata": {},
     "output_type": "execute_result"
    }
   ],
   "source": [
    "x=Land.values\n",
    "x"
   ]
  },
  {
   "cell_type": "code",
   "execution_count": 39,
   "id": "2420feee",
   "metadata": {},
   "outputs": [
    {
     "data": {
      "text/plain": [
       "array([3550, 1100,  700, 1400,  500,  700, 1050, 1150, 2200,  400,  700,\n",
       "        650])"
      ]
     },
     "execution_count": 39,
     "metadata": {},
     "output_type": "execute_result"
    }
   ],
   "source": [
    "y=Density.values\n",
    "y"
   ]
  },
  {
   "cell_type": "code",
   "execution_count": 40,
   "id": "afa82dd7",
   "metadata": {},
   "outputs": [
    {
     "data": {
      "image/png": "[encoded data removed]",
      "text/plain": [
       "<Figure size 432x288 with 1 Axes>"
      ]
     },
     "metadata": {
      "needs_background": "light"
     },
     "output_type": "display_data"
    }
   ],
   "source": [
    "import matplotlib.pyplot as plt\n",
    "plt.scatter(x,y,label=\" \",color=\"g\",s=100)\n",
    "plt.xlabel(\"LandArea\")\n",
    "plt.ylabel(\"Density\")\n",
    "plt.title(\"LandArea vs Density\")\n",
    "\n",
    "plt.show()"
   ]
  },
  {
   "cell_type": "code",
   "execution_count": null,
   "id": "656a1623",
   "metadata": {},
   "outputs": [],
   "source": []
  },
  {
   "cell_type": "markdown",
   "id": "c37ef541",
   "metadata": {},
   "source": [
    "# Landarea vs Density (250 to 1)"
   ]
  },
  {
   "cell_type": "code",
   "execution_count": 41,
   "id": "64a608e4",
   "metadata": {},
   "outputs": [],
   "source": [
    "df2=df.sort_values(\"Landarea\")"
   ]
  },
  {
   "cell_type": "code",
   "execution_count": 42,
   "id": "d321ae98",
   "metadata": {},
   "outputs": [
    {
     "data": {
      "text/html": [
       "<div>\n",
       "<style scoped>\n",
       "    .dataframe tbody tr th:only-of-type {\n",
       "        vertical-align: middle;\n",
       "    }\n",
       "\n",
       "    .dataframe tbody tr th {\n",
       "        vertical-align: top;\n",
       "    }\n",
       "\n",
       "    .dataframe thead th {\n",
       "        text-align: right;\n",
       "    }\n",
       "</style>\n",
       "<table border=\"1\" class=\"dataframe\">\n",
       "  <thead>\n",
       "    <tr style=\"text-align: right;\">\n",
       "      <th></th>\n",
       "      <th>City</th>\n",
       "      <th>Country</th>\n",
       "      <th>Landarea</th>\n",
       "      <th>Density</th>\n",
       "    </tr>\n",
       "  </thead>\n",
       "  <tbody>\n",
       "    <tr>\n",
       "      <th>250</th>\n",
       "      <td>Dublin</td>\n",
       "      <td>Ireland</td>\n",
       "      <td>365</td>\n",
       "      <td>2950</td>\n",
       "    </tr>\n",
       "    <tr>\n",
       "      <th>249</th>\n",
       "      <td>Glasgow</td>\n",
       "      <td>UK</td>\n",
       "      <td>368</td>\n",
       "      <td>3250</td>\n",
       "    </tr>\n",
       "    <tr>\n",
       "      <th>248</th>\n",
       "      <td>leeds/bradford</td>\n",
       "      <td>UK</td>\n",
       "      <td>370</td>\n",
       "      <td>4050</td>\n",
       "    </tr>\n",
       "    <tr>\n",
       "      <th>247</th>\n",
       "      <td>spokane</td>\n",
       "      <td>USA</td>\n",
       "      <td>371</td>\n",
       "      <td>900</td>\n",
       "    </tr>\n",
       "    <tr>\n",
       "      <th>246</th>\n",
       "      <td>canton</td>\n",
       "      <td>USA</td>\n",
       "      <td>372</td>\n",
       "      <td>700</td>\n",
       "    </tr>\n",
       "    <tr>\n",
       "      <th>245</th>\n",
       "      <td>taipei</td>\n",
       "      <td>Taiwan</td>\n",
       "      <td>376</td>\n",
       "      <td>15200</td>\n",
       "    </tr>\n",
       "    <tr>\n",
       "      <th>244</th>\n",
       "      <td>recife</td>\n",
       "      <td>Brazil</td>\n",
       "      <td>376</td>\n",
       "      <td>8050</td>\n",
       "    </tr>\n",
       "    <tr>\n",
       "      <th>243</th>\n",
       "      <td>gold coast</td>\n",
       "      <td>Australia</td>\n",
       "      <td>383</td>\n",
       "      <td>1100</td>\n",
       "    </tr>\n",
       "    <tr>\n",
       "      <th>242</th>\n",
       "      <td>st.cathariness</td>\n",
       "      <td>Canada</td>\n",
       "      <td>389</td>\n",
       "      <td>750</td>\n",
       "    </tr>\n",
       "    <tr>\n",
       "      <th>241</th>\n",
       "      <td>porto</td>\n",
       "      <td>Portugal</td>\n",
       "      <td>389</td>\n",
       "      <td>2650</td>\n",
       "    </tr>\n",
       "    <tr>\n",
       "      <th>240</th>\n",
       "      <td>dalian</td>\n",
       "      <td>China</td>\n",
       "      <td>389</td>\n",
       "      <td>7100</td>\n",
       "    </tr>\n",
       "    <tr>\n",
       "      <th>239</th>\n",
       "      <td>bonita springs /naples</td>\n",
       "      <td>USA</td>\n",
       "      <td>389</td>\n",
       "      <td>550</td>\n",
       "    </tr>\n",
       "    <tr>\n",
       "      <th>238</th>\n",
       "      <td>bethune</td>\n",
       "      <td>France</td>\n",
       "      <td>390</td>\n",
       "      <td>650</td>\n",
       "    </tr>\n",
       "    <tr>\n",
       "      <th>237</th>\n",
       "      <td>honolulu</td>\n",
       "      <td>USA</td>\n",
       "      <td>399</td>\n",
       "      <td>1800</td>\n",
       "    </tr>\n",
       "    <tr>\n",
       "      <th>236</th>\n",
       "      <td>shreveport</td>\n",
       "      <td>USA</td>\n",
       "      <td>401</td>\n",
       "      <td>700</td>\n",
       "    </tr>\n",
       "    <tr>\n",
       "      <th>235</th>\n",
       "      <td>aachen</td>\n",
       "      <td>Germany</td>\n",
       "      <td>401</td>\n",
       "      <td>1450</td>\n",
       "    </tr>\n",
       "    <tr>\n",
       "      <th>234</th>\n",
       "      <td>south bend</td>\n",
       "      <td>USA</td>\n",
       "      <td>404</td>\n",
       "      <td>700</td>\n",
       "    </tr>\n",
       "    <tr>\n",
       "      <th>233</th>\n",
       "      <td>durham</td>\n",
       "      <td>USA</td>\n",
       "      <td>406</td>\n",
       "      <td>700</td>\n",
       "    </tr>\n",
       "    <tr>\n",
       "      <th>232</th>\n",
       "      <td>huntsuille</td>\n",
       "      <td>USA</td>\n",
       "      <td>407</td>\n",
       "      <td>500</td>\n",
       "    </tr>\n",
       "    <tr>\n",
       "      <th>230</th>\n",
       "      <td>stuttgart</td>\n",
       "      <td>Germany</td>\n",
       "      <td>411</td>\n",
       "      <td>3000</td>\n",
       "    </tr>\n",
       "    <tr>\n",
       "      <th>231</th>\n",
       "      <td>scranton</td>\n",
       "      <td>USA</td>\n",
       "      <td>411</td>\n",
       "      <td>950</td>\n",
       "    </tr>\n",
       "    <tr>\n",
       "      <th>229</th>\n",
       "      <td>sapporo</td>\n",
       "      <td>Japan</td>\n",
       "      <td>414</td>\n",
       "      <td>5000</td>\n",
       "    </tr>\n",
       "    <tr>\n",
       "      <th>228</th>\n",
       "      <td>chennai</td>\n",
       "      <td>India</td>\n",
       "      <td>414</td>\n",
       "      <td>14350</td>\n",
       "    </tr>\n",
       "    <tr>\n",
       "      <th>227</th>\n",
       "      <td>jackson</td>\n",
       "      <td>USA</td>\n",
       "      <td>417</td>\n",
       "      <td>700</td>\n",
       "    </tr>\n",
       "    <tr>\n",
       "      <th>226</th>\n",
       "      <td>tours</td>\n",
       "      <td>France</td>\n",
       "      <td>421</td>\n",
       "      <td>700</td>\n",
       "    </tr>\n",
       "    <tr>\n",
       "      <th>225</th>\n",
       "      <td>port elizabeth</td>\n",
       "      <td>South Africa</td>\n",
       "      <td>427</td>\n",
       "      <td>2100</td>\n",
       "    </tr>\n",
       "    <tr>\n",
       "      <th>224</th>\n",
       "      <td>lumumbashi</td>\n",
       "      <td>Congo</td>\n",
       "      <td>427</td>\n",
       "      <td>2800</td>\n",
       "    </tr>\n",
       "    <tr>\n",
       "      <th>223</th>\n",
       "      <td>fayetteville</td>\n",
       "      <td>USA</td>\n",
       "      <td>433</td>\n",
       "      <td>650</td>\n",
       "    </tr>\n",
       "    <tr>\n",
       "      <th>222</th>\n",
       "      <td>port st wcie</td>\n",
       "      <td>USA</td>\n",
       "      <td>438</td>\n",
       "      <td>600</td>\n",
       "    </tr>\n",
       "    <tr>\n",
       "      <th>221</th>\n",
       "      <td>winnipeg</td>\n",
       "      <td>Canada</td>\n",
       "      <td>446</td>\n",
       "      <td>1400</td>\n",
       "    </tr>\n",
       "    <tr>\n",
       "      <th>220</th>\n",
       "      <td>pau</td>\n",
       "      <td>France</td>\n",
       "      <td>450</td>\n",
       "      <td>400</td>\n",
       "    </tr>\n",
       "    <tr>\n",
       "      <th>219</th>\n",
       "      <td>donetsk</td>\n",
       "      <td>Ukraine</td>\n",
       "      <td>451</td>\n",
       "      <td>3100</td>\n",
       "    </tr>\n",
       "    <tr>\n",
       "      <th>213</th>\n",
       "      <td>concord</td>\n",
       "      <td>USA</td>\n",
       "      <td>453</td>\n",
       "      <td>1200</td>\n",
       "    </tr>\n",
       "    <tr>\n",
       "      <th>214</th>\n",
       "      <td>accra</td>\n",
       "      <td>Ghana</td>\n",
       "      <td>453</td>\n",
       "      <td>3300</td>\n",
       "    </tr>\n",
       "    <tr>\n",
       "      <th>216</th>\n",
       "      <td>tel aviv</td>\n",
       "      <td>Israel</td>\n",
       "      <td>453</td>\n",
       "      <td>5050</td>\n",
       "    </tr>\n",
       "    <tr>\n",
       "      <th>217</th>\n",
       "      <td>tianjin</td>\n",
       "      <td>China</td>\n",
       "      <td>453</td>\n",
       "      <td>10500</td>\n",
       "    </tr>\n",
       "    <tr>\n",
       "      <th>218</th>\n",
       "      <td>vienna</td>\n",
       "      <td>Austria</td>\n",
       "      <td>453</td>\n",
       "      <td>3400</td>\n",
       "    </tr>\n",
       "    <tr>\n",
       "      <th>215</th>\n",
       "      <td>shenyang</td>\n",
       "      <td>China</td>\n",
       "      <td>453</td>\n",
       "      <td>9250</td>\n",
       "    </tr>\n",
       "    <tr>\n",
       "      <th>212</th>\n",
       "      <td>wichita</td>\n",
       "      <td>USA</td>\n",
       "      <td>457</td>\n",
       "      <td>900</td>\n",
       "    </tr>\n",
       "    <tr>\n",
       "      <th>211</th>\n",
       "      <td>syracuse</td>\n",
       "      <td>USA</td>\n",
       "      <td>465</td>\n",
       "      <td>850</td>\n",
       "    </tr>\n",
       "    <tr>\n",
       "      <th>210</th>\n",
       "      <td>warsaw</td>\n",
       "      <td>Poland</td>\n",
       "      <td>465</td>\n",
       "      <td>4300</td>\n",
       "    </tr>\n",
       "    <tr>\n",
       "      <th>209</th>\n",
       "      <td>shenzhen</td>\n",
       "      <td>China</td>\n",
       "      <td>466</td>\n",
       "      <td>17150</td>\n",
       "    </tr>\n",
       "    <tr>\n",
       "      <th>208</th>\n",
       "      <td>ogden</td>\n",
       "      <td>USA</td>\n",
       "      <td>466</td>\n",
       "      <td>900</td>\n",
       "    </tr>\n",
       "    <tr>\n",
       "      <th>207</th>\n",
       "      <td>kinshasa</td>\n",
       "      <td>Congo</td>\n",
       "      <td>469</td>\n",
       "      <td>10650</td>\n",
       "    </tr>\n",
       "    <tr>\n",
       "      <th>206</th>\n",
       "      <td>lille</td>\n",
       "      <td>France</td>\n",
       "      <td>474</td>\n",
       "      <td>2200</td>\n",
       "    </tr>\n",
       "    <tr>\n",
       "      <th>205</th>\n",
       "      <td>nantes</td>\n",
       "      <td>France</td>\n",
       "      <td>476</td>\n",
       "      <td>1150</td>\n",
       "    </tr>\n",
       "    <tr>\n",
       "      <th>199</th>\n",
       "      <td>goiania</td>\n",
       "      <td>Brazil</td>\n",
       "      <td>479</td>\n",
       "      <td>3100</td>\n",
       "    </tr>\n",
       "    <tr>\n",
       "      <th>200</th>\n",
       "      <td>helsinki</td>\n",
       "      <td>Finland</td>\n",
       "      <td>479</td>\n",
       "      <td>2100</td>\n",
       "    </tr>\n",
       "    <tr>\n",
       "      <th>201</th>\n",
       "      <td>monterey</td>\n",
       "      <td>Mexico</td>\n",
       "      <td>479</td>\n",
       "      <td>6700</td>\n",
       "    </tr>\n",
       "    <tr>\n",
       "      <th>203</th>\n",
       "      <td>singapore</td>\n",
       "      <td>Singapore</td>\n",
       "      <td>479</td>\n",
       "      <td>8350</td>\n",
       "    </tr>\n",
       "    <tr>\n",
       "      <th>204</th>\n",
       "      <td>vereeniging</td>\n",
       "      <td>South Africa</td>\n",
       "      <td>479</td>\n",
       "      <td>1250</td>\n",
       "    </tr>\n",
       "    <tr>\n",
       "      <th>202</th>\n",
       "      <td>quito</td>\n",
       "      <td>Ecuador</td>\n",
       "      <td>479</td>\n",
       "      <td>3150</td>\n",
       "    </tr>\n",
       "    <tr>\n",
       "      <th>198</th>\n",
       "      <td>mumbai</td>\n",
       "      <td>India</td>\n",
       "      <td>484</td>\n",
       "      <td>29650</td>\n",
       "    </tr>\n",
       "    <tr>\n",
       "      <th>197</th>\n",
       "      <td>douai/lens</td>\n",
       "      <td>France</td>\n",
       "      <td>489</td>\n",
       "      <td>1050</td>\n",
       "    </tr>\n",
       "    <tr>\n",
       "      <th>196</th>\n",
       "      <td>ottawa/hull</td>\n",
       "      <td>Canada</td>\n",
       "      <td>490</td>\n",
       "      <td>1700</td>\n",
       "    </tr>\n",
       "    <tr>\n",
       "      <th>195</th>\n",
       "      <td>campinas</td>\n",
       "      <td>Brazil</td>\n",
       "      <td>492</td>\n",
       "      <td>3550</td>\n",
       "    </tr>\n",
       "    <tr>\n",
       "      <th>194</th>\n",
       "      <td>cape coral</td>\n",
       "      <td>USA</td>\n",
       "      <td>497</td>\n",
       "      <td>650</td>\n",
       "    </tr>\n",
       "    <tr>\n",
       "      <th>193</th>\n",
       "      <td>turin</td>\n",
       "      <td>Italy</td>\n",
       "      <td>500</td>\n",
       "      <td>2700</td>\n",
       "    </tr>\n",
       "    <tr>\n",
       "      <th>192</th>\n",
       "      <td>nizhni novgorod</td>\n",
       "      <td>Russia</td>\n",
       "      <td>505</td>\n",
       "      <td>2950</td>\n",
       "    </tr>\n",
       "    <tr>\n",
       "      <th>191</th>\n",
       "      <td>valenciennes</td>\n",
       "      <td>France</td>\n",
       "      <td>507</td>\n",
       "      <td>700</td>\n",
       "    </tr>\n",
       "    <tr>\n",
       "      <th>190</th>\n",
       "      <td>avignon</td>\n",
       "      <td>France</td>\n",
       "      <td>508</td>\n",
       "      <td>500</td>\n",
       "    </tr>\n",
       "    <tr>\n",
       "      <th>189</th>\n",
       "      <td>taichung</td>\n",
       "      <td>Taiwan</td>\n",
       "      <td>510</td>\n",
       "      <td>3900</td>\n",
       "    </tr>\n",
       "    <tr>\n",
       "      <th>188</th>\n",
       "      <td>colorado springs</td>\n",
       "      <td>USA</td>\n",
       "      <td>511</td>\n",
       "      <td>900</td>\n",
       "    </tr>\n",
       "    <tr>\n",
       "      <th>187</th>\n",
       "      <td>new orleans</td>\n",
       "      <td>USA</td>\n",
       "      <td>512</td>\n",
       "      <td>1950</td>\n",
       "    </tr>\n",
       "    <tr>\n",
       "      <th>186</th>\n",
       "      <td>lancaster</td>\n",
       "      <td>USA</td>\n",
       "      <td>517</td>\n",
       "      <td>650</td>\n",
       "    </tr>\n",
       "    <tr>\n",
       "      <th>180</th>\n",
       "      <td>bogota</td>\n",
       "      <td>Colombia</td>\n",
       "      <td>518</td>\n",
       "      <td>13500</td>\n",
       "    </tr>\n",
       "    <tr>\n",
       "      <th>181</th>\n",
       "      <td>hochi minh city</td>\n",
       "      <td>Vietnam</td>\n",
       "      <td>518</td>\n",
       "      <td>9450</td>\n",
       "    </tr>\n",
       "    <tr>\n",
       "      <th>185</th>\n",
       "      <td>stockholm</td>\n",
       "      <td>Sweden</td>\n",
       "      <td>518</td>\n",
       "      <td>2700</td>\n",
       "    </tr>\n",
       "    <tr>\n",
       "      <th>183</th>\n",
       "      <td>munichi</td>\n",
       "      <td>Germany</td>\n",
       "      <td>518</td>\n",
       "      <td>3100</td>\n",
       "    </tr>\n",
       "    <tr>\n",
       "      <th>184</th>\n",
       "      <td>phnompenh</td>\n",
       "      <td>Cambodia</td>\n",
       "      <td>518</td>\n",
       "      <td>2900</td>\n",
       "    </tr>\n",
       "    <tr>\n",
       "      <th>182</th>\n",
       "      <td>karachi</td>\n",
       "      <td>Pakistan</td>\n",
       "      <td>518</td>\n",
       "      <td>8900</td>\n",
       "    </tr>\n",
       "    <tr>\n",
       "      <th>179</th>\n",
       "      <td>toledo</td>\n",
       "      <td>USA</td>\n",
       "      <td>524</td>\n",
       "      <td>950</td>\n",
       "    </tr>\n",
       "    <tr>\n",
       "      <th>178</th>\n",
       "      <td>tashkent</td>\n",
       "      <td>Uzbekistan</td>\n",
       "      <td>531</td>\n",
       "      <td>4150</td>\n",
       "    </tr>\n",
       "    <tr>\n",
       "      <th>177</th>\n",
       "      <td>rotterdam</td>\n",
       "      <td>Netherlands</td>\n",
       "      <td>531</td>\n",
       "      <td>2500</td>\n",
       "    </tr>\n",
       "    <tr>\n",
       "      <th>176</th>\n",
       "      <td>kolkata</td>\n",
       "      <td>India</td>\n",
       "      <td>531</td>\n",
       "      <td>23900</td>\n",
       "    </tr>\n",
       "    <tr>\n",
       "      <th>175</th>\n",
       "      <td>auck land</td>\n",
       "      <td>New Zealand</td>\n",
       "      <td>531</td>\n",
       "      <td>2000</td>\n",
       "    </tr>\n",
       "    <tr>\n",
       "      <th>174</th>\n",
       "      <td>little rock</td>\n",
       "      <td>USA</td>\n",
       "      <td>532</td>\n",
       "      <td>700</td>\n",
       "    </tr>\n",
       "    <tr>\n",
       "      <th>173</th>\n",
       "      <td>bangalore</td>\n",
       "      <td>India</td>\n",
       "      <td>534</td>\n",
       "      <td>10100</td>\n",
       "    </tr>\n",
       "    <tr>\n",
       "      <th>172</th>\n",
       "      <td>asheville</td>\n",
       "      <td>USA</td>\n",
       "      <td>536</td>\n",
       "      <td>400</td>\n",
       "    </tr>\n",
       "    <tr>\n",
       "      <th>171</th>\n",
       "      <td>harrisburg</td>\n",
       "      <td>USA</td>\n",
       "      <td>540</td>\n",
       "      <td>650</td>\n",
       "    </tr>\n",
       "    <tr>\n",
       "      <th>167</th>\n",
       "      <td>baku/sumqaxit</td>\n",
       "      <td>Azerbaijan</td>\n",
       "      <td>544</td>\n",
       "      <td>3850</td>\n",
       "    </tr>\n",
       "    <tr>\n",
       "      <th>169</th>\n",
       "      <td>katowice</td>\n",
       "      <td>Poland</td>\n",
       "      <td>544</td>\n",
       "      <td>4050</td>\n",
       "    </tr>\n",
       "    <tr>\n",
       "      <th>170</th>\n",
       "      <td>kuwait</td>\n",
       "      <td>Kuwait</td>\n",
       "      <td>544</td>\n",
       "      <td>2950</td>\n",
       "    </tr>\n",
       "    <tr>\n",
       "      <th>168</th>\n",
       "      <td>fukuoka</td>\n",
       "      <td>Japan</td>\n",
       "      <td>544</td>\n",
       "      <td>3950</td>\n",
       "    </tr>\n",
       "    <tr>\n",
       "      <th>166</th>\n",
       "      <td>mobile</td>\n",
       "      <td>USA</td>\n",
       "      <td>546</td>\n",
       "      <td>600</td>\n",
       "    </tr>\n",
       "    <tr>\n",
       "      <th>165</th>\n",
       "      <td>hickory</td>\n",
       "      <td>USA</td>\n",
       "      <td>546</td>\n",
       "      <td>350</td>\n",
       "    </tr>\n",
       "    <tr>\n",
       "      <th>164</th>\n",
       "      <td>manchester</td>\n",
       "      <td>UK</td>\n",
       "      <td>558</td>\n",
       "      <td>4000</td>\n",
       "    </tr>\n",
       "    <tr>\n",
       "      <th>163</th>\n",
       "      <td>pensacola</td>\n",
       "      <td>USA</td>\n",
       "      <td>568</td>\n",
       "      <td>550</td>\n",
       "    </tr>\n",
       "    <tr>\n",
       "      <th>162</th>\n",
       "      <td>el paso</td>\n",
       "      <td>USA</td>\n",
       "      <td>568</td>\n",
       "      <td>1200</td>\n",
       "    </tr>\n",
       "    <tr>\n",
       "      <th>161</th>\n",
       "      <td>palm bay</td>\n",
       "      <td>USA</td>\n",
       "      <td>569</td>\n",
       "      <td>700</td>\n",
       "    </tr>\n",
       "    <tr>\n",
       "      <th>160</th>\n",
       "      <td>albuquerque</td>\n",
       "      <td>USA</td>\n",
       "      <td>580</td>\n",
       "      <td>1050</td>\n",
       "    </tr>\n",
       "    <tr>\n",
       "      <th>154</th>\n",
       "      <td>brasile</td>\n",
       "      <td>Brazil</td>\n",
       "      <td>583</td>\n",
       "      <td>2800</td>\n",
       "    </tr>\n",
       "    <tr>\n",
       "      <th>156</th>\n",
       "      <td>hyderabad</td>\n",
       "      <td>India</td>\n",
       "      <td>583</td>\n",
       "      <td>9100</td>\n",
       "    </tr>\n",
       "    <tr>\n",
       "      <th>153</th>\n",
       "      <td>ankara</td>\n",
       "      <td>Turkey</td>\n",
       "      <td>583</td>\n",
       "      <td>5300</td>\n",
       "    </tr>\n",
       "    <tr>\n",
       "      <th>155</th>\n",
       "      <td>fortaleza</td>\n",
       "      <td>Brazil</td>\n",
       "      <td>583</td>\n",
       "      <td>4550</td>\n",
       "    </tr>\n",
       "    <tr>\n",
       "      <th>158</th>\n",
       "      <td>naples</td>\n",
       "      <td>Italy</td>\n",
       "      <td>583</td>\n",
       "      <td>4100</td>\n",
       "    </tr>\n",
       "    <tr>\n",
       "      <th>159</th>\n",
       "      <td>porto alegre</td>\n",
       "      <td>Brazil</td>\n",
       "      <td>583</td>\n",
       "      <td>4800</td>\n",
       "    </tr>\n",
       "    <tr>\n",
       "      <th>157</th>\n",
       "      <td>khartoum</td>\n",
       "      <td>Sudan</td>\n",
       "      <td>583</td>\n",
       "      <td>6850</td>\n",
       "    </tr>\n",
       "    <tr>\n",
       "      <th>152</th>\n",
       "      <td>omaha</td>\n",
       "      <td>USA</td>\n",
       "      <td>586</td>\n",
       "      <td>1050</td>\n",
       "    </tr>\n",
       "    <tr>\n",
       "      <th>151</th>\n",
       "      <td>greenville</td>\n",
       "      <td>USA</td>\n",
       "      <td>587</td>\n",
       "      <td>500</td>\n",
       "    </tr>\n",
       "    <tr>\n",
       "      <th>150</th>\n",
       "      <td>youngstown</td>\n",
       "      <td>USA</td>\n",
       "      <td>591</td>\n",
       "      <td>700</td>\n",
       "    </tr>\n",
       "    <tr>\n",
       "      <th>149</th>\n",
       "      <td>lima</td>\n",
       "      <td>Peru</td>\n",
       "      <td>596</td>\n",
       "      <td>11750</td>\n",
       "    </tr>\n",
       "    <tr>\n",
       "      <th>148</th>\n",
       "      <td>guadalajara</td>\n",
       "      <td>Mexico</td>\n",
       "      <td>596</td>\n",
       "      <td>5900</td>\n",
       "    </tr>\n",
       "    <tr>\n",
       "      <th>147</th>\n",
       "      <td>baghdad</td>\n",
       "      <td>Iraq</td>\n",
       "      <td>596</td>\n",
       "      <td>9250</td>\n",
       "    </tr>\n",
       "    <tr>\n",
       "      <th>146</th>\n",
       "      <td>antwerp</td>\n",
       "      <td>Belgium</td>\n",
       "      <td>596</td>\n",
       "      <td>1550</td>\n",
       "    </tr>\n",
       "    <tr>\n",
       "      <th>145</th>\n",
       "      <td>salt lake city</td>\n",
       "      <td>USA</td>\n",
       "      <td>598</td>\n",
       "      <td>1500</td>\n",
       "    </tr>\n",
       "    <tr>\n",
       "      <th>144</th>\n",
       "      <td>charleston</td>\n",
       "      <td>USA</td>\n",
       "      <td>598</td>\n",
       "      <td>700</td>\n",
       "    </tr>\n",
       "    <tr>\n",
       "      <th>143</th>\n",
       "      <td>flint</td>\n",
       "      <td>USA</td>\n",
       "      <td>599</td>\n",
       "      <td>600</td>\n",
       "    </tr>\n",
       "    <tr>\n",
       "      <th>142</th>\n",
       "      <td>birmingham</td>\n",
       "      <td>UK</td>\n",
       "      <td>600</td>\n",
       "      <td>3800</td>\n",
       "    </tr>\n",
       "    <tr>\n",
       "      <th>141</th>\n",
       "      <td>augusta</td>\n",
       "      <td>USA</td>\n",
       "      <td>600</td>\n",
       "      <td>550</td>\n",
       "    </tr>\n",
       "    <tr>\n",
       "      <th>140</th>\n",
       "      <td>aguadilla</td>\n",
       "      <td>Puerto Rico</td>\n",
       "      <td>620</td>\n",
       "      <td>500</td>\n",
       "    </tr>\n",
       "    <tr>\n",
       "      <th>138</th>\n",
       "      <td>lahore</td>\n",
       "      <td>Pakistan</td>\n",
       "      <td>622</td>\n",
       "      <td>8200</td>\n",
       "    </tr>\n",
       "    <tr>\n",
       "      <th>139</th>\n",
       "      <td>st petersburg</td>\n",
       "      <td>Russia</td>\n",
       "      <td>622</td>\n",
       "      <td>8550</td>\n",
       "    </tr>\n",
       "    <tr>\n",
       "      <th>137</th>\n",
       "      <td>worecester</td>\n",
       "      <td>USA</td>\n",
       "      <td>648</td>\n",
       "      <td>650</td>\n",
       "    </tr>\n",
       "    <tr>\n",
       "      <th>136</th>\n",
       "      <td>santiago</td>\n",
       "      <td>Chile</td>\n",
       "      <td>648</td>\n",
       "      <td>8400</td>\n",
       "    </tr>\n",
       "    <tr>\n",
       "      <th>135</th>\n",
       "      <td>curitiba</td>\n",
       "      <td>Brazil</td>\n",
       "      <td>648</td>\n",
       "      <td>3850</td>\n",
       "    </tr>\n",
       "    <tr>\n",
       "      <th>134</th>\n",
       "      <td>beirut</td>\n",
       "      <td>lebanon</td>\n",
       "      <td>648</td>\n",
       "      <td>2800</td>\n",
       "    </tr>\n",
       "    <tr>\n",
       "      <th>133</th>\n",
       "      <td>winston/salem</td>\n",
       "      <td>USA</td>\n",
       "      <td>651</td>\n",
       "      <td>450</td>\n",
       "    </tr>\n",
       "    <tr>\n",
       "      <th>132</th>\n",
       "      <td>grand rapids</td>\n",
       "      <td>USA</td>\n",
       "      <td>667</td>\n",
       "      <td>800</td>\n",
       "    </tr>\n",
       "    <tr>\n",
       "      <th>131</th>\n",
       "      <td>quebec</td>\n",
       "      <td>canada</td>\n",
       "      <td>669</td>\n",
       "      <td>950</td>\n",
       "    </tr>\n",
       "    <tr>\n",
       "      <th>130</th>\n",
       "      <td>pretoria</td>\n",
       "      <td>South Africa</td>\n",
       "      <td>673</td>\n",
       "      <td>2750</td>\n",
       "    </tr>\n",
       "    <tr>\n",
       "      <th>129</th>\n",
       "      <td>arabia</td>\n",
       "      <td>Saudi Arabia</td>\n",
       "      <td>673</td>\n",
       "      <td>2250</td>\n",
       "    </tr>\n",
       "    <tr>\n",
       "      <th>128</th>\n",
       "      <td>san jose</td>\n",
       "      <td>USA</td>\n",
       "      <td>674</td>\n",
       "      <td>2300</td>\n",
       "    </tr>\n",
       "    <tr>\n",
       "      <th>127</th>\n",
       "      <td>tulsa</td>\n",
       "      <td>USA</td>\n",
       "      <td>677</td>\n",
       "      <td>800</td>\n",
       "    </tr>\n",
       "    <tr>\n",
       "      <th>126</th>\n",
       "      <td>athens</td>\n",
       "      <td>Greece</td>\n",
       "      <td>684</td>\n",
       "      <td>5400</td>\n",
       "    </tr>\n",
       "    <tr>\n",
       "      <th>125</th>\n",
       "      <td>tehran</td>\n",
       "      <td>iran</td>\n",
       "      <td>686</td>\n",
       "      <td>10550</td>\n",
       "    </tr>\n",
       "    <tr>\n",
       "      <th>123</th>\n",
       "      <td>cape town</td>\n",
       "      <td>south africa</td>\n",
       "      <td>686</td>\n",
       "      <td>3950</td>\n",
       "    </tr>\n",
       "    <tr>\n",
       "      <th>124</th>\n",
       "      <td>pough keepsie</td>\n",
       "      <td>USA</td>\n",
       "      <td>686</td>\n",
       "      <td>500</td>\n",
       "    </tr>\n",
       "    <tr>\n",
       "      <th>122</th>\n",
       "      <td>columbia</td>\n",
       "      <td>USA</td>\n",
       "      <td>697</td>\n",
       "      <td>600</td>\n",
       "    </tr>\n",
       "    <tr>\n",
       "      <th>121</th>\n",
       "      <td>sarasota//bradenton</td>\n",
       "      <td>USA</td>\n",
       "      <td>700</td>\n",
       "      <td>800</td>\n",
       "    </tr>\n",
       "    <tr>\n",
       "      <th>119</th>\n",
       "      <td>budapest</td>\n",
       "      <td>hungry</td>\n",
       "      <td>702</td>\n",
       "      <td>2550</td>\n",
       "    </tr>\n",
       "    <tr>\n",
       "      <th>120</th>\n",
       "      <td>calgary</td>\n",
       "      <td>canada</td>\n",
       "      <td>702</td>\n",
       "      <td>1250</td>\n",
       "    </tr>\n",
       "    <tr>\n",
       "      <th>118</th>\n",
       "      <td>harare</td>\n",
       "      <td>zimbabwe</td>\n",
       "      <td>712</td>\n",
       "      <td>2450</td>\n",
       "    </tr>\n",
       "    <tr>\n",
       "      <th>117</th>\n",
       "      <td>dubai</td>\n",
       "      <td>UAE</td>\n",
       "      <td>712</td>\n",
       "      <td>2650</td>\n",
       "    </tr>\n",
       "    <tr>\n",
       "      <th>116</th>\n",
       "      <td>brussels</td>\n",
       "      <td>belgium</td>\n",
       "      <td>712</td>\n",
       "      <td>2200</td>\n",
       "    </tr>\n",
       "    <tr>\n",
       "      <th>115</th>\n",
       "      <td>toulon</td>\n",
       "      <td>france</td>\n",
       "      <td>713</td>\n",
       "      <td>750</td>\n",
       "    </tr>\n",
       "    <tr>\n",
       "      <th>114</th>\n",
       "      <td>nice</td>\n",
       "      <td>france</td>\n",
       "      <td>721</td>\n",
       "      <td>1250</td>\n",
       "    </tr>\n",
       "    <tr>\n",
       "      <th>113</th>\n",
       "      <td>baton rouge</td>\n",
       "      <td>USA</td>\n",
       "      <td>727</td>\n",
       "      <td>650</td>\n",
       "    </tr>\n",
       "    <tr>\n",
       "      <th>112</th>\n",
       "      <td>adelaide</td>\n",
       "      <td>australia</td>\n",
       "      <td>729</td>\n",
       "      <td>1350</td>\n",
       "    </tr>\n",
       "    <tr>\n",
       "      <th>111</th>\n",
       "      <td>albany</td>\n",
       "      <td>USA</td>\n",
       "      <td>736</td>\n",
       "      <td>750</td>\n",
       "    </tr>\n",
       "    <tr>\n",
       "      <th>110</th>\n",
       "      <td>lagos</td>\n",
       "      <td>nigeria</td>\n",
       "      <td>738</td>\n",
       "      <td>18150</td>\n",
       "    </tr>\n",
       "    <tr>\n",
       "      <th>109</th>\n",
       "      <td>new hawen</td>\n",
       "      <td>USA</td>\n",
       "      <td>739</td>\n",
       "      <td>700</td>\n",
       "    </tr>\n",
       "    <tr>\n",
       "      <th>107</th>\n",
       "      <td>barnstable town</td>\n",
       "      <td>USA</td>\n",
       "      <td>741</td>\n",
       "      <td>350</td>\n",
       "    </tr>\n",
       "    <tr>\n",
       "      <th>108</th>\n",
       "      <td>las vegas</td>\n",
       "      <td>USA</td>\n",
       "      <td>741</td>\n",
       "      <td>1750</td>\n",
       "    </tr>\n",
       "    <tr>\n",
       "      <th>106</th>\n",
       "      <td>shanghai</td>\n",
       "      <td>china</td>\n",
       "      <td>746</td>\n",
       "      <td>13400</td>\n",
       "    </tr>\n",
       "    <tr>\n",
       "      <th>105</th>\n",
       "      <td>beijing</td>\n",
       "      <td>china</td>\n",
       "      <td>748</td>\n",
       "      <td>11500</td>\n",
       "    </tr>\n",
       "    <tr>\n",
       "      <th>104</th>\n",
       "      <td>allen town/bethlehem</td>\n",
       "      <td>USA</td>\n",
       "      <td>750</td>\n",
       "      <td>750</td>\n",
       "    </tr>\n",
       "    <tr>\n",
       "      <th>103</th>\n",
       "      <td>chattanooga</td>\n",
       "      <td>USA</td>\n",
       "      <td>751</td>\n",
       "      <td>450</td>\n",
       "    </tr>\n",
       "    <tr>\n",
       "      <th>102</th>\n",
       "      <td>tucson</td>\n",
       "      <td>USA</td>\n",
       "      <td>755</td>\n",
       "      <td>950</td>\n",
       "    </tr>\n",
       "    <tr>\n",
       "      <th>101</th>\n",
       "      <td>rochester</td>\n",
       "      <td>USA</td>\n",
       "      <td>764</td>\n",
       "      <td>900</td>\n",
       "    </tr>\n",
       "    <tr>\n",
       "      <th>100</th>\n",
       "      <td>jeddah</td>\n",
       "      <td>saudi arabia</td>\n",
       "      <td>777</td>\n",
       "      <td>3550</td>\n",
       "    </tr>\n",
       "    <tr>\n",
       "      <th>99</th>\n",
       "      <td>abu dhabi</td>\n",
       "      <td>UAE</td>\n",
       "      <td>777</td>\n",
       "      <td>700</td>\n",
       "    </tr>\n",
       "    <tr>\n",
       "      <th>98</th>\n",
       "      <td>akron</td>\n",
       "      <td>USA</td>\n",
       "      <td>797</td>\n",
       "      <td>700</td>\n",
       "    </tr>\n",
       "    <tr>\n",
       "      <th>97</th>\n",
       "      <td>springfield</td>\n",
       "      <td>USA</td>\n",
       "      <td>800</td>\n",
       "      <td>700</td>\n",
       "    </tr>\n",
       "    <tr>\n",
       "      <th>96</th>\n",
       "      <td>barcelona</td>\n",
       "      <td>spain</td>\n",
       "      <td>803</td>\n",
       "      <td>4850</td>\n",
       "    </tr>\n",
       "    <tr>\n",
       "      <th>95</th>\n",
       "      <td>tou louse</td>\n",
       "      <td>france</td>\n",
       "      <td>808</td>\n",
       "      <td>950</td>\n",
       "    </tr>\n",
       "    <tr>\n",
       "      <th>94</th>\n",
       "      <td>mc allen</td>\n",
       "      <td>USA</td>\n",
       "      <td>813</td>\n",
       "      <td>650</td>\n",
       "    </tr>\n",
       "    <tr>\n",
       "      <th>92</th>\n",
       "      <td>cologne/bonn</td>\n",
       "      <td>germany</td>\n",
       "      <td>816</td>\n",
       "      <td>2400</td>\n",
       "    </tr>\n",
       "    <tr>\n",
       "      <th>93</th>\n",
       "      <td>copenhagen</td>\n",
       "      <td>denmark</td>\n",
       "      <td>816</td>\n",
       "      <td>1850</td>\n",
       "    </tr>\n",
       "    <tr>\n",
       "      <th>91</th>\n",
       "      <td>austin</td>\n",
       "      <td>USA</td>\n",
       "      <td>824</td>\n",
       "      <td>1100</td>\n",
       "    </tr>\n",
       "    <tr>\n",
       "      <th>90</th>\n",
       "      <td>raleigh</td>\n",
       "      <td>USA</td>\n",
       "      <td>828</td>\n",
       "      <td>650</td>\n",
       "    </tr>\n",
       "    <tr>\n",
       "      <th>89</th>\n",
       "      <td>hamburg</td>\n",
       "      <td>Germany</td>\n",
       "      <td>829</td>\n",
       "      <td>2300</td>\n",
       "    </tr>\n",
       "    <tr>\n",
       "      <th>88</th>\n",
       "      <td>durban</td>\n",
       "      <td>South Africa</td>\n",
       "      <td>829</td>\n",
       "      <td>3500</td>\n",
       "    </tr>\n",
       "    <tr>\n",
       "      <th>87</th>\n",
       "      <td>oklahoma city</td>\n",
       "      <td>USA</td>\n",
       "      <td>835</td>\n",
       "      <td>900</td>\n",
       "    </tr>\n",
       "    <tr>\n",
       "      <th>86</th>\n",
       "      <td>dayton</td>\n",
       "      <td>USA</td>\n",
       "      <td>838</td>\n",
       "      <td>850</td>\n",
       "    </tr>\n",
       "    <tr>\n",
       "      <th>85</th>\n",
       "      <td>rome</td>\n",
       "      <td>Italy</td>\n",
       "      <td>842</td>\n",
       "      <td>2950</td>\n",
       "    </tr>\n",
       "    <tr>\n",
       "      <th>84</th>\n",
       "      <td>edmonton</td>\n",
       "      <td>Canada</td>\n",
       "      <td>850</td>\n",
       "      <td>900</td>\n",
       "    </tr>\n",
       "    <tr>\n",
       "      <th>83</th>\n",
       "      <td>belo horizonte</td>\n",
       "      <td>Brazil</td>\n",
       "      <td>868</td>\n",
       "      <td>4600</td>\n",
       "    </tr>\n",
       "    <tr>\n",
       "      <th>82</th>\n",
       "      <td>knoxville</td>\n",
       "      <td>USA</td>\n",
       "      <td>879</td>\n",
       "      <td>500</td>\n",
       "    </tr>\n",
       "    <tr>\n",
       "      <th>81</th>\n",
       "      <td>lisbon</td>\n",
       "      <td>Portugal</td>\n",
       "      <td>881</td>\n",
       "      <td>2550</td>\n",
       "    </tr>\n",
       "    <tr>\n",
       "      <th>80</th>\n",
       "      <td>madrid</td>\n",
       "      <td>Spain</td>\n",
       "      <td>945</td>\n",
       "      <td>5200</td>\n",
       "    </tr>\n",
       "    <tr>\n",
       "      <th>79</th>\n",
       "      <td>buffalo</td>\n",
       "      <td>USA</td>\n",
       "      <td>950</td>\n",
       "      <td>1050</td>\n",
       "    </tr>\n",
       "    <tr>\n",
       "      <th>78</th>\n",
       "      <td>lyon</td>\n",
       "      <td>France</td>\n",
       "      <td>954</td>\n",
       "      <td>1400</td>\n",
       "    </tr>\n",
       "    <tr>\n",
       "      <th>77</th>\n",
       "      <td>sa cramento</td>\n",
       "      <td>USA</td>\n",
       "      <td>956</td>\n",
       "      <td>1450</td>\n",
       "    </tr>\n",
       "    <tr>\n",
       "      <th>76</th>\n",
       "      <td>perth</td>\n",
       "      <td>Australia</td>\n",
       "      <td>964</td>\n",
       "      <td>1200</td>\n",
       "    </tr>\n",
       "    <tr>\n",
       "      <th>75</th>\n",
       "      <td>frankfurt</td>\n",
       "      <td>Germany</td>\n",
       "      <td>984</td>\n",
       "      <td>2300</td>\n",
       "    </tr>\n",
       "    <tr>\n",
       "      <th>74</th>\n",
       "      <td>berlin</td>\n",
       "      <td>Germany</td>\n",
       "      <td>984</td>\n",
       "      <td>3750</td>\n",
       "    </tr>\n",
       "    <tr>\n",
       "      <th>73</th>\n",
       "      <td>bangkok</td>\n",
       "      <td>Thailand</td>\n",
       "      <td>1010</td>\n",
       "      <td>6450</td>\n",
       "    </tr>\n",
       "    <tr>\n",
       "      <th>72</th>\n",
       "      <td>louisville</td>\n",
       "      <td>USA</td>\n",
       "      <td>1013</td>\n",
       "      <td>850</td>\n",
       "    </tr>\n",
       "    <tr>\n",
       "      <th>71</th>\n",
       "      <td>birmingham</td>\n",
       "      <td>USA</td>\n",
       "      <td>1016</td>\n",
       "      <td>650</td>\n",
       "    </tr>\n",
       "    <tr>\n",
       "      <th>70</th>\n",
       "      <td>columbus</td>\n",
       "      <td>USA</td>\n",
       "      <td>1030</td>\n",
       "      <td>1100</td>\n",
       "    </tr>\n",
       "    <tr>\n",
       "      <th>69</th>\n",
       "      <td>memphis</td>\n",
       "      <td>USA</td>\n",
       "      <td>1036</td>\n",
       "      <td>950</td>\n",
       "    </tr>\n",
       "    <tr>\n",
       "      <th>68</th>\n",
       "      <td>seoul /incheon</td>\n",
       "      <td>South Korea</td>\n",
       "      <td>1049</td>\n",
       "      <td>16700</td>\n",
       "    </tr>\n",
       "    <tr>\n",
       "      <th>67</th>\n",
       "      <td>san antonio</td>\n",
       "      <td>USA</td>\n",
       "      <td>1056</td>\n",
       "      <td>1250</td>\n",
       "    </tr>\n",
       "    <tr>\n",
       "      <th>66</th>\n",
       "      <td>bordeaux</td>\n",
       "      <td>France</td>\n",
       "      <td>1057</td>\n",
       "      <td>700</td>\n",
       "    </tr>\n",
       "    <tr>\n",
       "      <th>65</th>\n",
       "      <td>jacksonville</td>\n",
       "      <td>USA</td>\n",
       "      <td>1063</td>\n",
       "      <td>850</td>\n",
       "    </tr>\n",
       "    <tr>\n",
       "      <th>64</th>\n",
       "      <td>riyadh</td>\n",
       "      <td>Saudi Arabia</td>\n",
       "      <td>1101</td>\n",
       "      <td>3650</td>\n",
       "    </tr>\n",
       "    <tr>\n",
       "      <th>63</th>\n",
       "      <td>nashville</td>\n",
       "      <td>USA</td>\n",
       "      <td>1116</td>\n",
       "      <td>650</td>\n",
       "    </tr>\n",
       "    <tr>\n",
       "      <th>62</th>\n",
       "      <td>vancouver</td>\n",
       "      <td>Canada</td>\n",
       "      <td>1120</td>\n",
       "      <td>1650</td>\n",
       "    </tr>\n",
       "    <tr>\n",
       "      <th>61</th>\n",
       "      <td>charlotte</td>\n",
       "      <td>USA</td>\n",
       "      <td>1126</td>\n",
       "      <td>650</td>\n",
       "    </tr>\n",
       "    <tr>\n",
       "      <th>60</th>\n",
       "      <td>richmond</td>\n",
       "      <td>USA</td>\n",
       "      <td>1131</td>\n",
       "      <td>700</td>\n",
       "    </tr>\n",
       "    <tr>\n",
       "      <th>59</th>\n",
       "      <td>riverside/san bernardino</td>\n",
       "      <td>USA</td>\n",
       "      <td>1136</td>\n",
       "      <td>1350</td>\n",
       "    </tr>\n",
       "    <tr>\n",
       "      <th>58</th>\n",
       "      <td>istanbul</td>\n",
       "      <td>Turkey</td>\n",
       "      <td>1166</td>\n",
       "      <td>7700</td>\n",
       "    </tr>\n",
       "    <tr>\n",
       "      <th>57</th>\n",
       "      <td>orlando</td>\n",
       "      <td>USA</td>\n",
       "      <td>1174</td>\n",
       "      <td>1000</td>\n",
       "    </tr>\n",
       "    <tr>\n",
       "      <th>56</th>\n",
       "      <td>marseille</td>\n",
       "      <td>France</td>\n",
       "      <td>1204</td>\n",
       "      <td>1100</td>\n",
       "    </tr>\n",
       "    <tr>\n",
       "      <th>55</th>\n",
       "      <td>bridgeport//stamford</td>\n",
       "      <td>USA</td>\n",
       "      <td>1205</td>\n",
       "      <td>750</td>\n",
       "    </tr>\n",
       "    <tr>\n",
       "      <th>54</th>\n",
       "      <td>hartford</td>\n",
       "      <td>USA</td>\n",
       "      <td>1216</td>\n",
       "      <td>700</td>\n",
       "    </tr>\n",
       "    <tr>\n",
       "      <th>53</th>\n",
       "      <td>portland</td>\n",
       "      <td>USA</td>\n",
       "      <td>1228</td>\n",
       "      <td>1300</td>\n",
       "    </tr>\n",
       "    <tr>\n",
       "      <th>52</th>\n",
       "      <td>milwaukee</td>\n",
       "      <td>USA</td>\n",
       "      <td>1261</td>\n",
       "      <td>1050</td>\n",
       "    </tr>\n",
       "    <tr>\n",
       "      <th>51</th>\n",
       "      <td>denver</td>\n",
       "      <td>USA</td>\n",
       "      <td>1292</td>\n",
       "      <td>1550</td>\n",
       "    </tr>\n",
       "    <tr>\n",
       "      <th>50</th>\n",
       "      <td>delhi</td>\n",
       "      <td>India</td>\n",
       "      <td>1295</td>\n",
       "      <td>11050</td>\n",
       "    </tr>\n",
       "    <tr>\n",
       "      <th>49</th>\n",
       "      <td>cairo</td>\n",
       "      <td>Egypt</td>\n",
       "      <td>1295</td>\n",
       "      <td>9400</td>\n",
       "    </tr>\n",
       "    <tr>\n",
       "      <th>48</th>\n",
       "      <td>providence</td>\n",
       "      <td>USA</td>\n",
       "      <td>1304</td>\n",
       "      <td>900</td>\n",
       "    </tr>\n",
       "    <tr>\n",
       "      <th>47</th>\n",
       "      <td>jakarta</td>\n",
       "      <td>Indonesia</td>\n",
       "      <td>1360</td>\n",
       "      <td>10500</td>\n",
       "    </tr>\n",
       "    <tr>\n",
       "      <th>46</th>\n",
       "      <td>virginia beach</td>\n",
       "      <td>USA</td>\n",
       "      <td>1364</td>\n",
       "      <td>1000</td>\n",
       "    </tr>\n",
       "    <tr>\n",
       "      <th>45</th>\n",
       "      <td>san francisco//oakland</td>\n",
       "      <td>USA</td>\n",
       "      <td>1365</td>\n",
       "      <td>2350</td>\n",
       "    </tr>\n",
       "    <tr>\n",
       "      <th>44</th>\n",
       "      <td>manila</td>\n",
       "      <td>Philippines</td>\n",
       "      <td>1399</td>\n",
       "      <td>10550</td>\n",
       "    </tr>\n",
       "    <tr>\n",
       "      <th>43</th>\n",
       "      <td>indiana polis</td>\n",
       "      <td>USA</td>\n",
       "      <td>1432</td>\n",
       "      <td>850</td>\n",
       "    </tr>\n",
       "    <tr>\n",
       "      <th>42</th>\n",
       "      <td>kanas city</td>\n",
       "      <td>USA</td>\n",
       "      <td>1514</td>\n",
       "      <td>900</td>\n",
       "    </tr>\n",
       "    <tr>\n",
       "      <th>41</th>\n",
       "      <td>milan</td>\n",
       "      <td>Italy</td>\n",
       "      <td>1554</td>\n",
       "      <td>2750</td>\n",
       "    </tr>\n",
       "    <tr>\n",
       "      <th>40</th>\n",
       "      <td>rio de janeiro</td>\n",
       "      <td>Brazil</td>\n",
       "      <td>1580</td>\n",
       "      <td>6850</td>\n",
       "    </tr>\n",
       "    <tr>\n",
       "      <th>39</th>\n",
       "      <td>brisbane</td>\n",
       "      <td>Australia</td>\n",
       "      <td>1603</td>\n",
       "      <td>950</td>\n",
       "    </tr>\n",
       "    <tr>\n",
       "      <th>38</th>\n",
       "      <td>kuala lumpur</td>\n",
       "      <td>Malaysia</td>\n",
       "      <td>1606</td>\n",
       "      <td>2750</td>\n",
       "    </tr>\n",
       "    <tr>\n",
       "      <th>37</th>\n",
       "      <td>london</td>\n",
       "      <td>UK</td>\n",
       "      <td>1623</td>\n",
       "      <td>5100</td>\n",
       "    </tr>\n",
       "    <tr>\n",
       "      <th>36</th>\n",
       "      <td>toronto</td>\n",
       "      <td>Canada</td>\n",
       "      <td>1655</td>\n",
       "      <td>2650</td>\n",
       "    </tr>\n",
       "    <tr>\n",
       "      <th>35</th>\n",
       "      <td>cleveland</td>\n",
       "      <td>USA</td>\n",
       "      <td>1675</td>\n",
       "      <td>1050</td>\n",
       "    </tr>\n",
       "    <tr>\n",
       "      <th>34</th>\n",
       "      <td>sydney</td>\n",
       "      <td>Australia</td>\n",
       "      <td>1687</td>\n",
       "      <td>2100</td>\n",
       "    </tr>\n",
       "    <tr>\n",
       "      <th>33</th>\n",
       "      <td>montreal</td>\n",
       "      <td>Canada</td>\n",
       "      <td>1740</td>\n",
       "      <td>1850</td>\n",
       "    </tr>\n",
       "    <tr>\n",
       "      <th>32</th>\n",
       "      <td>cincinnati</td>\n",
       "      <td>USA</td>\n",
       "      <td>1740</td>\n",
       "      <td>850</td>\n",
       "    </tr>\n",
       "    <tr>\n",
       "      <th>31</th>\n",
       "      <td>baltimore</td>\n",
       "      <td>USA</td>\n",
       "      <td>1768</td>\n",
       "      <td>1150</td>\n",
       "    </tr>\n",
       "    <tr>\n",
       "      <th>30</th>\n",
       "      <td>sao paulo</td>\n",
       "      <td>Brazil</td>\n",
       "      <td>1968</td>\n",
       "      <td>9000</td>\n",
       "    </tr>\n",
       "    <tr>\n",
       "      <th>29</th>\n",
       "      <td>san diego</td>\n",
       "      <td>USA</td>\n",
       "      <td>2026</td>\n",
       "      <td>1300</td>\n",
       "    </tr>\n",
       "    <tr>\n",
       "      <th>28</th>\n",
       "      <td>phoenix/mesa</td>\n",
       "      <td>USA</td>\n",
       "      <td>2069</td>\n",
       "      <td>1400</td>\n",
       "    </tr>\n",
       "    <tr>\n",
       "      <th>27</th>\n",
       "      <td>mexico city</td>\n",
       "      <td>Mexico</td>\n",
       "      <td>2072</td>\n",
       "      <td>8400</td>\n",
       "    </tr>\n",
       "    <tr>\n",
       "      <th>26</th>\n",
       "      <td>tampa//st.petersburg</td>\n",
       "      <td>USA</td>\n",
       "      <td>2078</td>\n",
       "      <td>1000</td>\n",
       "    </tr>\n",
       "    <tr>\n",
       "      <th>25</th>\n",
       "      <td>melbourne</td>\n",
       "      <td>Australia</td>\n",
       "      <td>2080</td>\n",
       "      <td>1500</td>\n",
       "    </tr>\n",
       "    <tr>\n",
       "      <th>24</th>\n",
       "      <td>st.lousi</td>\n",
       "      <td>USA</td>\n",
       "      <td>2147</td>\n",
       "      <td>950</td>\n",
       "    </tr>\n",
       "    <tr>\n",
       "      <th>23</th>\n",
       "      <td>moscow</td>\n",
       "      <td>Russia</td>\n",
       "      <td>2150</td>\n",
       "      <td>4900</td>\n",
       "    </tr>\n",
       "    <tr>\n",
       "      <th>22</th>\n",
       "      <td>pittsburgh</td>\n",
       "      <td>USA</td>\n",
       "      <td>2208</td>\n",
       "      <td>800</td>\n",
       "    </tr>\n",
       "    <tr>\n",
       "      <th>21</th>\n",
       "      <td>bvenos aires</td>\n",
       "      <td>Argentina</td>\n",
       "      <td>2266</td>\n",
       "      <td>4950</td>\n",
       "    </tr>\n",
       "    <tr>\n",
       "      <th>20</th>\n",
       "      <td>san juan</td>\n",
       "      <td>Puerto Rico</td>\n",
       "      <td>2309</td>\n",
       "      <td>950</td>\n",
       "    </tr>\n",
       "    <tr>\n",
       "      <th>19</th>\n",
       "      <td>minneapolis/st.paul</td>\n",
       "      <td>USA</td>\n",
       "      <td>2316</td>\n",
       "      <td>1050</td>\n",
       "    </tr>\n",
       "    <tr>\n",
       "      <th>18</th>\n",
       "      <td>johannesburg/east round</td>\n",
       "      <td>South Africa</td>\n",
       "      <td>2396</td>\n",
       "      <td>2500</td>\n",
       "    </tr>\n",
       "    <tr>\n",
       "      <th>17</th>\n",
       "      <td>seattle</td>\n",
       "      <td>USA</td>\n",
       "      <td>2470</td>\n",
       "      <td>1100</td>\n",
       "    </tr>\n",
       "    <tr>\n",
       "      <th>15</th>\n",
       "      <td>essen/dusseldorf</td>\n",
       "      <td>Germany</td>\n",
       "      <td>2642</td>\n",
       "      <td>2800</td>\n",
       "    </tr>\n",
       "    <tr>\n",
       "      <th>16</th>\n",
       "      <td>osaka/kobe/kyoto</td>\n",
       "      <td>Japan</td>\n",
       "      <td>2664</td>\n",
       "      <td>6400</td>\n",
       "    </tr>\n",
       "    <tr>\n",
       "      <th>14</th>\n",
       "      <td>paris</td>\n",
       "      <td>France</td>\n",
       "      <td>2723</td>\n",
       "      <td>3550</td>\n",
       "    </tr>\n",
       "    <tr>\n",
       "      <th>13</th>\n",
       "      <td>nagoya</td>\n",
       "      <td>Japan</td>\n",
       "      <td>2875</td>\n",
       "      <td>3150</td>\n",
       "    </tr>\n",
       "    <tr>\n",
       "      <th>12</th>\n",
       "      <td>miami</td>\n",
       "      <td>USA</td>\n",
       "      <td>2891</td>\n",
       "      <td>1700</td>\n",
       "    </tr>\n",
       "    <tr>\n",
       "      <th>11</th>\n",
       "      <td>washington</td>\n",
       "      <td>USA</td>\n",
       "      <td>2996</td>\n",
       "      <td>1300</td>\n",
       "    </tr>\n",
       "    <tr>\n",
       "      <th>10</th>\n",
       "      <td>detroit</td>\n",
       "      <td>USA</td>\n",
       "      <td>3267</td>\n",
       "      <td>1200</td>\n",
       "    </tr>\n",
       "    <tr>\n",
       "      <th>9</th>\n",
       "      <td>houston</td>\n",
       "      <td>USA</td>\n",
       "      <td>3355</td>\n",
       "      <td>1150</td>\n",
       "    </tr>\n",
       "    <tr>\n",
       "      <th>8</th>\n",
       "      <td>Dallas/fort worth</td>\n",
       "      <td>USA</td>\n",
       "      <td>3644</td>\n",
       "      <td>1150</td>\n",
       "    </tr>\n",
       "    <tr>\n",
       "      <th>7</th>\n",
       "      <td>los anpletes</td>\n",
       "      <td>USA</td>\n",
       "      <td>4320</td>\n",
       "      <td>2750</td>\n",
       "    </tr>\n",
       "    <tr>\n",
       "      <th>6</th>\n",
       "      <td>boston</td>\n",
       "      <td>USA</td>\n",
       "      <td>4497</td>\n",
       "      <td>900</td>\n",
       "    </tr>\n",
       "    <tr>\n",
       "      <th>5</th>\n",
       "      <td>philadelphia</td>\n",
       "      <td>USA</td>\n",
       "      <td>4661</td>\n",
       "      <td>1100</td>\n",
       "    </tr>\n",
       "    <tr>\n",
       "      <th>4</th>\n",
       "      <td>aflanta</td>\n",
       "      <td>USA</td>\n",
       "      <td>5083</td>\n",
       "      <td>700</td>\n",
       "    </tr>\n",
       "    <tr>\n",
       "      <th>3</th>\n",
       "      <td>chicapo</td>\n",
       "      <td>USA</td>\n",
       "      <td>5498</td>\n",
       "      <td>1500</td>\n",
       "    </tr>\n",
       "    <tr>\n",
       "      <th>2</th>\n",
       "      <td>Yokyo / yokohana</td>\n",
       "      <td>Japan</td>\n",
       "      <td>6993</td>\n",
       "      <td>4750</td>\n",
       "    </tr>\n",
       "    <tr>\n",
       "      <th>1</th>\n",
       "      <td>New York Metro</td>\n",
       "      <td>USA</td>\n",
       "      <td>8683</td>\n",
       "      <td>2050</td>\n",
       "    </tr>\n",
       "  </tbody>\n",
       "</table>\n",
       "</div>"
      ],
      "text/plain": [
       "                         City       Country  Landarea  Density\n",
       "250                    Dublin       Ireland       365     2950\n",
       "249                   Glasgow            UK       368     3250\n",
       "248            leeds/bradford            UK       370     4050\n",
       "247                   spokane           USA       371      900\n",
       "246                    canton           USA       372      700\n",
       "245                    taipei        Taiwan       376    15200\n",
       "244                    recife        Brazil       376     8050\n",
       "243                gold coast     Australia       383     1100\n",
       "242            st.cathariness        Canada       389      750\n",
       "241                    porto       Portugal       389     2650\n",
       "240                    dalian         China       389     7100\n",
       "239    bonita springs /naples           USA       389      550\n",
       "238                   bethune        France       390      650\n",
       "237                  honolulu           USA       399     1800\n",
       "236                shreveport           USA       401      700\n",
       "235                    aachen       Germany       401     1450\n",
       "234                south bend           USA       404      700\n",
       "233                    durham           USA       406      700\n",
       "232                huntsuille           USA       407      500\n",
       "230                 stuttgart       Germany       411     3000\n",
       "231                  scranton           USA       411      950\n",
       "229                   sapporo         Japan       414     5000\n",
       "228                   chennai         India       414    14350\n",
       "227                   jackson           USA       417      700\n",
       "226                     tours        France       421      700\n",
       "225            port elizabeth  South Africa       427     2100\n",
       "224                lumumbashi         Congo       427     2800\n",
       "223              fayetteville           USA       433      650\n",
       "222              port st wcie           USA       438      600\n",
       "221                  winnipeg        Canada       446     1400\n",
       "220                       pau        France       450      400\n",
       "219                   donetsk       Ukraine       451     3100\n",
       "213                   concord           USA       453     1200\n",
       "214                     accra         Ghana       453     3300\n",
       "216                  tel aviv        Israel       453     5050\n",
       "217                   tianjin         China       453    10500\n",
       "218                    vienna       Austria       453     3400\n",
       "215                  shenyang         China       453     9250\n",
       "212                   wichita           USA       457      900\n",
       "211                  syracuse           USA       465      850\n",
       "210                    warsaw        Poland       465     4300\n",
       "209                  shenzhen         China       466    17150\n",
       "208                     ogden           USA       466      900\n",
       "207                  kinshasa         Congo       469    10650\n",
       "206                     lille        France       474     2200\n",
       "205                    nantes        France       476     1150\n",
       "199                   goiania        Brazil       479     3100\n",
       "200                  helsinki       Finland       479     2100\n",
       "201                  monterey        Mexico       479     6700\n",
       "203                 singapore     Singapore       479     8350\n",
       "204               vereeniging  South Africa       479     1250\n",
       "202                     quito       Ecuador       479     3150\n",
       "198                    mumbai         India       484    29650\n",
       "197                douai/lens        France       489     1050\n",
       "196               ottawa/hull        Canada       490     1700\n",
       "195                  campinas        Brazil       492     3550\n",
       "194                cape coral           USA       497      650\n",
       "193                     turin         Italy       500     2700\n",
       "192           nizhni novgorod        Russia       505     2950\n",
       "191              valenciennes        France       507      700\n",
       "190                   avignon        France       508      500\n",
       "189                  taichung        Taiwan       510     3900\n",
       "188          colorado springs           USA       511      900\n",
       "187               new orleans           USA       512     1950\n",
       "186                 lancaster           USA       517      650\n",
       "180                    bogota      Colombia       518    13500\n",
       "181           hochi minh city       Vietnam       518     9450\n",
       "185                 stockholm        Sweden       518     2700\n",
       "183                   munichi       Germany       518     3100\n",
       "184                 phnompenh      Cambodia       518     2900\n",
       "182                   karachi      Pakistan       518     8900\n",
       "179                    toledo           USA       524      950\n",
       "178                  tashkent    Uzbekistan       531     4150\n",
       "177                 rotterdam   Netherlands       531     2500\n",
       "176                   kolkata         India       531    23900\n",
       "175                 auck land   New Zealand       531     2000\n",
       "174               little rock           USA       532      700\n",
       "173                 bangalore         India       534    10100\n",
       "172                 asheville           USA       536      400\n",
       "171                harrisburg           USA       540      650\n",
       "167             baku/sumqaxit    Azerbaijan       544     3850\n",
       "169                  katowice        Poland       544     4050\n",
       "170                    kuwait        Kuwait       544     2950\n",
       "168                   fukuoka         Japan       544     3950\n",
       "166                    mobile           USA       546      600\n",
       "165                   hickory           USA       546      350\n",
       "164                manchester            UK       558     4000\n",
       "163                 pensacola           USA       568      550\n",
       "162                   el paso           USA       568     1200\n",
       "161                  palm bay           USA       569      700\n",
       "160               albuquerque           USA       580     1050\n",
       "154                   brasile        Brazil       583     2800\n",
       "156                 hyderabad         India       583     9100\n",
       "153                    ankara        Turkey       583     5300\n",
       "155                 fortaleza        Brazil       583     4550\n",
       "158                    naples         Italy       583     4100\n",
       "159              porto alegre        Brazil       583     4800\n",
       "157                  khartoum         Sudan       583     6850\n",
       "152                     omaha           USA       586     1050\n",
       "151                greenville           USA       587      500\n",
       "150                youngstown           USA       591      700\n",
       "149                      lima          Peru       596    11750\n",
       "148               guadalajara        Mexico       596     5900\n",
       "147                   baghdad          Iraq       596     9250\n",
       "146                   antwerp       Belgium       596     1550\n",
       "145            salt lake city           USA       598     1500\n",
       "144                charleston           USA       598      700\n",
       "143                     flint           USA       599      600\n",
       "142                birmingham            UK       600     3800\n",
       "141                   augusta           USA       600      550\n",
       "140                 aguadilla   Puerto Rico       620      500\n",
       "138                    lahore      Pakistan       622     8200\n",
       "139             st petersburg        Russia       622     8550\n",
       "137                worecester           USA       648      650\n",
       "136                  santiago         Chile       648     8400\n",
       "135                  curitiba        Brazil       648     3850\n",
       "134                    beirut       lebanon       648     2800\n",
       "133             winston/salem           USA       651      450\n",
       "132              grand rapids           USA       667      800\n",
       "131                    quebec        canada       669      950\n",
       "130                  pretoria  South Africa       673     2750\n",
       "129                    arabia  Saudi Arabia       673     2250\n",
       "128                  san jose           USA       674     2300\n",
       "127                     tulsa           USA       677      800\n",
       "126                    athens        Greece       684     5400\n",
       "125                    tehran          iran       686    10550\n",
       "123                 cape town  south africa       686     3950\n",
       "124             pough keepsie           USA       686      500\n",
       "122                  columbia           USA       697      600\n",
       "121       sarasota//bradenton           USA       700      800\n",
       "119                  budapest        hungry       702     2550\n",
       "120                   calgary        canada       702     1250\n",
       "118                    harare      zimbabwe       712     2450\n",
       "117                     dubai           UAE       712     2650\n",
       "116                  brussels       belgium       712     2200\n",
       "115                    toulon        france       713      750\n",
       "114                      nice        france       721     1250\n",
       "113               baton rouge           USA       727      650\n",
       "112                  adelaide     australia       729     1350\n",
       "111                    albany           USA       736      750\n",
       "110                     lagos       nigeria       738    18150\n",
       "109                 new hawen           USA       739      700\n",
       "107           barnstable town           USA       741      350\n",
       "108                 las vegas           USA       741     1750\n",
       "106                  shanghai         china       746    13400\n",
       "105                   beijing         china       748    11500\n",
       "104      allen town/bethlehem           USA       750      750\n",
       "103               chattanooga           USA       751      450\n",
       "102                    tucson           USA       755      950\n",
       "101                 rochester           USA       764      900\n",
       "100                    jeddah  saudi arabia       777     3550\n",
       "99                  abu dhabi           UAE       777      700\n",
       "98                      akron           USA       797      700\n",
       "97                springfield           USA       800      700\n",
       "96                 barcelona          spain       803     4850\n",
       "95                  tou louse        france       808      950\n",
       "94                   mc allen           USA       813      650\n",
       "92               cologne/bonn       germany       816     2400\n",
       "93                 copenhagen       denmark       816     1850\n",
       "91                     austin           USA       824     1100\n",
       "90                    raleigh           USA       828      650\n",
       "89                    hamburg       Germany       829     2300\n",
       "88                     durban  South Africa       829     3500\n",
       "87              oklahoma city           USA       835      900\n",
       "86                     dayton           USA       838      850\n",
       "85                       rome         Italy       842     2950\n",
       "84                   edmonton        Canada       850      900\n",
       "83             belo horizonte        Brazil       868     4600\n",
       "82                  knoxville           USA       879      500\n",
       "81                     lisbon      Portugal       881     2550\n",
       "80                     madrid         Spain       945     5200\n",
       "79                    buffalo           USA       950     1050\n",
       "78                       lyon        France       954     1400\n",
       "77                sa cramento           USA       956     1450\n",
       "76                      perth     Australia       964     1200\n",
       "75                  frankfurt       Germany       984     2300\n",
       "74                     berlin       Germany       984     3750\n",
       "73                    bangkok      Thailand      1010     6450\n",
       "72                 louisville           USA      1013      850\n",
       "71                 birmingham           USA      1016      650\n",
       "70                   columbus           USA      1030     1100\n",
       "69                    memphis           USA      1036      950\n",
       "68             seoul /incheon   South Korea      1049    16700\n",
       "67                san antonio           USA      1056     1250\n",
       "66                   bordeaux        France      1057      700\n",
       "65               jacksonville           USA      1063      850\n",
       "64                     riyadh  Saudi Arabia      1101     3650\n",
       "63                  nashville           USA      1116      650\n",
       "62                  vancouver        Canada      1120     1650\n",
       "61                  charlotte           USA      1126      650\n",
       "60                   richmond           USA      1131      700\n",
       "59   riverside/san bernardino           USA      1136     1350\n",
       "58                   istanbul        Turkey      1166     7700\n",
       "57                    orlando           USA      1174     1000\n",
       "56                  marseille        France      1204     1100\n",
       "55       bridgeport//stamford           USA      1205      750\n",
       "54                   hartford           USA      1216      700\n",
       "53                   portland           USA      1228     1300\n",
       "52                  milwaukee           USA      1261     1050\n",
       "51                     denver           USA      1292     1550\n",
       "50                      delhi         India      1295    11050\n",
       "49                      cairo         Egypt      1295     9400\n",
       "48                 providence           USA      1304      900\n",
       "47                    jakarta     Indonesia      1360    10500\n",
       "46             virginia beach           USA      1364     1000\n",
       "45     san francisco//oakland           USA      1365     2350\n",
       "44                     manila   Philippines      1399    10550\n",
       "43              indiana polis           USA      1432      850\n",
       "42                 kanas city           USA      1514      900\n",
       "41                      milan         Italy      1554     2750\n",
       "40             rio de janeiro        Brazil      1580     6850\n",
       "39                   brisbane     Australia      1603      950\n",
       "38               kuala lumpur      Malaysia      1606     2750\n",
       "37                     london            UK      1623     5100\n",
       "36                    toronto        Canada      1655     2650\n",
       "35                  cleveland           USA      1675     1050\n",
       "34                     sydney     Australia      1687     2100\n",
       "33                   montreal        Canada      1740     1850\n",
       "32                 cincinnati           USA      1740      850\n",
       "31                  baltimore           USA      1768     1150\n",
       "30                  sao paulo        Brazil      1968     9000\n",
       "29                  san diego           USA      2026     1300\n",
       "28               phoenix/mesa           USA      2069     1400\n",
       "27                mexico city        Mexico      2072     8400\n",
       "26       tampa//st.petersburg           USA      2078     1000\n",
       "25                  melbourne     Australia      2080     1500\n",
       "24                   st.lousi           USA      2147      950\n",
       "23                     moscow        Russia      2150     4900\n",
       "22                 pittsburgh           USA      2208      800\n",
       "21               bvenos aires     Argentina      2266     4950\n",
       "20                   san juan   Puerto Rico      2309      950\n",
       "19        minneapolis/st.paul           USA      2316     1050\n",
       "18    johannesburg/east round  South Africa      2396     2500\n",
       "17                    seattle           USA      2470     1100\n",
       "15           essen/dusseldorf       Germany      2642     2800\n",
       "16           osaka/kobe/kyoto         Japan      2664     6400\n",
       "14                      paris        France      2723     3550\n",
       "13                     nagoya         Japan      2875     3150\n",
       "12                      miami           USA      2891     1700\n",
       "11                 washington           USA      2996     1300\n",
       "10                    detroit           USA      3267     1200\n",
       "9                     houston           USA      3355     1150\n",
       "8           Dallas/fort worth           USA      3644     1150\n",
       "7                los anpletes           USA      4320     2750\n",
       "6                     boston            USA      4497      900\n",
       "5                philadelphia           USA      4661     1100\n",
       "4                     aflanta           USA      5083      700\n",
       "3                     chicapo           USA      5498     1500\n",
       "2            Yokyo / yokohana         Japan      6993     4750\n",
       "1              New York Metro           USA      8683     2050"
      ]
     },
     "execution_count": 42,
     "metadata": {},
     "output_type": "execute_result"
    }
   ],
   "source": [
    "df2"
   ]
  },
  {
   "cell_type": "code",
   "execution_count": 43,
   "id": "5b95efd0",
   "metadata": {},
   "outputs": [],
   "source": [
    "#df2.to_csv(\"USA1.csv\")"
   ]
  },
  {
   "cell_type": "code",
   "execution_count": 44,
   "id": "61bd1462",
   "metadata": {},
   "outputs": [
    {
     "data": {
      "text/plain": [
       "250    365\n",
       "249    368\n",
       "248    370\n",
       "247    371\n",
       "246    372\n",
       "Name: Landarea, dtype: int32"
      ]
     },
     "execution_count": 44,
     "metadata": {},
     "output_type": "execute_result"
    }
   ],
   "source": [
    "Land=df2.iloc[:,2]\n",
    "Land.head()"
   ]
  },
  {
   "cell_type": "code",
   "execution_count": 45,
   "id": "57bea5df",
   "metadata": {},
   "outputs": [
    {
     "data": {
      "text/plain": [
       "array([ 365,  368,  370,  371,  372,  376,  376,  383,  389,  389,  389,\n",
       "        389,  390,  399,  401,  401,  404,  406,  407,  411,  411,  414,\n",
       "        414,  417,  421,  427,  427,  433,  438,  446,  450,  451,  453,\n",
       "        453,  453,  453,  453,  453,  457,  465,  465,  466,  466,  469,\n",
       "        474,  476,  479,  479,  479,  479,  479,  479,  484,  489,  490,\n",
       "        492,  497,  500,  505,  507,  508,  510,  511,  512,  517,  518,\n",
       "        518,  518,  518,  518,  518,  524,  531,  531,  531,  531,  532,\n",
       "        534,  536,  540,  544,  544,  544,  544,  546,  546,  558,  568,\n",
       "        568,  569,  580,  583,  583,  583,  583,  583,  583,  583,  586,\n",
       "        587,  591,  596,  596,  596,  596,  598,  598,  599,  600,  600,\n",
       "        620,  622,  622,  648,  648,  648,  648,  651,  667,  669,  673,\n",
       "        673,  674,  677,  684,  686,  686,  686,  697,  700,  702,  702,\n",
       "        712,  712,  712,  713,  721,  727,  729,  736,  738,  739,  741,\n",
       "        741,  746,  748,  750,  751,  755,  764,  777,  777,  797,  800,\n",
       "        803,  808,  813,  816,  816,  824,  828,  829,  829,  835,  838,\n",
       "        842,  850,  868,  879,  881,  945,  950,  954,  956,  964,  984,\n",
       "        984, 1010, 1013, 1016, 1030, 1036, 1049, 1056, 1057, 1063, 1101,\n",
       "       1116, 1120, 1126, 1131, 1136, 1166, 1174, 1204, 1205, 1216, 1228,\n",
       "       1261, 1292, 1295, 1295, 1304, 1360, 1364, 1365, 1399, 1432, 1514,\n",
       "       1554, 1580, 1603, 1606, 1623, 1655, 1675, 1687, 1740, 1740, 1768,\n",
       "       1968, 2026, 2069, 2072, 2078, 2080, 2147, 2150, 2208, 2266, 2309,\n",
       "       2316, 2396, 2470, 2642, 2664, 2723, 2875, 2891, 2996, 3267, 3355,\n",
       "       3644, 4320, 4497, 4661, 5083, 5498, 6993, 8683])"
      ]
     },
     "execution_count": 45,
     "metadata": {},
     "output_type": "execute_result"
    }
   ],
   "source": [
    "x=Land.values\n",
    "x"
   ]
  },
  {
   "cell_type": "code",
   "execution_count": 46,
   "id": "6cefe4ae",
   "metadata": {},
   "outputs": [
    {
     "data": {
      "text/plain": [
       "250    2950\n",
       "249    3250\n",
       "248    4050\n",
       "247     900\n",
       "246     700\n",
       "Name: Density, dtype: int32"
      ]
     },
     "execution_count": 46,
     "metadata": {},
     "output_type": "execute_result"
    }
   ],
   "source": [
    "Density=df2.iloc[:,3]\n",
    "Density.head()"
   ]
  },
  {
   "cell_type": "code",
   "execution_count": 47,
   "id": "cfad1540",
   "metadata": {},
   "outputs": [
    {
     "data": {
      "text/plain": [
       "array([ 2950,  3250,  4050,   900,   700, 15200,  8050,  1100,   750,\n",
       "        2650,  7100,   550,   650,  1800,   700,  1450,   700,   700,\n",
       "         500,  3000,   950,  5000, 14350,   700,   700,  2100,  2800,\n",
       "         650,   600,  1400,   400,  3100,  1200,  3300,  5050, 10500,\n",
       "        3400,  9250,   900,   850,  4300, 17150,   900, 10650,  2200,\n",
       "        1150,  3100,  2100,  6700,  8350,  1250,  3150, 29650,  1050,\n",
       "        1700,  3550,   650,  2700,  2950,   700,   500,  3900,   900,\n",
       "        1950,   650, 13500,  9450,  2700,  3100,  2900,  8900,   950,\n",
       "        4150,  2500, 23900,  2000,   700, 10100,   400,   650,  3850,\n",
       "        4050,  2950,  3950,   600,   350,  4000,   550,  1200,   700,\n",
       "        1050,  2800,  9100,  5300,  4550,  4100,  4800,  6850,  1050,\n",
       "         500,   700, 11750,  5900,  9250,  1550,  1500,   700,   600,\n",
       "        3800,   550,   500,  8200,  8550,   650,  8400,  3850,  2800,\n",
       "         450,   800,   950,  2750,  2250,  2300,   800,  5400, 10550,\n",
       "        3950,   500,   600,   800,  2550,  1250,  2450,  2650,  2200,\n",
       "         750,  1250,   650,  1350,   750, 18150,   700,   350,  1750,\n",
       "       13400, 11500,   750,   450,   950,   900,  3550,   700,   700,\n",
       "         700,  4850,   950,   650,  2400,  1850,  1100,   650,  2300,\n",
       "        3500,   900,   850,  2950,   900,  4600,   500,  2550,  5200,\n",
       "        1050,  1400,  1450,  1200,  2300,  3750,  6450,   850,   650,\n",
       "        1100,   950, 16700,  1250,   700,   850,  3650,   650,  1650,\n",
       "         650,   700,  1350,  7700,  1000,  1100,   750,   700,  1300,\n",
       "        1050,  1550, 11050,  9400,   900, 10500,  1000,  2350, 10550,\n",
       "         850,   900,  2750,  6850,   950,  2750,  5100,  2650,  1050,\n",
       "        2100,  1850,   850,  1150,  9000,  1300,  1400,  8400,  1000,\n",
       "        1500,   950,  4900,   800,  4950,   950,  1050,  2500,  1100,\n",
       "        2800,  6400,  3550,  3150,  1700,  1300,  1200,  1150,  1150,\n",
       "        2750,   900,  1100,   700,  1500,  4750,  2050])"
      ]
     },
     "execution_count": 47,
     "metadata": {},
     "output_type": "execute_result"
    }
   ],
   "source": [
    "y=Density.values\n",
    "y\n"
   ]
  },
  {
   "cell_type": "code",
   "execution_count": 48,
   "id": "357c9be7",
   "metadata": {},
   "outputs": [
    {
     "data": {
      "image/png": "[encoded data removed]",
      "text/plain": [
       "<Figure size 432x288 with 1 Axes>"
      ]
     },
     "metadata": {
      "needs_background": "light"
     },
     "output_type": "display_data"
    }
   ],
   "source": [
    "import matplotlib.pyplot as plt\n",
    "plt.scatter(x,y,label=\" \",color=\"y\",s=100)\n",
    "plt.xlabel(\"LandArea\")\n",
    "plt.ylabel(\"Density\")\n",
    "plt.title(\"LandArea vs Density\")\n",
    "plt.legend(\"c\")\n",
    "plt.show()"
   ]
  },
  {
   "cell_type": "markdown",
   "id": "ad198fbb",
   "metadata": {},
   "source": [
    "# Landarea  vs Density (250 to 199)"
   ]
  },
  {
   "cell_type": "markdown",
   "id": "082f5045",
   "metadata": {},
   "source": [
    "# Missing Value->202 But Present Below Table"
   ]
  },
  {
   "cell_type": "markdown",
   "id": "d872b915",
   "metadata": {},
   "source": [
    "# Missing Alignment 230,231 __213,214,216,217__215__199,200,201,203"
   ]
  },
  {
   "cell_type": "code",
   "execution_count": 49,
   "id": "7e467ae9",
   "metadata": {},
   "outputs": [
    {
     "data": {
      "text/html": [
       "<div>\n",
       "<style scoped>\n",
       "    .dataframe tbody tr th:only-of-type {\n",
       "        vertical-align: middle;\n",
       "    }\n",
       "\n",
       "    .dataframe tbody tr th {\n",
       "        vertical-align: top;\n",
       "    }\n",
       "\n",
       "    .dataframe thead th {\n",
       "        text-align: right;\n",
       "    }\n",
       "</style>\n",
       "<table border=\"1\" class=\"dataframe\">\n",
       "  <thead>\n",
       "    <tr style=\"text-align: right;\">\n",
       "      <th></th>\n",
       "      <th>City</th>\n",
       "      <th>Country</th>\n",
       "      <th>Landarea</th>\n",
       "      <th>Density</th>\n",
       "    </tr>\n",
       "  </thead>\n",
       "  <tbody>\n",
       "    <tr>\n",
       "      <th>250</th>\n",
       "      <td>Dublin</td>\n",
       "      <td>Ireland</td>\n",
       "      <td>365</td>\n",
       "      <td>2950</td>\n",
       "    </tr>\n",
       "    <tr>\n",
       "      <th>249</th>\n",
       "      <td>Glasgow</td>\n",
       "      <td>UK</td>\n",
       "      <td>368</td>\n",
       "      <td>3250</td>\n",
       "    </tr>\n",
       "    <tr>\n",
       "      <th>248</th>\n",
       "      <td>leeds/bradford</td>\n",
       "      <td>UK</td>\n",
       "      <td>370</td>\n",
       "      <td>4050</td>\n",
       "    </tr>\n",
       "    <tr>\n",
       "      <th>247</th>\n",
       "      <td>spokane</td>\n",
       "      <td>USA</td>\n",
       "      <td>371</td>\n",
       "      <td>900</td>\n",
       "    </tr>\n",
       "    <tr>\n",
       "      <th>246</th>\n",
       "      <td>canton</td>\n",
       "      <td>USA</td>\n",
       "      <td>372</td>\n",
       "      <td>700</td>\n",
       "    </tr>\n",
       "    <tr>\n",
       "      <th>245</th>\n",
       "      <td>taipei</td>\n",
       "      <td>Taiwan</td>\n",
       "      <td>376</td>\n",
       "      <td>15200</td>\n",
       "    </tr>\n",
       "    <tr>\n",
       "      <th>244</th>\n",
       "      <td>recife</td>\n",
       "      <td>Brazil</td>\n",
       "      <td>376</td>\n",
       "      <td>8050</td>\n",
       "    </tr>\n",
       "    <tr>\n",
       "      <th>243</th>\n",
       "      <td>gold coast</td>\n",
       "      <td>Australia</td>\n",
       "      <td>383</td>\n",
       "      <td>1100</td>\n",
       "    </tr>\n",
       "    <tr>\n",
       "      <th>242</th>\n",
       "      <td>st.cathariness</td>\n",
       "      <td>Canada</td>\n",
       "      <td>389</td>\n",
       "      <td>750</td>\n",
       "    </tr>\n",
       "    <tr>\n",
       "      <th>241</th>\n",
       "      <td>porto</td>\n",
       "      <td>Portugal</td>\n",
       "      <td>389</td>\n",
       "      <td>2650</td>\n",
       "    </tr>\n",
       "    <tr>\n",
       "      <th>240</th>\n",
       "      <td>dalian</td>\n",
       "      <td>China</td>\n",
       "      <td>389</td>\n",
       "      <td>7100</td>\n",
       "    </tr>\n",
       "    <tr>\n",
       "      <th>239</th>\n",
       "      <td>bonita springs /naples</td>\n",
       "      <td>USA</td>\n",
       "      <td>389</td>\n",
       "      <td>550</td>\n",
       "    </tr>\n",
       "    <tr>\n",
       "      <th>238</th>\n",
       "      <td>bethune</td>\n",
       "      <td>France</td>\n",
       "      <td>390</td>\n",
       "      <td>650</td>\n",
       "    </tr>\n",
       "    <tr>\n",
       "      <th>237</th>\n",
       "      <td>honolulu</td>\n",
       "      <td>USA</td>\n",
       "      <td>399</td>\n",
       "      <td>1800</td>\n",
       "    </tr>\n",
       "    <tr>\n",
       "      <th>236</th>\n",
       "      <td>shreveport</td>\n",
       "      <td>USA</td>\n",
       "      <td>401</td>\n",
       "      <td>700</td>\n",
       "    </tr>\n",
       "    <tr>\n",
       "      <th>235</th>\n",
       "      <td>aachen</td>\n",
       "      <td>Germany</td>\n",
       "      <td>401</td>\n",
       "      <td>1450</td>\n",
       "    </tr>\n",
       "    <tr>\n",
       "      <th>234</th>\n",
       "      <td>south bend</td>\n",
       "      <td>USA</td>\n",
       "      <td>404</td>\n",
       "      <td>700</td>\n",
       "    </tr>\n",
       "    <tr>\n",
       "      <th>233</th>\n",
       "      <td>durham</td>\n",
       "      <td>USA</td>\n",
       "      <td>406</td>\n",
       "      <td>700</td>\n",
       "    </tr>\n",
       "    <tr>\n",
       "      <th>232</th>\n",
       "      <td>huntsuille</td>\n",
       "      <td>USA</td>\n",
       "      <td>407</td>\n",
       "      <td>500</td>\n",
       "    </tr>\n",
       "    <tr>\n",
       "      <th>230</th>\n",
       "      <td>stuttgart</td>\n",
       "      <td>Germany</td>\n",
       "      <td>411</td>\n",
       "      <td>3000</td>\n",
       "    </tr>\n",
       "    <tr>\n",
       "      <th>231</th>\n",
       "      <td>scranton</td>\n",
       "      <td>USA</td>\n",
       "      <td>411</td>\n",
       "      <td>950</td>\n",
       "    </tr>\n",
       "    <tr>\n",
       "      <th>229</th>\n",
       "      <td>sapporo</td>\n",
       "      <td>Japan</td>\n",
       "      <td>414</td>\n",
       "      <td>5000</td>\n",
       "    </tr>\n",
       "    <tr>\n",
       "      <th>228</th>\n",
       "      <td>chennai</td>\n",
       "      <td>India</td>\n",
       "      <td>414</td>\n",
       "      <td>14350</td>\n",
       "    </tr>\n",
       "    <tr>\n",
       "      <th>227</th>\n",
       "      <td>jackson</td>\n",
       "      <td>USA</td>\n",
       "      <td>417</td>\n",
       "      <td>700</td>\n",
       "    </tr>\n",
       "    <tr>\n",
       "      <th>226</th>\n",
       "      <td>tours</td>\n",
       "      <td>France</td>\n",
       "      <td>421</td>\n",
       "      <td>700</td>\n",
       "    </tr>\n",
       "    <tr>\n",
       "      <th>225</th>\n",
       "      <td>port elizabeth</td>\n",
       "      <td>South Africa</td>\n",
       "      <td>427</td>\n",
       "      <td>2100</td>\n",
       "    </tr>\n",
       "    <tr>\n",
       "      <th>224</th>\n",
       "      <td>lumumbashi</td>\n",
       "      <td>Congo</td>\n",
       "      <td>427</td>\n",
       "      <td>2800</td>\n",
       "    </tr>\n",
       "    <tr>\n",
       "      <th>223</th>\n",
       "      <td>fayetteville</td>\n",
       "      <td>USA</td>\n",
       "      <td>433</td>\n",
       "      <td>650</td>\n",
       "    </tr>\n",
       "    <tr>\n",
       "      <th>222</th>\n",
       "      <td>port st wcie</td>\n",
       "      <td>USA</td>\n",
       "      <td>438</td>\n",
       "      <td>600</td>\n",
       "    </tr>\n",
       "    <tr>\n",
       "      <th>221</th>\n",
       "      <td>winnipeg</td>\n",
       "      <td>Canada</td>\n",
       "      <td>446</td>\n",
       "      <td>1400</td>\n",
       "    </tr>\n",
       "    <tr>\n",
       "      <th>220</th>\n",
       "      <td>pau</td>\n",
       "      <td>France</td>\n",
       "      <td>450</td>\n",
       "      <td>400</td>\n",
       "    </tr>\n",
       "    <tr>\n",
       "      <th>219</th>\n",
       "      <td>donetsk</td>\n",
       "      <td>Ukraine</td>\n",
       "      <td>451</td>\n",
       "      <td>3100</td>\n",
       "    </tr>\n",
       "    <tr>\n",
       "      <th>213</th>\n",
       "      <td>concord</td>\n",
       "      <td>USA</td>\n",
       "      <td>453</td>\n",
       "      <td>1200</td>\n",
       "    </tr>\n",
       "    <tr>\n",
       "      <th>214</th>\n",
       "      <td>accra</td>\n",
       "      <td>Ghana</td>\n",
       "      <td>453</td>\n",
       "      <td>3300</td>\n",
       "    </tr>\n",
       "    <tr>\n",
       "      <th>216</th>\n",
       "      <td>tel aviv</td>\n",
       "      <td>Israel</td>\n",
       "      <td>453</td>\n",
       "      <td>5050</td>\n",
       "    </tr>\n",
       "    <tr>\n",
       "      <th>217</th>\n",
       "      <td>tianjin</td>\n",
       "      <td>China</td>\n",
       "      <td>453</td>\n",
       "      <td>10500</td>\n",
       "    </tr>\n",
       "    <tr>\n",
       "      <th>218</th>\n",
       "      <td>vienna</td>\n",
       "      <td>Austria</td>\n",
       "      <td>453</td>\n",
       "      <td>3400</td>\n",
       "    </tr>\n",
       "    <tr>\n",
       "      <th>215</th>\n",
       "      <td>shenyang</td>\n",
       "      <td>China</td>\n",
       "      <td>453</td>\n",
       "      <td>9250</td>\n",
       "    </tr>\n",
       "    <tr>\n",
       "      <th>212</th>\n",
       "      <td>wichita</td>\n",
       "      <td>USA</td>\n",
       "      <td>457</td>\n",
       "      <td>900</td>\n",
       "    </tr>\n",
       "    <tr>\n",
       "      <th>211</th>\n",
       "      <td>syracuse</td>\n",
       "      <td>USA</td>\n",
       "      <td>465</td>\n",
       "      <td>850</td>\n",
       "    </tr>\n",
       "    <tr>\n",
       "      <th>210</th>\n",
       "      <td>warsaw</td>\n",
       "      <td>Poland</td>\n",
       "      <td>465</td>\n",
       "      <td>4300</td>\n",
       "    </tr>\n",
       "    <tr>\n",
       "      <th>209</th>\n",
       "      <td>shenzhen</td>\n",
       "      <td>China</td>\n",
       "      <td>466</td>\n",
       "      <td>17150</td>\n",
       "    </tr>\n",
       "    <tr>\n",
       "      <th>208</th>\n",
       "      <td>ogden</td>\n",
       "      <td>USA</td>\n",
       "      <td>466</td>\n",
       "      <td>900</td>\n",
       "    </tr>\n",
       "    <tr>\n",
       "      <th>207</th>\n",
       "      <td>kinshasa</td>\n",
       "      <td>Congo</td>\n",
       "      <td>469</td>\n",
       "      <td>10650</td>\n",
       "    </tr>\n",
       "    <tr>\n",
       "      <th>206</th>\n",
       "      <td>lille</td>\n",
       "      <td>France</td>\n",
       "      <td>474</td>\n",
       "      <td>2200</td>\n",
       "    </tr>\n",
       "    <tr>\n",
       "      <th>205</th>\n",
       "      <td>nantes</td>\n",
       "      <td>France</td>\n",
       "      <td>476</td>\n",
       "      <td>1150</td>\n",
       "    </tr>\n",
       "    <tr>\n",
       "      <th>199</th>\n",
       "      <td>goiania</td>\n",
       "      <td>Brazil</td>\n",
       "      <td>479</td>\n",
       "      <td>3100</td>\n",
       "    </tr>\n",
       "    <tr>\n",
       "      <th>200</th>\n",
       "      <td>helsinki</td>\n",
       "      <td>Finland</td>\n",
       "      <td>479</td>\n",
       "      <td>2100</td>\n",
       "    </tr>\n",
       "    <tr>\n",
       "      <th>201</th>\n",
       "      <td>monterey</td>\n",
       "      <td>Mexico</td>\n",
       "      <td>479</td>\n",
       "      <td>6700</td>\n",
       "    </tr>\n",
       "    <tr>\n",
       "      <th>203</th>\n",
       "      <td>singapore</td>\n",
       "      <td>Singapore</td>\n",
       "      <td>479</td>\n",
       "      <td>8350</td>\n",
       "    </tr>\n",
       "  </tbody>\n",
       "</table>\n",
       "</div>"
      ],
      "text/plain": [
       "                       City       Country  Landarea  Density\n",
       "250                  Dublin       Ireland       365     2950\n",
       "249                 Glasgow            UK       368     3250\n",
       "248          leeds/bradford            UK       370     4050\n",
       "247                 spokane           USA       371      900\n",
       "246                  canton           USA       372      700\n",
       "245                  taipei        Taiwan       376    15200\n",
       "244                  recife        Brazil       376     8050\n",
       "243              gold coast     Australia       383     1100\n",
       "242          st.cathariness        Canada       389      750\n",
       "241                  porto       Portugal       389     2650\n",
       "240                  dalian         China       389     7100\n",
       "239  bonita springs /naples           USA       389      550\n",
       "238                 bethune        France       390      650\n",
       "237                honolulu           USA       399     1800\n",
       "236              shreveport           USA       401      700\n",
       "235                  aachen       Germany       401     1450\n",
       "234              south bend           USA       404      700\n",
       "233                  durham           USA       406      700\n",
       "232              huntsuille           USA       407      500\n",
       "230               stuttgart       Germany       411     3000\n",
       "231                scranton           USA       411      950\n",
       "229                 sapporo         Japan       414     5000\n",
       "228                 chennai         India       414    14350\n",
       "227                 jackson           USA       417      700\n",
       "226                   tours        France       421      700\n",
       "225          port elizabeth  South Africa       427     2100\n",
       "224              lumumbashi         Congo       427     2800\n",
       "223            fayetteville           USA       433      650\n",
       "222            port st wcie           USA       438      600\n",
       "221                winnipeg        Canada       446     1400\n",
       "220                     pau        France       450      400\n",
       "219                 donetsk       Ukraine       451     3100\n",
       "213                 concord           USA       453     1200\n",
       "214                   accra         Ghana       453     3300\n",
       "216                tel aviv        Israel       453     5050\n",
       "217                 tianjin         China       453    10500\n",
       "218                  vienna       Austria       453     3400\n",
       "215                shenyang         China       453     9250\n",
       "212                 wichita           USA       457      900\n",
       "211                syracuse           USA       465      850\n",
       "210                  warsaw        Poland       465     4300\n",
       "209                shenzhen         China       466    17150\n",
       "208                   ogden           USA       466      900\n",
       "207                kinshasa         Congo       469    10650\n",
       "206                   lille        France       474     2200\n",
       "205                  nantes        France       476     1150\n",
       "199                 goiania        Brazil       479     3100\n",
       "200                helsinki       Finland       479     2100\n",
       "201                monterey        Mexico       479     6700\n",
       "203               singapore     Singapore       479     8350"
      ]
     },
     "execution_count": 49,
     "metadata": {},
     "output_type": "execute_result"
    }
   ],
   "source": [
    "df3=df2.iloc[0:50,:]\n",
    "df3"
   ]
  },
  {
   "cell_type": "code",
   "execution_count": 50,
   "id": "672a2460",
   "metadata": {},
   "outputs": [
    {
     "data": {
      "text/plain": [
       "250    365\n",
       "249    368\n",
       "248    370\n",
       "247    371\n",
       "246    372\n",
       "Name: Landarea, dtype: int32"
      ]
     },
     "execution_count": 50,
     "metadata": {},
     "output_type": "execute_result"
    }
   ],
   "source": [
    "Land=df3.iloc[:,2]\n",
    "Land.head()"
   ]
  },
  {
   "cell_type": "code",
   "execution_count": 51,
   "id": "4981a514",
   "metadata": {},
   "outputs": [
    {
     "data": {
      "text/plain": [
       "array([365, 368, 370, 371, 372, 376, 376, 383, 389, 389, 389, 389, 390,\n",
       "       399, 401, 401, 404, 406, 407, 411, 411, 414, 414, 417, 421, 427,\n",
       "       427, 433, 438, 446, 450, 451, 453, 453, 453, 453, 453, 453, 457,\n",
       "       465, 465, 466, 466, 469, 474, 476, 479, 479, 479, 479])"
      ]
     },
     "execution_count": 51,
     "metadata": {},
     "output_type": "execute_result"
    }
   ],
   "source": [
    "x=Land.values\n",
    "x"
   ]
  },
  {
   "cell_type": "code",
   "execution_count": 52,
   "id": "4bef942e",
   "metadata": {},
   "outputs": [
    {
     "data": {
      "text/plain": [
       "250    2950\n",
       "249    3250\n",
       "248    4050\n",
       "247     900\n",
       "246     700\n",
       "Name: Density, dtype: int32"
      ]
     },
     "execution_count": 52,
     "metadata": {},
     "output_type": "execute_result"
    }
   ],
   "source": [
    "Density=df3.iloc[:,3]\n",
    "Density.head()"
   ]
  },
  {
   "cell_type": "code",
   "execution_count": 53,
   "id": "56276662",
   "metadata": {},
   "outputs": [
    {
     "data": {
      "text/plain": [
       "array([ 2950,  3250,  4050,   900,   700, 15200,  8050,  1100,   750,\n",
       "        2650,  7100,   550,   650,  1800,   700,  1450,   700,   700,\n",
       "         500,  3000,   950,  5000, 14350,   700,   700,  2100,  2800,\n",
       "         650,   600,  1400,   400,  3100,  1200,  3300,  5050, 10500,\n",
       "        3400,  9250,   900,   850,  4300, 17150,   900, 10650,  2200,\n",
       "        1150,  3100,  2100,  6700,  8350])"
      ]
     },
     "execution_count": 53,
     "metadata": {},
     "output_type": "execute_result"
    }
   ],
   "source": [
    "y=Density.values\n",
    "y\n"
   ]
  },
  {
   "cell_type": "code",
   "execution_count": 54,
   "id": "18228049",
   "metadata": {},
   "outputs": [
    {
     "data": {
      "image/png": "[encoded data removed]",
      "text/plain": [
       "<Figure size 432x288 with 1 Axes>"
      ]
     },
     "metadata": {
      "needs_background": "light"
     },
     "output_type": "display_data"
    }
   ],
   "source": [
    "import matplotlib.pyplot as plt\n",
    "plt.scatter(x,y,label=\" \",color=\"y\",s=100)\n",
    "plt.xlabel(\"LandArea\")\n",
    "plt.ylabel(\"Density\")\n",
    "plt.title(\"LandArea vs Density\")\n",
    "#plt.legend(\"c\")\n",
    "plt.show()"
   ]
  },
  {
   "cell_type": "markdown",
   "id": "535a4e8e",
   "metadata": {},
   "source": [
    "# landarea vs Density (202 to 151) \n",
    "\n"
   ]
  },
  {
   "cell_type": "markdown",
   "id": "a63e46e1",
   "metadata": {},
   "source": [
    "# 203,201, 200,199 is missing in this table but exist in above table"
   ]
  },
  {
   "cell_type": "markdown",
   "id": "6a917065",
   "metadata": {},
   "source": [
    "# Missing Alingment  204,202__181,185,183,184,182__169,170,168__156,153,155,158,159,157  "
   ]
  },
  {
   "cell_type": "code",
   "execution_count": 55,
   "id": "5b60a4b9",
   "metadata": {},
   "outputs": [
    {
     "data": {
      "text/html": [
       "<div>\n",
       "<style scoped>\n",
       "    .dataframe tbody tr th:only-of-type {\n",
       "        vertical-align: middle;\n",
       "    }\n",
       "\n",
       "    .dataframe tbody tr th {\n",
       "        vertical-align: top;\n",
       "    }\n",
       "\n",
       "    .dataframe thead th {\n",
       "        text-align: right;\n",
       "    }\n",
       "</style>\n",
       "<table border=\"1\" class=\"dataframe\">\n",
       "  <thead>\n",
       "    <tr style=\"text-align: right;\">\n",
       "      <th></th>\n",
       "      <th>City</th>\n",
       "      <th>Country</th>\n",
       "      <th>Landarea</th>\n",
       "      <th>Density</th>\n",
       "    </tr>\n",
       "  </thead>\n",
       "  <tbody>\n",
       "    <tr>\n",
       "      <th>204</th>\n",
       "      <td>vereeniging</td>\n",
       "      <td>South Africa</td>\n",
       "      <td>479</td>\n",
       "      <td>1250</td>\n",
       "    </tr>\n",
       "    <tr>\n",
       "      <th>202</th>\n",
       "      <td>quito</td>\n",
       "      <td>Ecuador</td>\n",
       "      <td>479</td>\n",
       "      <td>3150</td>\n",
       "    </tr>\n",
       "    <tr>\n",
       "      <th>198</th>\n",
       "      <td>mumbai</td>\n",
       "      <td>India</td>\n",
       "      <td>484</td>\n",
       "      <td>29650</td>\n",
       "    </tr>\n",
       "    <tr>\n",
       "      <th>197</th>\n",
       "      <td>douai/lens</td>\n",
       "      <td>France</td>\n",
       "      <td>489</td>\n",
       "      <td>1050</td>\n",
       "    </tr>\n",
       "    <tr>\n",
       "      <th>196</th>\n",
       "      <td>ottawa/hull</td>\n",
       "      <td>Canada</td>\n",
       "      <td>490</td>\n",
       "      <td>1700</td>\n",
       "    </tr>\n",
       "    <tr>\n",
       "      <th>195</th>\n",
       "      <td>campinas</td>\n",
       "      <td>Brazil</td>\n",
       "      <td>492</td>\n",
       "      <td>3550</td>\n",
       "    </tr>\n",
       "    <tr>\n",
       "      <th>194</th>\n",
       "      <td>cape coral</td>\n",
       "      <td>USA</td>\n",
       "      <td>497</td>\n",
       "      <td>650</td>\n",
       "    </tr>\n",
       "    <tr>\n",
       "      <th>193</th>\n",
       "      <td>turin</td>\n",
       "      <td>Italy</td>\n",
       "      <td>500</td>\n",
       "      <td>2700</td>\n",
       "    </tr>\n",
       "    <tr>\n",
       "      <th>192</th>\n",
       "      <td>nizhni novgorod</td>\n",
       "      <td>Russia</td>\n",
       "      <td>505</td>\n",
       "      <td>2950</td>\n",
       "    </tr>\n",
       "    <tr>\n",
       "      <th>191</th>\n",
       "      <td>valenciennes</td>\n",
       "      <td>France</td>\n",
       "      <td>507</td>\n",
       "      <td>700</td>\n",
       "    </tr>\n",
       "    <tr>\n",
       "      <th>190</th>\n",
       "      <td>avignon</td>\n",
       "      <td>France</td>\n",
       "      <td>508</td>\n",
       "      <td>500</td>\n",
       "    </tr>\n",
       "    <tr>\n",
       "      <th>189</th>\n",
       "      <td>taichung</td>\n",
       "      <td>Taiwan</td>\n",
       "      <td>510</td>\n",
       "      <td>3900</td>\n",
       "    </tr>\n",
       "    <tr>\n",
       "      <th>188</th>\n",
       "      <td>colorado springs</td>\n",
       "      <td>USA</td>\n",
       "      <td>511</td>\n",
       "      <td>900</td>\n",
       "    </tr>\n",
       "    <tr>\n",
       "      <th>187</th>\n",
       "      <td>new orleans</td>\n",
       "      <td>USA</td>\n",
       "      <td>512</td>\n",
       "      <td>1950</td>\n",
       "    </tr>\n",
       "    <tr>\n",
       "      <th>186</th>\n",
       "      <td>lancaster</td>\n",
       "      <td>USA</td>\n",
       "      <td>517</td>\n",
       "      <td>650</td>\n",
       "    </tr>\n",
       "    <tr>\n",
       "      <th>180</th>\n",
       "      <td>bogota</td>\n",
       "      <td>Colombia</td>\n",
       "      <td>518</td>\n",
       "      <td>13500</td>\n",
       "    </tr>\n",
       "    <tr>\n",
       "      <th>181</th>\n",
       "      <td>hochi minh city</td>\n",
       "      <td>Vietnam</td>\n",
       "      <td>518</td>\n",
       "      <td>9450</td>\n",
       "    </tr>\n",
       "    <tr>\n",
       "      <th>185</th>\n",
       "      <td>stockholm</td>\n",
       "      <td>Sweden</td>\n",
       "      <td>518</td>\n",
       "      <td>2700</td>\n",
       "    </tr>\n",
       "    <tr>\n",
       "      <th>183</th>\n",
       "      <td>munichi</td>\n",
       "      <td>Germany</td>\n",
       "      <td>518</td>\n",
       "      <td>3100</td>\n",
       "    </tr>\n",
       "    <tr>\n",
       "      <th>184</th>\n",
       "      <td>phnompenh</td>\n",
       "      <td>Cambodia</td>\n",
       "      <td>518</td>\n",
       "      <td>2900</td>\n",
       "    </tr>\n",
       "    <tr>\n",
       "      <th>182</th>\n",
       "      <td>karachi</td>\n",
       "      <td>Pakistan</td>\n",
       "      <td>518</td>\n",
       "      <td>8900</td>\n",
       "    </tr>\n",
       "    <tr>\n",
       "      <th>179</th>\n",
       "      <td>toledo</td>\n",
       "      <td>USA</td>\n",
       "      <td>524</td>\n",
       "      <td>950</td>\n",
       "    </tr>\n",
       "    <tr>\n",
       "      <th>178</th>\n",
       "      <td>tashkent</td>\n",
       "      <td>Uzbekistan</td>\n",
       "      <td>531</td>\n",
       "      <td>4150</td>\n",
       "    </tr>\n",
       "    <tr>\n",
       "      <th>177</th>\n",
       "      <td>rotterdam</td>\n",
       "      <td>Netherlands</td>\n",
       "      <td>531</td>\n",
       "      <td>2500</td>\n",
       "    </tr>\n",
       "    <tr>\n",
       "      <th>176</th>\n",
       "      <td>kolkata</td>\n",
       "      <td>India</td>\n",
       "      <td>531</td>\n",
       "      <td>23900</td>\n",
       "    </tr>\n",
       "    <tr>\n",
       "      <th>175</th>\n",
       "      <td>auck land</td>\n",
       "      <td>New Zealand</td>\n",
       "      <td>531</td>\n",
       "      <td>2000</td>\n",
       "    </tr>\n",
       "    <tr>\n",
       "      <th>174</th>\n",
       "      <td>little rock</td>\n",
       "      <td>USA</td>\n",
       "      <td>532</td>\n",
       "      <td>700</td>\n",
       "    </tr>\n",
       "    <tr>\n",
       "      <th>173</th>\n",
       "      <td>bangalore</td>\n",
       "      <td>India</td>\n",
       "      <td>534</td>\n",
       "      <td>10100</td>\n",
       "    </tr>\n",
       "    <tr>\n",
       "      <th>172</th>\n",
       "      <td>asheville</td>\n",
       "      <td>USA</td>\n",
       "      <td>536</td>\n",
       "      <td>400</td>\n",
       "    </tr>\n",
       "    <tr>\n",
       "      <th>171</th>\n",
       "      <td>harrisburg</td>\n",
       "      <td>USA</td>\n",
       "      <td>540</td>\n",
       "      <td>650</td>\n",
       "    </tr>\n",
       "    <tr>\n",
       "      <th>167</th>\n",
       "      <td>baku/sumqaxit</td>\n",
       "      <td>Azerbaijan</td>\n",
       "      <td>544</td>\n",
       "      <td>3850</td>\n",
       "    </tr>\n",
       "    <tr>\n",
       "      <th>169</th>\n",
       "      <td>katowice</td>\n",
       "      <td>Poland</td>\n",
       "      <td>544</td>\n",
       "      <td>4050</td>\n",
       "    </tr>\n",
       "    <tr>\n",
       "      <th>170</th>\n",
       "      <td>kuwait</td>\n",
       "      <td>Kuwait</td>\n",
       "      <td>544</td>\n",
       "      <td>2950</td>\n",
       "    </tr>\n",
       "    <tr>\n",
       "      <th>168</th>\n",
       "      <td>fukuoka</td>\n",
       "      <td>Japan</td>\n",
       "      <td>544</td>\n",
       "      <td>3950</td>\n",
       "    </tr>\n",
       "    <tr>\n",
       "      <th>166</th>\n",
       "      <td>mobile</td>\n",
       "      <td>USA</td>\n",
       "      <td>546</td>\n",
       "      <td>600</td>\n",
       "    </tr>\n",
       "    <tr>\n",
       "      <th>165</th>\n",
       "      <td>hickory</td>\n",
       "      <td>USA</td>\n",
       "      <td>546</td>\n",
       "      <td>350</td>\n",
       "    </tr>\n",
       "    <tr>\n",
       "      <th>164</th>\n",
       "      <td>manchester</td>\n",
       "      <td>UK</td>\n",
       "      <td>558</td>\n",
       "      <td>4000</td>\n",
       "    </tr>\n",
       "    <tr>\n",
       "      <th>163</th>\n",
       "      <td>pensacola</td>\n",
       "      <td>USA</td>\n",
       "      <td>568</td>\n",
       "      <td>550</td>\n",
       "    </tr>\n",
       "    <tr>\n",
       "      <th>162</th>\n",
       "      <td>el paso</td>\n",
       "      <td>USA</td>\n",
       "      <td>568</td>\n",
       "      <td>1200</td>\n",
       "    </tr>\n",
       "    <tr>\n",
       "      <th>161</th>\n",
       "      <td>palm bay</td>\n",
       "      <td>USA</td>\n",
       "      <td>569</td>\n",
       "      <td>700</td>\n",
       "    </tr>\n",
       "    <tr>\n",
       "      <th>160</th>\n",
       "      <td>albuquerque</td>\n",
       "      <td>USA</td>\n",
       "      <td>580</td>\n",
       "      <td>1050</td>\n",
       "    </tr>\n",
       "    <tr>\n",
       "      <th>154</th>\n",
       "      <td>brasile</td>\n",
       "      <td>Brazil</td>\n",
       "      <td>583</td>\n",
       "      <td>2800</td>\n",
       "    </tr>\n",
       "    <tr>\n",
       "      <th>156</th>\n",
       "      <td>hyderabad</td>\n",
       "      <td>India</td>\n",
       "      <td>583</td>\n",
       "      <td>9100</td>\n",
       "    </tr>\n",
       "    <tr>\n",
       "      <th>153</th>\n",
       "      <td>ankara</td>\n",
       "      <td>Turkey</td>\n",
       "      <td>583</td>\n",
       "      <td>5300</td>\n",
       "    </tr>\n",
       "    <tr>\n",
       "      <th>155</th>\n",
       "      <td>fortaleza</td>\n",
       "      <td>Brazil</td>\n",
       "      <td>583</td>\n",
       "      <td>4550</td>\n",
       "    </tr>\n",
       "    <tr>\n",
       "      <th>158</th>\n",
       "      <td>naples</td>\n",
       "      <td>Italy</td>\n",
       "      <td>583</td>\n",
       "      <td>4100</td>\n",
       "    </tr>\n",
       "    <tr>\n",
       "      <th>159</th>\n",
       "      <td>porto alegre</td>\n",
       "      <td>Brazil</td>\n",
       "      <td>583</td>\n",
       "      <td>4800</td>\n",
       "    </tr>\n",
       "    <tr>\n",
       "      <th>157</th>\n",
       "      <td>khartoum</td>\n",
       "      <td>Sudan</td>\n",
       "      <td>583</td>\n",
       "      <td>6850</td>\n",
       "    </tr>\n",
       "    <tr>\n",
       "      <th>152</th>\n",
       "      <td>omaha</td>\n",
       "      <td>USA</td>\n",
       "      <td>586</td>\n",
       "      <td>1050</td>\n",
       "    </tr>\n",
       "    <tr>\n",
       "      <th>151</th>\n",
       "      <td>greenville</td>\n",
       "      <td>USA</td>\n",
       "      <td>587</td>\n",
       "      <td>500</td>\n",
       "    </tr>\n",
       "  </tbody>\n",
       "</table>\n",
       "</div>"
      ],
      "text/plain": [
       "                 City       Country  Landarea  Density\n",
       "204       vereeniging  South Africa       479     1250\n",
       "202             quito       Ecuador       479     3150\n",
       "198            mumbai         India       484    29650\n",
       "197        douai/lens        France       489     1050\n",
       "196       ottawa/hull        Canada       490     1700\n",
       "195          campinas        Brazil       492     3550\n",
       "194        cape coral           USA       497      650\n",
       "193             turin         Italy       500     2700\n",
       "192   nizhni novgorod        Russia       505     2950\n",
       "191      valenciennes        France       507      700\n",
       "190           avignon        France       508      500\n",
       "189          taichung        Taiwan       510     3900\n",
       "188  colorado springs           USA       511      900\n",
       "187       new orleans           USA       512     1950\n",
       "186         lancaster           USA       517      650\n",
       "180            bogota      Colombia       518    13500\n",
       "181   hochi minh city       Vietnam       518     9450\n",
       "185         stockholm        Sweden       518     2700\n",
       "183           munichi       Germany       518     3100\n",
       "184         phnompenh      Cambodia       518     2900\n",
       "182           karachi      Pakistan       518     8900\n",
       "179            toledo           USA       524      950\n",
       "178          tashkent    Uzbekistan       531     4150\n",
       "177         rotterdam   Netherlands       531     2500\n",
       "176           kolkata         India       531    23900\n",
       "175         auck land   New Zealand       531     2000\n",
       "174       little rock           USA       532      700\n",
       "173         bangalore         India       534    10100\n",
       "172         asheville           USA       536      400\n",
       "171        harrisburg           USA       540      650\n",
       "167     baku/sumqaxit    Azerbaijan       544     3850\n",
       "169          katowice        Poland       544     4050\n",
       "170            kuwait        Kuwait       544     2950\n",
       "168           fukuoka         Japan       544     3950\n",
       "166            mobile           USA       546      600\n",
       "165           hickory           USA       546      350\n",
       "164        manchester            UK       558     4000\n",
       "163         pensacola           USA       568      550\n",
       "162           el paso           USA       568     1200\n",
       "161          palm bay           USA       569      700\n",
       "160       albuquerque           USA       580     1050\n",
       "154           brasile        Brazil       583     2800\n",
       "156         hyderabad         India       583     9100\n",
       "153            ankara        Turkey       583     5300\n",
       "155         fortaleza        Brazil       583     4550\n",
       "158            naples         Italy       583     4100\n",
       "159      porto alegre        Brazil       583     4800\n",
       "157          khartoum         Sudan       583     6850\n",
       "152             omaha           USA       586     1050\n",
       "151        greenville           USA       587      500"
      ]
     },
     "execution_count": 55,
     "metadata": {},
     "output_type": "execute_result"
    }
   ],
   "source": [
    "df4=df2.iloc[50:100,:]\n",
    "df4"
   ]
  },
  {
   "cell_type": "code",
   "execution_count": 56,
   "id": "ea0ae3e9",
   "metadata": {},
   "outputs": [
    {
     "data": {
      "text/plain": [
       "204    479\n",
       "202    479\n",
       "198    484\n",
       "197    489\n",
       "196    490\n",
       "Name: Landarea, dtype: int32"
      ]
     },
     "execution_count": 56,
     "metadata": {},
     "output_type": "execute_result"
    }
   ],
   "source": [
    "Land=df4.iloc[:,2]\n",
    "Land.head()"
   ]
  },
  {
   "cell_type": "code",
   "execution_count": 57,
   "id": "dcffd54f",
   "metadata": {},
   "outputs": [
    {
     "data": {
      "text/plain": [
       "array([479, 479, 484, 489, 490, 492, 497, 500, 505, 507, 508, 510, 511,\n",
       "       512, 517, 518, 518, 518, 518, 518, 518, 524, 531, 531, 531, 531,\n",
       "       532, 534, 536, 540, 544, 544, 544, 544, 546, 546, 558, 568, 568,\n",
       "       569, 580, 583, 583, 583, 583, 583, 583, 583, 586, 587])"
      ]
     },
     "execution_count": 57,
     "metadata": {},
     "output_type": "execute_result"
    }
   ],
   "source": [
    "x=Land.values\n",
    "x"
   ]
  },
  {
   "cell_type": "code",
   "execution_count": 58,
   "id": "cce8ecd3",
   "metadata": {},
   "outputs": [
    {
     "data": {
      "text/plain": [
       "204     1250\n",
       "202     3150\n",
       "198    29650\n",
       "197     1050\n",
       "196     1700\n",
       "Name: Density, dtype: int32"
      ]
     },
     "execution_count": 58,
     "metadata": {},
     "output_type": "execute_result"
    }
   ],
   "source": [
    "Density=df4.iloc[:,3]\n",
    "Density.head()"
   ]
  },
  {
   "cell_type": "code",
   "execution_count": 59,
   "id": "dbffef57",
   "metadata": {},
   "outputs": [
    {
     "data": {
      "text/plain": [
       "array([ 1250,  3150, 29650,  1050,  1700,  3550,   650,  2700,  2950,\n",
       "         700,   500,  3900,   900,  1950,   650, 13500,  9450,  2700,\n",
       "        3100,  2900,  8900,   950,  4150,  2500, 23900,  2000,   700,\n",
       "       10100,   400,   650,  3850,  4050,  2950,  3950,   600,   350,\n",
       "        4000,   550,  1200,   700,  1050,  2800,  9100,  5300,  4550,\n",
       "        4100,  4800,  6850,  1050,   500])"
      ]
     },
     "execution_count": 59,
     "metadata": {},
     "output_type": "execute_result"
    }
   ],
   "source": [
    "y=Density.values\n",
    "y\n"
   ]
  },
  {
   "cell_type": "code",
   "execution_count": 60,
   "id": "fb24164e",
   "metadata": {},
   "outputs": [
    {
     "data": {
      "image/png": "[encoded data removed]",
      "text/plain": [
       "<Figure size 432x288 with 1 Axes>"
      ]
     },
     "metadata": {
      "needs_background": "light"
     },
     "output_type": "display_data"
    }
   ],
   "source": [
    "import matplotlib.pyplot as plt\n",
    "plt.scatter(x,y,label=\" \",color=\"y\",s=100)\n",
    "plt.xlabel(\"LandArea\")\n",
    "plt.ylabel(\"Density\")\n",
    "plt.title(\"LandArea vs Density\")\n",
    "#plt.legend(\"c\")\n",
    "plt.show()"
   ]
  },
  {
   "cell_type": "markdown",
   "id": "ccecd78e",
   "metadata": {},
   "source": [
    "# Landarea vs Density (150 to 101)"
   ]
  },
  {
   "cell_type": "markdown",
   "id": "3972dd59",
   "metadata": {},
   "source": [
    "# Missing Alingment-->138,139__119,120__107,108"
   ]
  },
  {
   "cell_type": "code",
   "execution_count": 61,
   "id": "04a07d1b",
   "metadata": {},
   "outputs": [],
   "source": [
    "df5=df2.iloc[100:150,:]"
   ]
  },
  {
   "cell_type": "code",
   "execution_count": 62,
   "id": "322485bc",
   "metadata": {},
   "outputs": [
    {
     "data": {
      "text/html": [
       "<div>\n",
       "<style scoped>\n",
       "    .dataframe tbody tr th:only-of-type {\n",
       "        vertical-align: middle;\n",
       "    }\n",
       "\n",
       "    .dataframe tbody tr th {\n",
       "        vertical-align: top;\n",
       "    }\n",
       "\n",
       "    .dataframe thead th {\n",
       "        text-align: right;\n",
       "    }\n",
       "</style>\n",
       "<table border=\"1\" class=\"dataframe\">\n",
       "  <thead>\n",
       "    <tr style=\"text-align: right;\">\n",
       "      <th></th>\n",
       "      <th>City</th>\n",
       "      <th>Country</th>\n",
       "      <th>Landarea</th>\n",
       "      <th>Density</th>\n",
       "    </tr>\n",
       "  </thead>\n",
       "  <tbody>\n",
       "    <tr>\n",
       "      <th>150</th>\n",
       "      <td>youngstown</td>\n",
       "      <td>USA</td>\n",
       "      <td>591</td>\n",
       "      <td>700</td>\n",
       "    </tr>\n",
       "    <tr>\n",
       "      <th>149</th>\n",
       "      <td>lima</td>\n",
       "      <td>Peru</td>\n",
       "      <td>596</td>\n",
       "      <td>11750</td>\n",
       "    </tr>\n",
       "    <tr>\n",
       "      <th>148</th>\n",
       "      <td>guadalajara</td>\n",
       "      <td>Mexico</td>\n",
       "      <td>596</td>\n",
       "      <td>5900</td>\n",
       "    </tr>\n",
       "    <tr>\n",
       "      <th>147</th>\n",
       "      <td>baghdad</td>\n",
       "      <td>Iraq</td>\n",
       "      <td>596</td>\n",
       "      <td>9250</td>\n",
       "    </tr>\n",
       "    <tr>\n",
       "      <th>146</th>\n",
       "      <td>antwerp</td>\n",
       "      <td>Belgium</td>\n",
       "      <td>596</td>\n",
       "      <td>1550</td>\n",
       "    </tr>\n",
       "    <tr>\n",
       "      <th>145</th>\n",
       "      <td>salt lake city</td>\n",
       "      <td>USA</td>\n",
       "      <td>598</td>\n",
       "      <td>1500</td>\n",
       "    </tr>\n",
       "    <tr>\n",
       "      <th>144</th>\n",
       "      <td>charleston</td>\n",
       "      <td>USA</td>\n",
       "      <td>598</td>\n",
       "      <td>700</td>\n",
       "    </tr>\n",
       "    <tr>\n",
       "      <th>143</th>\n",
       "      <td>flint</td>\n",
       "      <td>USA</td>\n",
       "      <td>599</td>\n",
       "      <td>600</td>\n",
       "    </tr>\n",
       "    <tr>\n",
       "      <th>142</th>\n",
       "      <td>birmingham</td>\n",
       "      <td>UK</td>\n",
       "      <td>600</td>\n",
       "      <td>3800</td>\n",
       "    </tr>\n",
       "    <tr>\n",
       "      <th>141</th>\n",
       "      <td>augusta</td>\n",
       "      <td>USA</td>\n",
       "      <td>600</td>\n",
       "      <td>550</td>\n",
       "    </tr>\n",
       "    <tr>\n",
       "      <th>140</th>\n",
       "      <td>aguadilla</td>\n",
       "      <td>Puerto Rico</td>\n",
       "      <td>620</td>\n",
       "      <td>500</td>\n",
       "    </tr>\n",
       "    <tr>\n",
       "      <th>138</th>\n",
       "      <td>lahore</td>\n",
       "      <td>Pakistan</td>\n",
       "      <td>622</td>\n",
       "      <td>8200</td>\n",
       "    </tr>\n",
       "    <tr>\n",
       "      <th>139</th>\n",
       "      <td>st petersburg</td>\n",
       "      <td>Russia</td>\n",
       "      <td>622</td>\n",
       "      <td>8550</td>\n",
       "    </tr>\n",
       "    <tr>\n",
       "      <th>137</th>\n",
       "      <td>worecester</td>\n",
       "      <td>USA</td>\n",
       "      <td>648</td>\n",
       "      <td>650</td>\n",
       "    </tr>\n",
       "    <tr>\n",
       "      <th>136</th>\n",
       "      <td>santiago</td>\n",
       "      <td>Chile</td>\n",
       "      <td>648</td>\n",
       "      <td>8400</td>\n",
       "    </tr>\n",
       "    <tr>\n",
       "      <th>135</th>\n",
       "      <td>curitiba</td>\n",
       "      <td>Brazil</td>\n",
       "      <td>648</td>\n",
       "      <td>3850</td>\n",
       "    </tr>\n",
       "    <tr>\n",
       "      <th>134</th>\n",
       "      <td>beirut</td>\n",
       "      <td>lebanon</td>\n",
       "      <td>648</td>\n",
       "      <td>2800</td>\n",
       "    </tr>\n",
       "    <tr>\n",
       "      <th>133</th>\n",
       "      <td>winston/salem</td>\n",
       "      <td>USA</td>\n",
       "      <td>651</td>\n",
       "      <td>450</td>\n",
       "    </tr>\n",
       "    <tr>\n",
       "      <th>132</th>\n",
       "      <td>grand rapids</td>\n",
       "      <td>USA</td>\n",
       "      <td>667</td>\n",
       "      <td>800</td>\n",
       "    </tr>\n",
       "    <tr>\n",
       "      <th>131</th>\n",
       "      <td>quebec</td>\n",
       "      <td>canada</td>\n",
       "      <td>669</td>\n",
       "      <td>950</td>\n",
       "    </tr>\n",
       "    <tr>\n",
       "      <th>130</th>\n",
       "      <td>pretoria</td>\n",
       "      <td>South Africa</td>\n",
       "      <td>673</td>\n",
       "      <td>2750</td>\n",
       "    </tr>\n",
       "    <tr>\n",
       "      <th>129</th>\n",
       "      <td>arabia</td>\n",
       "      <td>Saudi Arabia</td>\n",
       "      <td>673</td>\n",
       "      <td>2250</td>\n",
       "    </tr>\n",
       "    <tr>\n",
       "      <th>128</th>\n",
       "      <td>san jose</td>\n",
       "      <td>USA</td>\n",
       "      <td>674</td>\n",
       "      <td>2300</td>\n",
       "    </tr>\n",
       "    <tr>\n",
       "      <th>127</th>\n",
       "      <td>tulsa</td>\n",
       "      <td>USA</td>\n",
       "      <td>677</td>\n",
       "      <td>800</td>\n",
       "    </tr>\n",
       "    <tr>\n",
       "      <th>126</th>\n",
       "      <td>athens</td>\n",
       "      <td>Greece</td>\n",
       "      <td>684</td>\n",
       "      <td>5400</td>\n",
       "    </tr>\n",
       "    <tr>\n",
       "      <th>125</th>\n",
       "      <td>tehran</td>\n",
       "      <td>iran</td>\n",
       "      <td>686</td>\n",
       "      <td>10550</td>\n",
       "    </tr>\n",
       "    <tr>\n",
       "      <th>123</th>\n",
       "      <td>cape town</td>\n",
       "      <td>south africa</td>\n",
       "      <td>686</td>\n",
       "      <td>3950</td>\n",
       "    </tr>\n",
       "    <tr>\n",
       "      <th>124</th>\n",
       "      <td>pough keepsie</td>\n",
       "      <td>USA</td>\n",
       "      <td>686</td>\n",
       "      <td>500</td>\n",
       "    </tr>\n",
       "    <tr>\n",
       "      <th>122</th>\n",
       "      <td>columbia</td>\n",
       "      <td>USA</td>\n",
       "      <td>697</td>\n",
       "      <td>600</td>\n",
       "    </tr>\n",
       "    <tr>\n",
       "      <th>121</th>\n",
       "      <td>sarasota//bradenton</td>\n",
       "      <td>USA</td>\n",
       "      <td>700</td>\n",
       "      <td>800</td>\n",
       "    </tr>\n",
       "    <tr>\n",
       "      <th>119</th>\n",
       "      <td>budapest</td>\n",
       "      <td>hungry</td>\n",
       "      <td>702</td>\n",
       "      <td>2550</td>\n",
       "    </tr>\n",
       "    <tr>\n",
       "      <th>120</th>\n",
       "      <td>calgary</td>\n",
       "      <td>canada</td>\n",
       "      <td>702</td>\n",
       "      <td>1250</td>\n",
       "    </tr>\n",
       "    <tr>\n",
       "      <th>118</th>\n",
       "      <td>harare</td>\n",
       "      <td>zimbabwe</td>\n",
       "      <td>712</td>\n",
       "      <td>2450</td>\n",
       "    </tr>\n",
       "    <tr>\n",
       "      <th>117</th>\n",
       "      <td>dubai</td>\n",
       "      <td>UAE</td>\n",
       "      <td>712</td>\n",
       "      <td>2650</td>\n",
       "    </tr>\n",
       "    <tr>\n",
       "      <th>116</th>\n",
       "      <td>brussels</td>\n",
       "      <td>belgium</td>\n",
       "      <td>712</td>\n",
       "      <td>2200</td>\n",
       "    </tr>\n",
       "    <tr>\n",
       "      <th>115</th>\n",
       "      <td>toulon</td>\n",
       "      <td>france</td>\n",
       "      <td>713</td>\n",
       "      <td>750</td>\n",
       "    </tr>\n",
       "    <tr>\n",
       "      <th>114</th>\n",
       "      <td>nice</td>\n",
       "      <td>france</td>\n",
       "      <td>721</td>\n",
       "      <td>1250</td>\n",
       "    </tr>\n",
       "    <tr>\n",
       "      <th>113</th>\n",
       "      <td>baton rouge</td>\n",
       "      <td>USA</td>\n",
       "      <td>727</td>\n",
       "      <td>650</td>\n",
       "    </tr>\n",
       "    <tr>\n",
       "      <th>112</th>\n",
       "      <td>adelaide</td>\n",
       "      <td>australia</td>\n",
       "      <td>729</td>\n",
       "      <td>1350</td>\n",
       "    </tr>\n",
       "    <tr>\n",
       "      <th>111</th>\n",
       "      <td>albany</td>\n",
       "      <td>USA</td>\n",
       "      <td>736</td>\n",
       "      <td>750</td>\n",
       "    </tr>\n",
       "    <tr>\n",
       "      <th>110</th>\n",
       "      <td>lagos</td>\n",
       "      <td>nigeria</td>\n",
       "      <td>738</td>\n",
       "      <td>18150</td>\n",
       "    </tr>\n",
       "    <tr>\n",
       "      <th>109</th>\n",
       "      <td>new hawen</td>\n",
       "      <td>USA</td>\n",
       "      <td>739</td>\n",
       "      <td>700</td>\n",
       "    </tr>\n",
       "    <tr>\n",
       "      <th>107</th>\n",
       "      <td>barnstable town</td>\n",
       "      <td>USA</td>\n",
       "      <td>741</td>\n",
       "      <td>350</td>\n",
       "    </tr>\n",
       "    <tr>\n",
       "      <th>108</th>\n",
       "      <td>las vegas</td>\n",
       "      <td>USA</td>\n",
       "      <td>741</td>\n",
       "      <td>1750</td>\n",
       "    </tr>\n",
       "    <tr>\n",
       "      <th>106</th>\n",
       "      <td>shanghai</td>\n",
       "      <td>china</td>\n",
       "      <td>746</td>\n",
       "      <td>13400</td>\n",
       "    </tr>\n",
       "    <tr>\n",
       "      <th>105</th>\n",
       "      <td>beijing</td>\n",
       "      <td>china</td>\n",
       "      <td>748</td>\n",
       "      <td>11500</td>\n",
       "    </tr>\n",
       "    <tr>\n",
       "      <th>104</th>\n",
       "      <td>allen town/bethlehem</td>\n",
       "      <td>USA</td>\n",
       "      <td>750</td>\n",
       "      <td>750</td>\n",
       "    </tr>\n",
       "    <tr>\n",
       "      <th>103</th>\n",
       "      <td>chattanooga</td>\n",
       "      <td>USA</td>\n",
       "      <td>751</td>\n",
       "      <td>450</td>\n",
       "    </tr>\n",
       "    <tr>\n",
       "      <th>102</th>\n",
       "      <td>tucson</td>\n",
       "      <td>USA</td>\n",
       "      <td>755</td>\n",
       "      <td>950</td>\n",
       "    </tr>\n",
       "    <tr>\n",
       "      <th>101</th>\n",
       "      <td>rochester</td>\n",
       "      <td>USA</td>\n",
       "      <td>764</td>\n",
       "      <td>900</td>\n",
       "    </tr>\n",
       "  </tbody>\n",
       "</table>\n",
       "</div>"
      ],
      "text/plain": [
       "                     City       Country  Landarea  Density\n",
       "150            youngstown           USA       591      700\n",
       "149                  lima          Peru       596    11750\n",
       "148           guadalajara        Mexico       596     5900\n",
       "147               baghdad          Iraq       596     9250\n",
       "146               antwerp       Belgium       596     1550\n",
       "145        salt lake city           USA       598     1500\n",
       "144            charleston           USA       598      700\n",
       "143                 flint           USA       599      600\n",
       "142            birmingham            UK       600     3800\n",
       "141               augusta           USA       600      550\n",
       "140             aguadilla   Puerto Rico       620      500\n",
       "138                lahore      Pakistan       622     8200\n",
       "139         st petersburg        Russia       622     8550\n",
       "137            worecester           USA       648      650\n",
       "136              santiago         Chile       648     8400\n",
       "135              curitiba        Brazil       648     3850\n",
       "134                beirut       lebanon       648     2800\n",
       "133         winston/salem           USA       651      450\n",
       "132          grand rapids           USA       667      800\n",
       "131                quebec        canada       669      950\n",
       "130              pretoria  South Africa       673     2750\n",
       "129                arabia  Saudi Arabia       673     2250\n",
       "128              san jose           USA       674     2300\n",
       "127                 tulsa           USA       677      800\n",
       "126                athens        Greece       684     5400\n",
       "125                tehran          iran       686    10550\n",
       "123             cape town  south africa       686     3950\n",
       "124         pough keepsie           USA       686      500\n",
       "122              columbia           USA       697      600\n",
       "121   sarasota//bradenton           USA       700      800\n",
       "119              budapest        hungry       702     2550\n",
       "120               calgary        canada       702     1250\n",
       "118                harare      zimbabwe       712     2450\n",
       "117                 dubai           UAE       712     2650\n",
       "116              brussels       belgium       712     2200\n",
       "115                toulon        france       713      750\n",
       "114                  nice        france       721     1250\n",
       "113           baton rouge           USA       727      650\n",
       "112              adelaide     australia       729     1350\n",
       "111                albany           USA       736      750\n",
       "110                 lagos       nigeria       738    18150\n",
       "109             new hawen           USA       739      700\n",
       "107       barnstable town           USA       741      350\n",
       "108             las vegas           USA       741     1750\n",
       "106              shanghai         china       746    13400\n",
       "105               beijing         china       748    11500\n",
       "104  allen town/bethlehem           USA       750      750\n",
       "103           chattanooga           USA       751      450\n",
       "102                tucson           USA       755      950\n",
       "101             rochester           USA       764      900"
      ]
     },
     "execution_count": 62,
     "metadata": {},
     "output_type": "execute_result"
    }
   ],
   "source": [
    "df5"
   ]
  },
  {
   "cell_type": "code",
   "execution_count": 63,
   "id": "9d943648",
   "metadata": {},
   "outputs": [
    {
     "data": {
      "text/plain": [
       "150    591\n",
       "149    596\n",
       "148    596\n",
       "147    596\n",
       "146    596\n",
       "Name: Landarea, dtype: int32"
      ]
     },
     "execution_count": 63,
     "metadata": {},
     "output_type": "execute_result"
    }
   ],
   "source": [
    "Land=df5.iloc[:,2]\n",
    "Land.head()"
   ]
  },
  {
   "cell_type": "code",
   "execution_count": 64,
   "id": "6f7e2c03",
   "metadata": {},
   "outputs": [
    {
     "data": {
      "text/plain": [
       "array([591, 596, 596, 596, 596, 598, 598, 599, 600, 600, 620, 622, 622,\n",
       "       648, 648, 648, 648, 651, 667, 669, 673, 673, 674, 677, 684, 686,\n",
       "       686, 686, 697, 700, 702, 702, 712, 712, 712, 713, 721, 727, 729,\n",
       "       736, 738, 739, 741, 741, 746, 748, 750, 751, 755, 764])"
      ]
     },
     "execution_count": 64,
     "metadata": {},
     "output_type": "execute_result"
    }
   ],
   "source": [
    "x=Land.values\n",
    "x"
   ]
  },
  {
   "cell_type": "code",
   "execution_count": 65,
   "id": "1c160926",
   "metadata": {},
   "outputs": [
    {
     "data": {
      "text/plain": [
       "150      700\n",
       "149    11750\n",
       "148     5900\n",
       "147     9250\n",
       "146     1550\n",
       "Name: Density, dtype: int32"
      ]
     },
     "execution_count": 65,
     "metadata": {},
     "output_type": "execute_result"
    }
   ],
   "source": [
    "Density=df5.iloc[:,3]\n",
    "Density.head()"
   ]
  },
  {
   "cell_type": "code",
   "execution_count": 66,
   "id": "2a74da89",
   "metadata": {},
   "outputs": [
    {
     "data": {
      "text/plain": [
       "array([  700, 11750,  5900,  9250,  1550,  1500,   700,   600,  3800,\n",
       "         550,   500,  8200,  8550,   650,  8400,  3850,  2800,   450,\n",
       "         800,   950,  2750,  2250,  2300,   800,  5400, 10550,  3950,\n",
       "         500,   600,   800,  2550,  1250,  2450,  2650,  2200,   750,\n",
       "        1250,   650,  1350,   750, 18150,   700,   350,  1750, 13400,\n",
       "       11500,   750,   450,   950,   900])"
      ]
     },
     "execution_count": 66,
     "metadata": {},
     "output_type": "execute_result"
    }
   ],
   "source": [
    "y=Density.values\n",
    "y\n"
   ]
  },
  {
   "cell_type": "code",
   "execution_count": 67,
   "id": "5a47e64a",
   "metadata": {},
   "outputs": [
    {
     "data": {
      "image/png": "[encoded data removed]",
      "text/plain": [
       "<Figure size 432x288 with 1 Axes>"
      ]
     },
     "metadata": {
      "needs_background": "light"
     },
     "output_type": "display_data"
    }
   ],
   "source": [
    "import matplotlib.pyplot as plt\n",
    "plt.scatter(x,y,label=\" \",color=\"y\",s=100)\n",
    "plt.xlabel(\"LandArea\")\n",
    "plt.ylabel(\"Density\")\n",
    "plt.title(\"LandArea vs Density\")\n",
    "#plt.legend(\"c\")\n",
    "plt.show()"
   ]
  },
  {
   "cell_type": "markdown",
   "id": "f329fd1c",
   "metadata": {},
   "source": [
    "# Landarea vs Density (100 to 51)"
   ]
  },
  {
   "cell_type": "markdown",
   "id": "8dbdc291",
   "metadata": {},
   "source": [
    "# Missing Alingment -->92,93"
   ]
  },
  {
   "cell_type": "code",
   "execution_count": 68,
   "id": "0ed8e7f8",
   "metadata": {},
   "outputs": [
    {
     "data": {
      "text/html": [
       "<div>\n",
       "<style scoped>\n",
       "    .dataframe tbody tr th:only-of-type {\n",
       "        vertical-align: middle;\n",
       "    }\n",
       "\n",
       "    .dataframe tbody tr th {\n",
       "        vertical-align: top;\n",
       "    }\n",
       "\n",
       "    .dataframe thead th {\n",
       "        text-align: right;\n",
       "    }\n",
       "</style>\n",
       "<table border=\"1\" class=\"dataframe\">\n",
       "  <thead>\n",
       "    <tr style=\"text-align: right;\">\n",
       "      <th></th>\n",
       "      <th>City</th>\n",
       "      <th>Country</th>\n",
       "      <th>Landarea</th>\n",
       "      <th>Density</th>\n",
       "    </tr>\n",
       "  </thead>\n",
       "  <tbody>\n",
       "    <tr>\n",
       "      <th>100</th>\n",
       "      <td>jeddah</td>\n",
       "      <td>saudi arabia</td>\n",
       "      <td>777</td>\n",
       "      <td>3550</td>\n",
       "    </tr>\n",
       "    <tr>\n",
       "      <th>99</th>\n",
       "      <td>abu dhabi</td>\n",
       "      <td>UAE</td>\n",
       "      <td>777</td>\n",
       "      <td>700</td>\n",
       "    </tr>\n",
       "    <tr>\n",
       "      <th>98</th>\n",
       "      <td>akron</td>\n",
       "      <td>USA</td>\n",
       "      <td>797</td>\n",
       "      <td>700</td>\n",
       "    </tr>\n",
       "    <tr>\n",
       "      <th>97</th>\n",
       "      <td>springfield</td>\n",
       "      <td>USA</td>\n",
       "      <td>800</td>\n",
       "      <td>700</td>\n",
       "    </tr>\n",
       "    <tr>\n",
       "      <th>96</th>\n",
       "      <td>barcelona</td>\n",
       "      <td>spain</td>\n",
       "      <td>803</td>\n",
       "      <td>4850</td>\n",
       "    </tr>\n",
       "    <tr>\n",
       "      <th>95</th>\n",
       "      <td>tou louse</td>\n",
       "      <td>france</td>\n",
       "      <td>808</td>\n",
       "      <td>950</td>\n",
       "    </tr>\n",
       "    <tr>\n",
       "      <th>94</th>\n",
       "      <td>mc allen</td>\n",
       "      <td>USA</td>\n",
       "      <td>813</td>\n",
       "      <td>650</td>\n",
       "    </tr>\n",
       "    <tr>\n",
       "      <th>92</th>\n",
       "      <td>cologne/bonn</td>\n",
       "      <td>germany</td>\n",
       "      <td>816</td>\n",
       "      <td>2400</td>\n",
       "    </tr>\n",
       "    <tr>\n",
       "      <th>93</th>\n",
       "      <td>copenhagen</td>\n",
       "      <td>denmark</td>\n",
       "      <td>816</td>\n",
       "      <td>1850</td>\n",
       "    </tr>\n",
       "    <tr>\n",
       "      <th>91</th>\n",
       "      <td>austin</td>\n",
       "      <td>USA</td>\n",
       "      <td>824</td>\n",
       "      <td>1100</td>\n",
       "    </tr>\n",
       "    <tr>\n",
       "      <th>90</th>\n",
       "      <td>raleigh</td>\n",
       "      <td>USA</td>\n",
       "      <td>828</td>\n",
       "      <td>650</td>\n",
       "    </tr>\n",
       "    <tr>\n",
       "      <th>89</th>\n",
       "      <td>hamburg</td>\n",
       "      <td>Germany</td>\n",
       "      <td>829</td>\n",
       "      <td>2300</td>\n",
       "    </tr>\n",
       "    <tr>\n",
       "      <th>88</th>\n",
       "      <td>durban</td>\n",
       "      <td>South Africa</td>\n",
       "      <td>829</td>\n",
       "      <td>3500</td>\n",
       "    </tr>\n",
       "    <tr>\n",
       "      <th>87</th>\n",
       "      <td>oklahoma city</td>\n",
       "      <td>USA</td>\n",
       "      <td>835</td>\n",
       "      <td>900</td>\n",
       "    </tr>\n",
       "    <tr>\n",
       "      <th>86</th>\n",
       "      <td>dayton</td>\n",
       "      <td>USA</td>\n",
       "      <td>838</td>\n",
       "      <td>850</td>\n",
       "    </tr>\n",
       "    <tr>\n",
       "      <th>85</th>\n",
       "      <td>rome</td>\n",
       "      <td>Italy</td>\n",
       "      <td>842</td>\n",
       "      <td>2950</td>\n",
       "    </tr>\n",
       "    <tr>\n",
       "      <th>84</th>\n",
       "      <td>edmonton</td>\n",
       "      <td>Canada</td>\n",
       "      <td>850</td>\n",
       "      <td>900</td>\n",
       "    </tr>\n",
       "    <tr>\n",
       "      <th>83</th>\n",
       "      <td>belo horizonte</td>\n",
       "      <td>Brazil</td>\n",
       "      <td>868</td>\n",
       "      <td>4600</td>\n",
       "    </tr>\n",
       "    <tr>\n",
       "      <th>82</th>\n",
       "      <td>knoxville</td>\n",
       "      <td>USA</td>\n",
       "      <td>879</td>\n",
       "      <td>500</td>\n",
       "    </tr>\n",
       "    <tr>\n",
       "      <th>81</th>\n",
       "      <td>lisbon</td>\n",
       "      <td>Portugal</td>\n",
       "      <td>881</td>\n",
       "      <td>2550</td>\n",
       "    </tr>\n",
       "    <tr>\n",
       "      <th>80</th>\n",
       "      <td>madrid</td>\n",
       "      <td>Spain</td>\n",
       "      <td>945</td>\n",
       "      <td>5200</td>\n",
       "    </tr>\n",
       "    <tr>\n",
       "      <th>79</th>\n",
       "      <td>buffalo</td>\n",
       "      <td>USA</td>\n",
       "      <td>950</td>\n",
       "      <td>1050</td>\n",
       "    </tr>\n",
       "    <tr>\n",
       "      <th>78</th>\n",
       "      <td>lyon</td>\n",
       "      <td>France</td>\n",
       "      <td>954</td>\n",
       "      <td>1400</td>\n",
       "    </tr>\n",
       "    <tr>\n",
       "      <th>77</th>\n",
       "      <td>sa cramento</td>\n",
       "      <td>USA</td>\n",
       "      <td>956</td>\n",
       "      <td>1450</td>\n",
       "    </tr>\n",
       "    <tr>\n",
       "      <th>76</th>\n",
       "      <td>perth</td>\n",
       "      <td>Australia</td>\n",
       "      <td>964</td>\n",
       "      <td>1200</td>\n",
       "    </tr>\n",
       "    <tr>\n",
       "      <th>75</th>\n",
       "      <td>frankfurt</td>\n",
       "      <td>Germany</td>\n",
       "      <td>984</td>\n",
       "      <td>2300</td>\n",
       "    </tr>\n",
       "    <tr>\n",
       "      <th>74</th>\n",
       "      <td>berlin</td>\n",
       "      <td>Germany</td>\n",
       "      <td>984</td>\n",
       "      <td>3750</td>\n",
       "    </tr>\n",
       "    <tr>\n",
       "      <th>73</th>\n",
       "      <td>bangkok</td>\n",
       "      <td>Thailand</td>\n",
       "      <td>1010</td>\n",
       "      <td>6450</td>\n",
       "    </tr>\n",
       "    <tr>\n",
       "      <th>72</th>\n",
       "      <td>louisville</td>\n",
       "      <td>USA</td>\n",
       "      <td>1013</td>\n",
       "      <td>850</td>\n",
       "    </tr>\n",
       "    <tr>\n",
       "      <th>71</th>\n",
       "      <td>birmingham</td>\n",
       "      <td>USA</td>\n",
       "      <td>1016</td>\n",
       "      <td>650</td>\n",
       "    </tr>\n",
       "    <tr>\n",
       "      <th>70</th>\n",
       "      <td>columbus</td>\n",
       "      <td>USA</td>\n",
       "      <td>1030</td>\n",
       "      <td>1100</td>\n",
       "    </tr>\n",
       "    <tr>\n",
       "      <th>69</th>\n",
       "      <td>memphis</td>\n",
       "      <td>USA</td>\n",
       "      <td>1036</td>\n",
       "      <td>950</td>\n",
       "    </tr>\n",
       "    <tr>\n",
       "      <th>68</th>\n",
       "      <td>seoul /incheon</td>\n",
       "      <td>South Korea</td>\n",
       "      <td>1049</td>\n",
       "      <td>16700</td>\n",
       "    </tr>\n",
       "    <tr>\n",
       "      <th>67</th>\n",
       "      <td>san antonio</td>\n",
       "      <td>USA</td>\n",
       "      <td>1056</td>\n",
       "      <td>1250</td>\n",
       "    </tr>\n",
       "    <tr>\n",
       "      <th>66</th>\n",
       "      <td>bordeaux</td>\n",
       "      <td>France</td>\n",
       "      <td>1057</td>\n",
       "      <td>700</td>\n",
       "    </tr>\n",
       "    <tr>\n",
       "      <th>65</th>\n",
       "      <td>jacksonville</td>\n",
       "      <td>USA</td>\n",
       "      <td>1063</td>\n",
       "      <td>850</td>\n",
       "    </tr>\n",
       "    <tr>\n",
       "      <th>64</th>\n",
       "      <td>riyadh</td>\n",
       "      <td>Saudi Arabia</td>\n",
       "      <td>1101</td>\n",
       "      <td>3650</td>\n",
       "    </tr>\n",
       "    <tr>\n",
       "      <th>63</th>\n",
       "      <td>nashville</td>\n",
       "      <td>USA</td>\n",
       "      <td>1116</td>\n",
       "      <td>650</td>\n",
       "    </tr>\n",
       "    <tr>\n",
       "      <th>62</th>\n",
       "      <td>vancouver</td>\n",
       "      <td>Canada</td>\n",
       "      <td>1120</td>\n",
       "      <td>1650</td>\n",
       "    </tr>\n",
       "    <tr>\n",
       "      <th>61</th>\n",
       "      <td>charlotte</td>\n",
       "      <td>USA</td>\n",
       "      <td>1126</td>\n",
       "      <td>650</td>\n",
       "    </tr>\n",
       "    <tr>\n",
       "      <th>60</th>\n",
       "      <td>richmond</td>\n",
       "      <td>USA</td>\n",
       "      <td>1131</td>\n",
       "      <td>700</td>\n",
       "    </tr>\n",
       "    <tr>\n",
       "      <th>59</th>\n",
       "      <td>riverside/san bernardino</td>\n",
       "      <td>USA</td>\n",
       "      <td>1136</td>\n",
       "      <td>1350</td>\n",
       "    </tr>\n",
       "    <tr>\n",
       "      <th>58</th>\n",
       "      <td>istanbul</td>\n",
       "      <td>Turkey</td>\n",
       "      <td>1166</td>\n",
       "      <td>7700</td>\n",
       "    </tr>\n",
       "    <tr>\n",
       "      <th>57</th>\n",
       "      <td>orlando</td>\n",
       "      <td>USA</td>\n",
       "      <td>1174</td>\n",
       "      <td>1000</td>\n",
       "    </tr>\n",
       "    <tr>\n",
       "      <th>56</th>\n",
       "      <td>marseille</td>\n",
       "      <td>France</td>\n",
       "      <td>1204</td>\n",
       "      <td>1100</td>\n",
       "    </tr>\n",
       "    <tr>\n",
       "      <th>55</th>\n",
       "      <td>bridgeport//stamford</td>\n",
       "      <td>USA</td>\n",
       "      <td>1205</td>\n",
       "      <td>750</td>\n",
       "    </tr>\n",
       "    <tr>\n",
       "      <th>54</th>\n",
       "      <td>hartford</td>\n",
       "      <td>USA</td>\n",
       "      <td>1216</td>\n",
       "      <td>700</td>\n",
       "    </tr>\n",
       "    <tr>\n",
       "      <th>53</th>\n",
       "      <td>portland</td>\n",
       "      <td>USA</td>\n",
       "      <td>1228</td>\n",
       "      <td>1300</td>\n",
       "    </tr>\n",
       "    <tr>\n",
       "      <th>52</th>\n",
       "      <td>milwaukee</td>\n",
       "      <td>USA</td>\n",
       "      <td>1261</td>\n",
       "      <td>1050</td>\n",
       "    </tr>\n",
       "    <tr>\n",
       "      <th>51</th>\n",
       "      <td>denver</td>\n",
       "      <td>USA</td>\n",
       "      <td>1292</td>\n",
       "      <td>1550</td>\n",
       "    </tr>\n",
       "  </tbody>\n",
       "</table>\n",
       "</div>"
      ],
      "text/plain": [
       "                         City       Country  Landarea  Density\n",
       "100                    jeddah  saudi arabia       777     3550\n",
       "99                  abu dhabi           UAE       777      700\n",
       "98                      akron           USA       797      700\n",
       "97                springfield           USA       800      700\n",
       "96                 barcelona          spain       803     4850\n",
       "95                  tou louse        france       808      950\n",
       "94                   mc allen           USA       813      650\n",
       "92               cologne/bonn       germany       816     2400\n",
       "93                 copenhagen       denmark       816     1850\n",
       "91                     austin           USA       824     1100\n",
       "90                    raleigh           USA       828      650\n",
       "89                    hamburg       Germany       829     2300\n",
       "88                     durban  South Africa       829     3500\n",
       "87              oklahoma city           USA       835      900\n",
       "86                     dayton           USA       838      850\n",
       "85                       rome         Italy       842     2950\n",
       "84                   edmonton        Canada       850      900\n",
       "83             belo horizonte        Brazil       868     4600\n",
       "82                  knoxville           USA       879      500\n",
       "81                     lisbon      Portugal       881     2550\n",
       "80                     madrid         Spain       945     5200\n",
       "79                    buffalo           USA       950     1050\n",
       "78                       lyon        France       954     1400\n",
       "77                sa cramento           USA       956     1450\n",
       "76                      perth     Australia       964     1200\n",
       "75                  frankfurt       Germany       984     2300\n",
       "74                     berlin       Germany       984     3750\n",
       "73                    bangkok      Thailand      1010     6450\n",
       "72                 louisville           USA      1013      850\n",
       "71                 birmingham           USA      1016      650\n",
       "70                   columbus           USA      1030     1100\n",
       "69                    memphis           USA      1036      950\n",
       "68             seoul /incheon   South Korea      1049    16700\n",
       "67                san antonio           USA      1056     1250\n",
       "66                   bordeaux        France      1057      700\n",
       "65               jacksonville           USA      1063      850\n",
       "64                     riyadh  Saudi Arabia      1101     3650\n",
       "63                  nashville           USA      1116      650\n",
       "62                  vancouver        Canada      1120     1650\n",
       "61                  charlotte           USA      1126      650\n",
       "60                   richmond           USA      1131      700\n",
       "59   riverside/san bernardino           USA      1136     1350\n",
       "58                   istanbul        Turkey      1166     7700\n",
       "57                    orlando           USA      1174     1000\n",
       "56                  marseille        France      1204     1100\n",
       "55       bridgeport//stamford           USA      1205      750\n",
       "54                   hartford           USA      1216      700\n",
       "53                   portland           USA      1228     1300\n",
       "52                  milwaukee           USA      1261     1050\n",
       "51                     denver           USA      1292     1550"
      ]
     },
     "execution_count": 68,
     "metadata": {},
     "output_type": "execute_result"
    }
   ],
   "source": [
    "df6=df2.iloc[150:200,:]\n",
    "df6\n"
   ]
  },
  {
   "cell_type": "code",
   "execution_count": 69,
   "id": "2c346378",
   "metadata": {},
   "outputs": [
    {
     "data": {
      "text/plain": [
       "100    777\n",
       "99     777\n",
       "98     797\n",
       "97     800\n",
       "96     803\n",
       "Name: Landarea, dtype: int32"
      ]
     },
     "execution_count": 69,
     "metadata": {},
     "output_type": "execute_result"
    }
   ],
   "source": [
    "Land=df6.iloc[:,2]\n",
    "Land.head()"
   ]
  },
  {
   "cell_type": "code",
   "execution_count": 70,
   "id": "dd19782d",
   "metadata": {},
   "outputs": [
    {
     "data": {
      "text/plain": [
       "array([ 777,  777,  797,  800,  803,  808,  813,  816,  816,  824,  828,\n",
       "        829,  829,  835,  838,  842,  850,  868,  879,  881,  945,  950,\n",
       "        954,  956,  964,  984,  984, 1010, 1013, 1016, 1030, 1036, 1049,\n",
       "       1056, 1057, 1063, 1101, 1116, 1120, 1126, 1131, 1136, 1166, 1174,\n",
       "       1204, 1205, 1216, 1228, 1261, 1292])"
      ]
     },
     "execution_count": 70,
     "metadata": {},
     "output_type": "execute_result"
    }
   ],
   "source": [
    "x=Land.values\n",
    "x"
   ]
  },
  {
   "cell_type": "code",
   "execution_count": 71,
   "id": "50942e55",
   "metadata": {},
   "outputs": [
    {
     "data": {
      "text/plain": [
       "100    3550\n",
       "99      700\n",
       "98      700\n",
       "97      700\n",
       "96     4850\n",
       "Name: Density, dtype: int32"
      ]
     },
     "execution_count": 71,
     "metadata": {},
     "output_type": "execute_result"
    }
   ],
   "source": [
    "Density=df6.iloc[:,3]\n",
    "Density.head()"
   ]
  },
  {
   "cell_type": "code",
   "execution_count": 72,
   "id": "8c8bceaa",
   "metadata": {},
   "outputs": [
    {
     "data": {
      "text/plain": [
       "array([ 3550,   700,   700,   700,  4850,   950,   650,  2400,  1850,\n",
       "        1100,   650,  2300,  3500,   900,   850,  2950,   900,  4600,\n",
       "         500,  2550,  5200,  1050,  1400,  1450,  1200,  2300,  3750,\n",
       "        6450,   850,   650,  1100,   950, 16700,  1250,   700,   850,\n",
       "        3650,   650,  1650,   650,   700,  1350,  7700,  1000,  1100,\n",
       "         750,   700,  1300,  1050,  1550])"
      ]
     },
     "execution_count": 72,
     "metadata": {},
     "output_type": "execute_result"
    }
   ],
   "source": [
    "\n",
    "y=Density.values\n",
    "y"
   ]
  },
  {
   "cell_type": "code",
   "execution_count": 73,
   "id": "08965740",
   "metadata": {},
   "outputs": [
    {
     "data": {
      "image/png": "[encoded data removed]",
      "text/plain": [
       "<Figure size 432x288 with 1 Axes>"
      ]
     },
     "metadata": {
      "needs_background": "light"
     },
     "output_type": "display_data"
    }
   ],
   "source": [
    "import matplotlib.pyplot as plt\n",
    "plt.scatter(x,y,label=\" \",color=\"y\",s=100)\n",
    "plt.xlabel(\"LandArea\")\n",
    "plt.ylabel(\"Density\")\n",
    "plt.title(\"LandArea vs Density\")\n",
    "#plt.legend(\"c\")\n",
    "plt.show()"
   ]
  },
  {
   "cell_type": "markdown",
   "id": "14ec2fdd",
   "metadata": {},
   "source": [
    "# Landarea vs Density (50 to 1)"
   ]
  },
  {
   "cell_type": "markdown",
   "id": "4d2a3f47",
   "metadata": {},
   "source": [
    "# Missing Alingment -->15,16"
   ]
  },
  {
   "cell_type": "code",
   "execution_count": 74,
   "id": "d770d77a",
   "metadata": {},
   "outputs": [
    {
     "data": {
      "text/html": [
       "<div>\n",
       "<style scoped>\n",
       "    .dataframe tbody tr th:only-of-type {\n",
       "        vertical-align: middle;\n",
       "    }\n",
       "\n",
       "    .dataframe tbody tr th {\n",
       "        vertical-align: top;\n",
       "    }\n",
       "\n",
       "    .dataframe thead th {\n",
       "        text-align: right;\n",
       "    }\n",
       "</style>\n",
       "<table border=\"1\" class=\"dataframe\">\n",
       "  <thead>\n",
       "    <tr style=\"text-align: right;\">\n",
       "      <th></th>\n",
       "      <th>City</th>\n",
       "      <th>Country</th>\n",
       "      <th>Landarea</th>\n",
       "      <th>Density</th>\n",
       "    </tr>\n",
       "  </thead>\n",
       "  <tbody>\n",
       "    <tr>\n",
       "      <th>50</th>\n",
       "      <td>delhi</td>\n",
       "      <td>India</td>\n",
       "      <td>1295</td>\n",
       "      <td>11050</td>\n",
       "    </tr>\n",
       "    <tr>\n",
       "      <th>49</th>\n",
       "      <td>cairo</td>\n",
       "      <td>Egypt</td>\n",
       "      <td>1295</td>\n",
       "      <td>9400</td>\n",
       "    </tr>\n",
       "    <tr>\n",
       "      <th>48</th>\n",
       "      <td>providence</td>\n",
       "      <td>USA</td>\n",
       "      <td>1304</td>\n",
       "      <td>900</td>\n",
       "    </tr>\n",
       "    <tr>\n",
       "      <th>47</th>\n",
       "      <td>jakarta</td>\n",
       "      <td>Indonesia</td>\n",
       "      <td>1360</td>\n",
       "      <td>10500</td>\n",
       "    </tr>\n",
       "    <tr>\n",
       "      <th>46</th>\n",
       "      <td>virginia beach</td>\n",
       "      <td>USA</td>\n",
       "      <td>1364</td>\n",
       "      <td>1000</td>\n",
       "    </tr>\n",
       "    <tr>\n",
       "      <th>45</th>\n",
       "      <td>san francisco//oakland</td>\n",
       "      <td>USA</td>\n",
       "      <td>1365</td>\n",
       "      <td>2350</td>\n",
       "    </tr>\n",
       "    <tr>\n",
       "      <th>44</th>\n",
       "      <td>manila</td>\n",
       "      <td>Philippines</td>\n",
       "      <td>1399</td>\n",
       "      <td>10550</td>\n",
       "    </tr>\n",
       "    <tr>\n",
       "      <th>43</th>\n",
       "      <td>indiana polis</td>\n",
       "      <td>USA</td>\n",
       "      <td>1432</td>\n",
       "      <td>850</td>\n",
       "    </tr>\n",
       "    <tr>\n",
       "      <th>42</th>\n",
       "      <td>kanas city</td>\n",
       "      <td>USA</td>\n",
       "      <td>1514</td>\n",
       "      <td>900</td>\n",
       "    </tr>\n",
       "    <tr>\n",
       "      <th>41</th>\n",
       "      <td>milan</td>\n",
       "      <td>Italy</td>\n",
       "      <td>1554</td>\n",
       "      <td>2750</td>\n",
       "    </tr>\n",
       "    <tr>\n",
       "      <th>40</th>\n",
       "      <td>rio de janeiro</td>\n",
       "      <td>Brazil</td>\n",
       "      <td>1580</td>\n",
       "      <td>6850</td>\n",
       "    </tr>\n",
       "    <tr>\n",
       "      <th>39</th>\n",
       "      <td>brisbane</td>\n",
       "      <td>Australia</td>\n",
       "      <td>1603</td>\n",
       "      <td>950</td>\n",
       "    </tr>\n",
       "    <tr>\n",
       "      <th>38</th>\n",
       "      <td>kuala lumpur</td>\n",
       "      <td>Malaysia</td>\n",
       "      <td>1606</td>\n",
       "      <td>2750</td>\n",
       "    </tr>\n",
       "    <tr>\n",
       "      <th>37</th>\n",
       "      <td>london</td>\n",
       "      <td>UK</td>\n",
       "      <td>1623</td>\n",
       "      <td>5100</td>\n",
       "    </tr>\n",
       "    <tr>\n",
       "      <th>36</th>\n",
       "      <td>toronto</td>\n",
       "      <td>Canada</td>\n",
       "      <td>1655</td>\n",
       "      <td>2650</td>\n",
       "    </tr>\n",
       "    <tr>\n",
       "      <th>35</th>\n",
       "      <td>cleveland</td>\n",
       "      <td>USA</td>\n",
       "      <td>1675</td>\n",
       "      <td>1050</td>\n",
       "    </tr>\n",
       "    <tr>\n",
       "      <th>34</th>\n",
       "      <td>sydney</td>\n",
       "      <td>Australia</td>\n",
       "      <td>1687</td>\n",
       "      <td>2100</td>\n",
       "    </tr>\n",
       "    <tr>\n",
       "      <th>33</th>\n",
       "      <td>montreal</td>\n",
       "      <td>Canada</td>\n",
       "      <td>1740</td>\n",
       "      <td>1850</td>\n",
       "    </tr>\n",
       "    <tr>\n",
       "      <th>32</th>\n",
       "      <td>cincinnati</td>\n",
       "      <td>USA</td>\n",
       "      <td>1740</td>\n",
       "      <td>850</td>\n",
       "    </tr>\n",
       "    <tr>\n",
       "      <th>31</th>\n",
       "      <td>baltimore</td>\n",
       "      <td>USA</td>\n",
       "      <td>1768</td>\n",
       "      <td>1150</td>\n",
       "    </tr>\n",
       "    <tr>\n",
       "      <th>30</th>\n",
       "      <td>sao paulo</td>\n",
       "      <td>Brazil</td>\n",
       "      <td>1968</td>\n",
       "      <td>9000</td>\n",
       "    </tr>\n",
       "    <tr>\n",
       "      <th>29</th>\n",
       "      <td>san diego</td>\n",
       "      <td>USA</td>\n",
       "      <td>2026</td>\n",
       "      <td>1300</td>\n",
       "    </tr>\n",
       "    <tr>\n",
       "      <th>28</th>\n",
       "      <td>phoenix/mesa</td>\n",
       "      <td>USA</td>\n",
       "      <td>2069</td>\n",
       "      <td>1400</td>\n",
       "    </tr>\n",
       "    <tr>\n",
       "      <th>27</th>\n",
       "      <td>mexico city</td>\n",
       "      <td>Mexico</td>\n",
       "      <td>2072</td>\n",
       "      <td>8400</td>\n",
       "    </tr>\n",
       "    <tr>\n",
       "      <th>26</th>\n",
       "      <td>tampa//st.petersburg</td>\n",
       "      <td>USA</td>\n",
       "      <td>2078</td>\n",
       "      <td>1000</td>\n",
       "    </tr>\n",
       "    <tr>\n",
       "      <th>25</th>\n",
       "      <td>melbourne</td>\n",
       "      <td>Australia</td>\n",
       "      <td>2080</td>\n",
       "      <td>1500</td>\n",
       "    </tr>\n",
       "    <tr>\n",
       "      <th>24</th>\n",
       "      <td>st.lousi</td>\n",
       "      <td>USA</td>\n",
       "      <td>2147</td>\n",
       "      <td>950</td>\n",
       "    </tr>\n",
       "    <tr>\n",
       "      <th>23</th>\n",
       "      <td>moscow</td>\n",
       "      <td>Russia</td>\n",
       "      <td>2150</td>\n",
       "      <td>4900</td>\n",
       "    </tr>\n",
       "    <tr>\n",
       "      <th>22</th>\n",
       "      <td>pittsburgh</td>\n",
       "      <td>USA</td>\n",
       "      <td>2208</td>\n",
       "      <td>800</td>\n",
       "    </tr>\n",
       "    <tr>\n",
       "      <th>21</th>\n",
       "      <td>bvenos aires</td>\n",
       "      <td>Argentina</td>\n",
       "      <td>2266</td>\n",
       "      <td>4950</td>\n",
       "    </tr>\n",
       "    <tr>\n",
       "      <th>20</th>\n",
       "      <td>san juan</td>\n",
       "      <td>Puerto Rico</td>\n",
       "      <td>2309</td>\n",
       "      <td>950</td>\n",
       "    </tr>\n",
       "    <tr>\n",
       "      <th>19</th>\n",
       "      <td>minneapolis/st.paul</td>\n",
       "      <td>USA</td>\n",
       "      <td>2316</td>\n",
       "      <td>1050</td>\n",
       "    </tr>\n",
       "    <tr>\n",
       "      <th>18</th>\n",
       "      <td>johannesburg/east round</td>\n",
       "      <td>South Africa</td>\n",
       "      <td>2396</td>\n",
       "      <td>2500</td>\n",
       "    </tr>\n",
       "    <tr>\n",
       "      <th>17</th>\n",
       "      <td>seattle</td>\n",
       "      <td>USA</td>\n",
       "      <td>2470</td>\n",
       "      <td>1100</td>\n",
       "    </tr>\n",
       "    <tr>\n",
       "      <th>15</th>\n",
       "      <td>essen/dusseldorf</td>\n",
       "      <td>Germany</td>\n",
       "      <td>2642</td>\n",
       "      <td>2800</td>\n",
       "    </tr>\n",
       "    <tr>\n",
       "      <th>16</th>\n",
       "      <td>osaka/kobe/kyoto</td>\n",
       "      <td>Japan</td>\n",
       "      <td>2664</td>\n",
       "      <td>6400</td>\n",
       "    </tr>\n",
       "    <tr>\n",
       "      <th>14</th>\n",
       "      <td>paris</td>\n",
       "      <td>France</td>\n",
       "      <td>2723</td>\n",
       "      <td>3550</td>\n",
       "    </tr>\n",
       "    <tr>\n",
       "      <th>13</th>\n",
       "      <td>nagoya</td>\n",
       "      <td>Japan</td>\n",
       "      <td>2875</td>\n",
       "      <td>3150</td>\n",
       "    </tr>\n",
       "    <tr>\n",
       "      <th>12</th>\n",
       "      <td>miami</td>\n",
       "      <td>USA</td>\n",
       "      <td>2891</td>\n",
       "      <td>1700</td>\n",
       "    </tr>\n",
       "    <tr>\n",
       "      <th>11</th>\n",
       "      <td>washington</td>\n",
       "      <td>USA</td>\n",
       "      <td>2996</td>\n",
       "      <td>1300</td>\n",
       "    </tr>\n",
       "    <tr>\n",
       "      <th>10</th>\n",
       "      <td>detroit</td>\n",
       "      <td>USA</td>\n",
       "      <td>3267</td>\n",
       "      <td>1200</td>\n",
       "    </tr>\n",
       "    <tr>\n",
       "      <th>9</th>\n",
       "      <td>houston</td>\n",
       "      <td>USA</td>\n",
       "      <td>3355</td>\n",
       "      <td>1150</td>\n",
       "    </tr>\n",
       "    <tr>\n",
       "      <th>8</th>\n",
       "      <td>Dallas/fort worth</td>\n",
       "      <td>USA</td>\n",
       "      <td>3644</td>\n",
       "      <td>1150</td>\n",
       "    </tr>\n",
       "    <tr>\n",
       "      <th>7</th>\n",
       "      <td>los anpletes</td>\n",
       "      <td>USA</td>\n",
       "      <td>4320</td>\n",
       "      <td>2750</td>\n",
       "    </tr>\n",
       "    <tr>\n",
       "      <th>6</th>\n",
       "      <td>boston</td>\n",
       "      <td>USA</td>\n",
       "      <td>4497</td>\n",
       "      <td>900</td>\n",
       "    </tr>\n",
       "    <tr>\n",
       "      <th>5</th>\n",
       "      <td>philadelphia</td>\n",
       "      <td>USA</td>\n",
       "      <td>4661</td>\n",
       "      <td>1100</td>\n",
       "    </tr>\n",
       "    <tr>\n",
       "      <th>4</th>\n",
       "      <td>aflanta</td>\n",
       "      <td>USA</td>\n",
       "      <td>5083</td>\n",
       "      <td>700</td>\n",
       "    </tr>\n",
       "    <tr>\n",
       "      <th>3</th>\n",
       "      <td>chicapo</td>\n",
       "      <td>USA</td>\n",
       "      <td>5498</td>\n",
       "      <td>1500</td>\n",
       "    </tr>\n",
       "    <tr>\n",
       "      <th>2</th>\n",
       "      <td>Yokyo / yokohana</td>\n",
       "      <td>Japan</td>\n",
       "      <td>6993</td>\n",
       "      <td>4750</td>\n",
       "    </tr>\n",
       "    <tr>\n",
       "      <th>1</th>\n",
       "      <td>New York Metro</td>\n",
       "      <td>USA</td>\n",
       "      <td>8683</td>\n",
       "      <td>2050</td>\n",
       "    </tr>\n",
       "  </tbody>\n",
       "</table>\n",
       "</div>"
      ],
      "text/plain": [
       "                       City       Country  Landarea  Density\n",
       "50                    delhi         India      1295    11050\n",
       "49                    cairo         Egypt      1295     9400\n",
       "48               providence           USA      1304      900\n",
       "47                  jakarta     Indonesia      1360    10500\n",
       "46           virginia beach           USA      1364     1000\n",
       "45   san francisco//oakland           USA      1365     2350\n",
       "44                   manila   Philippines      1399    10550\n",
       "43            indiana polis           USA      1432      850\n",
       "42               kanas city           USA      1514      900\n",
       "41                    milan         Italy      1554     2750\n",
       "40           rio de janeiro        Brazil      1580     6850\n",
       "39                 brisbane     Australia      1603      950\n",
       "38             kuala lumpur      Malaysia      1606     2750\n",
       "37                   london            UK      1623     5100\n",
       "36                  toronto        Canada      1655     2650\n",
       "35                cleveland           USA      1675     1050\n",
       "34                   sydney     Australia      1687     2100\n",
       "33                 montreal        Canada      1740     1850\n",
       "32               cincinnati           USA      1740      850\n",
       "31                baltimore           USA      1768     1150\n",
       "30                sao paulo        Brazil      1968     9000\n",
       "29                san diego           USA      2026     1300\n",
       "28             phoenix/mesa           USA      2069     1400\n",
       "27              mexico city        Mexico      2072     8400\n",
       "26     tampa//st.petersburg           USA      2078     1000\n",
       "25                melbourne     Australia      2080     1500\n",
       "24                 st.lousi           USA      2147      950\n",
       "23                   moscow        Russia      2150     4900\n",
       "22               pittsburgh           USA      2208      800\n",
       "21             bvenos aires     Argentina      2266     4950\n",
       "20                 san juan   Puerto Rico      2309      950\n",
       "19      minneapolis/st.paul           USA      2316     1050\n",
       "18  johannesburg/east round  South Africa      2396     2500\n",
       "17                  seattle           USA      2470     1100\n",
       "15         essen/dusseldorf       Germany      2642     2800\n",
       "16         osaka/kobe/kyoto         Japan      2664     6400\n",
       "14                    paris        France      2723     3550\n",
       "13                   nagoya         Japan      2875     3150\n",
       "12                    miami           USA      2891     1700\n",
       "11               washington           USA      2996     1300\n",
       "10                  detroit           USA      3267     1200\n",
       "9                   houston           USA      3355     1150\n",
       "8         Dallas/fort worth           USA      3644     1150\n",
       "7              los anpletes           USA      4320     2750\n",
       "6                   boston            USA      4497      900\n",
       "5              philadelphia           USA      4661     1100\n",
       "4                   aflanta           USA      5083      700\n",
       "3                   chicapo           USA      5498     1500\n",
       "2          Yokyo / yokohana         Japan      6993     4750\n",
       "1            New York Metro           USA      8683     2050"
      ]
     },
     "execution_count": 74,
     "metadata": {},
     "output_type": "execute_result"
    }
   ],
   "source": [
    "df7=df2.iloc[200:250,:]\n",
    "df7"
   ]
  },
  {
   "cell_type": "code",
   "execution_count": 75,
   "id": "7f689621",
   "metadata": {},
   "outputs": [
    {
     "data": {
      "text/plain": [
       "50    1295\n",
       "49    1295\n",
       "48    1304\n",
       "47    1360\n",
       "46    1364\n",
       "Name: Landarea, dtype: int32"
      ]
     },
     "execution_count": 75,
     "metadata": {},
     "output_type": "execute_result"
    }
   ],
   "source": [
    "Land=df7.iloc[:,2]\n",
    "Land.head()"
   ]
  },
  {
   "cell_type": "code",
   "execution_count": 76,
   "id": "782f6b98",
   "metadata": {},
   "outputs": [
    {
     "data": {
      "text/plain": [
       "array([1295, 1295, 1304, 1360, 1364, 1365, 1399, 1432, 1514, 1554, 1580,\n",
       "       1603, 1606, 1623, 1655, 1675, 1687, 1740, 1740, 1768, 1968, 2026,\n",
       "       2069, 2072, 2078, 2080, 2147, 2150, 2208, 2266, 2309, 2316, 2396,\n",
       "       2470, 2642, 2664, 2723, 2875, 2891, 2996, 3267, 3355, 3644, 4320,\n",
       "       4497, 4661, 5083, 5498, 6993, 8683])"
      ]
     },
     "execution_count": 76,
     "metadata": {},
     "output_type": "execute_result"
    }
   ],
   "source": [
    "x=Land.values\n",
    "x"
   ]
  },
  {
   "cell_type": "code",
   "execution_count": 77,
   "id": "6ef90dd3",
   "metadata": {},
   "outputs": [
    {
     "data": {
      "text/plain": [
       "50    11050\n",
       "49     9400\n",
       "48      900\n",
       "47    10500\n",
       "46     1000\n",
       "Name: Density, dtype: int32"
      ]
     },
     "execution_count": 77,
     "metadata": {},
     "output_type": "execute_result"
    }
   ],
   "source": [
    "Density=df7.iloc[:,3]\n",
    "Density.head()"
   ]
  },
  {
   "cell_type": "code",
   "execution_count": 78,
   "id": "cbaaf76a",
   "metadata": {},
   "outputs": [
    {
     "data": {
      "text/plain": [
       "array([11050,  9400,   900, 10500,  1000,  2350, 10550,   850,   900,\n",
       "        2750,  6850,   950,  2750,  5100,  2650,  1050,  2100,  1850,\n",
       "         850,  1150,  9000,  1300,  1400,  8400,  1000,  1500,   950,\n",
       "        4900,   800,  4950,   950,  1050,  2500,  1100,  2800,  6400,\n",
       "        3550,  3150,  1700,  1300,  1200,  1150,  1150,  2750,   900,\n",
       "        1100,   700,  1500,  4750,  2050])"
      ]
     },
     "execution_count": 78,
     "metadata": {},
     "output_type": "execute_result"
    }
   ],
   "source": [
    "y=Density.values\n",
    "y\n"
   ]
  },
  {
   "cell_type": "code",
   "execution_count": 79,
   "id": "f23bd5c9",
   "metadata": {},
   "outputs": [
    {
     "data": {
      "image/png": "[encoded data removed]",
      "text/plain": [
       "<Figure size 432x288 with 1 Axes>"
      ]
     },
     "metadata": {
      "needs_background": "light"
     },
     "output_type": "display_data"
    }
   ],
   "source": [
    "import matplotlib.pyplot as plt\n",
    "plt.scatter(x,y,label=\" \",color=\"y\",s=100)\n",
    "plt.xlabel(\"LandArea\")\n",
    "plt.ylabel(\"Density\")\n",
    "plt.title(\"LandArea vs Density\")\n",
    "#plt.legend(\"c\")\n",
    "plt.show()"
   ]
  },
  {
   "cell_type": "code",
   "execution_count": 80,
   "id": "9f9b3fce",
   "metadata": {},
   "outputs": [
    {
     "data": {
      "text/html": [
       "<div>\n",
       "<style scoped>\n",
       "    .dataframe tbody tr th:only-of-type {\n",
       "        vertical-align: middle;\n",
       "    }\n",
       "\n",
       "    .dataframe tbody tr th {\n",
       "        vertical-align: top;\n",
       "    }\n",
       "\n",
       "    .dataframe thead th {\n",
       "        text-align: right;\n",
       "    }\n",
       "</style>\n",
       "<table border=\"1\" class=\"dataframe\">\n",
       "  <thead>\n",
       "    <tr style=\"text-align: right;\">\n",
       "      <th></th>\n",
       "      <th>City</th>\n",
       "      <th>Country</th>\n",
       "      <th>Landarea</th>\n",
       "      <th>Density</th>\n",
       "    </tr>\n",
       "  </thead>\n",
       "  <tbody>\n",
       "    <tr>\n",
       "      <th>14</th>\n",
       "      <td>paris</td>\n",
       "      <td>France</td>\n",
       "      <td>2723</td>\n",
       "      <td>3550</td>\n",
       "    </tr>\n",
       "    <tr>\n",
       "      <th>56</th>\n",
       "      <td>marseille</td>\n",
       "      <td>France</td>\n",
       "      <td>1204</td>\n",
       "      <td>1100</td>\n",
       "    </tr>\n",
       "    <tr>\n",
       "      <th>66</th>\n",
       "      <td>bordeaux</td>\n",
       "      <td>France</td>\n",
       "      <td>1057</td>\n",
       "      <td>700</td>\n",
       "    </tr>\n",
       "    <tr>\n",
       "      <th>78</th>\n",
       "      <td>lyon</td>\n",
       "      <td>France</td>\n",
       "      <td>954</td>\n",
       "      <td>1400</td>\n",
       "    </tr>\n",
       "    <tr>\n",
       "      <th>190</th>\n",
       "      <td>avignon</td>\n",
       "      <td>France</td>\n",
       "      <td>508</td>\n",
       "      <td>500</td>\n",
       "    </tr>\n",
       "    <tr>\n",
       "      <th>191</th>\n",
       "      <td>valenciennes</td>\n",
       "      <td>France</td>\n",
       "      <td>507</td>\n",
       "      <td>700</td>\n",
       "    </tr>\n",
       "    <tr>\n",
       "      <th>197</th>\n",
       "      <td>douai/lens</td>\n",
       "      <td>France</td>\n",
       "      <td>489</td>\n",
       "      <td>1050</td>\n",
       "    </tr>\n",
       "    <tr>\n",
       "      <th>205</th>\n",
       "      <td>nantes</td>\n",
       "      <td>France</td>\n",
       "      <td>476</td>\n",
       "      <td>1150</td>\n",
       "    </tr>\n",
       "    <tr>\n",
       "      <th>206</th>\n",
       "      <td>lille</td>\n",
       "      <td>France</td>\n",
       "      <td>474</td>\n",
       "      <td>2200</td>\n",
       "    </tr>\n",
       "    <tr>\n",
       "      <th>220</th>\n",
       "      <td>pau</td>\n",
       "      <td>France</td>\n",
       "      <td>450</td>\n",
       "      <td>400</td>\n",
       "    </tr>\n",
       "    <tr>\n",
       "      <th>226</th>\n",
       "      <td>tours</td>\n",
       "      <td>France</td>\n",
       "      <td>421</td>\n",
       "      <td>700</td>\n",
       "    </tr>\n",
       "    <tr>\n",
       "      <th>238</th>\n",
       "      <td>bethune</td>\n",
       "      <td>France</td>\n",
       "      <td>390</td>\n",
       "      <td>650</td>\n",
       "    </tr>\n",
       "  </tbody>\n",
       "</table>\n",
       "</div>"
      ],
      "text/plain": [
       "             City Country  Landarea  Density\n",
       "14          paris  France      2723     3550\n",
       "56      marseille  France      1204     1100\n",
       "66       bordeaux  France      1057      700\n",
       "78           lyon  France       954     1400\n",
       "190       avignon  France       508      500\n",
       "191  valenciennes  France       507      700\n",
       "197    douai/lens  France       489     1050\n",
       "205        nantes  France       476     1150\n",
       "206         lille  France       474     2200\n",
       "220           pau  France       450      400\n",
       "226         tours  France       421      700\n",
       "238       bethune  France       390      650"
      ]
     },
     "metadata": {},
     "output_type": "display_data"
    }
   ],
   "source": [
    "df8=df[df['Country']== \"France\"]\n",
    "display(df[df['Country']== \"France\"])"
   ]
  },
  {
   "cell_type": "markdown",
   "id": "9544db4a",
   "metadata": {},
   "source": [
    "# Landarea vs Density (Germany)"
   ]
  },
  {
   "cell_type": "code",
   "execution_count": 81,
   "id": "f8a7f71a",
   "metadata": {},
   "outputs": [
    {
     "data": {
      "text/html": [
       "<div>\n",
       "<style scoped>\n",
       "    .dataframe tbody tr th:only-of-type {\n",
       "        vertical-align: middle;\n",
       "    }\n",
       "\n",
       "    .dataframe tbody tr th {\n",
       "        vertical-align: top;\n",
       "    }\n",
       "\n",
       "    .dataframe thead th {\n",
       "        text-align: right;\n",
       "    }\n",
       "</style>\n",
       "<table border=\"1\" class=\"dataframe\">\n",
       "  <thead>\n",
       "    <tr style=\"text-align: right;\">\n",
       "      <th></th>\n",
       "      <th>City</th>\n",
       "      <th>Country</th>\n",
       "      <th>Landarea</th>\n",
       "      <th>Density</th>\n",
       "    </tr>\n",
       "  </thead>\n",
       "  <tbody>\n",
       "    <tr>\n",
       "      <th>15</th>\n",
       "      <td>essen/dusseldorf</td>\n",
       "      <td>Germany</td>\n",
       "      <td>2642</td>\n",
       "      <td>2800</td>\n",
       "    </tr>\n",
       "    <tr>\n",
       "      <th>74</th>\n",
       "      <td>berlin</td>\n",
       "      <td>Germany</td>\n",
       "      <td>984</td>\n",
       "      <td>3750</td>\n",
       "    </tr>\n",
       "    <tr>\n",
       "      <th>75</th>\n",
       "      <td>frankfurt</td>\n",
       "      <td>Germany</td>\n",
       "      <td>984</td>\n",
       "      <td>2300</td>\n",
       "    </tr>\n",
       "    <tr>\n",
       "      <th>89</th>\n",
       "      <td>hamburg</td>\n",
       "      <td>Germany</td>\n",
       "      <td>829</td>\n",
       "      <td>2300</td>\n",
       "    </tr>\n",
       "    <tr>\n",
       "      <th>183</th>\n",
       "      <td>munichi</td>\n",
       "      <td>Germany</td>\n",
       "      <td>518</td>\n",
       "      <td>3100</td>\n",
       "    </tr>\n",
       "    <tr>\n",
       "      <th>230</th>\n",
       "      <td>stuttgart</td>\n",
       "      <td>Germany</td>\n",
       "      <td>411</td>\n",
       "      <td>3000</td>\n",
       "    </tr>\n",
       "    <tr>\n",
       "      <th>235</th>\n",
       "      <td>aachen</td>\n",
       "      <td>Germany</td>\n",
       "      <td>401</td>\n",
       "      <td>1450</td>\n",
       "    </tr>\n",
       "  </tbody>\n",
       "</table>\n",
       "</div>"
      ],
      "text/plain": [
       "                 City  Country  Landarea  Density\n",
       "15   essen/dusseldorf  Germany      2642     2800\n",
       "74             berlin  Germany       984     3750\n",
       "75          frankfurt  Germany       984     2300\n",
       "89            hamburg  Germany       829     2300\n",
       "183           munichi  Germany       518     3100\n",
       "230         stuttgart  Germany       411     3000\n",
       "235            aachen  Germany       401     1450"
      ]
     },
     "metadata": {},
     "output_type": "display_data"
    }
   ],
   "source": [
    "df8=df[df['Country']== \"Germany\"]\n",
    "display(df[df['Country']== \"Germany\"])"
   ]
  },
  {
   "cell_type": "code",
   "execution_count": 82,
   "id": "4658e1d8",
   "metadata": {},
   "outputs": [],
   "source": [
    "df8.to_csv(\"Germany.csv\")"
   ]
  },
  {
   "cell_type": "code",
   "execution_count": 83,
   "id": "8b2dad51",
   "metadata": {},
   "outputs": [
    {
     "data": {
      "text/plain": [
       "15     2642\n",
       "74      984\n",
       "75      984\n",
       "89      829\n",
       "183     518\n",
       "230     411\n",
       "235     401\n",
       "Name: Landarea, dtype: int32"
      ]
     },
     "execution_count": 83,
     "metadata": {},
     "output_type": "execute_result"
    }
   ],
   "source": [
    "Land=df8.iloc[:,2]\n",
    "Land.head(10)"
   ]
  },
  {
   "cell_type": "code",
   "execution_count": 84,
   "id": "60cd6669",
   "metadata": {},
   "outputs": [
    {
     "data": {
      "text/plain": [
       "15     2800\n",
       "74     3750\n",
       "75     2300\n",
       "89     2300\n",
       "183    3100\n",
       "230    3000\n",
       "235    1450\n",
       "Name: Density, dtype: int32"
      ]
     },
     "execution_count": 84,
     "metadata": {},
     "output_type": "execute_result"
    }
   ],
   "source": [
    "Density=df8.iloc[:,3]\n",
    "Density.head(10)"
   ]
  },
  {
   "cell_type": "code",
   "execution_count": 85,
   "id": "33eb56a1",
   "metadata": {},
   "outputs": [
    {
     "data": {
      "text/plain": [
       "array([2642,  984,  984,  829,  518,  411,  401])"
      ]
     },
     "execution_count": 85,
     "metadata": {},
     "output_type": "execute_result"
    }
   ],
   "source": [
    "x=Land.values\n",
    "x"
   ]
  },
  {
   "cell_type": "code",
   "execution_count": 86,
   "id": "7025f46d",
   "metadata": {},
   "outputs": [
    {
     "data": {
      "text/plain": [
       "array([2800, 3750, 2300, 2300, 3100, 3000, 1450])"
      ]
     },
     "execution_count": 86,
     "metadata": {},
     "output_type": "execute_result"
    }
   ],
   "source": [
    "y=Density.values\n",
    "y"
   ]
  },
  {
   "cell_type": "code",
   "execution_count": 87,
   "id": "a6fc221d",
   "metadata": {},
   "outputs": [
    {
     "data": {
      "image/png": "[encoded data removed]",
      "text/plain": [
       "<Figure size 432x288 with 1 Axes>"
      ]
     },
     "metadata": {
      "needs_background": "light"
     },
     "output_type": "display_data"
    }
   ],
   "source": [
    "import matplotlib.pyplot as plt\n",
    "plt.scatter(x,y,label=\" \",color=\"g\",s=100)\n",
    "plt.xlabel(\"LandArea\")\n",
    "plt.ylabel(\"Density\")\n",
    "plt.title(\"LandArea vs Density\")\n",
    "\n",
    "plt.show()"
   ]
  },
  {
   "cell_type": "markdown",
   "id": "bbb2439a",
   "metadata": {},
   "source": [
    "# Landarea vs Density (Brazil)"
   ]
  },
  {
   "cell_type": "code",
   "execution_count": 88,
   "id": "1fa07348",
   "metadata": {},
   "outputs": [
    {
     "data": {
      "text/html": [
       "<div>\n",
       "<style scoped>\n",
       "    .dataframe tbody tr th:only-of-type {\n",
       "        vertical-align: middle;\n",
       "    }\n",
       "\n",
       "    .dataframe tbody tr th {\n",
       "        vertical-align: top;\n",
       "    }\n",
       "\n",
       "    .dataframe thead th {\n",
       "        text-align: right;\n",
       "    }\n",
       "</style>\n",
       "<table border=\"1\" class=\"dataframe\">\n",
       "  <thead>\n",
       "    <tr style=\"text-align: right;\">\n",
       "      <th></th>\n",
       "      <th>City</th>\n",
       "      <th>Country</th>\n",
       "      <th>Landarea</th>\n",
       "      <th>Density</th>\n",
       "    </tr>\n",
       "  </thead>\n",
       "  <tbody>\n",
       "    <tr>\n",
       "      <th>30</th>\n",
       "      <td>sao paulo</td>\n",
       "      <td>Brazil</td>\n",
       "      <td>1968</td>\n",
       "      <td>9000</td>\n",
       "    </tr>\n",
       "    <tr>\n",
       "      <th>40</th>\n",
       "      <td>rio de janeiro</td>\n",
       "      <td>Brazil</td>\n",
       "      <td>1580</td>\n",
       "      <td>6850</td>\n",
       "    </tr>\n",
       "    <tr>\n",
       "      <th>83</th>\n",
       "      <td>belo horizonte</td>\n",
       "      <td>Brazil</td>\n",
       "      <td>868</td>\n",
       "      <td>4600</td>\n",
       "    </tr>\n",
       "    <tr>\n",
       "      <th>135</th>\n",
       "      <td>curitiba</td>\n",
       "      <td>Brazil</td>\n",
       "      <td>648</td>\n",
       "      <td>3850</td>\n",
       "    </tr>\n",
       "    <tr>\n",
       "      <th>154</th>\n",
       "      <td>brasile</td>\n",
       "      <td>Brazil</td>\n",
       "      <td>583</td>\n",
       "      <td>2800</td>\n",
       "    </tr>\n",
       "    <tr>\n",
       "      <th>155</th>\n",
       "      <td>fortaleza</td>\n",
       "      <td>Brazil</td>\n",
       "      <td>583</td>\n",
       "      <td>4550</td>\n",
       "    </tr>\n",
       "    <tr>\n",
       "      <th>159</th>\n",
       "      <td>porto alegre</td>\n",
       "      <td>Brazil</td>\n",
       "      <td>583</td>\n",
       "      <td>4800</td>\n",
       "    </tr>\n",
       "    <tr>\n",
       "      <th>195</th>\n",
       "      <td>campinas</td>\n",
       "      <td>Brazil</td>\n",
       "      <td>492</td>\n",
       "      <td>3550</td>\n",
       "    </tr>\n",
       "    <tr>\n",
       "      <th>199</th>\n",
       "      <td>goiania</td>\n",
       "      <td>Brazil</td>\n",
       "      <td>479</td>\n",
       "      <td>3100</td>\n",
       "    </tr>\n",
       "    <tr>\n",
       "      <th>244</th>\n",
       "      <td>recife</td>\n",
       "      <td>Brazil</td>\n",
       "      <td>376</td>\n",
       "      <td>8050</td>\n",
       "    </tr>\n",
       "  </tbody>\n",
       "</table>\n",
       "</div>"
      ],
      "text/plain": [
       "               City Country  Landarea  Density\n",
       "30        sao paulo  Brazil      1968     9000\n",
       "40   rio de janeiro  Brazil      1580     6850\n",
       "83   belo horizonte  Brazil       868     4600\n",
       "135        curitiba  Brazil       648     3850\n",
       "154         brasile  Brazil       583     2800\n",
       "155       fortaleza  Brazil       583     4550\n",
       "159    porto alegre  Brazil       583     4800\n",
       "195        campinas  Brazil       492     3550\n",
       "199         goiania  Brazil       479     3100\n",
       "244          recife  Brazil       376     8050"
      ]
     },
     "metadata": {},
     "output_type": "display_data"
    }
   ],
   "source": [
    "df9=df[df['Country']== \"Brazil\"]\n",
    "display(df[df['Country']== \"Brazil\"])"
   ]
  },
  {
   "cell_type": "code",
   "execution_count": 89,
   "id": "ce72e051",
   "metadata": {},
   "outputs": [],
   "source": [
    "#df9.to_csv(\"Brazil.csv\")"
   ]
  },
  {
   "cell_type": "code",
   "execution_count": 90,
   "id": "073aa03c",
   "metadata": {},
   "outputs": [
    {
     "data": {
      "text/plain": [
       "30     1968\n",
       "40     1580\n",
       "83      868\n",
       "135     648\n",
       "154     583\n",
       "Name: Landarea, dtype: int32"
      ]
     },
     "execution_count": 90,
     "metadata": {},
     "output_type": "execute_result"
    }
   ],
   "source": [
    "Land=df9.iloc[:,2]\n",
    "Land.head()"
   ]
  },
  {
   "cell_type": "code",
   "execution_count": 91,
   "id": "021552a0",
   "metadata": {},
   "outputs": [
    {
     "data": {
      "text/plain": [
       "30     9000\n",
       "40     6850\n",
       "83     4600\n",
       "135    3850\n",
       "154    2800\n",
       "Name: Density, dtype: int32"
      ]
     },
     "execution_count": 91,
     "metadata": {},
     "output_type": "execute_result"
    }
   ],
   "source": [
    "Density=df9.iloc[:,3]\n",
    "Density.head()"
   ]
  },
  {
   "cell_type": "code",
   "execution_count": 92,
   "id": "1dfffce6",
   "metadata": {},
   "outputs": [
    {
     "data": {
      "text/plain": [
       "array([1968, 1580,  868,  648,  583,  583,  583,  492,  479,  376])"
      ]
     },
     "execution_count": 92,
     "metadata": {},
     "output_type": "execute_result"
    }
   ],
   "source": [
    "x=Land.values\n",
    "x"
   ]
  },
  {
   "cell_type": "code",
   "execution_count": 93,
   "id": "08f0a900",
   "metadata": {},
   "outputs": [
    {
     "data": {
      "text/plain": [
       "array([9000, 6850, 4600, 3850, 2800, 4550, 4800, 3550, 3100, 8050])"
      ]
     },
     "execution_count": 93,
     "metadata": {},
     "output_type": "execute_result"
    }
   ],
   "source": [
    "y=Density.values\n",
    "y"
   ]
  },
  {
   "cell_type": "code",
   "execution_count": 94,
   "id": "3fbc1f0d",
   "metadata": {},
   "outputs": [
    {
     "data": {
      "image/png": "[encoded data removed]",
      "text/plain": [
       "<Figure size 432x288 with 1 Axes>"
      ]
     },
     "metadata": {
      "needs_background": "light"
     },
     "output_type": "display_data"
    }
   ],
   "source": [
    "import matplotlib.pyplot as plt\n",
    "plt.scatter(x,y,label=\" \",color=\"g\",s=100)\n",
    "plt.xlabel(\"LandArea\")\n",
    "plt.ylabel(\"Density\")\n",
    "plt.title(\"LandArea vs Density\")\n",
    "\n",
    "plt.show()"
   ]
  },
  {
   "cell_type": "markdown",
   "id": "4e5208ed",
   "metadata": {},
   "source": [
    "# Landarea vs Density (USA)"
   ]
  },
  {
   "cell_type": "code",
   "execution_count": 95,
   "id": "95d7321a",
   "metadata": {},
   "outputs": [
    {
     "data": {
      "text/html": [
       "<div>\n",
       "<style scoped>\n",
       "    .dataframe tbody tr th:only-of-type {\n",
       "        vertical-align: middle;\n",
       "    }\n",
       "\n",
       "    .dataframe tbody tr th {\n",
       "        vertical-align: top;\n",
       "    }\n",
       "\n",
       "    .dataframe thead th {\n",
       "        text-align: right;\n",
       "    }\n",
       "</style>\n",
       "<table border=\"1\" class=\"dataframe\">\n",
       "  <thead>\n",
       "    <tr style=\"text-align: right;\">\n",
       "      <th></th>\n",
       "      <th>City</th>\n",
       "      <th>Country</th>\n",
       "      <th>Landarea</th>\n",
       "      <th>Density</th>\n",
       "    </tr>\n",
       "  </thead>\n",
       "  <tbody>\n",
       "    <tr>\n",
       "      <th>1</th>\n",
       "      <td>New York Metro</td>\n",
       "      <td>USA</td>\n",
       "      <td>8683</td>\n",
       "      <td>2050</td>\n",
       "    </tr>\n",
       "    <tr>\n",
       "      <th>3</th>\n",
       "      <td>chicapo</td>\n",
       "      <td>USA</td>\n",
       "      <td>5498</td>\n",
       "      <td>1500</td>\n",
       "    </tr>\n",
       "    <tr>\n",
       "      <th>4</th>\n",
       "      <td>aflanta</td>\n",
       "      <td>USA</td>\n",
       "      <td>5083</td>\n",
       "      <td>700</td>\n",
       "    </tr>\n",
       "    <tr>\n",
       "      <th>5</th>\n",
       "      <td>philadelphia</td>\n",
       "      <td>USA</td>\n",
       "      <td>4661</td>\n",
       "      <td>1100</td>\n",
       "    </tr>\n",
       "    <tr>\n",
       "      <th>6</th>\n",
       "      <td>boston</td>\n",
       "      <td>USA</td>\n",
       "      <td>4497</td>\n",
       "      <td>900</td>\n",
       "    </tr>\n",
       "    <tr>\n",
       "      <th>7</th>\n",
       "      <td>los anpletes</td>\n",
       "      <td>USA</td>\n",
       "      <td>4320</td>\n",
       "      <td>2750</td>\n",
       "    </tr>\n",
       "    <tr>\n",
       "      <th>8</th>\n",
       "      <td>Dallas/fort worth</td>\n",
       "      <td>USA</td>\n",
       "      <td>3644</td>\n",
       "      <td>1150</td>\n",
       "    </tr>\n",
       "    <tr>\n",
       "      <th>9</th>\n",
       "      <td>houston</td>\n",
       "      <td>USA</td>\n",
       "      <td>3355</td>\n",
       "      <td>1150</td>\n",
       "    </tr>\n",
       "    <tr>\n",
       "      <th>10</th>\n",
       "      <td>detroit</td>\n",
       "      <td>USA</td>\n",
       "      <td>3267</td>\n",
       "      <td>1200</td>\n",
       "    </tr>\n",
       "    <tr>\n",
       "      <th>11</th>\n",
       "      <td>washington</td>\n",
       "      <td>USA</td>\n",
       "      <td>2996</td>\n",
       "      <td>1300</td>\n",
       "    </tr>\n",
       "    <tr>\n",
       "      <th>12</th>\n",
       "      <td>miami</td>\n",
       "      <td>USA</td>\n",
       "      <td>2891</td>\n",
       "      <td>1700</td>\n",
       "    </tr>\n",
       "    <tr>\n",
       "      <th>17</th>\n",
       "      <td>seattle</td>\n",
       "      <td>USA</td>\n",
       "      <td>2470</td>\n",
       "      <td>1100</td>\n",
       "    </tr>\n",
       "    <tr>\n",
       "      <th>19</th>\n",
       "      <td>minneapolis/st.paul</td>\n",
       "      <td>USA</td>\n",
       "      <td>2316</td>\n",
       "      <td>1050</td>\n",
       "    </tr>\n",
       "    <tr>\n",
       "      <th>22</th>\n",
       "      <td>pittsburgh</td>\n",
       "      <td>USA</td>\n",
       "      <td>2208</td>\n",
       "      <td>800</td>\n",
       "    </tr>\n",
       "    <tr>\n",
       "      <th>24</th>\n",
       "      <td>st.lousi</td>\n",
       "      <td>USA</td>\n",
       "      <td>2147</td>\n",
       "      <td>950</td>\n",
       "    </tr>\n",
       "    <tr>\n",
       "      <th>26</th>\n",
       "      <td>tampa//st.petersburg</td>\n",
       "      <td>USA</td>\n",
       "      <td>2078</td>\n",
       "      <td>1000</td>\n",
       "    </tr>\n",
       "    <tr>\n",
       "      <th>28</th>\n",
       "      <td>phoenix/mesa</td>\n",
       "      <td>USA</td>\n",
       "      <td>2069</td>\n",
       "      <td>1400</td>\n",
       "    </tr>\n",
       "    <tr>\n",
       "      <th>29</th>\n",
       "      <td>san diego</td>\n",
       "      <td>USA</td>\n",
       "      <td>2026</td>\n",
       "      <td>1300</td>\n",
       "    </tr>\n",
       "    <tr>\n",
       "      <th>31</th>\n",
       "      <td>baltimore</td>\n",
       "      <td>USA</td>\n",
       "      <td>1768</td>\n",
       "      <td>1150</td>\n",
       "    </tr>\n",
       "    <tr>\n",
       "      <th>32</th>\n",
       "      <td>cincinnati</td>\n",
       "      <td>USA</td>\n",
       "      <td>1740</td>\n",
       "      <td>850</td>\n",
       "    </tr>\n",
       "    <tr>\n",
       "      <th>35</th>\n",
       "      <td>cleveland</td>\n",
       "      <td>USA</td>\n",
       "      <td>1675</td>\n",
       "      <td>1050</td>\n",
       "    </tr>\n",
       "    <tr>\n",
       "      <th>42</th>\n",
       "      <td>kanas city</td>\n",
       "      <td>USA</td>\n",
       "      <td>1514</td>\n",
       "      <td>900</td>\n",
       "    </tr>\n",
       "    <tr>\n",
       "      <th>43</th>\n",
       "      <td>indiana polis</td>\n",
       "      <td>USA</td>\n",
       "      <td>1432</td>\n",
       "      <td>850</td>\n",
       "    </tr>\n",
       "    <tr>\n",
       "      <th>45</th>\n",
       "      <td>san francisco//oakland</td>\n",
       "      <td>USA</td>\n",
       "      <td>1365</td>\n",
       "      <td>2350</td>\n",
       "    </tr>\n",
       "    <tr>\n",
       "      <th>46</th>\n",
       "      <td>virginia beach</td>\n",
       "      <td>USA</td>\n",
       "      <td>1364</td>\n",
       "      <td>1000</td>\n",
       "    </tr>\n",
       "    <tr>\n",
       "      <th>48</th>\n",
       "      <td>providence</td>\n",
       "      <td>USA</td>\n",
       "      <td>1304</td>\n",
       "      <td>900</td>\n",
       "    </tr>\n",
       "    <tr>\n",
       "      <th>51</th>\n",
       "      <td>denver</td>\n",
       "      <td>USA</td>\n",
       "      <td>1292</td>\n",
       "      <td>1550</td>\n",
       "    </tr>\n",
       "    <tr>\n",
       "      <th>52</th>\n",
       "      <td>milwaukee</td>\n",
       "      <td>USA</td>\n",
       "      <td>1261</td>\n",
       "      <td>1050</td>\n",
       "    </tr>\n",
       "    <tr>\n",
       "      <th>53</th>\n",
       "      <td>portland</td>\n",
       "      <td>USA</td>\n",
       "      <td>1228</td>\n",
       "      <td>1300</td>\n",
       "    </tr>\n",
       "    <tr>\n",
       "      <th>54</th>\n",
       "      <td>hartford</td>\n",
       "      <td>USA</td>\n",
       "      <td>1216</td>\n",
       "      <td>700</td>\n",
       "    </tr>\n",
       "    <tr>\n",
       "      <th>55</th>\n",
       "      <td>bridgeport//stamford</td>\n",
       "      <td>USA</td>\n",
       "      <td>1205</td>\n",
       "      <td>750</td>\n",
       "    </tr>\n",
       "    <tr>\n",
       "      <th>57</th>\n",
       "      <td>orlando</td>\n",
       "      <td>USA</td>\n",
       "      <td>1174</td>\n",
       "      <td>1000</td>\n",
       "    </tr>\n",
       "    <tr>\n",
       "      <th>59</th>\n",
       "      <td>riverside/san bernardino</td>\n",
       "      <td>USA</td>\n",
       "      <td>1136</td>\n",
       "      <td>1350</td>\n",
       "    </tr>\n",
       "    <tr>\n",
       "      <th>60</th>\n",
       "      <td>richmond</td>\n",
       "      <td>USA</td>\n",
       "      <td>1131</td>\n",
       "      <td>700</td>\n",
       "    </tr>\n",
       "    <tr>\n",
       "      <th>61</th>\n",
       "      <td>charlotte</td>\n",
       "      <td>USA</td>\n",
       "      <td>1126</td>\n",
       "      <td>650</td>\n",
       "    </tr>\n",
       "    <tr>\n",
       "      <th>63</th>\n",
       "      <td>nashville</td>\n",
       "      <td>USA</td>\n",
       "      <td>1116</td>\n",
       "      <td>650</td>\n",
       "    </tr>\n",
       "    <tr>\n",
       "      <th>65</th>\n",
       "      <td>jacksonville</td>\n",
       "      <td>USA</td>\n",
       "      <td>1063</td>\n",
       "      <td>850</td>\n",
       "    </tr>\n",
       "    <tr>\n",
       "      <th>67</th>\n",
       "      <td>san antonio</td>\n",
       "      <td>USA</td>\n",
       "      <td>1056</td>\n",
       "      <td>1250</td>\n",
       "    </tr>\n",
       "    <tr>\n",
       "      <th>69</th>\n",
       "      <td>memphis</td>\n",
       "      <td>USA</td>\n",
       "      <td>1036</td>\n",
       "      <td>950</td>\n",
       "    </tr>\n",
       "    <tr>\n",
       "      <th>70</th>\n",
       "      <td>columbus</td>\n",
       "      <td>USA</td>\n",
       "      <td>1030</td>\n",
       "      <td>1100</td>\n",
       "    </tr>\n",
       "    <tr>\n",
       "      <th>71</th>\n",
       "      <td>birmingham</td>\n",
       "      <td>USA</td>\n",
       "      <td>1016</td>\n",
       "      <td>650</td>\n",
       "    </tr>\n",
       "    <tr>\n",
       "      <th>72</th>\n",
       "      <td>louisville</td>\n",
       "      <td>USA</td>\n",
       "      <td>1013</td>\n",
       "      <td>850</td>\n",
       "    </tr>\n",
       "    <tr>\n",
       "      <th>77</th>\n",
       "      <td>sa cramento</td>\n",
       "      <td>USA</td>\n",
       "      <td>956</td>\n",
       "      <td>1450</td>\n",
       "    </tr>\n",
       "    <tr>\n",
       "      <th>79</th>\n",
       "      <td>buffalo</td>\n",
       "      <td>USA</td>\n",
       "      <td>950</td>\n",
       "      <td>1050</td>\n",
       "    </tr>\n",
       "    <tr>\n",
       "      <th>82</th>\n",
       "      <td>knoxville</td>\n",
       "      <td>USA</td>\n",
       "      <td>879</td>\n",
       "      <td>500</td>\n",
       "    </tr>\n",
       "    <tr>\n",
       "      <th>86</th>\n",
       "      <td>dayton</td>\n",
       "      <td>USA</td>\n",
       "      <td>838</td>\n",
       "      <td>850</td>\n",
       "    </tr>\n",
       "    <tr>\n",
       "      <th>87</th>\n",
       "      <td>oklahoma city</td>\n",
       "      <td>USA</td>\n",
       "      <td>835</td>\n",
       "      <td>900</td>\n",
       "    </tr>\n",
       "    <tr>\n",
       "      <th>90</th>\n",
       "      <td>raleigh</td>\n",
       "      <td>USA</td>\n",
       "      <td>828</td>\n",
       "      <td>650</td>\n",
       "    </tr>\n",
       "    <tr>\n",
       "      <th>91</th>\n",
       "      <td>austin</td>\n",
       "      <td>USA</td>\n",
       "      <td>824</td>\n",
       "      <td>1100</td>\n",
       "    </tr>\n",
       "    <tr>\n",
       "      <th>94</th>\n",
       "      <td>mc allen</td>\n",
       "      <td>USA</td>\n",
       "      <td>813</td>\n",
       "      <td>650</td>\n",
       "    </tr>\n",
       "    <tr>\n",
       "      <th>97</th>\n",
       "      <td>springfield</td>\n",
       "      <td>USA</td>\n",
       "      <td>800</td>\n",
       "      <td>700</td>\n",
       "    </tr>\n",
       "    <tr>\n",
       "      <th>98</th>\n",
       "      <td>akron</td>\n",
       "      <td>USA</td>\n",
       "      <td>797</td>\n",
       "      <td>700</td>\n",
       "    </tr>\n",
       "    <tr>\n",
       "      <th>101</th>\n",
       "      <td>rochester</td>\n",
       "      <td>USA</td>\n",
       "      <td>764</td>\n",
       "      <td>900</td>\n",
       "    </tr>\n",
       "    <tr>\n",
       "      <th>102</th>\n",
       "      <td>tucson</td>\n",
       "      <td>USA</td>\n",
       "      <td>755</td>\n",
       "      <td>950</td>\n",
       "    </tr>\n",
       "    <tr>\n",
       "      <th>103</th>\n",
       "      <td>chattanooga</td>\n",
       "      <td>USA</td>\n",
       "      <td>751</td>\n",
       "      <td>450</td>\n",
       "    </tr>\n",
       "    <tr>\n",
       "      <th>104</th>\n",
       "      <td>allen town/bethlehem</td>\n",
       "      <td>USA</td>\n",
       "      <td>750</td>\n",
       "      <td>750</td>\n",
       "    </tr>\n",
       "    <tr>\n",
       "      <th>107</th>\n",
       "      <td>barnstable town</td>\n",
       "      <td>USA</td>\n",
       "      <td>741</td>\n",
       "      <td>350</td>\n",
       "    </tr>\n",
       "    <tr>\n",
       "      <th>108</th>\n",
       "      <td>las vegas</td>\n",
       "      <td>USA</td>\n",
       "      <td>741</td>\n",
       "      <td>1750</td>\n",
       "    </tr>\n",
       "    <tr>\n",
       "      <th>109</th>\n",
       "      <td>new hawen</td>\n",
       "      <td>USA</td>\n",
       "      <td>739</td>\n",
       "      <td>700</td>\n",
       "    </tr>\n",
       "    <tr>\n",
       "      <th>111</th>\n",
       "      <td>albany</td>\n",
       "      <td>USA</td>\n",
       "      <td>736</td>\n",
       "      <td>750</td>\n",
       "    </tr>\n",
       "    <tr>\n",
       "      <th>113</th>\n",
       "      <td>baton rouge</td>\n",
       "      <td>USA</td>\n",
       "      <td>727</td>\n",
       "      <td>650</td>\n",
       "    </tr>\n",
       "    <tr>\n",
       "      <th>121</th>\n",
       "      <td>sarasota//bradenton</td>\n",
       "      <td>USA</td>\n",
       "      <td>700</td>\n",
       "      <td>800</td>\n",
       "    </tr>\n",
       "    <tr>\n",
       "      <th>122</th>\n",
       "      <td>columbia</td>\n",
       "      <td>USA</td>\n",
       "      <td>697</td>\n",
       "      <td>600</td>\n",
       "    </tr>\n",
       "    <tr>\n",
       "      <th>124</th>\n",
       "      <td>pough keepsie</td>\n",
       "      <td>USA</td>\n",
       "      <td>686</td>\n",
       "      <td>500</td>\n",
       "    </tr>\n",
       "    <tr>\n",
       "      <th>127</th>\n",
       "      <td>tulsa</td>\n",
       "      <td>USA</td>\n",
       "      <td>677</td>\n",
       "      <td>800</td>\n",
       "    </tr>\n",
       "    <tr>\n",
       "      <th>128</th>\n",
       "      <td>san jose</td>\n",
       "      <td>USA</td>\n",
       "      <td>674</td>\n",
       "      <td>2300</td>\n",
       "    </tr>\n",
       "    <tr>\n",
       "      <th>132</th>\n",
       "      <td>grand rapids</td>\n",
       "      <td>USA</td>\n",
       "      <td>667</td>\n",
       "      <td>800</td>\n",
       "    </tr>\n",
       "    <tr>\n",
       "      <th>133</th>\n",
       "      <td>winston/salem</td>\n",
       "      <td>USA</td>\n",
       "      <td>651</td>\n",
       "      <td>450</td>\n",
       "    </tr>\n",
       "    <tr>\n",
       "      <th>137</th>\n",
       "      <td>worecester</td>\n",
       "      <td>USA</td>\n",
       "      <td>648</td>\n",
       "      <td>650</td>\n",
       "    </tr>\n",
       "    <tr>\n",
       "      <th>141</th>\n",
       "      <td>augusta</td>\n",
       "      <td>USA</td>\n",
       "      <td>600</td>\n",
       "      <td>550</td>\n",
       "    </tr>\n",
       "    <tr>\n",
       "      <th>143</th>\n",
       "      <td>flint</td>\n",
       "      <td>USA</td>\n",
       "      <td>599</td>\n",
       "      <td>600</td>\n",
       "    </tr>\n",
       "    <tr>\n",
       "      <th>144</th>\n",
       "      <td>charleston</td>\n",
       "      <td>USA</td>\n",
       "      <td>598</td>\n",
       "      <td>700</td>\n",
       "    </tr>\n",
       "    <tr>\n",
       "      <th>145</th>\n",
       "      <td>salt lake city</td>\n",
       "      <td>USA</td>\n",
       "      <td>598</td>\n",
       "      <td>1500</td>\n",
       "    </tr>\n",
       "    <tr>\n",
       "      <th>150</th>\n",
       "      <td>youngstown</td>\n",
       "      <td>USA</td>\n",
       "      <td>591</td>\n",
       "      <td>700</td>\n",
       "    </tr>\n",
       "    <tr>\n",
       "      <th>151</th>\n",
       "      <td>greenville</td>\n",
       "      <td>USA</td>\n",
       "      <td>587</td>\n",
       "      <td>500</td>\n",
       "    </tr>\n",
       "    <tr>\n",
       "      <th>152</th>\n",
       "      <td>omaha</td>\n",
       "      <td>USA</td>\n",
       "      <td>586</td>\n",
       "      <td>1050</td>\n",
       "    </tr>\n",
       "    <tr>\n",
       "      <th>160</th>\n",
       "      <td>albuquerque</td>\n",
       "      <td>USA</td>\n",
       "      <td>580</td>\n",
       "      <td>1050</td>\n",
       "    </tr>\n",
       "    <tr>\n",
       "      <th>161</th>\n",
       "      <td>palm bay</td>\n",
       "      <td>USA</td>\n",
       "      <td>569</td>\n",
       "      <td>700</td>\n",
       "    </tr>\n",
       "    <tr>\n",
       "      <th>162</th>\n",
       "      <td>el paso</td>\n",
       "      <td>USA</td>\n",
       "      <td>568</td>\n",
       "      <td>1200</td>\n",
       "    </tr>\n",
       "    <tr>\n",
       "      <th>163</th>\n",
       "      <td>pensacola</td>\n",
       "      <td>USA</td>\n",
       "      <td>568</td>\n",
       "      <td>550</td>\n",
       "    </tr>\n",
       "    <tr>\n",
       "      <th>165</th>\n",
       "      <td>hickory</td>\n",
       "      <td>USA</td>\n",
       "      <td>546</td>\n",
       "      <td>350</td>\n",
       "    </tr>\n",
       "    <tr>\n",
       "      <th>166</th>\n",
       "      <td>mobile</td>\n",
       "      <td>USA</td>\n",
       "      <td>546</td>\n",
       "      <td>600</td>\n",
       "    </tr>\n",
       "    <tr>\n",
       "      <th>171</th>\n",
       "      <td>harrisburg</td>\n",
       "      <td>USA</td>\n",
       "      <td>540</td>\n",
       "      <td>650</td>\n",
       "    </tr>\n",
       "    <tr>\n",
       "      <th>172</th>\n",
       "      <td>asheville</td>\n",
       "      <td>USA</td>\n",
       "      <td>536</td>\n",
       "      <td>400</td>\n",
       "    </tr>\n",
       "    <tr>\n",
       "      <th>174</th>\n",
       "      <td>little rock</td>\n",
       "      <td>USA</td>\n",
       "      <td>532</td>\n",
       "      <td>700</td>\n",
       "    </tr>\n",
       "    <tr>\n",
       "      <th>179</th>\n",
       "      <td>toledo</td>\n",
       "      <td>USA</td>\n",
       "      <td>524</td>\n",
       "      <td>950</td>\n",
       "    </tr>\n",
       "    <tr>\n",
       "      <th>186</th>\n",
       "      <td>lancaster</td>\n",
       "      <td>USA</td>\n",
       "      <td>517</td>\n",
       "      <td>650</td>\n",
       "    </tr>\n",
       "    <tr>\n",
       "      <th>187</th>\n",
       "      <td>new orleans</td>\n",
       "      <td>USA</td>\n",
       "      <td>512</td>\n",
       "      <td>1950</td>\n",
       "    </tr>\n",
       "    <tr>\n",
       "      <th>188</th>\n",
       "      <td>colorado springs</td>\n",
       "      <td>USA</td>\n",
       "      <td>511</td>\n",
       "      <td>900</td>\n",
       "    </tr>\n",
       "    <tr>\n",
       "      <th>194</th>\n",
       "      <td>cape coral</td>\n",
       "      <td>USA</td>\n",
       "      <td>497</td>\n",
       "      <td>650</td>\n",
       "    </tr>\n",
       "    <tr>\n",
       "      <th>208</th>\n",
       "      <td>ogden</td>\n",
       "      <td>USA</td>\n",
       "      <td>466</td>\n",
       "      <td>900</td>\n",
       "    </tr>\n",
       "    <tr>\n",
       "      <th>211</th>\n",
       "      <td>syracuse</td>\n",
       "      <td>USA</td>\n",
       "      <td>465</td>\n",
       "      <td>850</td>\n",
       "    </tr>\n",
       "    <tr>\n",
       "      <th>212</th>\n",
       "      <td>wichita</td>\n",
       "      <td>USA</td>\n",
       "      <td>457</td>\n",
       "      <td>900</td>\n",
       "    </tr>\n",
       "    <tr>\n",
       "      <th>213</th>\n",
       "      <td>concord</td>\n",
       "      <td>USA</td>\n",
       "      <td>453</td>\n",
       "      <td>1200</td>\n",
       "    </tr>\n",
       "    <tr>\n",
       "      <th>222</th>\n",
       "      <td>port st wcie</td>\n",
       "      <td>USA</td>\n",
       "      <td>438</td>\n",
       "      <td>600</td>\n",
       "    </tr>\n",
       "    <tr>\n",
       "      <th>223</th>\n",
       "      <td>fayetteville</td>\n",
       "      <td>USA</td>\n",
       "      <td>433</td>\n",
       "      <td>650</td>\n",
       "    </tr>\n",
       "    <tr>\n",
       "      <th>227</th>\n",
       "      <td>jackson</td>\n",
       "      <td>USA</td>\n",
       "      <td>417</td>\n",
       "      <td>700</td>\n",
       "    </tr>\n",
       "    <tr>\n",
       "      <th>231</th>\n",
       "      <td>scranton</td>\n",
       "      <td>USA</td>\n",
       "      <td>411</td>\n",
       "      <td>950</td>\n",
       "    </tr>\n",
       "    <tr>\n",
       "      <th>232</th>\n",
       "      <td>huntsuille</td>\n",
       "      <td>USA</td>\n",
       "      <td>407</td>\n",
       "      <td>500</td>\n",
       "    </tr>\n",
       "    <tr>\n",
       "      <th>233</th>\n",
       "      <td>durham</td>\n",
       "      <td>USA</td>\n",
       "      <td>406</td>\n",
       "      <td>700</td>\n",
       "    </tr>\n",
       "    <tr>\n",
       "      <th>234</th>\n",
       "      <td>south bend</td>\n",
       "      <td>USA</td>\n",
       "      <td>404</td>\n",
       "      <td>700</td>\n",
       "    </tr>\n",
       "    <tr>\n",
       "      <th>236</th>\n",
       "      <td>shreveport</td>\n",
       "      <td>USA</td>\n",
       "      <td>401</td>\n",
       "      <td>700</td>\n",
       "    </tr>\n",
       "    <tr>\n",
       "      <th>237</th>\n",
       "      <td>honolulu</td>\n",
       "      <td>USA</td>\n",
       "      <td>399</td>\n",
       "      <td>1800</td>\n",
       "    </tr>\n",
       "    <tr>\n",
       "      <th>239</th>\n",
       "      <td>bonita springs /naples</td>\n",
       "      <td>USA</td>\n",
       "      <td>389</td>\n",
       "      <td>550</td>\n",
       "    </tr>\n",
       "    <tr>\n",
       "      <th>246</th>\n",
       "      <td>canton</td>\n",
       "      <td>USA</td>\n",
       "      <td>372</td>\n",
       "      <td>700</td>\n",
       "    </tr>\n",
       "    <tr>\n",
       "      <th>247</th>\n",
       "      <td>spokane</td>\n",
       "      <td>USA</td>\n",
       "      <td>371</td>\n",
       "      <td>900</td>\n",
       "    </tr>\n",
       "  </tbody>\n",
       "</table>\n",
       "</div>"
      ],
      "text/plain": [
       "                         City Country  Landarea  Density\n",
       "1              New York Metro     USA      8683     2050\n",
       "3                     chicapo     USA      5498     1500\n",
       "4                     aflanta     USA      5083      700\n",
       "5                philadelphia     USA      4661     1100\n",
       "6                     boston      USA      4497      900\n",
       "7                los anpletes     USA      4320     2750\n",
       "8           Dallas/fort worth     USA      3644     1150\n",
       "9                     houston     USA      3355     1150\n",
       "10                    detroit     USA      3267     1200\n",
       "11                 washington     USA      2996     1300\n",
       "12                      miami     USA      2891     1700\n",
       "17                    seattle     USA      2470     1100\n",
       "19        minneapolis/st.paul     USA      2316     1050\n",
       "22                 pittsburgh     USA      2208      800\n",
       "24                   st.lousi     USA      2147      950\n",
       "26       tampa//st.petersburg     USA      2078     1000\n",
       "28               phoenix/mesa     USA      2069     1400\n",
       "29                  san diego     USA      2026     1300\n",
       "31                  baltimore     USA      1768     1150\n",
       "32                 cincinnati     USA      1740      850\n",
       "35                  cleveland     USA      1675     1050\n",
       "42                 kanas city     USA      1514      900\n",
       "43              indiana polis     USA      1432      850\n",
       "45     san francisco//oakland     USA      1365     2350\n",
       "46             virginia beach     USA      1364     1000\n",
       "48                 providence     USA      1304      900\n",
       "51                     denver     USA      1292     1550\n",
       "52                  milwaukee     USA      1261     1050\n",
       "53                   portland     USA      1228     1300\n",
       "54                   hartford     USA      1216      700\n",
       "55       bridgeport//stamford     USA      1205      750\n",
       "57                    orlando     USA      1174     1000\n",
       "59   riverside/san bernardino     USA      1136     1350\n",
       "60                   richmond     USA      1131      700\n",
       "61                  charlotte     USA      1126      650\n",
       "63                  nashville     USA      1116      650\n",
       "65               jacksonville     USA      1063      850\n",
       "67                san antonio     USA      1056     1250\n",
       "69                    memphis     USA      1036      950\n",
       "70                   columbus     USA      1030     1100\n",
       "71                 birmingham     USA      1016      650\n",
       "72                 louisville     USA      1013      850\n",
       "77                sa cramento     USA       956     1450\n",
       "79                    buffalo     USA       950     1050\n",
       "82                  knoxville     USA       879      500\n",
       "86                     dayton     USA       838      850\n",
       "87              oklahoma city     USA       835      900\n",
       "90                    raleigh     USA       828      650\n",
       "91                     austin     USA       824     1100\n",
       "94                   mc allen     USA       813      650\n",
       "97                springfield     USA       800      700\n",
       "98                      akron     USA       797      700\n",
       "101                 rochester     USA       764      900\n",
       "102                    tucson     USA       755      950\n",
       "103               chattanooga     USA       751      450\n",
       "104      allen town/bethlehem     USA       750      750\n",
       "107           barnstable town     USA       741      350\n",
       "108                 las vegas     USA       741     1750\n",
       "109                 new hawen     USA       739      700\n",
       "111                    albany     USA       736      750\n",
       "113               baton rouge     USA       727      650\n",
       "121       sarasota//bradenton     USA       700      800\n",
       "122                  columbia     USA       697      600\n",
       "124             pough keepsie     USA       686      500\n",
       "127                     tulsa     USA       677      800\n",
       "128                  san jose     USA       674     2300\n",
       "132              grand rapids     USA       667      800\n",
       "133             winston/salem     USA       651      450\n",
       "137                worecester     USA       648      650\n",
       "141                   augusta     USA       600      550\n",
       "143                     flint     USA       599      600\n",
       "144                charleston     USA       598      700\n",
       "145            salt lake city     USA       598     1500\n",
       "150                youngstown     USA       591      700\n",
       "151                greenville     USA       587      500\n",
       "152                     omaha     USA       586     1050\n",
       "160               albuquerque     USA       580     1050\n",
       "161                  palm bay     USA       569      700\n",
       "162                   el paso     USA       568     1200\n",
       "163                 pensacola     USA       568      550\n",
       "165                   hickory     USA       546      350\n",
       "166                    mobile     USA       546      600\n",
       "171                harrisburg     USA       540      650\n",
       "172                 asheville     USA       536      400\n",
       "174               little rock     USA       532      700\n",
       "179                    toledo     USA       524      950\n",
       "186                 lancaster     USA       517      650\n",
       "187               new orleans     USA       512     1950\n",
       "188          colorado springs     USA       511      900\n",
       "194                cape coral     USA       497      650\n",
       "208                     ogden     USA       466      900\n",
       "211                  syracuse     USA       465      850\n",
       "212                   wichita     USA       457      900\n",
       "213                   concord     USA       453     1200\n",
       "222              port st wcie     USA       438      600\n",
       "223              fayetteville     USA       433      650\n",
       "227                   jackson     USA       417      700\n",
       "231                  scranton     USA       411      950\n",
       "232                huntsuille     USA       407      500\n",
       "233                    durham     USA       406      700\n",
       "234                south bend     USA       404      700\n",
       "236                shreveport     USA       401      700\n",
       "237                  honolulu     USA       399     1800\n",
       "239    bonita springs /naples     USA       389      550\n",
       "246                    canton     USA       372      700\n",
       "247                   spokane     USA       371      900"
      ]
     },
     "metadata": {},
     "output_type": "display_data"
    }
   ],
   "source": [
    "df10=df[df['Country']== \"USA\"]\n",
    "display(df[df['Country']== \"USA\"])"
   ]
  },
  {
   "cell_type": "code",
   "execution_count": 96,
   "id": "6f3c374b",
   "metadata": {},
   "outputs": [],
   "source": [
    "#df10.to_csv(\"USA.csv\")"
   ]
  },
  {
   "cell_type": "code",
   "execution_count": 97,
   "id": "5fb656d0",
   "metadata": {},
   "outputs": [
    {
     "data": {
      "text/plain": [
       "1    8683\n",
       "3    5498\n",
       "4    5083\n",
       "5    4661\n",
       "6    4497\n",
       "Name: Landarea, dtype: int32"
      ]
     },
     "execution_count": 97,
     "metadata": {},
     "output_type": "execute_result"
    }
   ],
   "source": [
    "\n",
    "Land=df10.iloc[:,2]\n",
    "Land.head()"
   ]
  },
  {
   "cell_type": "code",
   "execution_count": 98,
   "id": "a855b71f",
   "metadata": {},
   "outputs": [
    {
     "data": {
      "text/plain": [
       "1    2050\n",
       "3    1500\n",
       "4     700\n",
       "5    1100\n",
       "6     900\n",
       "Name: Density, dtype: int32"
      ]
     },
     "execution_count": 98,
     "metadata": {},
     "output_type": "execute_result"
    }
   ],
   "source": [
    "Density=df10.iloc[:,3]\n",
    "Density.head()"
   ]
  },
  {
   "cell_type": "code",
   "execution_count": 99,
   "id": "15ce70c4",
   "metadata": {},
   "outputs": [
    {
     "data": {
      "text/plain": [
       "array([8683, 5498, 5083, 4661, 4497, 4320, 3644, 3355, 3267, 2996, 2891,\n",
       "       2470, 2316, 2208, 2147, 2078, 2069, 2026, 1768, 1740, 1675, 1514,\n",
       "       1432, 1365, 1364, 1304, 1292, 1261, 1228, 1216, 1205, 1174, 1136,\n",
       "       1131, 1126, 1116, 1063, 1056, 1036, 1030, 1016, 1013,  956,  950,\n",
       "        879,  838,  835,  828,  824,  813,  800,  797,  764,  755,  751,\n",
       "        750,  741,  741,  739,  736,  727,  700,  697,  686,  677,  674,\n",
       "        667,  651,  648,  600,  599,  598,  598,  591,  587,  586,  580,\n",
       "        569,  568,  568,  546,  546,  540,  536,  532,  524,  517,  512,\n",
       "        511,  497,  466,  465,  457,  453,  438,  433,  417,  411,  407,\n",
       "        406,  404,  401,  399,  389,  372,  371])"
      ]
     },
     "execution_count": 99,
     "metadata": {},
     "output_type": "execute_result"
    }
   ],
   "source": [
    "x=Land.values\n",
    "x"
   ]
  },
  {
   "cell_type": "code",
   "execution_count": 100,
   "id": "289c7478",
   "metadata": {},
   "outputs": [
    {
     "data": {
      "text/plain": [
       "array([2050, 1500,  700, 1100,  900, 2750, 1150, 1150, 1200, 1300, 1700,\n",
       "       1100, 1050,  800,  950, 1000, 1400, 1300, 1150,  850, 1050,  900,\n",
       "        850, 2350, 1000,  900, 1550, 1050, 1300,  700,  750, 1000, 1350,\n",
       "        700,  650,  650,  850, 1250,  950, 1100,  650,  850, 1450, 1050,\n",
       "        500,  850,  900,  650, 1100,  650,  700,  700,  900,  950,  450,\n",
       "        750,  350, 1750,  700,  750,  650,  800,  600,  500,  800, 2300,\n",
       "        800,  450,  650,  550,  600,  700, 1500,  700,  500, 1050, 1050,\n",
       "        700, 1200,  550,  350,  600,  650,  400,  700,  950,  650, 1950,\n",
       "        900,  650,  900,  850,  900, 1200,  600,  650,  700,  950,  500,\n",
       "        700,  700,  700, 1800,  550,  700,  900])"
      ]
     },
     "execution_count": 100,
     "metadata": {},
     "output_type": "execute_result"
    }
   ],
   "source": [
    "y=Density.values\n",
    "y"
   ]
  },
  {
   "cell_type": "code",
   "execution_count": 101,
   "id": "89d4392b",
   "metadata": {},
   "outputs": [
    {
     "data": {
      "image/png": "[encoded data removed]",
      "text/plain": [
       "<Figure size 432x288 with 1 Axes>"
      ]
     },
     "metadata": {
      "needs_background": "light"
     },
     "output_type": "display_data"
    }
   ],
   "source": [
    "import matplotlib.pyplot as plt\n",
    "plt.scatter(x,y,label=\" \",color=\"g\",s=100)\n",
    "plt.xlabel(\"LandArea\")\n",
    "plt.ylabel(\"Density\")\n",
    "plt.title(\"LandArea vs Density\")\n",
    "\n",
    "plt.show()"
   ]
  },
  {
   "cell_type": "markdown",
   "id": "231d8699",
   "metadata": {},
   "source": [
    "# USA (1 to 48) (26 cities)"
   ]
  },
  {
   "cell_type": "code",
   "execution_count": 102,
   "id": "fe431e38",
   "metadata": {},
   "outputs": [
    {
     "data": {
      "text/html": [
       "<div>\n",
       "<style scoped>\n",
       "    .dataframe tbody tr th:only-of-type {\n",
       "        vertical-align: middle;\n",
       "    }\n",
       "\n",
       "    .dataframe tbody tr th {\n",
       "        vertical-align: top;\n",
       "    }\n",
       "\n",
       "    .dataframe thead th {\n",
       "        text-align: right;\n",
       "    }\n",
       "</style>\n",
       "<table border=\"1\" class=\"dataframe\">\n",
       "  <thead>\n",
       "    <tr style=\"text-align: right;\">\n",
       "      <th></th>\n",
       "      <th>City</th>\n",
       "      <th>Country</th>\n",
       "      <th>Landarea</th>\n",
       "      <th>Density</th>\n",
       "    </tr>\n",
       "  </thead>\n",
       "  <tbody>\n",
       "    <tr>\n",
       "      <th>1</th>\n",
       "      <td>New York Metro</td>\n",
       "      <td>USA</td>\n",
       "      <td>8683</td>\n",
       "      <td>2050</td>\n",
       "    </tr>\n",
       "    <tr>\n",
       "      <th>3</th>\n",
       "      <td>chicapo</td>\n",
       "      <td>USA</td>\n",
       "      <td>5498</td>\n",
       "      <td>1500</td>\n",
       "    </tr>\n",
       "    <tr>\n",
       "      <th>4</th>\n",
       "      <td>aflanta</td>\n",
       "      <td>USA</td>\n",
       "      <td>5083</td>\n",
       "      <td>700</td>\n",
       "    </tr>\n",
       "    <tr>\n",
       "      <th>5</th>\n",
       "      <td>philadelphia</td>\n",
       "      <td>USA</td>\n",
       "      <td>4661</td>\n",
       "      <td>1100</td>\n",
       "    </tr>\n",
       "    <tr>\n",
       "      <th>6</th>\n",
       "      <td>boston</td>\n",
       "      <td>USA</td>\n",
       "      <td>4497</td>\n",
       "      <td>900</td>\n",
       "    </tr>\n",
       "    <tr>\n",
       "      <th>7</th>\n",
       "      <td>los anpletes</td>\n",
       "      <td>USA</td>\n",
       "      <td>4320</td>\n",
       "      <td>2750</td>\n",
       "    </tr>\n",
       "    <tr>\n",
       "      <th>8</th>\n",
       "      <td>Dallas/fort worth</td>\n",
       "      <td>USA</td>\n",
       "      <td>3644</td>\n",
       "      <td>1150</td>\n",
       "    </tr>\n",
       "    <tr>\n",
       "      <th>9</th>\n",
       "      <td>houston</td>\n",
       "      <td>USA</td>\n",
       "      <td>3355</td>\n",
       "      <td>1150</td>\n",
       "    </tr>\n",
       "    <tr>\n",
       "      <th>10</th>\n",
       "      <td>detroit</td>\n",
       "      <td>USA</td>\n",
       "      <td>3267</td>\n",
       "      <td>1200</td>\n",
       "    </tr>\n",
       "    <tr>\n",
       "      <th>11</th>\n",
       "      <td>washington</td>\n",
       "      <td>USA</td>\n",
       "      <td>2996</td>\n",
       "      <td>1300</td>\n",
       "    </tr>\n",
       "    <tr>\n",
       "      <th>12</th>\n",
       "      <td>miami</td>\n",
       "      <td>USA</td>\n",
       "      <td>2891</td>\n",
       "      <td>1700</td>\n",
       "    </tr>\n",
       "    <tr>\n",
       "      <th>17</th>\n",
       "      <td>seattle</td>\n",
       "      <td>USA</td>\n",
       "      <td>2470</td>\n",
       "      <td>1100</td>\n",
       "    </tr>\n",
       "    <tr>\n",
       "      <th>19</th>\n",
       "      <td>minneapolis/st.paul</td>\n",
       "      <td>USA</td>\n",
       "      <td>2316</td>\n",
       "      <td>1050</td>\n",
       "    </tr>\n",
       "    <tr>\n",
       "      <th>22</th>\n",
       "      <td>pittsburgh</td>\n",
       "      <td>USA</td>\n",
       "      <td>2208</td>\n",
       "      <td>800</td>\n",
       "    </tr>\n",
       "    <tr>\n",
       "      <th>24</th>\n",
       "      <td>st.lousi</td>\n",
       "      <td>USA</td>\n",
       "      <td>2147</td>\n",
       "      <td>950</td>\n",
       "    </tr>\n",
       "    <tr>\n",
       "      <th>26</th>\n",
       "      <td>tampa//st.petersburg</td>\n",
       "      <td>USA</td>\n",
       "      <td>2078</td>\n",
       "      <td>1000</td>\n",
       "    </tr>\n",
       "    <tr>\n",
       "      <th>28</th>\n",
       "      <td>phoenix/mesa</td>\n",
       "      <td>USA</td>\n",
       "      <td>2069</td>\n",
       "      <td>1400</td>\n",
       "    </tr>\n",
       "    <tr>\n",
       "      <th>29</th>\n",
       "      <td>san diego</td>\n",
       "      <td>USA</td>\n",
       "      <td>2026</td>\n",
       "      <td>1300</td>\n",
       "    </tr>\n",
       "    <tr>\n",
       "      <th>31</th>\n",
       "      <td>baltimore</td>\n",
       "      <td>USA</td>\n",
       "      <td>1768</td>\n",
       "      <td>1150</td>\n",
       "    </tr>\n",
       "    <tr>\n",
       "      <th>32</th>\n",
       "      <td>cincinnati</td>\n",
       "      <td>USA</td>\n",
       "      <td>1740</td>\n",
       "      <td>850</td>\n",
       "    </tr>\n",
       "    <tr>\n",
       "      <th>35</th>\n",
       "      <td>cleveland</td>\n",
       "      <td>USA</td>\n",
       "      <td>1675</td>\n",
       "      <td>1050</td>\n",
       "    </tr>\n",
       "    <tr>\n",
       "      <th>42</th>\n",
       "      <td>kanas city</td>\n",
       "      <td>USA</td>\n",
       "      <td>1514</td>\n",
       "      <td>900</td>\n",
       "    </tr>\n",
       "    <tr>\n",
       "      <th>43</th>\n",
       "      <td>indiana polis</td>\n",
       "      <td>USA</td>\n",
       "      <td>1432</td>\n",
       "      <td>850</td>\n",
       "    </tr>\n",
       "    <tr>\n",
       "      <th>45</th>\n",
       "      <td>san francisco//oakland</td>\n",
       "      <td>USA</td>\n",
       "      <td>1365</td>\n",
       "      <td>2350</td>\n",
       "    </tr>\n",
       "    <tr>\n",
       "      <th>46</th>\n",
       "      <td>virginia beach</td>\n",
       "      <td>USA</td>\n",
       "      <td>1364</td>\n",
       "      <td>1000</td>\n",
       "    </tr>\n",
       "    <tr>\n",
       "      <th>48</th>\n",
       "      <td>providence</td>\n",
       "      <td>USA</td>\n",
       "      <td>1304</td>\n",
       "      <td>900</td>\n",
       "    </tr>\n",
       "  </tbody>\n",
       "</table>\n",
       "</div>"
      ],
      "text/plain": [
       "                      City Country  Landarea  Density\n",
       "1           New York Metro     USA      8683     2050\n",
       "3                  chicapo     USA      5498     1500\n",
       "4                  aflanta     USA      5083      700\n",
       "5             philadelphia     USA      4661     1100\n",
       "6                  boston      USA      4497      900\n",
       "7             los anpletes     USA      4320     2750\n",
       "8        Dallas/fort worth     USA      3644     1150\n",
       "9                  houston     USA      3355     1150\n",
       "10                 detroit     USA      3267     1200\n",
       "11              washington     USA      2996     1300\n",
       "12                   miami     USA      2891     1700\n",
       "17                 seattle     USA      2470     1100\n",
       "19     minneapolis/st.paul     USA      2316     1050\n",
       "22              pittsburgh     USA      2208      800\n",
       "24                st.lousi     USA      2147      950\n",
       "26    tampa//st.petersburg     USA      2078     1000\n",
       "28            phoenix/mesa     USA      2069     1400\n",
       "29               san diego     USA      2026     1300\n",
       "31               baltimore     USA      1768     1150\n",
       "32              cincinnati     USA      1740      850\n",
       "35               cleveland     USA      1675     1050\n",
       "42              kanas city     USA      1514      900\n",
       "43           indiana polis     USA      1432      850\n",
       "45  san francisco//oakland     USA      1365     2350\n",
       "46          virginia beach     USA      1364     1000\n",
       "48              providence     USA      1304      900"
      ]
     },
     "execution_count": 102,
     "metadata": {},
     "output_type": "execute_result"
    }
   ],
   "source": [
    "df11=df10.iloc[0:26,:]\n",
    "df11"
   ]
  },
  {
   "cell_type": "code",
   "execution_count": 103,
   "id": "a4c47ccf",
   "metadata": {},
   "outputs": [],
   "source": [
    "#df11.to_csv(\"USA1.csv\")"
   ]
  },
  {
   "cell_type": "code",
   "execution_count": 104,
   "id": "d5b0a08d",
   "metadata": {},
   "outputs": [
    {
     "data": {
      "text/plain": [
       "1    8683\n",
       "3    5498\n",
       "4    5083\n",
       "5    4661\n",
       "6    4497\n",
       "Name: Landarea, dtype: int32"
      ]
     },
     "execution_count": 104,
     "metadata": {},
     "output_type": "execute_result"
    }
   ],
   "source": [
    "Land=df11.iloc[:,2]\n",
    "Land.head()"
   ]
  },
  {
   "cell_type": "code",
   "execution_count": 105,
   "id": "2649b937",
   "metadata": {},
   "outputs": [
    {
     "data": {
      "text/plain": [
       "1    2050\n",
       "3    1500\n",
       "4     700\n",
       "5    1100\n",
       "6     900\n",
       "Name: Density, dtype: int32"
      ]
     },
     "execution_count": 105,
     "metadata": {},
     "output_type": "execute_result"
    }
   ],
   "source": [
    "Density=df11.iloc[:,3]\n",
    "Density.head()"
   ]
  },
  {
   "cell_type": "code",
   "execution_count": 106,
   "id": "e8bad461",
   "metadata": {},
   "outputs": [
    {
     "data": {
      "text/plain": [
       "array([8683, 5498, 5083, 4661, 4497, 4320, 3644, 3355, 3267, 2996, 2891,\n",
       "       2470, 2316, 2208, 2147, 2078, 2069, 2026, 1768, 1740, 1675, 1514,\n",
       "       1432, 1365, 1364, 1304])"
      ]
     },
     "execution_count": 106,
     "metadata": {},
     "output_type": "execute_result"
    }
   ],
   "source": [
    "x=Land.values\n",
    "x"
   ]
  },
  {
   "cell_type": "code",
   "execution_count": 107,
   "id": "10a521f1",
   "metadata": {},
   "outputs": [
    {
     "data": {
      "text/plain": [
       "array([2050, 1500,  700, 1100,  900, 2750, 1150, 1150, 1200, 1300, 1700,\n",
       "       1100, 1050,  800,  950, 1000, 1400, 1300, 1150,  850, 1050,  900,\n",
       "        850, 2350, 1000,  900])"
      ]
     },
     "execution_count": 107,
     "metadata": {},
     "output_type": "execute_result"
    }
   ],
   "source": [
    "y=Density.values\n",
    "y"
   ]
  },
  {
   "cell_type": "code",
   "execution_count": 108,
   "id": "3e1114c1",
   "metadata": {},
   "outputs": [
    {
     "data": {
      "image/png": "[encoded data removed]",
      "text/plain": [
       "<Figure size 432x288 with 1 Axes>"
      ]
     },
     "metadata": {
      "needs_background": "light"
     },
     "output_type": "display_data"
    }
   ],
   "source": [
    "import matplotlib.pyplot as plt\n",
    "plt.scatter(x,y,label=\" \",color=\"g\",s=100)\n",
    "plt.xlabel(\"LandArea\")\n",
    "plt.ylabel(\"Density\")\n",
    "plt.title(\"LandArea vs Density\")\n",
    "\n",
    "plt.show()"
   ]
  },
  {
   "cell_type": "markdown",
   "id": "eef601ce",
   "metadata": {},
   "source": [
    "# USA (51 to 101) (27 cities)"
   ]
  },
  {
   "cell_type": "code",
   "execution_count": 109,
   "id": "c69a76f0",
   "metadata": {},
   "outputs": [
    {
     "data": {
      "text/html": [
       "<div>\n",
       "<style scoped>\n",
       "    .dataframe tbody tr th:only-of-type {\n",
       "        vertical-align: middle;\n",
       "    }\n",
       "\n",
       "    .dataframe tbody tr th {\n",
       "        vertical-align: top;\n",
       "    }\n",
       "\n",
       "    .dataframe thead th {\n",
       "        text-align: right;\n",
       "    }\n",
       "</style>\n",
       "<table border=\"1\" class=\"dataframe\">\n",
       "  <thead>\n",
       "    <tr style=\"text-align: right;\">\n",
       "      <th></th>\n",
       "      <th>City</th>\n",
       "      <th>Country</th>\n",
       "      <th>Landarea</th>\n",
       "      <th>Density</th>\n",
       "    </tr>\n",
       "  </thead>\n",
       "  <tbody>\n",
       "    <tr>\n",
       "      <th>51</th>\n",
       "      <td>denver</td>\n",
       "      <td>USA</td>\n",
       "      <td>1292</td>\n",
       "      <td>1550</td>\n",
       "    </tr>\n",
       "    <tr>\n",
       "      <th>52</th>\n",
       "      <td>milwaukee</td>\n",
       "      <td>USA</td>\n",
       "      <td>1261</td>\n",
       "      <td>1050</td>\n",
       "    </tr>\n",
       "    <tr>\n",
       "      <th>53</th>\n",
       "      <td>portland</td>\n",
       "      <td>USA</td>\n",
       "      <td>1228</td>\n",
       "      <td>1300</td>\n",
       "    </tr>\n",
       "    <tr>\n",
       "      <th>54</th>\n",
       "      <td>hartford</td>\n",
       "      <td>USA</td>\n",
       "      <td>1216</td>\n",
       "      <td>700</td>\n",
       "    </tr>\n",
       "    <tr>\n",
       "      <th>55</th>\n",
       "      <td>bridgeport//stamford</td>\n",
       "      <td>USA</td>\n",
       "      <td>1205</td>\n",
       "      <td>750</td>\n",
       "    </tr>\n",
       "    <tr>\n",
       "      <th>57</th>\n",
       "      <td>orlando</td>\n",
       "      <td>USA</td>\n",
       "      <td>1174</td>\n",
       "      <td>1000</td>\n",
       "    </tr>\n",
       "    <tr>\n",
       "      <th>59</th>\n",
       "      <td>riverside/san bernardino</td>\n",
       "      <td>USA</td>\n",
       "      <td>1136</td>\n",
       "      <td>1350</td>\n",
       "    </tr>\n",
       "    <tr>\n",
       "      <th>60</th>\n",
       "      <td>richmond</td>\n",
       "      <td>USA</td>\n",
       "      <td>1131</td>\n",
       "      <td>700</td>\n",
       "    </tr>\n",
       "    <tr>\n",
       "      <th>61</th>\n",
       "      <td>charlotte</td>\n",
       "      <td>USA</td>\n",
       "      <td>1126</td>\n",
       "      <td>650</td>\n",
       "    </tr>\n",
       "    <tr>\n",
       "      <th>63</th>\n",
       "      <td>nashville</td>\n",
       "      <td>USA</td>\n",
       "      <td>1116</td>\n",
       "      <td>650</td>\n",
       "    </tr>\n",
       "    <tr>\n",
       "      <th>65</th>\n",
       "      <td>jacksonville</td>\n",
       "      <td>USA</td>\n",
       "      <td>1063</td>\n",
       "      <td>850</td>\n",
       "    </tr>\n",
       "    <tr>\n",
       "      <th>67</th>\n",
       "      <td>san antonio</td>\n",
       "      <td>USA</td>\n",
       "      <td>1056</td>\n",
       "      <td>1250</td>\n",
       "    </tr>\n",
       "    <tr>\n",
       "      <th>69</th>\n",
       "      <td>memphis</td>\n",
       "      <td>USA</td>\n",
       "      <td>1036</td>\n",
       "      <td>950</td>\n",
       "    </tr>\n",
       "    <tr>\n",
       "      <th>70</th>\n",
       "      <td>columbus</td>\n",
       "      <td>USA</td>\n",
       "      <td>1030</td>\n",
       "      <td>1100</td>\n",
       "    </tr>\n",
       "    <tr>\n",
       "      <th>71</th>\n",
       "      <td>birmingham</td>\n",
       "      <td>USA</td>\n",
       "      <td>1016</td>\n",
       "      <td>650</td>\n",
       "    </tr>\n",
       "    <tr>\n",
       "      <th>72</th>\n",
       "      <td>louisville</td>\n",
       "      <td>USA</td>\n",
       "      <td>1013</td>\n",
       "      <td>850</td>\n",
       "    </tr>\n",
       "    <tr>\n",
       "      <th>77</th>\n",
       "      <td>sa cramento</td>\n",
       "      <td>USA</td>\n",
       "      <td>956</td>\n",
       "      <td>1450</td>\n",
       "    </tr>\n",
       "    <tr>\n",
       "      <th>79</th>\n",
       "      <td>buffalo</td>\n",
       "      <td>USA</td>\n",
       "      <td>950</td>\n",
       "      <td>1050</td>\n",
       "    </tr>\n",
       "    <tr>\n",
       "      <th>82</th>\n",
       "      <td>knoxville</td>\n",
       "      <td>USA</td>\n",
       "      <td>879</td>\n",
       "      <td>500</td>\n",
       "    </tr>\n",
       "    <tr>\n",
       "      <th>86</th>\n",
       "      <td>dayton</td>\n",
       "      <td>USA</td>\n",
       "      <td>838</td>\n",
       "      <td>850</td>\n",
       "    </tr>\n",
       "    <tr>\n",
       "      <th>87</th>\n",
       "      <td>oklahoma city</td>\n",
       "      <td>USA</td>\n",
       "      <td>835</td>\n",
       "      <td>900</td>\n",
       "    </tr>\n",
       "    <tr>\n",
       "      <th>90</th>\n",
       "      <td>raleigh</td>\n",
       "      <td>USA</td>\n",
       "      <td>828</td>\n",
       "      <td>650</td>\n",
       "    </tr>\n",
       "    <tr>\n",
       "      <th>91</th>\n",
       "      <td>austin</td>\n",
       "      <td>USA</td>\n",
       "      <td>824</td>\n",
       "      <td>1100</td>\n",
       "    </tr>\n",
       "    <tr>\n",
       "      <th>94</th>\n",
       "      <td>mc allen</td>\n",
       "      <td>USA</td>\n",
       "      <td>813</td>\n",
       "      <td>650</td>\n",
       "    </tr>\n",
       "    <tr>\n",
       "      <th>97</th>\n",
       "      <td>springfield</td>\n",
       "      <td>USA</td>\n",
       "      <td>800</td>\n",
       "      <td>700</td>\n",
       "    </tr>\n",
       "    <tr>\n",
       "      <th>98</th>\n",
       "      <td>akron</td>\n",
       "      <td>USA</td>\n",
       "      <td>797</td>\n",
       "      <td>700</td>\n",
       "    </tr>\n",
       "    <tr>\n",
       "      <th>101</th>\n",
       "      <td>rochester</td>\n",
       "      <td>USA</td>\n",
       "      <td>764</td>\n",
       "      <td>900</td>\n",
       "    </tr>\n",
       "  </tbody>\n",
       "</table>\n",
       "</div>"
      ],
      "text/plain": [
       "                         City Country  Landarea  Density\n",
       "51                     denver     USA      1292     1550\n",
       "52                  milwaukee     USA      1261     1050\n",
       "53                   portland     USA      1228     1300\n",
       "54                   hartford     USA      1216      700\n",
       "55       bridgeport//stamford     USA      1205      750\n",
       "57                    orlando     USA      1174     1000\n",
       "59   riverside/san bernardino     USA      1136     1350\n",
       "60                   richmond     USA      1131      700\n",
       "61                  charlotte     USA      1126      650\n",
       "63                  nashville     USA      1116      650\n",
       "65               jacksonville     USA      1063      850\n",
       "67                san antonio     USA      1056     1250\n",
       "69                    memphis     USA      1036      950\n",
       "70                   columbus     USA      1030     1100\n",
       "71                 birmingham     USA      1016      650\n",
       "72                 louisville     USA      1013      850\n",
       "77                sa cramento     USA       956     1450\n",
       "79                    buffalo     USA       950     1050\n",
       "82                  knoxville     USA       879      500\n",
       "86                     dayton     USA       838      850\n",
       "87              oklahoma city     USA       835      900\n",
       "90                    raleigh     USA       828      650\n",
       "91                     austin     USA       824     1100\n",
       "94                   mc allen     USA       813      650\n",
       "97                springfield     USA       800      700\n",
       "98                      akron     USA       797      700\n",
       "101                 rochester     USA       764      900"
      ]
     },
     "execution_count": 109,
     "metadata": {},
     "output_type": "execute_result"
    }
   ],
   "source": [
    "df12=df10.iloc[26:53,:]\n",
    "df12"
   ]
  },
  {
   "cell_type": "code",
   "execution_count": 110,
   "id": "d086d167",
   "metadata": {},
   "outputs": [],
   "source": [
    "#df12.to_csv(\"USA2.csv\")"
   ]
  },
  {
   "cell_type": "code",
   "execution_count": 111,
   "id": "979a6b70",
   "metadata": {},
   "outputs": [
    {
     "data": {
      "text/plain": [
       "51    1292\n",
       "52    1261\n",
       "53    1228\n",
       "54    1216\n",
       "55    1205\n",
       "Name: Landarea, dtype: int32"
      ]
     },
     "execution_count": 111,
     "metadata": {},
     "output_type": "execute_result"
    }
   ],
   "source": [
    "Land=df12.iloc[:,2]\n",
    "Land.head()"
   ]
  },
  {
   "cell_type": "code",
   "execution_count": 112,
   "id": "a2862efa",
   "metadata": {},
   "outputs": [
    {
     "data": {
      "text/plain": [
       "51    1550\n",
       "52    1050\n",
       "53    1300\n",
       "54     700\n",
       "55     750\n",
       "Name: Density, dtype: int32"
      ]
     },
     "execution_count": 112,
     "metadata": {},
     "output_type": "execute_result"
    }
   ],
   "source": [
    "Density=df12.iloc[:,3]\n",
    "Density.head()"
   ]
  },
  {
   "cell_type": "code",
   "execution_count": 113,
   "id": "5c67f5dd",
   "metadata": {},
   "outputs": [
    {
     "data": {
      "text/plain": [
       "array([1292, 1261, 1228, 1216, 1205, 1174, 1136, 1131, 1126, 1116, 1063,\n",
       "       1056, 1036, 1030, 1016, 1013,  956,  950,  879,  838,  835,  828,\n",
       "        824,  813,  800,  797,  764])"
      ]
     },
     "execution_count": 113,
     "metadata": {},
     "output_type": "execute_result"
    }
   ],
   "source": [
    "x=Land.values\n",
    "x"
   ]
  },
  {
   "cell_type": "code",
   "execution_count": 114,
   "id": "ab3e2df0",
   "metadata": {},
   "outputs": [
    {
     "data": {
      "text/plain": [
       "array([1550, 1050, 1300,  700,  750, 1000, 1350,  700,  650,  650,  850,\n",
       "       1250,  950, 1100,  650,  850, 1450, 1050,  500,  850,  900,  650,\n",
       "       1100,  650,  700,  700,  900])"
      ]
     },
     "execution_count": 114,
     "metadata": {},
     "output_type": "execute_result"
    }
   ],
   "source": [
    "y=Density.values\n",
    "y"
   ]
  },
  {
   "cell_type": "code",
   "execution_count": 115,
   "id": "0604178b",
   "metadata": {},
   "outputs": [
    {
     "data": {
      "image/png": "[encoded data removed]",
      "text/plain": [
       "<Figure size 432x288 with 1 Axes>"
      ]
     },
     "metadata": {
      "needs_background": "light"
     },
     "output_type": "display_data"
    }
   ],
   "source": [
    "import matplotlib.pyplot as plt\n",
    "plt.scatter(x,y,label=\" \",color=\"g\",s=100)\n",
    "plt.xlabel(\"LandArea\")\n",
    "plt.ylabel(\"Density\")\n",
    "plt.title(\"LandArea vs Density\")\n",
    "\n",
    "plt.show()"
   ]
  },
  {
   "cell_type": "markdown",
   "id": "32385168",
   "metadata": {},
   "source": [
    "# USA (102 to 163)(27 cities)"
   ]
  },
  {
   "cell_type": "code",
   "execution_count": 116,
   "id": "43f51806",
   "metadata": {},
   "outputs": [
    {
     "data": {
      "text/html": [
       "<div>\n",
       "<style scoped>\n",
       "    .dataframe tbody tr th:only-of-type {\n",
       "        vertical-align: middle;\n",
       "    }\n",
       "\n",
       "    .dataframe tbody tr th {\n",
       "        vertical-align: top;\n",
       "    }\n",
       "\n",
       "    .dataframe thead th {\n",
       "        text-align: right;\n",
       "    }\n",
       "</style>\n",
       "<table border=\"1\" class=\"dataframe\">\n",
       "  <thead>\n",
       "    <tr style=\"text-align: right;\">\n",
       "      <th></th>\n",
       "      <th>City</th>\n",
       "      <th>Country</th>\n",
       "      <th>Landarea</th>\n",
       "      <th>Density</th>\n",
       "    </tr>\n",
       "  </thead>\n",
       "  <tbody>\n",
       "    <tr>\n",
       "      <th>102</th>\n",
       "      <td>tucson</td>\n",
       "      <td>USA</td>\n",
       "      <td>755</td>\n",
       "      <td>950</td>\n",
       "    </tr>\n",
       "    <tr>\n",
       "      <th>103</th>\n",
       "      <td>chattanooga</td>\n",
       "      <td>USA</td>\n",
       "      <td>751</td>\n",
       "      <td>450</td>\n",
       "    </tr>\n",
       "    <tr>\n",
       "      <th>104</th>\n",
       "      <td>allen town/bethlehem</td>\n",
       "      <td>USA</td>\n",
       "      <td>750</td>\n",
       "      <td>750</td>\n",
       "    </tr>\n",
       "    <tr>\n",
       "      <th>107</th>\n",
       "      <td>barnstable town</td>\n",
       "      <td>USA</td>\n",
       "      <td>741</td>\n",
       "      <td>350</td>\n",
       "    </tr>\n",
       "    <tr>\n",
       "      <th>108</th>\n",
       "      <td>las vegas</td>\n",
       "      <td>USA</td>\n",
       "      <td>741</td>\n",
       "      <td>1750</td>\n",
       "    </tr>\n",
       "    <tr>\n",
       "      <th>109</th>\n",
       "      <td>new hawen</td>\n",
       "      <td>USA</td>\n",
       "      <td>739</td>\n",
       "      <td>700</td>\n",
       "    </tr>\n",
       "    <tr>\n",
       "      <th>111</th>\n",
       "      <td>albany</td>\n",
       "      <td>USA</td>\n",
       "      <td>736</td>\n",
       "      <td>750</td>\n",
       "    </tr>\n",
       "    <tr>\n",
       "      <th>113</th>\n",
       "      <td>baton rouge</td>\n",
       "      <td>USA</td>\n",
       "      <td>727</td>\n",
       "      <td>650</td>\n",
       "    </tr>\n",
       "    <tr>\n",
       "      <th>121</th>\n",
       "      <td>sarasota//bradenton</td>\n",
       "      <td>USA</td>\n",
       "      <td>700</td>\n",
       "      <td>800</td>\n",
       "    </tr>\n",
       "    <tr>\n",
       "      <th>122</th>\n",
       "      <td>columbia</td>\n",
       "      <td>USA</td>\n",
       "      <td>697</td>\n",
       "      <td>600</td>\n",
       "    </tr>\n",
       "    <tr>\n",
       "      <th>124</th>\n",
       "      <td>pough keepsie</td>\n",
       "      <td>USA</td>\n",
       "      <td>686</td>\n",
       "      <td>500</td>\n",
       "    </tr>\n",
       "    <tr>\n",
       "      <th>127</th>\n",
       "      <td>tulsa</td>\n",
       "      <td>USA</td>\n",
       "      <td>677</td>\n",
       "      <td>800</td>\n",
       "    </tr>\n",
       "    <tr>\n",
       "      <th>128</th>\n",
       "      <td>san jose</td>\n",
       "      <td>USA</td>\n",
       "      <td>674</td>\n",
       "      <td>2300</td>\n",
       "    </tr>\n",
       "    <tr>\n",
       "      <th>132</th>\n",
       "      <td>grand rapids</td>\n",
       "      <td>USA</td>\n",
       "      <td>667</td>\n",
       "      <td>800</td>\n",
       "    </tr>\n",
       "    <tr>\n",
       "      <th>133</th>\n",
       "      <td>winston/salem</td>\n",
       "      <td>USA</td>\n",
       "      <td>651</td>\n",
       "      <td>450</td>\n",
       "    </tr>\n",
       "    <tr>\n",
       "      <th>137</th>\n",
       "      <td>worecester</td>\n",
       "      <td>USA</td>\n",
       "      <td>648</td>\n",
       "      <td>650</td>\n",
       "    </tr>\n",
       "    <tr>\n",
       "      <th>141</th>\n",
       "      <td>augusta</td>\n",
       "      <td>USA</td>\n",
       "      <td>600</td>\n",
       "      <td>550</td>\n",
       "    </tr>\n",
       "    <tr>\n",
       "      <th>143</th>\n",
       "      <td>flint</td>\n",
       "      <td>USA</td>\n",
       "      <td>599</td>\n",
       "      <td>600</td>\n",
       "    </tr>\n",
       "    <tr>\n",
       "      <th>144</th>\n",
       "      <td>charleston</td>\n",
       "      <td>USA</td>\n",
       "      <td>598</td>\n",
       "      <td>700</td>\n",
       "    </tr>\n",
       "    <tr>\n",
       "      <th>145</th>\n",
       "      <td>salt lake city</td>\n",
       "      <td>USA</td>\n",
       "      <td>598</td>\n",
       "      <td>1500</td>\n",
       "    </tr>\n",
       "    <tr>\n",
       "      <th>150</th>\n",
       "      <td>youngstown</td>\n",
       "      <td>USA</td>\n",
       "      <td>591</td>\n",
       "      <td>700</td>\n",
       "    </tr>\n",
       "    <tr>\n",
       "      <th>151</th>\n",
       "      <td>greenville</td>\n",
       "      <td>USA</td>\n",
       "      <td>587</td>\n",
       "      <td>500</td>\n",
       "    </tr>\n",
       "    <tr>\n",
       "      <th>152</th>\n",
       "      <td>omaha</td>\n",
       "      <td>USA</td>\n",
       "      <td>586</td>\n",
       "      <td>1050</td>\n",
       "    </tr>\n",
       "    <tr>\n",
       "      <th>160</th>\n",
       "      <td>albuquerque</td>\n",
       "      <td>USA</td>\n",
       "      <td>580</td>\n",
       "      <td>1050</td>\n",
       "    </tr>\n",
       "    <tr>\n",
       "      <th>161</th>\n",
       "      <td>palm bay</td>\n",
       "      <td>USA</td>\n",
       "      <td>569</td>\n",
       "      <td>700</td>\n",
       "    </tr>\n",
       "    <tr>\n",
       "      <th>162</th>\n",
       "      <td>el paso</td>\n",
       "      <td>USA</td>\n",
       "      <td>568</td>\n",
       "      <td>1200</td>\n",
       "    </tr>\n",
       "    <tr>\n",
       "      <th>163</th>\n",
       "      <td>pensacola</td>\n",
       "      <td>USA</td>\n",
       "      <td>568</td>\n",
       "      <td>550</td>\n",
       "    </tr>\n",
       "  </tbody>\n",
       "</table>\n",
       "</div>"
      ],
      "text/plain": [
       "                     City Country  Landarea  Density\n",
       "102                tucson     USA       755      950\n",
       "103           chattanooga     USA       751      450\n",
       "104  allen town/bethlehem     USA       750      750\n",
       "107       barnstable town     USA       741      350\n",
       "108             las vegas     USA       741     1750\n",
       "109             new hawen     USA       739      700\n",
       "111                albany     USA       736      750\n",
       "113           baton rouge     USA       727      650\n",
       "121   sarasota//bradenton     USA       700      800\n",
       "122              columbia     USA       697      600\n",
       "124         pough keepsie     USA       686      500\n",
       "127                 tulsa     USA       677      800\n",
       "128              san jose     USA       674     2300\n",
       "132          grand rapids     USA       667      800\n",
       "133         winston/salem     USA       651      450\n",
       "137            worecester     USA       648      650\n",
       "141               augusta     USA       600      550\n",
       "143                 flint     USA       599      600\n",
       "144            charleston     USA       598      700\n",
       "145        salt lake city     USA       598     1500\n",
       "150            youngstown     USA       591      700\n",
       "151            greenville     USA       587      500\n",
       "152                 omaha     USA       586     1050\n",
       "160           albuquerque     USA       580     1050\n",
       "161              palm bay     USA       569      700\n",
       "162               el paso     USA       568     1200\n",
       "163             pensacola     USA       568      550"
      ]
     },
     "execution_count": 116,
     "metadata": {},
     "output_type": "execute_result"
    }
   ],
   "source": [
    "df13=df10.iloc[53:80,:]\n",
    "df13"
   ]
  },
  {
   "cell_type": "code",
   "execution_count": 117,
   "id": "fc7ae295",
   "metadata": {},
   "outputs": [],
   "source": [
    "#df13.to_csv(\"USA3.csv\")"
   ]
  },
  {
   "cell_type": "code",
   "execution_count": 118,
   "id": "5c6b648f",
   "metadata": {},
   "outputs": [
    {
     "data": {
      "text/plain": [
       "102    755\n",
       "103    751\n",
       "104    750\n",
       "107    741\n",
       "108    741\n",
       "Name: Landarea, dtype: int32"
      ]
     },
     "execution_count": 118,
     "metadata": {},
     "output_type": "execute_result"
    }
   ],
   "source": [
    "Land=df13.iloc[:,2]\n",
    "Land.head()"
   ]
  },
  {
   "cell_type": "code",
   "execution_count": 119,
   "id": "ebb6f1b1",
   "metadata": {},
   "outputs": [
    {
     "data": {
      "text/plain": [
       "102     950\n",
       "103     450\n",
       "104     750\n",
       "107     350\n",
       "108    1750\n",
       "Name: Density, dtype: int32"
      ]
     },
     "execution_count": 119,
     "metadata": {},
     "output_type": "execute_result"
    }
   ],
   "source": [
    "Density=df13.iloc[:,3]\n",
    "Density.head()"
   ]
  },
  {
   "cell_type": "code",
   "execution_count": 120,
   "id": "920494cf",
   "metadata": {},
   "outputs": [
    {
     "data": {
      "text/plain": [
       "array([755, 751, 750, 741, 741, 739, 736, 727, 700, 697, 686, 677, 674,\n",
       "       667, 651, 648, 600, 599, 598, 598, 591, 587, 586, 580, 569, 568,\n",
       "       568])"
      ]
     },
     "execution_count": 120,
     "metadata": {},
     "output_type": "execute_result"
    }
   ],
   "source": [
    "x=Land.values\n",
    "x"
   ]
  },
  {
   "cell_type": "code",
   "execution_count": 121,
   "id": "d2aba285",
   "metadata": {},
   "outputs": [
    {
     "data": {
      "text/plain": [
       "array([ 950,  450,  750,  350, 1750,  700,  750,  650,  800,  600,  500,\n",
       "        800, 2300,  800,  450,  650,  550,  600,  700, 1500,  700,  500,\n",
       "       1050, 1050,  700, 1200,  550])"
      ]
     },
     "execution_count": 121,
     "metadata": {},
     "output_type": "execute_result"
    }
   ],
   "source": [
    "y=Density.values\n",
    "y"
   ]
  },
  {
   "cell_type": "code",
   "execution_count": 122,
   "id": "c2a67316",
   "metadata": {},
   "outputs": [
    {
     "data": {
      "image/png": "[encoded data removed]",
      "text/plain": [
       "<Figure size 432x288 with 1 Axes>"
      ]
     },
     "metadata": {
      "needs_background": "light"
     },
     "output_type": "display_data"
    }
   ],
   "source": [
    "import matplotlib.pyplot as plt\n",
    "plt.scatter(x,y,label=\" \",color=\"g\",s=100)\n",
    "plt.xlabel(\"LandArea\")\n",
    "plt.ylabel(\"Density\")\n",
    "plt.title(\"LandArea vs Density\")\n",
    "\n",
    "plt.show()"
   ]
  },
  {
   "cell_type": "markdown",
   "id": "7a852ba9",
   "metadata": {},
   "source": [
    "# USA (165 to 247) (26 cities)"
   ]
  },
  {
   "cell_type": "code",
   "execution_count": 123,
   "id": "23c85ef0",
   "metadata": {},
   "outputs": [
    {
     "data": {
      "text/html": [
       "<div>\n",
       "<style scoped>\n",
       "    .dataframe tbody tr th:only-of-type {\n",
       "        vertical-align: middle;\n",
       "    }\n",
       "\n",
       "    .dataframe tbody tr th {\n",
       "        vertical-align: top;\n",
       "    }\n",
       "\n",
       "    .dataframe thead th {\n",
       "        text-align: right;\n",
       "    }\n",
       "</style>\n",
       "<table border=\"1\" class=\"dataframe\">\n",
       "  <thead>\n",
       "    <tr style=\"text-align: right;\">\n",
       "      <th></th>\n",
       "      <th>City</th>\n",
       "      <th>Country</th>\n",
       "      <th>Landarea</th>\n",
       "      <th>Density</th>\n",
       "    </tr>\n",
       "  </thead>\n",
       "  <tbody>\n",
       "    <tr>\n",
       "      <th>165</th>\n",
       "      <td>hickory</td>\n",
       "      <td>USA</td>\n",
       "      <td>546</td>\n",
       "      <td>350</td>\n",
       "    </tr>\n",
       "    <tr>\n",
       "      <th>166</th>\n",
       "      <td>mobile</td>\n",
       "      <td>USA</td>\n",
       "      <td>546</td>\n",
       "      <td>600</td>\n",
       "    </tr>\n",
       "    <tr>\n",
       "      <th>171</th>\n",
       "      <td>harrisburg</td>\n",
       "      <td>USA</td>\n",
       "      <td>540</td>\n",
       "      <td>650</td>\n",
       "    </tr>\n",
       "    <tr>\n",
       "      <th>172</th>\n",
       "      <td>asheville</td>\n",
       "      <td>USA</td>\n",
       "      <td>536</td>\n",
       "      <td>400</td>\n",
       "    </tr>\n",
       "    <tr>\n",
       "      <th>174</th>\n",
       "      <td>little rock</td>\n",
       "      <td>USA</td>\n",
       "      <td>532</td>\n",
       "      <td>700</td>\n",
       "    </tr>\n",
       "    <tr>\n",
       "      <th>179</th>\n",
       "      <td>toledo</td>\n",
       "      <td>USA</td>\n",
       "      <td>524</td>\n",
       "      <td>950</td>\n",
       "    </tr>\n",
       "    <tr>\n",
       "      <th>186</th>\n",
       "      <td>lancaster</td>\n",
       "      <td>USA</td>\n",
       "      <td>517</td>\n",
       "      <td>650</td>\n",
       "    </tr>\n",
       "    <tr>\n",
       "      <th>187</th>\n",
       "      <td>new orleans</td>\n",
       "      <td>USA</td>\n",
       "      <td>512</td>\n",
       "      <td>1950</td>\n",
       "    </tr>\n",
       "    <tr>\n",
       "      <th>188</th>\n",
       "      <td>colorado springs</td>\n",
       "      <td>USA</td>\n",
       "      <td>511</td>\n",
       "      <td>900</td>\n",
       "    </tr>\n",
       "    <tr>\n",
       "      <th>194</th>\n",
       "      <td>cape coral</td>\n",
       "      <td>USA</td>\n",
       "      <td>497</td>\n",
       "      <td>650</td>\n",
       "    </tr>\n",
       "    <tr>\n",
       "      <th>208</th>\n",
       "      <td>ogden</td>\n",
       "      <td>USA</td>\n",
       "      <td>466</td>\n",
       "      <td>900</td>\n",
       "    </tr>\n",
       "    <tr>\n",
       "      <th>211</th>\n",
       "      <td>syracuse</td>\n",
       "      <td>USA</td>\n",
       "      <td>465</td>\n",
       "      <td>850</td>\n",
       "    </tr>\n",
       "    <tr>\n",
       "      <th>212</th>\n",
       "      <td>wichita</td>\n",
       "      <td>USA</td>\n",
       "      <td>457</td>\n",
       "      <td>900</td>\n",
       "    </tr>\n",
       "    <tr>\n",
       "      <th>213</th>\n",
       "      <td>concord</td>\n",
       "      <td>USA</td>\n",
       "      <td>453</td>\n",
       "      <td>1200</td>\n",
       "    </tr>\n",
       "    <tr>\n",
       "      <th>222</th>\n",
       "      <td>port st wcie</td>\n",
       "      <td>USA</td>\n",
       "      <td>438</td>\n",
       "      <td>600</td>\n",
       "    </tr>\n",
       "    <tr>\n",
       "      <th>223</th>\n",
       "      <td>fayetteville</td>\n",
       "      <td>USA</td>\n",
       "      <td>433</td>\n",
       "      <td>650</td>\n",
       "    </tr>\n",
       "    <tr>\n",
       "      <th>227</th>\n",
       "      <td>jackson</td>\n",
       "      <td>USA</td>\n",
       "      <td>417</td>\n",
       "      <td>700</td>\n",
       "    </tr>\n",
       "    <tr>\n",
       "      <th>231</th>\n",
       "      <td>scranton</td>\n",
       "      <td>USA</td>\n",
       "      <td>411</td>\n",
       "      <td>950</td>\n",
       "    </tr>\n",
       "    <tr>\n",
       "      <th>232</th>\n",
       "      <td>huntsuille</td>\n",
       "      <td>USA</td>\n",
       "      <td>407</td>\n",
       "      <td>500</td>\n",
       "    </tr>\n",
       "    <tr>\n",
       "      <th>233</th>\n",
       "      <td>durham</td>\n",
       "      <td>USA</td>\n",
       "      <td>406</td>\n",
       "      <td>700</td>\n",
       "    </tr>\n",
       "    <tr>\n",
       "      <th>234</th>\n",
       "      <td>south bend</td>\n",
       "      <td>USA</td>\n",
       "      <td>404</td>\n",
       "      <td>700</td>\n",
       "    </tr>\n",
       "    <tr>\n",
       "      <th>236</th>\n",
       "      <td>shreveport</td>\n",
       "      <td>USA</td>\n",
       "      <td>401</td>\n",
       "      <td>700</td>\n",
       "    </tr>\n",
       "    <tr>\n",
       "      <th>237</th>\n",
       "      <td>honolulu</td>\n",
       "      <td>USA</td>\n",
       "      <td>399</td>\n",
       "      <td>1800</td>\n",
       "    </tr>\n",
       "    <tr>\n",
       "      <th>239</th>\n",
       "      <td>bonita springs /naples</td>\n",
       "      <td>USA</td>\n",
       "      <td>389</td>\n",
       "      <td>550</td>\n",
       "    </tr>\n",
       "    <tr>\n",
       "      <th>246</th>\n",
       "      <td>canton</td>\n",
       "      <td>USA</td>\n",
       "      <td>372</td>\n",
       "      <td>700</td>\n",
       "    </tr>\n",
       "    <tr>\n",
       "      <th>247</th>\n",
       "      <td>spokane</td>\n",
       "      <td>USA</td>\n",
       "      <td>371</td>\n",
       "      <td>900</td>\n",
       "    </tr>\n",
       "  </tbody>\n",
       "</table>\n",
       "</div>"
      ],
      "text/plain": [
       "                       City Country  Landarea  Density\n",
       "165                 hickory     USA       546      350\n",
       "166                  mobile     USA       546      600\n",
       "171              harrisburg     USA       540      650\n",
       "172               asheville     USA       536      400\n",
       "174             little rock     USA       532      700\n",
       "179                  toledo     USA       524      950\n",
       "186               lancaster     USA       517      650\n",
       "187             new orleans     USA       512     1950\n",
       "188        colorado springs     USA       511      900\n",
       "194              cape coral     USA       497      650\n",
       "208                   ogden     USA       466      900\n",
       "211                syracuse     USA       465      850\n",
       "212                 wichita     USA       457      900\n",
       "213                 concord     USA       453     1200\n",
       "222            port st wcie     USA       438      600\n",
       "223            fayetteville     USA       433      650\n",
       "227                 jackson     USA       417      700\n",
       "231                scranton     USA       411      950\n",
       "232              huntsuille     USA       407      500\n",
       "233                  durham     USA       406      700\n",
       "234              south bend     USA       404      700\n",
       "236              shreveport     USA       401      700\n",
       "237                honolulu     USA       399     1800\n",
       "239  bonita springs /naples     USA       389      550\n",
       "246                  canton     USA       372      700\n",
       "247                 spokane     USA       371      900"
      ]
     },
     "execution_count": 123,
     "metadata": {},
     "output_type": "execute_result"
    }
   ],
   "source": [
    "df14=df10.iloc[80:106,:]\n",
    "df14"
   ]
  },
  {
   "cell_type": "code",
   "execution_count": 124,
   "id": "cd6b716b",
   "metadata": {},
   "outputs": [],
   "source": [
    "#df14.to_csv(\"USA4.csv\")"
   ]
  },
  {
   "cell_type": "code",
   "execution_count": 125,
   "id": "0e144371",
   "metadata": {},
   "outputs": [
    {
     "data": {
      "text/plain": [
       "165    546\n",
       "166    546\n",
       "171    540\n",
       "172    536\n",
       "174    532\n",
       "Name: Landarea, dtype: int32"
      ]
     },
     "execution_count": 125,
     "metadata": {},
     "output_type": "execute_result"
    }
   ],
   "source": [
    "Land=df14.iloc[:,2]\n",
    "Land.head()"
   ]
  },
  {
   "cell_type": "code",
   "execution_count": 126,
   "id": "6d1c4de0",
   "metadata": {},
   "outputs": [
    {
     "data": {
      "text/plain": [
       "165    350\n",
       "166    600\n",
       "171    650\n",
       "172    400\n",
       "174    700\n",
       "Name: Density, dtype: int32"
      ]
     },
     "execution_count": 126,
     "metadata": {},
     "output_type": "execute_result"
    }
   ],
   "source": [
    "Density=df14.iloc[:,3]\n",
    "Density.head()"
   ]
  },
  {
   "cell_type": "code",
   "execution_count": 127,
   "id": "10351666",
   "metadata": {},
   "outputs": [
    {
     "data": {
      "text/plain": [
       "array([546, 546, 540, 536, 532, 524, 517, 512, 511, 497, 466, 465, 457,\n",
       "       453, 438, 433, 417, 411, 407, 406, 404, 401, 399, 389, 372, 371])"
      ]
     },
     "execution_count": 127,
     "metadata": {},
     "output_type": "execute_result"
    }
   ],
   "source": [
    "x=Land.values\n",
    "x"
   ]
  },
  {
   "cell_type": "code",
   "execution_count": 128,
   "id": "2542bd94",
   "metadata": {},
   "outputs": [
    {
     "data": {
      "text/plain": [
       "array([ 350,  600,  650,  400,  700,  950,  650, 1950,  900,  650,  900,\n",
       "        850,  900, 1200,  600,  650,  700,  950,  500,  700,  700,  700,\n",
       "       1800,  550,  700,  900])"
      ]
     },
     "execution_count": 128,
     "metadata": {},
     "output_type": "execute_result"
    }
   ],
   "source": [
    "y=Density.values\n",
    "y"
   ]
  },
  {
   "cell_type": "code",
   "execution_count": 129,
   "id": "1d3f5ea0",
   "metadata": {},
   "outputs": [
    {
     "data": {
      "image/png": "[encoded data removed]",
      "text/plain": [
       "<Figure size 432x288 with 1 Axes>"
      ]
     },
     "metadata": {
      "needs_background": "light"
     },
     "output_type": "display_data"
    }
   ],
   "source": [
    "import matplotlib.pyplot as plt\n",
    "plt.scatter(x,y,label=\" \",color=\"g\",s=100)\n",
    "plt.xlabel(\"LandArea\")\n",
    "plt.ylabel(\"Density\")\n",
    "plt.title(\"LandArea vs Density\")\n",
    "\n",
    "plt.show()"
   ]
  },
  {
   "cell_type": "markdown",
   "id": "c7bb28d5",
   "metadata": {},
   "source": [
    "# India "
   ]
  },
  {
   "cell_type": "code",
   "execution_count": 130,
   "id": "005e6358",
   "metadata": {},
   "outputs": [
    {
     "data": {
      "text/html": [
       "<div>\n",
       "<style scoped>\n",
       "    .dataframe tbody tr th:only-of-type {\n",
       "        vertical-align: middle;\n",
       "    }\n",
       "\n",
       "    .dataframe tbody tr th {\n",
       "        vertical-align: top;\n",
       "    }\n",
       "\n",
       "    .dataframe thead th {\n",
       "        text-align: right;\n",
       "    }\n",
       "</style>\n",
       "<table border=\"1\" class=\"dataframe\">\n",
       "  <thead>\n",
       "    <tr style=\"text-align: right;\">\n",
       "      <th></th>\n",
       "      <th>City</th>\n",
       "      <th>Country</th>\n",
       "      <th>Landarea</th>\n",
       "      <th>Density</th>\n",
       "    </tr>\n",
       "  </thead>\n",
       "  <tbody>\n",
       "    <tr>\n",
       "      <th>50</th>\n",
       "      <td>delhi</td>\n",
       "      <td>India</td>\n",
       "      <td>1295</td>\n",
       "      <td>11050</td>\n",
       "    </tr>\n",
       "    <tr>\n",
       "      <th>156</th>\n",
       "      <td>hyderabad</td>\n",
       "      <td>India</td>\n",
       "      <td>583</td>\n",
       "      <td>9100</td>\n",
       "    </tr>\n",
       "    <tr>\n",
       "      <th>173</th>\n",
       "      <td>bangalore</td>\n",
       "      <td>India</td>\n",
       "      <td>534</td>\n",
       "      <td>10100</td>\n",
       "    </tr>\n",
       "    <tr>\n",
       "      <th>176</th>\n",
       "      <td>kolkata</td>\n",
       "      <td>India</td>\n",
       "      <td>531</td>\n",
       "      <td>23900</td>\n",
       "    </tr>\n",
       "    <tr>\n",
       "      <th>198</th>\n",
       "      <td>mumbai</td>\n",
       "      <td>India</td>\n",
       "      <td>484</td>\n",
       "      <td>29650</td>\n",
       "    </tr>\n",
       "    <tr>\n",
       "      <th>228</th>\n",
       "      <td>chennai</td>\n",
       "      <td>India</td>\n",
       "      <td>414</td>\n",
       "      <td>14350</td>\n",
       "    </tr>\n",
       "  </tbody>\n",
       "</table>\n",
       "</div>"
      ],
      "text/plain": [
       "          City Country  Landarea  Density\n",
       "50       delhi   India      1295    11050\n",
       "156  hyderabad   India       583     9100\n",
       "173  bangalore   India       534    10100\n",
       "176    kolkata   India       531    23900\n",
       "198     mumbai   India       484    29650\n",
       "228    chennai   India       414    14350"
      ]
     },
     "metadata": {},
     "output_type": "display_data"
    }
   ],
   "source": [
    "df15=df[df['Country']== \"India\"]\n",
    "display(df[df['Country']== \"India\"])"
   ]
  },
  {
   "cell_type": "code",
   "execution_count": 131,
   "id": "6fc2236f",
   "metadata": {},
   "outputs": [],
   "source": [
    "#df15.to_csv(\"India.csv\")"
   ]
  },
  {
   "cell_type": "code",
   "execution_count": 132,
   "id": "3ffc879f",
   "metadata": {},
   "outputs": [
    {
     "data": {
      "text/plain": [
       "50     1295\n",
       "156     583\n",
       "173     534\n",
       "176     531\n",
       "198     484\n",
       "Name: Landarea, dtype: int32"
      ]
     },
     "execution_count": 132,
     "metadata": {},
     "output_type": "execute_result"
    }
   ],
   "source": [
    "Land=df15.iloc[:,2]\n",
    "Land.head()"
   ]
  },
  {
   "cell_type": "code",
   "execution_count": 133,
   "id": "29f95f8c",
   "metadata": {},
   "outputs": [
    {
     "data": {
      "text/plain": [
       "50     11050\n",
       "156     9100\n",
       "173    10100\n",
       "176    23900\n",
       "198    29650\n",
       "Name: Density, dtype: int32"
      ]
     },
     "execution_count": 133,
     "metadata": {},
     "output_type": "execute_result"
    }
   ],
   "source": [
    "Density=df15.iloc[:,3]\n",
    "Density.head()"
   ]
  },
  {
   "cell_type": "code",
   "execution_count": 134,
   "id": "a6957f2c",
   "metadata": {},
   "outputs": [
    {
     "data": {
      "text/plain": [
       "array([1295,  583,  534,  531,  484,  414])"
      ]
     },
     "execution_count": 134,
     "metadata": {},
     "output_type": "execute_result"
    }
   ],
   "source": [
    "x=Land.values\n",
    "x"
   ]
  },
  {
   "cell_type": "code",
   "execution_count": 135,
   "id": "7dad09da",
   "metadata": {},
   "outputs": [
    {
     "data": {
      "text/plain": [
       "array([11050,  9100, 10100, 23900, 29650, 14350])"
      ]
     },
     "execution_count": 135,
     "metadata": {},
     "output_type": "execute_result"
    }
   ],
   "source": [
    "y=Density.values\n",
    "y"
   ]
  },
  {
   "cell_type": "code",
   "execution_count": 136,
   "id": "153a1851",
   "metadata": {},
   "outputs": [
    {
     "data": {
      "image/png": "[encoded data removed]",
      "text/plain": [
       "<Figure size 432x288 with 1 Axes>"
      ]
     },
     "metadata": {
      "needs_background": "light"
     },
     "output_type": "display_data"
    }
   ],
   "source": [
    "import matplotlib.pyplot as plt\n",
    "plt.scatter(x,y,label=\" \",color=\"g\",s=100)\n",
    "plt.xlabel(\"LandArea\")\n",
    "plt.ylabel(\"Density\")\n",
    "plt.title(\"LandArea vs Density\")\n",
    "\n",
    "plt.show()"
   ]
  },
  {
   "cell_type": "code",
   "execution_count": 137,
   "id": "164558b2",
   "metadata": {},
   "outputs": [],
   "source": [
    "#Density & landareas Ratio"
   ]
  },
  {
   "cell_type": "code",
   "execution_count": 138,
   "id": "371738ae",
   "metadata": {},
   "outputs": [],
   "source": [
    "#df1.to_csv(\"cities3.csv\")"
   ]
  },
  {
   "cell_type": "code",
   "execution_count": 139,
   "id": "1a796926",
   "metadata": {},
   "outputs": [
    {
     "data": {
      "text/html": [
       "<div>\n",
       "<style scoped>\n",
       "    .dataframe tbody tr th:only-of-type {\n",
       "        vertical-align: middle;\n",
       "    }\n",
       "\n",
       "    .dataframe tbody tr th {\n",
       "        vertical-align: top;\n",
       "    }\n",
       "\n",
       "    .dataframe thead th {\n",
       "        text-align: right;\n",
       "    }\n",
       "</style>\n",
       "<table border=\"1\" class=\"dataframe\">\n",
       "  <thead>\n",
       "    <tr style=\"text-align: right;\">\n",
       "      <th></th>\n",
       "      <th>City</th>\n",
       "      <th>Country</th>\n",
       "      <th>Landarea</th>\n",
       "      <th>Density</th>\n",
       "    </tr>\n",
       "  </thead>\n",
       "  <tbody>\n",
       "    <tr>\n",
       "      <th>241</th>\n",
       "      <td>porto</td>\n",
       "      <td>Portugal</td>\n",
       "      <td>389</td>\n",
       "      <td>2650</td>\n",
       "    </tr>\n",
       "    <tr>\n",
       "      <th>242</th>\n",
       "      <td>st.cathariness</td>\n",
       "      <td>Canada</td>\n",
       "      <td>389</td>\n",
       "      <td>750</td>\n",
       "    </tr>\n",
       "    <tr>\n",
       "      <th>243</th>\n",
       "      <td>gold coast</td>\n",
       "      <td>Australia</td>\n",
       "      <td>383</td>\n",
       "      <td>1100</td>\n",
       "    </tr>\n",
       "    <tr>\n",
       "      <th>244</th>\n",
       "      <td>recife</td>\n",
       "      <td>Brazil</td>\n",
       "      <td>376</td>\n",
       "      <td>8050</td>\n",
       "    </tr>\n",
       "    <tr>\n",
       "      <th>245</th>\n",
       "      <td>taipei</td>\n",
       "      <td>Taiwan</td>\n",
       "      <td>376</td>\n",
       "      <td>15200</td>\n",
       "    </tr>\n",
       "    <tr>\n",
       "      <th>246</th>\n",
       "      <td>canton</td>\n",
       "      <td>USA</td>\n",
       "      <td>372</td>\n",
       "      <td>700</td>\n",
       "    </tr>\n",
       "    <tr>\n",
       "      <th>247</th>\n",
       "      <td>spokane</td>\n",
       "      <td>USA</td>\n",
       "      <td>371</td>\n",
       "      <td>900</td>\n",
       "    </tr>\n",
       "    <tr>\n",
       "      <th>248</th>\n",
       "      <td>leeds/bradford</td>\n",
       "      <td>UK</td>\n",
       "      <td>370</td>\n",
       "      <td>4050</td>\n",
       "    </tr>\n",
       "    <tr>\n",
       "      <th>249</th>\n",
       "      <td>Glasgow</td>\n",
       "      <td>UK</td>\n",
       "      <td>368</td>\n",
       "      <td>3250</td>\n",
       "    </tr>\n",
       "    <tr>\n",
       "      <th>250</th>\n",
       "      <td>Dublin</td>\n",
       "      <td>Ireland</td>\n",
       "      <td>365</td>\n",
       "      <td>2950</td>\n",
       "    </tr>\n",
       "  </tbody>\n",
       "</table>\n",
       "</div>"
      ],
      "text/plain": [
       "               City    Country  Landarea  Density\n",
       "241          porto    Portugal       389     2650\n",
       "242  st.cathariness     Canada       389      750\n",
       "243      gold coast  Australia       383     1100\n",
       "244          recife     Brazil       376     8050\n",
       "245          taipei     Taiwan       376    15200\n",
       "246          canton        USA       372      700\n",
       "247         spokane        USA       371      900\n",
       "248  leeds/bradford         UK       370     4050\n",
       "249         Glasgow         UK       368     3250\n",
       "250          Dublin    Ireland       365     2950"
      ]
     },
     "execution_count": 139,
     "metadata": {},
     "output_type": "execute_result"
    }
   ],
   "source": [
    "df[-10:]"
   ]
  },
  {
   "cell_type": "code",
   "execution_count": 140,
   "id": "2fd3a44d",
   "metadata": {},
   "outputs": [
    {
     "data": {
      "text/html": [
       "<div>\n",
       "<style scoped>\n",
       "    .dataframe tbody tr th:only-of-type {\n",
       "        vertical-align: middle;\n",
       "    }\n",
       "\n",
       "    .dataframe tbody tr th {\n",
       "        vertical-align: top;\n",
       "    }\n",
       "\n",
       "    .dataframe thead th {\n",
       "        text-align: right;\n",
       "    }\n",
       "</style>\n",
       "<table border=\"1\" class=\"dataframe\">\n",
       "  <thead>\n",
       "    <tr style=\"text-align: right;\">\n",
       "      <th></th>\n",
       "      <th>City</th>\n",
       "      <th>Country</th>\n",
       "      <th>Landarea</th>\n",
       "      <th>Density</th>\n",
       "    </tr>\n",
       "  </thead>\n",
       "  <tbody>\n",
       "    <tr>\n",
       "      <th>1</th>\n",
       "      <td>New York Metro</td>\n",
       "      <td>USA</td>\n",
       "      <td>8683</td>\n",
       "      <td>2050</td>\n",
       "    </tr>\n",
       "    <tr>\n",
       "      <th>2</th>\n",
       "      <td>Yokyo / yokohana</td>\n",
       "      <td>Japan</td>\n",
       "      <td>6993</td>\n",
       "      <td>4750</td>\n",
       "    </tr>\n",
       "    <tr>\n",
       "      <th>3</th>\n",
       "      <td>chicapo</td>\n",
       "      <td>USA</td>\n",
       "      <td>5498</td>\n",
       "      <td>1500</td>\n",
       "    </tr>\n",
       "    <tr>\n",
       "      <th>4</th>\n",
       "      <td>aflanta</td>\n",
       "      <td>USA</td>\n",
       "      <td>5083</td>\n",
       "      <td>700</td>\n",
       "    </tr>\n",
       "    <tr>\n",
       "      <th>5</th>\n",
       "      <td>philadelphia</td>\n",
       "      <td>USA</td>\n",
       "      <td>4661</td>\n",
       "      <td>1100</td>\n",
       "    </tr>\n",
       "    <tr>\n",
       "      <th>6</th>\n",
       "      <td>boston</td>\n",
       "      <td>USA</td>\n",
       "      <td>4497</td>\n",
       "      <td>900</td>\n",
       "    </tr>\n",
       "    <tr>\n",
       "      <th>7</th>\n",
       "      <td>los anpletes</td>\n",
       "      <td>USA</td>\n",
       "      <td>4320</td>\n",
       "      <td>2750</td>\n",
       "    </tr>\n",
       "    <tr>\n",
       "      <th>8</th>\n",
       "      <td>Dallas/fort worth</td>\n",
       "      <td>USA</td>\n",
       "      <td>3644</td>\n",
       "      <td>1150</td>\n",
       "    </tr>\n",
       "    <tr>\n",
       "      <th>9</th>\n",
       "      <td>houston</td>\n",
       "      <td>USA</td>\n",
       "      <td>3355</td>\n",
       "      <td>1150</td>\n",
       "    </tr>\n",
       "    <tr>\n",
       "      <th>10</th>\n",
       "      <td>detroit</td>\n",
       "      <td>USA</td>\n",
       "      <td>3267</td>\n",
       "      <td>1200</td>\n",
       "    </tr>\n",
       "  </tbody>\n",
       "</table>\n",
       "</div>"
      ],
      "text/plain": [
       "                 City Country  Landarea  Density\n",
       "1      New York Metro     USA      8683     2050\n",
       "2    Yokyo / yokohana   Japan      6993     4750\n",
       "3             chicapo     USA      5498     1500\n",
       "4             aflanta     USA      5083      700\n",
       "5        philadelphia     USA      4661     1100\n",
       "6             boston      USA      4497      900\n",
       "7        los anpletes     USA      4320     2750\n",
       "8   Dallas/fort worth     USA      3644     1150\n",
       "9             houston     USA      3355     1150\n",
       "10            detroit     USA      3267     1200"
      ]
     },
     "execution_count": 140,
     "metadata": {},
     "output_type": "execute_result"
    }
   ],
   "source": [
    "df[:10]"
   ]
  },
  {
   "cell_type": "code",
   "execution_count": 141,
   "id": "401af207",
   "metadata": {},
   "outputs": [
    {
     "data": {
      "text/html": [
       "<div>\n",
       "<style scoped>\n",
       "    .dataframe tbody tr th:only-of-type {\n",
       "        vertical-align: middle;\n",
       "    }\n",
       "\n",
       "    .dataframe tbody tr th {\n",
       "        vertical-align: top;\n",
       "    }\n",
       "\n",
       "    .dataframe thead th {\n",
       "        text-align: right;\n",
       "    }\n",
       "</style>\n",
       "<table border=\"1\" class=\"dataframe\">\n",
       "  <thead>\n",
       "    <tr style=\"text-align: right;\">\n",
       "      <th></th>\n",
       "      <th>City</th>\n",
       "      <th>Country</th>\n",
       "      <th>Landarea</th>\n",
       "      <th>Density</th>\n",
       "    </tr>\n",
       "  </thead>\n",
       "  <tbody>\n",
       "    <tr>\n",
       "      <th>1</th>\n",
       "      <td>New York Metro</td>\n",
       "      <td>USA</td>\n",
       "      <td>8683</td>\n",
       "      <td>2050</td>\n",
       "    </tr>\n",
       "    <tr>\n",
       "      <th>2</th>\n",
       "      <td>Yokyo / yokohana</td>\n",
       "      <td>Japan</td>\n",
       "      <td>6993</td>\n",
       "      <td>4750</td>\n",
       "    </tr>\n",
       "    <tr>\n",
       "      <th>3</th>\n",
       "      <td>chicapo</td>\n",
       "      <td>USA</td>\n",
       "      <td>5498</td>\n",
       "      <td>1500</td>\n",
       "    </tr>\n",
       "    <tr>\n",
       "      <th>4</th>\n",
       "      <td>aflanta</td>\n",
       "      <td>USA</td>\n",
       "      <td>5083</td>\n",
       "      <td>700</td>\n",
       "    </tr>\n",
       "    <tr>\n",
       "      <th>5</th>\n",
       "      <td>philadelphia</td>\n",
       "      <td>USA</td>\n",
       "      <td>4661</td>\n",
       "      <td>1100</td>\n",
       "    </tr>\n",
       "    <tr>\n",
       "      <th>6</th>\n",
       "      <td>boston</td>\n",
       "      <td>USA</td>\n",
       "      <td>4497</td>\n",
       "      <td>900</td>\n",
       "    </tr>\n",
       "    <tr>\n",
       "      <th>7</th>\n",
       "      <td>los anpletes</td>\n",
       "      <td>USA</td>\n",
       "      <td>4320</td>\n",
       "      <td>2750</td>\n",
       "    </tr>\n",
       "    <tr>\n",
       "      <th>8</th>\n",
       "      <td>Dallas/fort worth</td>\n",
       "      <td>USA</td>\n",
       "      <td>3644</td>\n",
       "      <td>1150</td>\n",
       "    </tr>\n",
       "    <tr>\n",
       "      <th>9</th>\n",
       "      <td>houston</td>\n",
       "      <td>USA</td>\n",
       "      <td>3355</td>\n",
       "      <td>1150</td>\n",
       "    </tr>\n",
       "    <tr>\n",
       "      <th>10</th>\n",
       "      <td>detroit</td>\n",
       "      <td>USA</td>\n",
       "      <td>3267</td>\n",
       "      <td>1200</td>\n",
       "    </tr>\n",
       "    <tr>\n",
       "      <th>11</th>\n",
       "      <td>washington</td>\n",
       "      <td>USA</td>\n",
       "      <td>2996</td>\n",
       "      <td>1300</td>\n",
       "    </tr>\n",
       "    <tr>\n",
       "      <th>12</th>\n",
       "      <td>miami</td>\n",
       "      <td>USA</td>\n",
       "      <td>2891</td>\n",
       "      <td>1700</td>\n",
       "    </tr>\n",
       "    <tr>\n",
       "      <th>13</th>\n",
       "      <td>nagoya</td>\n",
       "      <td>Japan</td>\n",
       "      <td>2875</td>\n",
       "      <td>3150</td>\n",
       "    </tr>\n",
       "    <tr>\n",
       "      <th>14</th>\n",
       "      <td>paris</td>\n",
       "      <td>France</td>\n",
       "      <td>2723</td>\n",
       "      <td>3550</td>\n",
       "    </tr>\n",
       "    <tr>\n",
       "      <th>15</th>\n",
       "      <td>essen/dusseldorf</td>\n",
       "      <td>Germany</td>\n",
       "      <td>2642</td>\n",
       "      <td>2800</td>\n",
       "    </tr>\n",
       "    <tr>\n",
       "      <th>16</th>\n",
       "      <td>osaka/kobe/kyoto</td>\n",
       "      <td>Japan</td>\n",
       "      <td>2664</td>\n",
       "      <td>6400</td>\n",
       "    </tr>\n",
       "    <tr>\n",
       "      <th>17</th>\n",
       "      <td>seattle</td>\n",
       "      <td>USA</td>\n",
       "      <td>2470</td>\n",
       "      <td>1100</td>\n",
       "    </tr>\n",
       "    <tr>\n",
       "      <th>18</th>\n",
       "      <td>johannesburg/east round</td>\n",
       "      <td>South Africa</td>\n",
       "      <td>2396</td>\n",
       "      <td>2500</td>\n",
       "    </tr>\n",
       "    <tr>\n",
       "      <th>19</th>\n",
       "      <td>minneapolis/st.paul</td>\n",
       "      <td>USA</td>\n",
       "      <td>2316</td>\n",
       "      <td>1050</td>\n",
       "    </tr>\n",
       "    <tr>\n",
       "      <th>20</th>\n",
       "      <td>san juan</td>\n",
       "      <td>Puerto Rico</td>\n",
       "      <td>2309</td>\n",
       "      <td>950</td>\n",
       "    </tr>\n",
       "    <tr>\n",
       "      <th>21</th>\n",
       "      <td>bvenos aires</td>\n",
       "      <td>Argentina</td>\n",
       "      <td>2266</td>\n",
       "      <td>4950</td>\n",
       "    </tr>\n",
       "    <tr>\n",
       "      <th>22</th>\n",
       "      <td>pittsburgh</td>\n",
       "      <td>USA</td>\n",
       "      <td>2208</td>\n",
       "      <td>800</td>\n",
       "    </tr>\n",
       "    <tr>\n",
       "      <th>23</th>\n",
       "      <td>moscow</td>\n",
       "      <td>Russia</td>\n",
       "      <td>2150</td>\n",
       "      <td>4900</td>\n",
       "    </tr>\n",
       "    <tr>\n",
       "      <th>24</th>\n",
       "      <td>st.lousi</td>\n",
       "      <td>USA</td>\n",
       "      <td>2147</td>\n",
       "      <td>950</td>\n",
       "    </tr>\n",
       "    <tr>\n",
       "      <th>25</th>\n",
       "      <td>melbourne</td>\n",
       "      <td>Australia</td>\n",
       "      <td>2080</td>\n",
       "      <td>1500</td>\n",
       "    </tr>\n",
       "    <tr>\n",
       "      <th>26</th>\n",
       "      <td>tampa//st.petersburg</td>\n",
       "      <td>USA</td>\n",
       "      <td>2078</td>\n",
       "      <td>1000</td>\n",
       "    </tr>\n",
       "    <tr>\n",
       "      <th>27</th>\n",
       "      <td>mexico city</td>\n",
       "      <td>Mexico</td>\n",
       "      <td>2072</td>\n",
       "      <td>8400</td>\n",
       "    </tr>\n",
       "    <tr>\n",
       "      <th>28</th>\n",
       "      <td>phoenix/mesa</td>\n",
       "      <td>USA</td>\n",
       "      <td>2069</td>\n",
       "      <td>1400</td>\n",
       "    </tr>\n",
       "    <tr>\n",
       "      <th>29</th>\n",
       "      <td>san diego</td>\n",
       "      <td>USA</td>\n",
       "      <td>2026</td>\n",
       "      <td>1300</td>\n",
       "    </tr>\n",
       "    <tr>\n",
       "      <th>30</th>\n",
       "      <td>sao paulo</td>\n",
       "      <td>Brazil</td>\n",
       "      <td>1968</td>\n",
       "      <td>9000</td>\n",
       "    </tr>\n",
       "    <tr>\n",
       "      <th>31</th>\n",
       "      <td>baltimore</td>\n",
       "      <td>USA</td>\n",
       "      <td>1768</td>\n",
       "      <td>1150</td>\n",
       "    </tr>\n",
       "    <tr>\n",
       "      <th>32</th>\n",
       "      <td>cincinnati</td>\n",
       "      <td>USA</td>\n",
       "      <td>1740</td>\n",
       "      <td>850</td>\n",
       "    </tr>\n",
       "    <tr>\n",
       "      <th>33</th>\n",
       "      <td>montreal</td>\n",
       "      <td>Canada</td>\n",
       "      <td>1740</td>\n",
       "      <td>1850</td>\n",
       "    </tr>\n",
       "    <tr>\n",
       "      <th>34</th>\n",
       "      <td>sydney</td>\n",
       "      <td>Australia</td>\n",
       "      <td>1687</td>\n",
       "      <td>2100</td>\n",
       "    </tr>\n",
       "    <tr>\n",
       "      <th>35</th>\n",
       "      <td>cleveland</td>\n",
       "      <td>USA</td>\n",
       "      <td>1675</td>\n",
       "      <td>1050</td>\n",
       "    </tr>\n",
       "    <tr>\n",
       "      <th>36</th>\n",
       "      <td>toronto</td>\n",
       "      <td>Canada</td>\n",
       "      <td>1655</td>\n",
       "      <td>2650</td>\n",
       "    </tr>\n",
       "    <tr>\n",
       "      <th>37</th>\n",
       "      <td>london</td>\n",
       "      <td>UK</td>\n",
       "      <td>1623</td>\n",
       "      <td>5100</td>\n",
       "    </tr>\n",
       "    <tr>\n",
       "      <th>38</th>\n",
       "      <td>kuala lumpur</td>\n",
       "      <td>Malaysia</td>\n",
       "      <td>1606</td>\n",
       "      <td>2750</td>\n",
       "    </tr>\n",
       "    <tr>\n",
       "      <th>39</th>\n",
       "      <td>brisbane</td>\n",
       "      <td>Australia</td>\n",
       "      <td>1603</td>\n",
       "      <td>950</td>\n",
       "    </tr>\n",
       "    <tr>\n",
       "      <th>40</th>\n",
       "      <td>rio de janeiro</td>\n",
       "      <td>Brazil</td>\n",
       "      <td>1580</td>\n",
       "      <td>6850</td>\n",
       "    </tr>\n",
       "    <tr>\n",
       "      <th>41</th>\n",
       "      <td>milan</td>\n",
       "      <td>Italy</td>\n",
       "      <td>1554</td>\n",
       "      <td>2750</td>\n",
       "    </tr>\n",
       "    <tr>\n",
       "      <th>42</th>\n",
       "      <td>kanas city</td>\n",
       "      <td>USA</td>\n",
       "      <td>1514</td>\n",
       "      <td>900</td>\n",
       "    </tr>\n",
       "    <tr>\n",
       "      <th>43</th>\n",
       "      <td>indiana polis</td>\n",
       "      <td>USA</td>\n",
       "      <td>1432</td>\n",
       "      <td>850</td>\n",
       "    </tr>\n",
       "    <tr>\n",
       "      <th>44</th>\n",
       "      <td>manila</td>\n",
       "      <td>Philippines</td>\n",
       "      <td>1399</td>\n",
       "      <td>10550</td>\n",
       "    </tr>\n",
       "    <tr>\n",
       "      <th>45</th>\n",
       "      <td>san francisco//oakland</td>\n",
       "      <td>USA</td>\n",
       "      <td>1365</td>\n",
       "      <td>2350</td>\n",
       "    </tr>\n",
       "    <tr>\n",
       "      <th>46</th>\n",
       "      <td>virginia beach</td>\n",
       "      <td>USA</td>\n",
       "      <td>1364</td>\n",
       "      <td>1000</td>\n",
       "    </tr>\n",
       "    <tr>\n",
       "      <th>47</th>\n",
       "      <td>jakarta</td>\n",
       "      <td>Indonesia</td>\n",
       "      <td>1360</td>\n",
       "      <td>10500</td>\n",
       "    </tr>\n",
       "    <tr>\n",
       "      <th>48</th>\n",
       "      <td>providence</td>\n",
       "      <td>USA</td>\n",
       "      <td>1304</td>\n",
       "      <td>900</td>\n",
       "    </tr>\n",
       "    <tr>\n",
       "      <th>49</th>\n",
       "      <td>cairo</td>\n",
       "      <td>Egypt</td>\n",
       "      <td>1295</td>\n",
       "      <td>9400</td>\n",
       "    </tr>\n",
       "    <tr>\n",
       "      <th>50</th>\n",
       "      <td>delhi</td>\n",
       "      <td>India</td>\n",
       "      <td>1295</td>\n",
       "      <td>11050</td>\n",
       "    </tr>\n",
       "    <tr>\n",
       "      <th>51</th>\n",
       "      <td>denver</td>\n",
       "      <td>USA</td>\n",
       "      <td>1292</td>\n",
       "      <td>1550</td>\n",
       "    </tr>\n",
       "    <tr>\n",
       "      <th>52</th>\n",
       "      <td>milwaukee</td>\n",
       "      <td>USA</td>\n",
       "      <td>1261</td>\n",
       "      <td>1050</td>\n",
       "    </tr>\n",
       "    <tr>\n",
       "      <th>53</th>\n",
       "      <td>portland</td>\n",
       "      <td>USA</td>\n",
       "      <td>1228</td>\n",
       "      <td>1300</td>\n",
       "    </tr>\n",
       "    <tr>\n",
       "      <th>54</th>\n",
       "      <td>hartford</td>\n",
       "      <td>USA</td>\n",
       "      <td>1216</td>\n",
       "      <td>700</td>\n",
       "    </tr>\n",
       "    <tr>\n",
       "      <th>55</th>\n",
       "      <td>bridgeport//stamford</td>\n",
       "      <td>USA</td>\n",
       "      <td>1205</td>\n",
       "      <td>750</td>\n",
       "    </tr>\n",
       "    <tr>\n",
       "      <th>56</th>\n",
       "      <td>marseille</td>\n",
       "      <td>France</td>\n",
       "      <td>1204</td>\n",
       "      <td>1100</td>\n",
       "    </tr>\n",
       "    <tr>\n",
       "      <th>57</th>\n",
       "      <td>orlando</td>\n",
       "      <td>USA</td>\n",
       "      <td>1174</td>\n",
       "      <td>1000</td>\n",
       "    </tr>\n",
       "    <tr>\n",
       "      <th>58</th>\n",
       "      <td>istanbul</td>\n",
       "      <td>Turkey</td>\n",
       "      <td>1166</td>\n",
       "      <td>7700</td>\n",
       "    </tr>\n",
       "    <tr>\n",
       "      <th>59</th>\n",
       "      <td>riverside/san bernardino</td>\n",
       "      <td>USA</td>\n",
       "      <td>1136</td>\n",
       "      <td>1350</td>\n",
       "    </tr>\n",
       "    <tr>\n",
       "      <th>60</th>\n",
       "      <td>richmond</td>\n",
       "      <td>USA</td>\n",
       "      <td>1131</td>\n",
       "      <td>700</td>\n",
       "    </tr>\n",
       "    <tr>\n",
       "      <th>61</th>\n",
       "      <td>charlotte</td>\n",
       "      <td>USA</td>\n",
       "      <td>1126</td>\n",
       "      <td>650</td>\n",
       "    </tr>\n",
       "    <tr>\n",
       "      <th>62</th>\n",
       "      <td>vancouver</td>\n",
       "      <td>Canada</td>\n",
       "      <td>1120</td>\n",
       "      <td>1650</td>\n",
       "    </tr>\n",
       "    <tr>\n",
       "      <th>63</th>\n",
       "      <td>nashville</td>\n",
       "      <td>USA</td>\n",
       "      <td>1116</td>\n",
       "      <td>650</td>\n",
       "    </tr>\n",
       "    <tr>\n",
       "      <th>64</th>\n",
       "      <td>riyadh</td>\n",
       "      <td>Saudi Arabia</td>\n",
       "      <td>1101</td>\n",
       "      <td>3650</td>\n",
       "    </tr>\n",
       "    <tr>\n",
       "      <th>65</th>\n",
       "      <td>jacksonville</td>\n",
       "      <td>USA</td>\n",
       "      <td>1063</td>\n",
       "      <td>850</td>\n",
       "    </tr>\n",
       "    <tr>\n",
       "      <th>66</th>\n",
       "      <td>bordeaux</td>\n",
       "      <td>France</td>\n",
       "      <td>1057</td>\n",
       "      <td>700</td>\n",
       "    </tr>\n",
       "    <tr>\n",
       "      <th>67</th>\n",
       "      <td>san antonio</td>\n",
       "      <td>USA</td>\n",
       "      <td>1056</td>\n",
       "      <td>1250</td>\n",
       "    </tr>\n",
       "    <tr>\n",
       "      <th>68</th>\n",
       "      <td>seoul /incheon</td>\n",
       "      <td>South Korea</td>\n",
       "      <td>1049</td>\n",
       "      <td>16700</td>\n",
       "    </tr>\n",
       "    <tr>\n",
       "      <th>69</th>\n",
       "      <td>memphis</td>\n",
       "      <td>USA</td>\n",
       "      <td>1036</td>\n",
       "      <td>950</td>\n",
       "    </tr>\n",
       "    <tr>\n",
       "      <th>70</th>\n",
       "      <td>columbus</td>\n",
       "      <td>USA</td>\n",
       "      <td>1030</td>\n",
       "      <td>1100</td>\n",
       "    </tr>\n",
       "    <tr>\n",
       "      <th>71</th>\n",
       "      <td>birmingham</td>\n",
       "      <td>USA</td>\n",
       "      <td>1016</td>\n",
       "      <td>650</td>\n",
       "    </tr>\n",
       "    <tr>\n",
       "      <th>72</th>\n",
       "      <td>louisville</td>\n",
       "      <td>USA</td>\n",
       "      <td>1013</td>\n",
       "      <td>850</td>\n",
       "    </tr>\n",
       "    <tr>\n",
       "      <th>73</th>\n",
       "      <td>bangkok</td>\n",
       "      <td>Thailand</td>\n",
       "      <td>1010</td>\n",
       "      <td>6450</td>\n",
       "    </tr>\n",
       "    <tr>\n",
       "      <th>74</th>\n",
       "      <td>berlin</td>\n",
       "      <td>Germany</td>\n",
       "      <td>984</td>\n",
       "      <td>3750</td>\n",
       "    </tr>\n",
       "    <tr>\n",
       "      <th>75</th>\n",
       "      <td>frankfurt</td>\n",
       "      <td>Germany</td>\n",
       "      <td>984</td>\n",
       "      <td>2300</td>\n",
       "    </tr>\n",
       "    <tr>\n",
       "      <th>76</th>\n",
       "      <td>perth</td>\n",
       "      <td>Australia</td>\n",
       "      <td>964</td>\n",
       "      <td>1200</td>\n",
       "    </tr>\n",
       "    <tr>\n",
       "      <th>77</th>\n",
       "      <td>sa cramento</td>\n",
       "      <td>USA</td>\n",
       "      <td>956</td>\n",
       "      <td>1450</td>\n",
       "    </tr>\n",
       "    <tr>\n",
       "      <th>78</th>\n",
       "      <td>lyon</td>\n",
       "      <td>France</td>\n",
       "      <td>954</td>\n",
       "      <td>1400</td>\n",
       "    </tr>\n",
       "    <tr>\n",
       "      <th>79</th>\n",
       "      <td>buffalo</td>\n",
       "      <td>USA</td>\n",
       "      <td>950</td>\n",
       "      <td>1050</td>\n",
       "    </tr>\n",
       "    <tr>\n",
       "      <th>80</th>\n",
       "      <td>madrid</td>\n",
       "      <td>Spain</td>\n",
       "      <td>945</td>\n",
       "      <td>5200</td>\n",
       "    </tr>\n",
       "    <tr>\n",
       "      <th>81</th>\n",
       "      <td>lisbon</td>\n",
       "      <td>Portugal</td>\n",
       "      <td>881</td>\n",
       "      <td>2550</td>\n",
       "    </tr>\n",
       "    <tr>\n",
       "      <th>82</th>\n",
       "      <td>knoxville</td>\n",
       "      <td>USA</td>\n",
       "      <td>879</td>\n",
       "      <td>500</td>\n",
       "    </tr>\n",
       "    <tr>\n",
       "      <th>83</th>\n",
       "      <td>belo horizonte</td>\n",
       "      <td>Brazil</td>\n",
       "      <td>868</td>\n",
       "      <td>4600</td>\n",
       "    </tr>\n",
       "    <tr>\n",
       "      <th>84</th>\n",
       "      <td>edmonton</td>\n",
       "      <td>Canada</td>\n",
       "      <td>850</td>\n",
       "      <td>900</td>\n",
       "    </tr>\n",
       "    <tr>\n",
       "      <th>85</th>\n",
       "      <td>rome</td>\n",
       "      <td>Italy</td>\n",
       "      <td>842</td>\n",
       "      <td>2950</td>\n",
       "    </tr>\n",
       "    <tr>\n",
       "      <th>86</th>\n",
       "      <td>dayton</td>\n",
       "      <td>USA</td>\n",
       "      <td>838</td>\n",
       "      <td>850</td>\n",
       "    </tr>\n",
       "    <tr>\n",
       "      <th>87</th>\n",
       "      <td>oklahoma city</td>\n",
       "      <td>USA</td>\n",
       "      <td>835</td>\n",
       "      <td>900</td>\n",
       "    </tr>\n",
       "    <tr>\n",
       "      <th>88</th>\n",
       "      <td>durban</td>\n",
       "      <td>South Africa</td>\n",
       "      <td>829</td>\n",
       "      <td>3500</td>\n",
       "    </tr>\n",
       "    <tr>\n",
       "      <th>89</th>\n",
       "      <td>hamburg</td>\n",
       "      <td>Germany</td>\n",
       "      <td>829</td>\n",
       "      <td>2300</td>\n",
       "    </tr>\n",
       "    <tr>\n",
       "      <th>90</th>\n",
       "      <td>raleigh</td>\n",
       "      <td>USA</td>\n",
       "      <td>828</td>\n",
       "      <td>650</td>\n",
       "    </tr>\n",
       "    <tr>\n",
       "      <th>91</th>\n",
       "      <td>austin</td>\n",
       "      <td>USA</td>\n",
       "      <td>824</td>\n",
       "      <td>1100</td>\n",
       "    </tr>\n",
       "    <tr>\n",
       "      <th>92</th>\n",
       "      <td>cologne/bonn</td>\n",
       "      <td>germany</td>\n",
       "      <td>816</td>\n",
       "      <td>2400</td>\n",
       "    </tr>\n",
       "    <tr>\n",
       "      <th>93</th>\n",
       "      <td>copenhagen</td>\n",
       "      <td>denmark</td>\n",
       "      <td>816</td>\n",
       "      <td>1850</td>\n",
       "    </tr>\n",
       "    <tr>\n",
       "      <th>94</th>\n",
       "      <td>mc allen</td>\n",
       "      <td>USA</td>\n",
       "      <td>813</td>\n",
       "      <td>650</td>\n",
       "    </tr>\n",
       "    <tr>\n",
       "      <th>95</th>\n",
       "      <td>tou louse</td>\n",
       "      <td>france</td>\n",
       "      <td>808</td>\n",
       "      <td>950</td>\n",
       "    </tr>\n",
       "    <tr>\n",
       "      <th>96</th>\n",
       "      <td>barcelona</td>\n",
       "      <td>spain</td>\n",
       "      <td>803</td>\n",
       "      <td>4850</td>\n",
       "    </tr>\n",
       "    <tr>\n",
       "      <th>97</th>\n",
       "      <td>springfield</td>\n",
       "      <td>USA</td>\n",
       "      <td>800</td>\n",
       "      <td>700</td>\n",
       "    </tr>\n",
       "    <tr>\n",
       "      <th>98</th>\n",
       "      <td>akron</td>\n",
       "      <td>USA</td>\n",
       "      <td>797</td>\n",
       "      <td>700</td>\n",
       "    </tr>\n",
       "    <tr>\n",
       "      <th>99</th>\n",
       "      <td>abu dhabi</td>\n",
       "      <td>UAE</td>\n",
       "      <td>777</td>\n",
       "      <td>700</td>\n",
       "    </tr>\n",
       "    <tr>\n",
       "      <th>100</th>\n",
       "      <td>jeddah</td>\n",
       "      <td>saudi arabia</td>\n",
       "      <td>777</td>\n",
       "      <td>3550</td>\n",
       "    </tr>\n",
       "    <tr>\n",
       "      <th>101</th>\n",
       "      <td>rochester</td>\n",
       "      <td>USA</td>\n",
       "      <td>764</td>\n",
       "      <td>900</td>\n",
       "    </tr>\n",
       "    <tr>\n",
       "      <th>102</th>\n",
       "      <td>tucson</td>\n",
       "      <td>USA</td>\n",
       "      <td>755</td>\n",
       "      <td>950</td>\n",
       "    </tr>\n",
       "    <tr>\n",
       "      <th>103</th>\n",
       "      <td>chattanooga</td>\n",
       "      <td>USA</td>\n",
       "      <td>751</td>\n",
       "      <td>450</td>\n",
       "    </tr>\n",
       "    <tr>\n",
       "      <th>104</th>\n",
       "      <td>allen town/bethlehem</td>\n",
       "      <td>USA</td>\n",
       "      <td>750</td>\n",
       "      <td>750</td>\n",
       "    </tr>\n",
       "    <tr>\n",
       "      <th>105</th>\n",
       "      <td>beijing</td>\n",
       "      <td>china</td>\n",
       "      <td>748</td>\n",
       "      <td>11500</td>\n",
       "    </tr>\n",
       "    <tr>\n",
       "      <th>106</th>\n",
       "      <td>shanghai</td>\n",
       "      <td>china</td>\n",
       "      <td>746</td>\n",
       "      <td>13400</td>\n",
       "    </tr>\n",
       "    <tr>\n",
       "      <th>107</th>\n",
       "      <td>barnstable town</td>\n",
       "      <td>USA</td>\n",
       "      <td>741</td>\n",
       "      <td>350</td>\n",
       "    </tr>\n",
       "    <tr>\n",
       "      <th>108</th>\n",
       "      <td>las vegas</td>\n",
       "      <td>USA</td>\n",
       "      <td>741</td>\n",
       "      <td>1750</td>\n",
       "    </tr>\n",
       "    <tr>\n",
       "      <th>109</th>\n",
       "      <td>new hawen</td>\n",
       "      <td>USA</td>\n",
       "      <td>739</td>\n",
       "      <td>700</td>\n",
       "    </tr>\n",
       "    <tr>\n",
       "      <th>110</th>\n",
       "      <td>lagos</td>\n",
       "      <td>nigeria</td>\n",
       "      <td>738</td>\n",
       "      <td>18150</td>\n",
       "    </tr>\n",
       "    <tr>\n",
       "      <th>111</th>\n",
       "      <td>albany</td>\n",
       "      <td>USA</td>\n",
       "      <td>736</td>\n",
       "      <td>750</td>\n",
       "    </tr>\n",
       "    <tr>\n",
       "      <th>112</th>\n",
       "      <td>adelaide</td>\n",
       "      <td>australia</td>\n",
       "      <td>729</td>\n",
       "      <td>1350</td>\n",
       "    </tr>\n",
       "    <tr>\n",
       "      <th>113</th>\n",
       "      <td>baton rouge</td>\n",
       "      <td>USA</td>\n",
       "      <td>727</td>\n",
       "      <td>650</td>\n",
       "    </tr>\n",
       "    <tr>\n",
       "      <th>114</th>\n",
       "      <td>nice</td>\n",
       "      <td>france</td>\n",
       "      <td>721</td>\n",
       "      <td>1250</td>\n",
       "    </tr>\n",
       "    <tr>\n",
       "      <th>115</th>\n",
       "      <td>toulon</td>\n",
       "      <td>france</td>\n",
       "      <td>713</td>\n",
       "      <td>750</td>\n",
       "    </tr>\n",
       "    <tr>\n",
       "      <th>116</th>\n",
       "      <td>brussels</td>\n",
       "      <td>belgium</td>\n",
       "      <td>712</td>\n",
       "      <td>2200</td>\n",
       "    </tr>\n",
       "    <tr>\n",
       "      <th>117</th>\n",
       "      <td>dubai</td>\n",
       "      <td>UAE</td>\n",
       "      <td>712</td>\n",
       "      <td>2650</td>\n",
       "    </tr>\n",
       "    <tr>\n",
       "      <th>118</th>\n",
       "      <td>harare</td>\n",
       "      <td>zimbabwe</td>\n",
       "      <td>712</td>\n",
       "      <td>2450</td>\n",
       "    </tr>\n",
       "    <tr>\n",
       "      <th>119</th>\n",
       "      <td>budapest</td>\n",
       "      <td>hungry</td>\n",
       "      <td>702</td>\n",
       "      <td>2550</td>\n",
       "    </tr>\n",
       "    <tr>\n",
       "      <th>120</th>\n",
       "      <td>calgary</td>\n",
       "      <td>canada</td>\n",
       "      <td>702</td>\n",
       "      <td>1250</td>\n",
       "    </tr>\n",
       "    <tr>\n",
       "      <th>121</th>\n",
       "      <td>sarasota//bradenton</td>\n",
       "      <td>USA</td>\n",
       "      <td>700</td>\n",
       "      <td>800</td>\n",
       "    </tr>\n",
       "    <tr>\n",
       "      <th>122</th>\n",
       "      <td>columbia</td>\n",
       "      <td>USA</td>\n",
       "      <td>697</td>\n",
       "      <td>600</td>\n",
       "    </tr>\n",
       "    <tr>\n",
       "      <th>123</th>\n",
       "      <td>cape town</td>\n",
       "      <td>south africa</td>\n",
       "      <td>686</td>\n",
       "      <td>3950</td>\n",
       "    </tr>\n",
       "    <tr>\n",
       "      <th>124</th>\n",
       "      <td>pough keepsie</td>\n",
       "      <td>USA</td>\n",
       "      <td>686</td>\n",
       "      <td>500</td>\n",
       "    </tr>\n",
       "    <tr>\n",
       "      <th>125</th>\n",
       "      <td>tehran</td>\n",
       "      <td>iran</td>\n",
       "      <td>686</td>\n",
       "      <td>10550</td>\n",
       "    </tr>\n",
       "    <tr>\n",
       "      <th>126</th>\n",
       "      <td>athens</td>\n",
       "      <td>Greece</td>\n",
       "      <td>684</td>\n",
       "      <td>5400</td>\n",
       "    </tr>\n",
       "    <tr>\n",
       "      <th>127</th>\n",
       "      <td>tulsa</td>\n",
       "      <td>USA</td>\n",
       "      <td>677</td>\n",
       "      <td>800</td>\n",
       "    </tr>\n",
       "    <tr>\n",
       "      <th>128</th>\n",
       "      <td>san jose</td>\n",
       "      <td>USA</td>\n",
       "      <td>674</td>\n",
       "      <td>2300</td>\n",
       "    </tr>\n",
       "    <tr>\n",
       "      <th>129</th>\n",
       "      <td>arabia</td>\n",
       "      <td>Saudi Arabia</td>\n",
       "      <td>673</td>\n",
       "      <td>2250</td>\n",
       "    </tr>\n",
       "    <tr>\n",
       "      <th>130</th>\n",
       "      <td>pretoria</td>\n",
       "      <td>South Africa</td>\n",
       "      <td>673</td>\n",
       "      <td>2750</td>\n",
       "    </tr>\n",
       "    <tr>\n",
       "      <th>131</th>\n",
       "      <td>quebec</td>\n",
       "      <td>canada</td>\n",
       "      <td>669</td>\n",
       "      <td>950</td>\n",
       "    </tr>\n",
       "    <tr>\n",
       "      <th>132</th>\n",
       "      <td>grand rapids</td>\n",
       "      <td>USA</td>\n",
       "      <td>667</td>\n",
       "      <td>800</td>\n",
       "    </tr>\n",
       "    <tr>\n",
       "      <th>133</th>\n",
       "      <td>winston/salem</td>\n",
       "      <td>USA</td>\n",
       "      <td>651</td>\n",
       "      <td>450</td>\n",
       "    </tr>\n",
       "    <tr>\n",
       "      <th>134</th>\n",
       "      <td>beirut</td>\n",
       "      <td>lebanon</td>\n",
       "      <td>648</td>\n",
       "      <td>2800</td>\n",
       "    </tr>\n",
       "    <tr>\n",
       "      <th>135</th>\n",
       "      <td>curitiba</td>\n",
       "      <td>Brazil</td>\n",
       "      <td>648</td>\n",
       "      <td>3850</td>\n",
       "    </tr>\n",
       "    <tr>\n",
       "      <th>136</th>\n",
       "      <td>santiago</td>\n",
       "      <td>Chile</td>\n",
       "      <td>648</td>\n",
       "      <td>8400</td>\n",
       "    </tr>\n",
       "    <tr>\n",
       "      <th>137</th>\n",
       "      <td>worecester</td>\n",
       "      <td>USA</td>\n",
       "      <td>648</td>\n",
       "      <td>650</td>\n",
       "    </tr>\n",
       "    <tr>\n",
       "      <th>138</th>\n",
       "      <td>lahore</td>\n",
       "      <td>Pakistan</td>\n",
       "      <td>622</td>\n",
       "      <td>8200</td>\n",
       "    </tr>\n",
       "    <tr>\n",
       "      <th>139</th>\n",
       "      <td>st petersburg</td>\n",
       "      <td>Russia</td>\n",
       "      <td>622</td>\n",
       "      <td>8550</td>\n",
       "    </tr>\n",
       "    <tr>\n",
       "      <th>140</th>\n",
       "      <td>aguadilla</td>\n",
       "      <td>Puerto Rico</td>\n",
       "      <td>620</td>\n",
       "      <td>500</td>\n",
       "    </tr>\n",
       "    <tr>\n",
       "      <th>141</th>\n",
       "      <td>augusta</td>\n",
       "      <td>USA</td>\n",
       "      <td>600</td>\n",
       "      <td>550</td>\n",
       "    </tr>\n",
       "    <tr>\n",
       "      <th>142</th>\n",
       "      <td>birmingham</td>\n",
       "      <td>UK</td>\n",
       "      <td>600</td>\n",
       "      <td>3800</td>\n",
       "    </tr>\n",
       "    <tr>\n",
       "      <th>143</th>\n",
       "      <td>flint</td>\n",
       "      <td>USA</td>\n",
       "      <td>599</td>\n",
       "      <td>600</td>\n",
       "    </tr>\n",
       "    <tr>\n",
       "      <th>144</th>\n",
       "      <td>charleston</td>\n",
       "      <td>USA</td>\n",
       "      <td>598</td>\n",
       "      <td>700</td>\n",
       "    </tr>\n",
       "    <tr>\n",
       "      <th>145</th>\n",
       "      <td>salt lake city</td>\n",
       "      <td>USA</td>\n",
       "      <td>598</td>\n",
       "      <td>1500</td>\n",
       "    </tr>\n",
       "    <tr>\n",
       "      <th>146</th>\n",
       "      <td>antwerp</td>\n",
       "      <td>Belgium</td>\n",
       "      <td>596</td>\n",
       "      <td>1550</td>\n",
       "    </tr>\n",
       "    <tr>\n",
       "      <th>147</th>\n",
       "      <td>baghdad</td>\n",
       "      <td>Iraq</td>\n",
       "      <td>596</td>\n",
       "      <td>9250</td>\n",
       "    </tr>\n",
       "    <tr>\n",
       "      <th>148</th>\n",
       "      <td>guadalajara</td>\n",
       "      <td>Mexico</td>\n",
       "      <td>596</td>\n",
       "      <td>5900</td>\n",
       "    </tr>\n",
       "    <tr>\n",
       "      <th>149</th>\n",
       "      <td>lima</td>\n",
       "      <td>Peru</td>\n",
       "      <td>596</td>\n",
       "      <td>11750</td>\n",
       "    </tr>\n",
       "    <tr>\n",
       "      <th>150</th>\n",
       "      <td>youngstown</td>\n",
       "      <td>USA</td>\n",
       "      <td>591</td>\n",
       "      <td>700</td>\n",
       "    </tr>\n",
       "    <tr>\n",
       "      <th>151</th>\n",
       "      <td>greenville</td>\n",
       "      <td>USA</td>\n",
       "      <td>587</td>\n",
       "      <td>500</td>\n",
       "    </tr>\n",
       "    <tr>\n",
       "      <th>152</th>\n",
       "      <td>omaha</td>\n",
       "      <td>USA</td>\n",
       "      <td>586</td>\n",
       "      <td>1050</td>\n",
       "    </tr>\n",
       "    <tr>\n",
       "      <th>153</th>\n",
       "      <td>ankara</td>\n",
       "      <td>Turkey</td>\n",
       "      <td>583</td>\n",
       "      <td>5300</td>\n",
       "    </tr>\n",
       "    <tr>\n",
       "      <th>154</th>\n",
       "      <td>brasile</td>\n",
       "      <td>Brazil</td>\n",
       "      <td>583</td>\n",
       "      <td>2800</td>\n",
       "    </tr>\n",
       "    <tr>\n",
       "      <th>155</th>\n",
       "      <td>fortaleza</td>\n",
       "      <td>Brazil</td>\n",
       "      <td>583</td>\n",
       "      <td>4550</td>\n",
       "    </tr>\n",
       "    <tr>\n",
       "      <th>156</th>\n",
       "      <td>hyderabad</td>\n",
       "      <td>India</td>\n",
       "      <td>583</td>\n",
       "      <td>9100</td>\n",
       "    </tr>\n",
       "    <tr>\n",
       "      <th>157</th>\n",
       "      <td>khartoum</td>\n",
       "      <td>Sudan</td>\n",
       "      <td>583</td>\n",
       "      <td>6850</td>\n",
       "    </tr>\n",
       "    <tr>\n",
       "      <th>158</th>\n",
       "      <td>naples</td>\n",
       "      <td>Italy</td>\n",
       "      <td>583</td>\n",
       "      <td>4100</td>\n",
       "    </tr>\n",
       "    <tr>\n",
       "      <th>159</th>\n",
       "      <td>porto alegre</td>\n",
       "      <td>Brazil</td>\n",
       "      <td>583</td>\n",
       "      <td>4800</td>\n",
       "    </tr>\n",
       "    <tr>\n",
       "      <th>160</th>\n",
       "      <td>albuquerque</td>\n",
       "      <td>USA</td>\n",
       "      <td>580</td>\n",
       "      <td>1050</td>\n",
       "    </tr>\n",
       "    <tr>\n",
       "      <th>161</th>\n",
       "      <td>palm bay</td>\n",
       "      <td>USA</td>\n",
       "      <td>569</td>\n",
       "      <td>700</td>\n",
       "    </tr>\n",
       "    <tr>\n",
       "      <th>162</th>\n",
       "      <td>el paso</td>\n",
       "      <td>USA</td>\n",
       "      <td>568</td>\n",
       "      <td>1200</td>\n",
       "    </tr>\n",
       "    <tr>\n",
       "      <th>163</th>\n",
       "      <td>pensacola</td>\n",
       "      <td>USA</td>\n",
       "      <td>568</td>\n",
       "      <td>550</td>\n",
       "    </tr>\n",
       "    <tr>\n",
       "      <th>164</th>\n",
       "      <td>manchester</td>\n",
       "      <td>UK</td>\n",
       "      <td>558</td>\n",
       "      <td>4000</td>\n",
       "    </tr>\n",
       "    <tr>\n",
       "      <th>165</th>\n",
       "      <td>hickory</td>\n",
       "      <td>USA</td>\n",
       "      <td>546</td>\n",
       "      <td>350</td>\n",
       "    </tr>\n",
       "    <tr>\n",
       "      <th>166</th>\n",
       "      <td>mobile</td>\n",
       "      <td>USA</td>\n",
       "      <td>546</td>\n",
       "      <td>600</td>\n",
       "    </tr>\n",
       "    <tr>\n",
       "      <th>167</th>\n",
       "      <td>baku/sumqaxit</td>\n",
       "      <td>Azerbaijan</td>\n",
       "      <td>544</td>\n",
       "      <td>3850</td>\n",
       "    </tr>\n",
       "    <tr>\n",
       "      <th>168</th>\n",
       "      <td>fukuoka</td>\n",
       "      <td>Japan</td>\n",
       "      <td>544</td>\n",
       "      <td>3950</td>\n",
       "    </tr>\n",
       "    <tr>\n",
       "      <th>169</th>\n",
       "      <td>katowice</td>\n",
       "      <td>Poland</td>\n",
       "      <td>544</td>\n",
       "      <td>4050</td>\n",
       "    </tr>\n",
       "    <tr>\n",
       "      <th>170</th>\n",
       "      <td>kuwait</td>\n",
       "      <td>Kuwait</td>\n",
       "      <td>544</td>\n",
       "      <td>2950</td>\n",
       "    </tr>\n",
       "    <tr>\n",
       "      <th>171</th>\n",
       "      <td>harrisburg</td>\n",
       "      <td>USA</td>\n",
       "      <td>540</td>\n",
       "      <td>650</td>\n",
       "    </tr>\n",
       "    <tr>\n",
       "      <th>172</th>\n",
       "      <td>asheville</td>\n",
       "      <td>USA</td>\n",
       "      <td>536</td>\n",
       "      <td>400</td>\n",
       "    </tr>\n",
       "    <tr>\n",
       "      <th>173</th>\n",
       "      <td>bangalore</td>\n",
       "      <td>India</td>\n",
       "      <td>534</td>\n",
       "      <td>10100</td>\n",
       "    </tr>\n",
       "    <tr>\n",
       "      <th>174</th>\n",
       "      <td>little rock</td>\n",
       "      <td>USA</td>\n",
       "      <td>532</td>\n",
       "      <td>700</td>\n",
       "    </tr>\n",
       "    <tr>\n",
       "      <th>175</th>\n",
       "      <td>auck land</td>\n",
       "      <td>New Zealand</td>\n",
       "      <td>531</td>\n",
       "      <td>2000</td>\n",
       "    </tr>\n",
       "    <tr>\n",
       "      <th>176</th>\n",
       "      <td>kolkata</td>\n",
       "      <td>India</td>\n",
       "      <td>531</td>\n",
       "      <td>23900</td>\n",
       "    </tr>\n",
       "    <tr>\n",
       "      <th>177</th>\n",
       "      <td>rotterdam</td>\n",
       "      <td>Netherlands</td>\n",
       "      <td>531</td>\n",
       "      <td>2500</td>\n",
       "    </tr>\n",
       "    <tr>\n",
       "      <th>178</th>\n",
       "      <td>tashkent</td>\n",
       "      <td>Uzbekistan</td>\n",
       "      <td>531</td>\n",
       "      <td>4150</td>\n",
       "    </tr>\n",
       "    <tr>\n",
       "      <th>179</th>\n",
       "      <td>toledo</td>\n",
       "      <td>USA</td>\n",
       "      <td>524</td>\n",
       "      <td>950</td>\n",
       "    </tr>\n",
       "    <tr>\n",
       "      <th>180</th>\n",
       "      <td>bogota</td>\n",
       "      <td>Colombia</td>\n",
       "      <td>518</td>\n",
       "      <td>13500</td>\n",
       "    </tr>\n",
       "    <tr>\n",
       "      <th>181</th>\n",
       "      <td>hochi minh city</td>\n",
       "      <td>Vietnam</td>\n",
       "      <td>518</td>\n",
       "      <td>9450</td>\n",
       "    </tr>\n",
       "    <tr>\n",
       "      <th>182</th>\n",
       "      <td>karachi</td>\n",
       "      <td>Pakistan</td>\n",
       "      <td>518</td>\n",
       "      <td>8900</td>\n",
       "    </tr>\n",
       "    <tr>\n",
       "      <th>183</th>\n",
       "      <td>munichi</td>\n",
       "      <td>Germany</td>\n",
       "      <td>518</td>\n",
       "      <td>3100</td>\n",
       "    </tr>\n",
       "    <tr>\n",
       "      <th>184</th>\n",
       "      <td>phnompenh</td>\n",
       "      <td>Cambodia</td>\n",
       "      <td>518</td>\n",
       "      <td>2900</td>\n",
       "    </tr>\n",
       "    <tr>\n",
       "      <th>185</th>\n",
       "      <td>stockholm</td>\n",
       "      <td>Sweden</td>\n",
       "      <td>518</td>\n",
       "      <td>2700</td>\n",
       "    </tr>\n",
       "    <tr>\n",
       "      <th>186</th>\n",
       "      <td>lancaster</td>\n",
       "      <td>USA</td>\n",
       "      <td>517</td>\n",
       "      <td>650</td>\n",
       "    </tr>\n",
       "    <tr>\n",
       "      <th>187</th>\n",
       "      <td>new orleans</td>\n",
       "      <td>USA</td>\n",
       "      <td>512</td>\n",
       "      <td>1950</td>\n",
       "    </tr>\n",
       "    <tr>\n",
       "      <th>188</th>\n",
       "      <td>colorado springs</td>\n",
       "      <td>USA</td>\n",
       "      <td>511</td>\n",
       "      <td>900</td>\n",
       "    </tr>\n",
       "    <tr>\n",
       "      <th>189</th>\n",
       "      <td>taichung</td>\n",
       "      <td>Taiwan</td>\n",
       "      <td>510</td>\n",
       "      <td>3900</td>\n",
       "    </tr>\n",
       "    <tr>\n",
       "      <th>190</th>\n",
       "      <td>avignon</td>\n",
       "      <td>France</td>\n",
       "      <td>508</td>\n",
       "      <td>500</td>\n",
       "    </tr>\n",
       "    <tr>\n",
       "      <th>191</th>\n",
       "      <td>valenciennes</td>\n",
       "      <td>France</td>\n",
       "      <td>507</td>\n",
       "      <td>700</td>\n",
       "    </tr>\n",
       "    <tr>\n",
       "      <th>192</th>\n",
       "      <td>nizhni novgorod</td>\n",
       "      <td>Russia</td>\n",
       "      <td>505</td>\n",
       "      <td>2950</td>\n",
       "    </tr>\n",
       "    <tr>\n",
       "      <th>193</th>\n",
       "      <td>turin</td>\n",
       "      <td>Italy</td>\n",
       "      <td>500</td>\n",
       "      <td>2700</td>\n",
       "    </tr>\n",
       "    <tr>\n",
       "      <th>194</th>\n",
       "      <td>cape coral</td>\n",
       "      <td>USA</td>\n",
       "      <td>497</td>\n",
       "      <td>650</td>\n",
       "    </tr>\n",
       "    <tr>\n",
       "      <th>195</th>\n",
       "      <td>campinas</td>\n",
       "      <td>Brazil</td>\n",
       "      <td>492</td>\n",
       "      <td>3550</td>\n",
       "    </tr>\n",
       "    <tr>\n",
       "      <th>196</th>\n",
       "      <td>ottawa/hull</td>\n",
       "      <td>Canada</td>\n",
       "      <td>490</td>\n",
       "      <td>1700</td>\n",
       "    </tr>\n",
       "    <tr>\n",
       "      <th>197</th>\n",
       "      <td>douai/lens</td>\n",
       "      <td>France</td>\n",
       "      <td>489</td>\n",
       "      <td>1050</td>\n",
       "    </tr>\n",
       "    <tr>\n",
       "      <th>198</th>\n",
       "      <td>mumbai</td>\n",
       "      <td>India</td>\n",
       "      <td>484</td>\n",
       "      <td>29650</td>\n",
       "    </tr>\n",
       "    <tr>\n",
       "      <th>199</th>\n",
       "      <td>goiania</td>\n",
       "      <td>Brazil</td>\n",
       "      <td>479</td>\n",
       "      <td>3100</td>\n",
       "    </tr>\n",
       "    <tr>\n",
       "      <th>200</th>\n",
       "      <td>helsinki</td>\n",
       "      <td>Finland</td>\n",
       "      <td>479</td>\n",
       "      <td>2100</td>\n",
       "    </tr>\n",
       "    <tr>\n",
       "      <th>201</th>\n",
       "      <td>monterey</td>\n",
       "      <td>Mexico</td>\n",
       "      <td>479</td>\n",
       "      <td>6700</td>\n",
       "    </tr>\n",
       "    <tr>\n",
       "      <th>202</th>\n",
       "      <td>quito</td>\n",
       "      <td>Ecuador</td>\n",
       "      <td>479</td>\n",
       "      <td>3150</td>\n",
       "    </tr>\n",
       "    <tr>\n",
       "      <th>203</th>\n",
       "      <td>singapore</td>\n",
       "      <td>Singapore</td>\n",
       "      <td>479</td>\n",
       "      <td>8350</td>\n",
       "    </tr>\n",
       "    <tr>\n",
       "      <th>204</th>\n",
       "      <td>vereeniging</td>\n",
       "      <td>South Africa</td>\n",
       "      <td>479</td>\n",
       "      <td>1250</td>\n",
       "    </tr>\n",
       "    <tr>\n",
       "      <th>205</th>\n",
       "      <td>nantes</td>\n",
       "      <td>France</td>\n",
       "      <td>476</td>\n",
       "      <td>1150</td>\n",
       "    </tr>\n",
       "    <tr>\n",
       "      <th>206</th>\n",
       "      <td>lille</td>\n",
       "      <td>France</td>\n",
       "      <td>474</td>\n",
       "      <td>2200</td>\n",
       "    </tr>\n",
       "    <tr>\n",
       "      <th>207</th>\n",
       "      <td>kinshasa</td>\n",
       "      <td>Congo</td>\n",
       "      <td>469</td>\n",
       "      <td>10650</td>\n",
       "    </tr>\n",
       "    <tr>\n",
       "      <th>208</th>\n",
       "      <td>ogden</td>\n",
       "      <td>USA</td>\n",
       "      <td>466</td>\n",
       "      <td>900</td>\n",
       "    </tr>\n",
       "    <tr>\n",
       "      <th>209</th>\n",
       "      <td>shenzhen</td>\n",
       "      <td>China</td>\n",
       "      <td>466</td>\n",
       "      <td>17150</td>\n",
       "    </tr>\n",
       "    <tr>\n",
       "      <th>210</th>\n",
       "      <td>warsaw</td>\n",
       "      <td>Poland</td>\n",
       "      <td>465</td>\n",
       "      <td>4300</td>\n",
       "    </tr>\n",
       "    <tr>\n",
       "      <th>211</th>\n",
       "      <td>syracuse</td>\n",
       "      <td>USA</td>\n",
       "      <td>465</td>\n",
       "      <td>850</td>\n",
       "    </tr>\n",
       "    <tr>\n",
       "      <th>212</th>\n",
       "      <td>wichita</td>\n",
       "      <td>USA</td>\n",
       "      <td>457</td>\n",
       "      <td>900</td>\n",
       "    </tr>\n",
       "    <tr>\n",
       "      <th>213</th>\n",
       "      <td>concord</td>\n",
       "      <td>USA</td>\n",
       "      <td>453</td>\n",
       "      <td>1200</td>\n",
       "    </tr>\n",
       "    <tr>\n",
       "      <th>214</th>\n",
       "      <td>accra</td>\n",
       "      <td>Ghana</td>\n",
       "      <td>453</td>\n",
       "      <td>3300</td>\n",
       "    </tr>\n",
       "    <tr>\n",
       "      <th>215</th>\n",
       "      <td>shenyang</td>\n",
       "      <td>China</td>\n",
       "      <td>453</td>\n",
       "      <td>9250</td>\n",
       "    </tr>\n",
       "    <tr>\n",
       "      <th>216</th>\n",
       "      <td>tel aviv</td>\n",
       "      <td>Israel</td>\n",
       "      <td>453</td>\n",
       "      <td>5050</td>\n",
       "    </tr>\n",
       "    <tr>\n",
       "      <th>217</th>\n",
       "      <td>tianjin</td>\n",
       "      <td>China</td>\n",
       "      <td>453</td>\n",
       "      <td>10500</td>\n",
       "    </tr>\n",
       "    <tr>\n",
       "      <th>218</th>\n",
       "      <td>vienna</td>\n",
       "      <td>Austria</td>\n",
       "      <td>453</td>\n",
       "      <td>3400</td>\n",
       "    </tr>\n",
       "    <tr>\n",
       "      <th>219</th>\n",
       "      <td>donetsk</td>\n",
       "      <td>Ukraine</td>\n",
       "      <td>451</td>\n",
       "      <td>3100</td>\n",
       "    </tr>\n",
       "    <tr>\n",
       "      <th>220</th>\n",
       "      <td>pau</td>\n",
       "      <td>France</td>\n",
       "      <td>450</td>\n",
       "      <td>400</td>\n",
       "    </tr>\n",
       "    <tr>\n",
       "      <th>221</th>\n",
       "      <td>winnipeg</td>\n",
       "      <td>Canada</td>\n",
       "      <td>446</td>\n",
       "      <td>1400</td>\n",
       "    </tr>\n",
       "    <tr>\n",
       "      <th>222</th>\n",
       "      <td>port st wcie</td>\n",
       "      <td>USA</td>\n",
       "      <td>438</td>\n",
       "      <td>600</td>\n",
       "    </tr>\n",
       "    <tr>\n",
       "      <th>223</th>\n",
       "      <td>fayetteville</td>\n",
       "      <td>USA</td>\n",
       "      <td>433</td>\n",
       "      <td>650</td>\n",
       "    </tr>\n",
       "    <tr>\n",
       "      <th>224</th>\n",
       "      <td>lumumbashi</td>\n",
       "      <td>Congo</td>\n",
       "      <td>427</td>\n",
       "      <td>2800</td>\n",
       "    </tr>\n",
       "    <tr>\n",
       "      <th>225</th>\n",
       "      <td>port elizabeth</td>\n",
       "      <td>South Africa</td>\n",
       "      <td>427</td>\n",
       "      <td>2100</td>\n",
       "    </tr>\n",
       "    <tr>\n",
       "      <th>226</th>\n",
       "      <td>tours</td>\n",
       "      <td>France</td>\n",
       "      <td>421</td>\n",
       "      <td>700</td>\n",
       "    </tr>\n",
       "    <tr>\n",
       "      <th>227</th>\n",
       "      <td>jackson</td>\n",
       "      <td>USA</td>\n",
       "      <td>417</td>\n",
       "      <td>700</td>\n",
       "    </tr>\n",
       "    <tr>\n",
       "      <th>228</th>\n",
       "      <td>chennai</td>\n",
       "      <td>India</td>\n",
       "      <td>414</td>\n",
       "      <td>14350</td>\n",
       "    </tr>\n",
       "    <tr>\n",
       "      <th>229</th>\n",
       "      <td>sapporo</td>\n",
       "      <td>Japan</td>\n",
       "      <td>414</td>\n",
       "      <td>5000</td>\n",
       "    </tr>\n",
       "    <tr>\n",
       "      <th>230</th>\n",
       "      <td>stuttgart</td>\n",
       "      <td>Germany</td>\n",
       "      <td>411</td>\n",
       "      <td>3000</td>\n",
       "    </tr>\n",
       "    <tr>\n",
       "      <th>231</th>\n",
       "      <td>scranton</td>\n",
       "      <td>USA</td>\n",
       "      <td>411</td>\n",
       "      <td>950</td>\n",
       "    </tr>\n",
       "    <tr>\n",
       "      <th>232</th>\n",
       "      <td>huntsuille</td>\n",
       "      <td>USA</td>\n",
       "      <td>407</td>\n",
       "      <td>500</td>\n",
       "    </tr>\n",
       "    <tr>\n",
       "      <th>233</th>\n",
       "      <td>durham</td>\n",
       "      <td>USA</td>\n",
       "      <td>406</td>\n",
       "      <td>700</td>\n",
       "    </tr>\n",
       "    <tr>\n",
       "      <th>234</th>\n",
       "      <td>south bend</td>\n",
       "      <td>USA</td>\n",
       "      <td>404</td>\n",
       "      <td>700</td>\n",
       "    </tr>\n",
       "    <tr>\n",
       "      <th>235</th>\n",
       "      <td>aachen</td>\n",
       "      <td>Germany</td>\n",
       "      <td>401</td>\n",
       "      <td>1450</td>\n",
       "    </tr>\n",
       "    <tr>\n",
       "      <th>236</th>\n",
       "      <td>shreveport</td>\n",
       "      <td>USA</td>\n",
       "      <td>401</td>\n",
       "      <td>700</td>\n",
       "    </tr>\n",
       "    <tr>\n",
       "      <th>237</th>\n",
       "      <td>honolulu</td>\n",
       "      <td>USA</td>\n",
       "      <td>399</td>\n",
       "      <td>1800</td>\n",
       "    </tr>\n",
       "    <tr>\n",
       "      <th>238</th>\n",
       "      <td>bethune</td>\n",
       "      <td>France</td>\n",
       "      <td>390</td>\n",
       "      <td>650</td>\n",
       "    </tr>\n",
       "    <tr>\n",
       "      <th>239</th>\n",
       "      <td>bonita springs /naples</td>\n",
       "      <td>USA</td>\n",
       "      <td>389</td>\n",
       "      <td>550</td>\n",
       "    </tr>\n",
       "    <tr>\n",
       "      <th>240</th>\n",
       "      <td>dalian</td>\n",
       "      <td>China</td>\n",
       "      <td>389</td>\n",
       "      <td>7100</td>\n",
       "    </tr>\n",
       "    <tr>\n",
       "      <th>241</th>\n",
       "      <td>porto</td>\n",
       "      <td>Portugal</td>\n",
       "      <td>389</td>\n",
       "      <td>2650</td>\n",
       "    </tr>\n",
       "    <tr>\n",
       "      <th>242</th>\n",
       "      <td>st.cathariness</td>\n",
       "      <td>Canada</td>\n",
       "      <td>389</td>\n",
       "      <td>750</td>\n",
       "    </tr>\n",
       "    <tr>\n",
       "      <th>243</th>\n",
       "      <td>gold coast</td>\n",
       "      <td>Australia</td>\n",
       "      <td>383</td>\n",
       "      <td>1100</td>\n",
       "    </tr>\n",
       "    <tr>\n",
       "      <th>244</th>\n",
       "      <td>recife</td>\n",
       "      <td>Brazil</td>\n",
       "      <td>376</td>\n",
       "      <td>8050</td>\n",
       "    </tr>\n",
       "    <tr>\n",
       "      <th>245</th>\n",
       "      <td>taipei</td>\n",
       "      <td>Taiwan</td>\n",
       "      <td>376</td>\n",
       "      <td>15200</td>\n",
       "    </tr>\n",
       "    <tr>\n",
       "      <th>246</th>\n",
       "      <td>canton</td>\n",
       "      <td>USA</td>\n",
       "      <td>372</td>\n",
       "      <td>700</td>\n",
       "    </tr>\n",
       "    <tr>\n",
       "      <th>247</th>\n",
       "      <td>spokane</td>\n",
       "      <td>USA</td>\n",
       "      <td>371</td>\n",
       "      <td>900</td>\n",
       "    </tr>\n",
       "    <tr>\n",
       "      <th>248</th>\n",
       "      <td>leeds/bradford</td>\n",
       "      <td>UK</td>\n",
       "      <td>370</td>\n",
       "      <td>4050</td>\n",
       "    </tr>\n",
       "    <tr>\n",
       "      <th>249</th>\n",
       "      <td>Glasgow</td>\n",
       "      <td>UK</td>\n",
       "      <td>368</td>\n",
       "      <td>3250</td>\n",
       "    </tr>\n",
       "    <tr>\n",
       "      <th>250</th>\n",
       "      <td>Dublin</td>\n",
       "      <td>Ireland</td>\n",
       "      <td>365</td>\n",
       "      <td>2950</td>\n",
       "    </tr>\n",
       "  </tbody>\n",
       "</table>\n",
       "</div>"
      ],
      "text/plain": [
       "                         City       Country  Landarea  Density\n",
       "1              New York Metro           USA      8683     2050\n",
       "2            Yokyo / yokohana         Japan      6993     4750\n",
       "3                     chicapo           USA      5498     1500\n",
       "4                     aflanta           USA      5083      700\n",
       "5                philadelphia           USA      4661     1100\n",
       "6                     boston            USA      4497      900\n",
       "7                los anpletes           USA      4320     2750\n",
       "8           Dallas/fort worth           USA      3644     1150\n",
       "9                     houston           USA      3355     1150\n",
       "10                    detroit           USA      3267     1200\n",
       "11                 washington           USA      2996     1300\n",
       "12                      miami           USA      2891     1700\n",
       "13                     nagoya         Japan      2875     3150\n",
       "14                      paris        France      2723     3550\n",
       "15           essen/dusseldorf       Germany      2642     2800\n",
       "16           osaka/kobe/kyoto         Japan      2664     6400\n",
       "17                    seattle           USA      2470     1100\n",
       "18    johannesburg/east round  South Africa      2396     2500\n",
       "19        minneapolis/st.paul           USA      2316     1050\n",
       "20                   san juan   Puerto Rico      2309      950\n",
       "21               bvenos aires     Argentina      2266     4950\n",
       "22                 pittsburgh           USA      2208      800\n",
       "23                     moscow        Russia      2150     4900\n",
       "24                   st.lousi           USA      2147      950\n",
       "25                  melbourne     Australia      2080     1500\n",
       "26       tampa//st.petersburg           USA      2078     1000\n",
       "27                mexico city        Mexico      2072     8400\n",
       "28               phoenix/mesa           USA      2069     1400\n",
       "29                  san diego           USA      2026     1300\n",
       "30                  sao paulo        Brazil      1968     9000\n",
       "31                  baltimore           USA      1768     1150\n",
       "32                 cincinnati           USA      1740      850\n",
       "33                   montreal        Canada      1740     1850\n",
       "34                     sydney     Australia      1687     2100\n",
       "35                  cleveland           USA      1675     1050\n",
       "36                    toronto        Canada      1655     2650\n",
       "37                     london            UK      1623     5100\n",
       "38               kuala lumpur      Malaysia      1606     2750\n",
       "39                   brisbane     Australia      1603      950\n",
       "40             rio de janeiro        Brazil      1580     6850\n",
       "41                      milan         Italy      1554     2750\n",
       "42                 kanas city           USA      1514      900\n",
       "43              indiana polis           USA      1432      850\n",
       "44                     manila   Philippines      1399    10550\n",
       "45     san francisco//oakland           USA      1365     2350\n",
       "46             virginia beach           USA      1364     1000\n",
       "47                    jakarta     Indonesia      1360    10500\n",
       "48                 providence           USA      1304      900\n",
       "49                      cairo         Egypt      1295     9400\n",
       "50                      delhi         India      1295    11050\n",
       "51                     denver           USA      1292     1550\n",
       "52                  milwaukee           USA      1261     1050\n",
       "53                   portland           USA      1228     1300\n",
       "54                   hartford           USA      1216      700\n",
       "55       bridgeport//stamford           USA      1205      750\n",
       "56                  marseille        France      1204     1100\n",
       "57                    orlando           USA      1174     1000\n",
       "58                   istanbul        Turkey      1166     7700\n",
       "59   riverside/san bernardino           USA      1136     1350\n",
       "60                   richmond           USA      1131      700\n",
       "61                  charlotte           USA      1126      650\n",
       "62                  vancouver        Canada      1120     1650\n",
       "63                  nashville           USA      1116      650\n",
       "64                     riyadh  Saudi Arabia      1101     3650\n",
       "65               jacksonville           USA      1063      850\n",
       "66                   bordeaux        France      1057      700\n",
       "67                san antonio           USA      1056     1250\n",
       "68             seoul /incheon   South Korea      1049    16700\n",
       "69                    memphis           USA      1036      950\n",
       "70                   columbus           USA      1030     1100\n",
       "71                 birmingham           USA      1016      650\n",
       "72                 louisville           USA      1013      850\n",
       "73                    bangkok      Thailand      1010     6450\n",
       "74                     berlin       Germany       984     3750\n",
       "75                  frankfurt       Germany       984     2300\n",
       "76                      perth     Australia       964     1200\n",
       "77                sa cramento           USA       956     1450\n",
       "78                       lyon        France       954     1400\n",
       "79                    buffalo           USA       950     1050\n",
       "80                     madrid         Spain       945     5200\n",
       "81                     lisbon      Portugal       881     2550\n",
       "82                  knoxville           USA       879      500\n",
       "83             belo horizonte        Brazil       868     4600\n",
       "84                   edmonton        Canada       850      900\n",
       "85                       rome         Italy       842     2950\n",
       "86                     dayton           USA       838      850\n",
       "87              oklahoma city           USA       835      900\n",
       "88                     durban  South Africa       829     3500\n",
       "89                    hamburg       Germany       829     2300\n",
       "90                    raleigh           USA       828      650\n",
       "91                     austin           USA       824     1100\n",
       "92               cologne/bonn       germany       816     2400\n",
       "93                 copenhagen       denmark       816     1850\n",
       "94                   mc allen           USA       813      650\n",
       "95                  tou louse        france       808      950\n",
       "96                 barcelona          spain       803     4850\n",
       "97                springfield           USA       800      700\n",
       "98                      akron           USA       797      700\n",
       "99                  abu dhabi           UAE       777      700\n",
       "100                    jeddah  saudi arabia       777     3550\n",
       "101                 rochester           USA       764      900\n",
       "102                    tucson           USA       755      950\n",
       "103               chattanooga           USA       751      450\n",
       "104      allen town/bethlehem           USA       750      750\n",
       "105                   beijing         china       748    11500\n",
       "106                  shanghai         china       746    13400\n",
       "107           barnstable town           USA       741      350\n",
       "108                 las vegas           USA       741     1750\n",
       "109                 new hawen           USA       739      700\n",
       "110                     lagos       nigeria       738    18150\n",
       "111                    albany           USA       736      750\n",
       "112                  adelaide     australia       729     1350\n",
       "113               baton rouge           USA       727      650\n",
       "114                      nice        france       721     1250\n",
       "115                    toulon        france       713      750\n",
       "116                  brussels       belgium       712     2200\n",
       "117                     dubai           UAE       712     2650\n",
       "118                    harare      zimbabwe       712     2450\n",
       "119                  budapest        hungry       702     2550\n",
       "120                   calgary        canada       702     1250\n",
       "121       sarasota//bradenton           USA       700      800\n",
       "122                  columbia           USA       697      600\n",
       "123                 cape town  south africa       686     3950\n",
       "124             pough keepsie           USA       686      500\n",
       "125                    tehran          iran       686    10550\n",
       "126                    athens        Greece       684     5400\n",
       "127                     tulsa           USA       677      800\n",
       "128                  san jose           USA       674     2300\n",
       "129                    arabia  Saudi Arabia       673     2250\n",
       "130                  pretoria  South Africa       673     2750\n",
       "131                    quebec        canada       669      950\n",
       "132              grand rapids           USA       667      800\n",
       "133             winston/salem           USA       651      450\n",
       "134                    beirut       lebanon       648     2800\n",
       "135                  curitiba        Brazil       648     3850\n",
       "136                  santiago         Chile       648     8400\n",
       "137                worecester           USA       648      650\n",
       "138                    lahore      Pakistan       622     8200\n",
       "139             st petersburg        Russia       622     8550\n",
       "140                 aguadilla   Puerto Rico       620      500\n",
       "141                   augusta           USA       600      550\n",
       "142                birmingham            UK       600     3800\n",
       "143                     flint           USA       599      600\n",
       "144                charleston           USA       598      700\n",
       "145            salt lake city           USA       598     1500\n",
       "146                   antwerp       Belgium       596     1550\n",
       "147                   baghdad          Iraq       596     9250\n",
       "148               guadalajara        Mexico       596     5900\n",
       "149                      lima          Peru       596    11750\n",
       "150                youngstown           USA       591      700\n",
       "151                greenville           USA       587      500\n",
       "152                     omaha           USA       586     1050\n",
       "153                    ankara        Turkey       583     5300\n",
       "154                   brasile        Brazil       583     2800\n",
       "155                 fortaleza        Brazil       583     4550\n",
       "156                 hyderabad         India       583     9100\n",
       "157                  khartoum         Sudan       583     6850\n",
       "158                    naples         Italy       583     4100\n",
       "159              porto alegre        Brazil       583     4800\n",
       "160               albuquerque           USA       580     1050\n",
       "161                  palm bay           USA       569      700\n",
       "162                   el paso           USA       568     1200\n",
       "163                 pensacola           USA       568      550\n",
       "164                manchester            UK       558     4000\n",
       "165                   hickory           USA       546      350\n",
       "166                    mobile           USA       546      600\n",
       "167             baku/sumqaxit    Azerbaijan       544     3850\n",
       "168                   fukuoka         Japan       544     3950\n",
       "169                  katowice        Poland       544     4050\n",
       "170                    kuwait        Kuwait       544     2950\n",
       "171                harrisburg           USA       540      650\n",
       "172                 asheville           USA       536      400\n",
       "173                 bangalore         India       534    10100\n",
       "174               little rock           USA       532      700\n",
       "175                 auck land   New Zealand       531     2000\n",
       "176                   kolkata         India       531    23900\n",
       "177                 rotterdam   Netherlands       531     2500\n",
       "178                  tashkent    Uzbekistan       531     4150\n",
       "179                    toledo           USA       524      950\n",
       "180                    bogota      Colombia       518    13500\n",
       "181           hochi minh city       Vietnam       518     9450\n",
       "182                   karachi      Pakistan       518     8900\n",
       "183                   munichi       Germany       518     3100\n",
       "184                 phnompenh      Cambodia       518     2900\n",
       "185                 stockholm        Sweden       518     2700\n",
       "186                 lancaster           USA       517      650\n",
       "187               new orleans           USA       512     1950\n",
       "188          colorado springs           USA       511      900\n",
       "189                  taichung        Taiwan       510     3900\n",
       "190                   avignon        France       508      500\n",
       "191              valenciennes        France       507      700\n",
       "192           nizhni novgorod        Russia       505     2950\n",
       "193                     turin         Italy       500     2700\n",
       "194                cape coral           USA       497      650\n",
       "195                  campinas        Brazil       492     3550\n",
       "196               ottawa/hull        Canada       490     1700\n",
       "197                douai/lens        France       489     1050\n",
       "198                    mumbai         India       484    29650\n",
       "199                   goiania        Brazil       479     3100\n",
       "200                  helsinki       Finland       479     2100\n",
       "201                  monterey        Mexico       479     6700\n",
       "202                     quito       Ecuador       479     3150\n",
       "203                 singapore     Singapore       479     8350\n",
       "204               vereeniging  South Africa       479     1250\n",
       "205                    nantes        France       476     1150\n",
       "206                     lille        France       474     2200\n",
       "207                  kinshasa         Congo       469    10650\n",
       "208                     ogden           USA       466      900\n",
       "209                  shenzhen         China       466    17150\n",
       "210                    warsaw        Poland       465     4300\n",
       "211                  syracuse           USA       465      850\n",
       "212                   wichita           USA       457      900\n",
       "213                   concord           USA       453     1200\n",
       "214                     accra         Ghana       453     3300\n",
       "215                  shenyang         China       453     9250\n",
       "216                  tel aviv        Israel       453     5050\n",
       "217                   tianjin         China       453    10500\n",
       "218                    vienna       Austria       453     3400\n",
       "219                   donetsk       Ukraine       451     3100\n",
       "220                       pau        France       450      400\n",
       "221                  winnipeg        Canada       446     1400\n",
       "222              port st wcie           USA       438      600\n",
       "223              fayetteville           USA       433      650\n",
       "224                lumumbashi         Congo       427     2800\n",
       "225            port elizabeth  South Africa       427     2100\n",
       "226                     tours        France       421      700\n",
       "227                   jackson           USA       417      700\n",
       "228                   chennai         India       414    14350\n",
       "229                   sapporo         Japan       414     5000\n",
       "230                 stuttgart       Germany       411     3000\n",
       "231                  scranton           USA       411      950\n",
       "232                huntsuille           USA       407      500\n",
       "233                    durham           USA       406      700\n",
       "234                south bend           USA       404      700\n",
       "235                    aachen       Germany       401     1450\n",
       "236                shreveport           USA       401      700\n",
       "237                  honolulu           USA       399     1800\n",
       "238                   bethune        France       390      650\n",
       "239    bonita springs /naples           USA       389      550\n",
       "240                    dalian         China       389     7100\n",
       "241                    porto       Portugal       389     2650\n",
       "242            st.cathariness        Canada       389      750\n",
       "243                gold coast     Australia       383     1100\n",
       "244                    recife        Brazil       376     8050\n",
       "245                    taipei        Taiwan       376    15200\n",
       "246                    canton           USA       372      700\n",
       "247                   spokane           USA       371      900\n",
       "248            leeds/bradford            UK       370     4050\n",
       "249                   Glasgow            UK       368     3250\n",
       "250                    Dublin       Ireland       365     2950"
      ]
     },
     "execution_count": 141,
     "metadata": {},
     "output_type": "execute_result"
    }
   ],
   "source": [
    "df"
   ]
  },
  {
   "cell_type": "code",
   "execution_count": 142,
   "id": "f874d59a",
   "metadata": {},
   "outputs": [
    {
     "data": {
      "text/plain": [
       "250"
      ]
     },
     "execution_count": 142,
     "metadata": {},
     "output_type": "execute_result"
    }
   ],
   "source": [
    "len(df)"
   ]
  },
  {
   "cell_type": "code",
   "execution_count": 143,
   "id": "666c517b",
   "metadata": {},
   "outputs": [
    {
     "data": {
      "text/plain": [
       "700      19\n",
       "650      12\n",
       "900      10\n",
       "950       9\n",
       "1050      7\n",
       "1100      6\n",
       "500       6\n",
       "850       6\n",
       "750       5\n",
       "2800      4\n",
       "1250      4\n",
       "2950      4\n",
       "600       4\n",
       "800       4\n",
       "2750      4\n",
       "1200      4\n",
       "1150      4\n",
       "550       3\n",
       "3550      3\n",
       "1500      3\n",
       "2300      3\n",
       "1000      3\n",
       "1300      3\n",
       "1400      3\n",
       "2100      3\n",
       "2650      3\n",
       "3100      3\n",
       "2700      2\n",
       "1450      2\n",
       "2550      2\n",
       "350       2\n",
       "400       2\n",
       "2200      2\n",
       "3950      2\n",
       "9250      2\n",
       "3850      2\n",
       "4050      2\n",
       "450       2\n",
       "1350      2\n",
       "10500     2\n",
       "3150      2\n",
       "6850      2\n",
       "8400      2\n",
       "10550     2\n",
       "2500      2\n",
       "1850      2\n",
       "1700      2\n",
       "1550      2\n",
       "15200     1\n",
       "10100     1\n",
       "8050      1\n",
       "9450      1\n",
       "2000      1\n",
       "23900     1\n",
       "7100      1\n",
       "4000      1\n",
       "4800      1\n",
       "4150      1\n",
       "1800      1\n",
       "13500     1\n",
       "9100      1\n",
       "3000      1\n",
       "8900      1\n",
       "5050      1\n",
       "2900      1\n",
       "1950      1\n",
       "3900      1\n",
       "29650     1\n",
       "5000      1\n",
       "6700      1\n",
       "14350     1\n",
       "3400      1\n",
       "8350      1\n",
       "10650     1\n",
       "17150     1\n",
       "4300      1\n",
       "3300      1\n",
       "4100      1\n",
       "2050      1\n",
       "4550      1\n",
       "11050     1\n",
       "3750      1\n",
       "6450      1\n",
       "16700     1\n",
       "3650      1\n",
       "1650      1\n",
       "7700      1\n",
       "9400      1\n",
       "4600      1\n",
       "2350      1\n",
       "5100      1\n",
       "9000      1\n",
       "4900      1\n",
       "4950      1\n",
       "6400      1\n",
       "5200      1\n",
       "3500      1\n",
       "5300      1\n",
       "5400      1\n",
       "11750     1\n",
       "5900      1\n",
       "3800      1\n",
       "8550      1\n",
       "8200      1\n",
       "2250      1\n",
       "2450      1\n",
       "2400      1\n",
       "18150     1\n",
       "1750      1\n",
       "13400     1\n",
       "11500     1\n",
       "4750      1\n",
       "4850      1\n",
       "3250      1\n",
       "Name: Density, dtype: int64"
      ]
     },
     "execution_count": 143,
     "metadata": {},
     "output_type": "execute_result"
    }
   ],
   "source": [
    "no_of_countries=pd.value_counts(df[\"Density\"])\n",
    "no_of_countries"
   ]
  },
  {
   "cell_type": "code",
   "execution_count": null,
   "id": "743fc7e2",
   "metadata": {},
   "outputs": [],
   "source": []
  },
  {
   "cell_type": "code",
   "execution_count": 144,
   "id": "a356ac7a",
   "metadata": {},
   "outputs": [
    {
     "data": {
      "text/plain": [
       "USA             106\n",
       "France           12\n",
       "Brazil           10\n",
       "Germany           7\n",
       "Canada            7\n",
       "India             6\n",
       "Australia         5\n",
       "UK                5\n",
       "Japan             5\n",
       "South Africa      5\n",
       "Italy             4\n",
       "China             4\n",
       "Mexico            3\n",
       "Russia            3\n",
       "france            3\n",
       "china             2\n",
       "UAE               2\n",
       "Taiwan            2\n",
       "canada            2\n",
       "Portugal          2\n",
       "Congo             2\n",
       "Saudi Arabia      2\n",
       "Turkey            2\n",
       "Puerto Rico       2\n",
       "Pakistan          2\n",
       "Poland            2\n",
       "Kuwait            1\n",
       "New Zealand       1\n",
       "Colombia          1\n",
       "Azerbaijan        1\n",
       "Sudan             1\n",
       "Netherlands       1\n",
       "Uzbekistan        1\n",
       "Singapore         1\n",
       "Vietnam           1\n",
       "Cambodia          1\n",
       "Sweden            1\n",
       "Finland           1\n",
       "Ecuador           1\n",
       "Iraq              1\n",
       "Ghana             1\n",
       "Israel            1\n",
       "Austria           1\n",
       "Ukraine           1\n",
       "Peru              1\n",
       "belgium           1\n",
       "Belgium           1\n",
       "denmark           1\n",
       "Argentina         1\n",
       "Malaysia          1\n",
       "Philippines       1\n",
       "Indonesia         1\n",
       "Egypt             1\n",
       "South Korea       1\n",
       "Thailand          1\n",
       "Spain             1\n",
       "germany           1\n",
       "spain             1\n",
       "Chile             1\n",
       "saudi arabia      1\n",
       "nigeria           1\n",
       "australia         1\n",
       "zimbabwe          1\n",
       "hungry            1\n",
       "south africa      1\n",
       "iran              1\n",
       "Greece            1\n",
       "lebanon           1\n",
       "Ireland           1\n",
       "Name: Country, dtype: int64"
      ]
     },
     "execution_count": 144,
     "metadata": {},
     "output_type": "execute_result"
    }
   ],
   "source": [
    "no_of_countries=pd.value_counts(df[\"Country\"])\n",
    "no_of_countries"
   ]
  },
  {
   "cell_type": "code",
   "execution_count": 145,
   "id": "a4e19023",
   "metadata": {},
   "outputs": [
    {
     "data": {
      "text/plain": [
       "69"
      ]
     },
     "execution_count": 145,
     "metadata": {},
     "output_type": "execute_result"
    }
   ],
   "source": [
    "len(no_of_countries)"
   ]
  },
  {
   "cell_type": "code",
   "execution_count": null,
   "id": "86cbe0e1",
   "metadata": {},
   "outputs": [],
   "source": []
  },
  {
   "cell_type": "code",
   "execution_count": null,
   "id": "db42d67a",
   "metadata": {},
   "outputs": [],
   "source": []
  },
  {
   "cell_type": "markdown",
   "id": "3cec6c2e",
   "metadata": {},
   "source": [
    "## Finding  an Average(optimal) Landarea as per Countrywise"
   ]
  },
  {
   "cell_type": "markdown",
   "id": "38a5c861",
   "metadata": {},
   "source": [
    "### _ _ _ _ _ _ _ _ _ _ _ _ _ _ _ _ _ _ _ _ _ _ _ _ _ _ _ _ _ _ _ _ _ _ _ _ _ _ _ _ _ _ _ _ _ _ _ _ _ _ _ _ _ _ _ _ _ _   "
   ]
  },
  {
   "cell_type": "markdown",
   "id": "40d8e9f5",
   "metadata": {},
   "source": [
    "### USA (106 cities)"
   ]
  },
  {
   "cell_type": "code",
   "execution_count": 146,
   "id": "83ec9e82",
   "metadata": {},
   "outputs": [
    {
     "data": {
      "text/html": [
       "<div>\n",
       "<style scoped>\n",
       "    .dataframe tbody tr th:only-of-type {\n",
       "        vertical-align: middle;\n",
       "    }\n",
       "\n",
       "    .dataframe tbody tr th {\n",
       "        vertical-align: top;\n",
       "    }\n",
       "\n",
       "    .dataframe thead th {\n",
       "        text-align: right;\n",
       "    }\n",
       "</style>\n",
       "<table border=\"1\" class=\"dataframe\">\n",
       "  <thead>\n",
       "    <tr style=\"text-align: right;\">\n",
       "      <th></th>\n",
       "      <th>City</th>\n",
       "      <th>Country</th>\n",
       "      <th>Landarea</th>\n",
       "      <th>Density</th>\n",
       "    </tr>\n",
       "  </thead>\n",
       "  <tbody>\n",
       "    <tr>\n",
       "      <th>1</th>\n",
       "      <td>New York Metro</td>\n",
       "      <td>USA</td>\n",
       "      <td>8683</td>\n",
       "      <td>2050</td>\n",
       "    </tr>\n",
       "    <tr>\n",
       "      <th>3</th>\n",
       "      <td>chicapo</td>\n",
       "      <td>USA</td>\n",
       "      <td>5498</td>\n",
       "      <td>1500</td>\n",
       "    </tr>\n",
       "    <tr>\n",
       "      <th>4</th>\n",
       "      <td>aflanta</td>\n",
       "      <td>USA</td>\n",
       "      <td>5083</td>\n",
       "      <td>700</td>\n",
       "    </tr>\n",
       "    <tr>\n",
       "      <th>5</th>\n",
       "      <td>philadelphia</td>\n",
       "      <td>USA</td>\n",
       "      <td>4661</td>\n",
       "      <td>1100</td>\n",
       "    </tr>\n",
       "    <tr>\n",
       "      <th>6</th>\n",
       "      <td>boston</td>\n",
       "      <td>USA</td>\n",
       "      <td>4497</td>\n",
       "      <td>900</td>\n",
       "    </tr>\n",
       "    <tr>\n",
       "      <th>7</th>\n",
       "      <td>los anpletes</td>\n",
       "      <td>USA</td>\n",
       "      <td>4320</td>\n",
       "      <td>2750</td>\n",
       "    </tr>\n",
       "    <tr>\n",
       "      <th>8</th>\n",
       "      <td>Dallas/fort worth</td>\n",
       "      <td>USA</td>\n",
       "      <td>3644</td>\n",
       "      <td>1150</td>\n",
       "    </tr>\n",
       "    <tr>\n",
       "      <th>9</th>\n",
       "      <td>houston</td>\n",
       "      <td>USA</td>\n",
       "      <td>3355</td>\n",
       "      <td>1150</td>\n",
       "    </tr>\n",
       "    <tr>\n",
       "      <th>10</th>\n",
       "      <td>detroit</td>\n",
       "      <td>USA</td>\n",
       "      <td>3267</td>\n",
       "      <td>1200</td>\n",
       "    </tr>\n",
       "    <tr>\n",
       "      <th>11</th>\n",
       "      <td>washington</td>\n",
       "      <td>USA</td>\n",
       "      <td>2996</td>\n",
       "      <td>1300</td>\n",
       "    </tr>\n",
       "    <tr>\n",
       "      <th>12</th>\n",
       "      <td>miami</td>\n",
       "      <td>USA</td>\n",
       "      <td>2891</td>\n",
       "      <td>1700</td>\n",
       "    </tr>\n",
       "    <tr>\n",
       "      <th>17</th>\n",
       "      <td>seattle</td>\n",
       "      <td>USA</td>\n",
       "      <td>2470</td>\n",
       "      <td>1100</td>\n",
       "    </tr>\n",
       "    <tr>\n",
       "      <th>19</th>\n",
       "      <td>minneapolis/st.paul</td>\n",
       "      <td>USA</td>\n",
       "      <td>2316</td>\n",
       "      <td>1050</td>\n",
       "    </tr>\n",
       "    <tr>\n",
       "      <th>22</th>\n",
       "      <td>pittsburgh</td>\n",
       "      <td>USA</td>\n",
       "      <td>2208</td>\n",
       "      <td>800</td>\n",
       "    </tr>\n",
       "    <tr>\n",
       "      <th>24</th>\n",
       "      <td>st.lousi</td>\n",
       "      <td>USA</td>\n",
       "      <td>2147</td>\n",
       "      <td>950</td>\n",
       "    </tr>\n",
       "    <tr>\n",
       "      <th>26</th>\n",
       "      <td>tampa//st.petersburg</td>\n",
       "      <td>USA</td>\n",
       "      <td>2078</td>\n",
       "      <td>1000</td>\n",
       "    </tr>\n",
       "    <tr>\n",
       "      <th>28</th>\n",
       "      <td>phoenix/mesa</td>\n",
       "      <td>USA</td>\n",
       "      <td>2069</td>\n",
       "      <td>1400</td>\n",
       "    </tr>\n",
       "    <tr>\n",
       "      <th>29</th>\n",
       "      <td>san diego</td>\n",
       "      <td>USA</td>\n",
       "      <td>2026</td>\n",
       "      <td>1300</td>\n",
       "    </tr>\n",
       "    <tr>\n",
       "      <th>31</th>\n",
       "      <td>baltimore</td>\n",
       "      <td>USA</td>\n",
       "      <td>1768</td>\n",
       "      <td>1150</td>\n",
       "    </tr>\n",
       "    <tr>\n",
       "      <th>32</th>\n",
       "      <td>cincinnati</td>\n",
       "      <td>USA</td>\n",
       "      <td>1740</td>\n",
       "      <td>850</td>\n",
       "    </tr>\n",
       "    <tr>\n",
       "      <th>35</th>\n",
       "      <td>cleveland</td>\n",
       "      <td>USA</td>\n",
       "      <td>1675</td>\n",
       "      <td>1050</td>\n",
       "    </tr>\n",
       "    <tr>\n",
       "      <th>42</th>\n",
       "      <td>kanas city</td>\n",
       "      <td>USA</td>\n",
       "      <td>1514</td>\n",
       "      <td>900</td>\n",
       "    </tr>\n",
       "    <tr>\n",
       "      <th>43</th>\n",
       "      <td>indiana polis</td>\n",
       "      <td>USA</td>\n",
       "      <td>1432</td>\n",
       "      <td>850</td>\n",
       "    </tr>\n",
       "    <tr>\n",
       "      <th>45</th>\n",
       "      <td>san francisco//oakland</td>\n",
       "      <td>USA</td>\n",
       "      <td>1365</td>\n",
       "      <td>2350</td>\n",
       "    </tr>\n",
       "    <tr>\n",
       "      <th>46</th>\n",
       "      <td>virginia beach</td>\n",
       "      <td>USA</td>\n",
       "      <td>1364</td>\n",
       "      <td>1000</td>\n",
       "    </tr>\n",
       "    <tr>\n",
       "      <th>48</th>\n",
       "      <td>providence</td>\n",
       "      <td>USA</td>\n",
       "      <td>1304</td>\n",
       "      <td>900</td>\n",
       "    </tr>\n",
       "    <tr>\n",
       "      <th>51</th>\n",
       "      <td>denver</td>\n",
       "      <td>USA</td>\n",
       "      <td>1292</td>\n",
       "      <td>1550</td>\n",
       "    </tr>\n",
       "    <tr>\n",
       "      <th>52</th>\n",
       "      <td>milwaukee</td>\n",
       "      <td>USA</td>\n",
       "      <td>1261</td>\n",
       "      <td>1050</td>\n",
       "    </tr>\n",
       "    <tr>\n",
       "      <th>53</th>\n",
       "      <td>portland</td>\n",
       "      <td>USA</td>\n",
       "      <td>1228</td>\n",
       "      <td>1300</td>\n",
       "    </tr>\n",
       "    <tr>\n",
       "      <th>54</th>\n",
       "      <td>hartford</td>\n",
       "      <td>USA</td>\n",
       "      <td>1216</td>\n",
       "      <td>700</td>\n",
       "    </tr>\n",
       "    <tr>\n",
       "      <th>55</th>\n",
       "      <td>bridgeport//stamford</td>\n",
       "      <td>USA</td>\n",
       "      <td>1205</td>\n",
       "      <td>750</td>\n",
       "    </tr>\n",
       "    <tr>\n",
       "      <th>57</th>\n",
       "      <td>orlando</td>\n",
       "      <td>USA</td>\n",
       "      <td>1174</td>\n",
       "      <td>1000</td>\n",
       "    </tr>\n",
       "    <tr>\n",
       "      <th>59</th>\n",
       "      <td>riverside/san bernardino</td>\n",
       "      <td>USA</td>\n",
       "      <td>1136</td>\n",
       "      <td>1350</td>\n",
       "    </tr>\n",
       "    <tr>\n",
       "      <th>60</th>\n",
       "      <td>richmond</td>\n",
       "      <td>USA</td>\n",
       "      <td>1131</td>\n",
       "      <td>700</td>\n",
       "    </tr>\n",
       "    <tr>\n",
       "      <th>61</th>\n",
       "      <td>charlotte</td>\n",
       "      <td>USA</td>\n",
       "      <td>1126</td>\n",
       "      <td>650</td>\n",
       "    </tr>\n",
       "    <tr>\n",
       "      <th>63</th>\n",
       "      <td>nashville</td>\n",
       "      <td>USA</td>\n",
       "      <td>1116</td>\n",
       "      <td>650</td>\n",
       "    </tr>\n",
       "    <tr>\n",
       "      <th>65</th>\n",
       "      <td>jacksonville</td>\n",
       "      <td>USA</td>\n",
       "      <td>1063</td>\n",
       "      <td>850</td>\n",
       "    </tr>\n",
       "    <tr>\n",
       "      <th>67</th>\n",
       "      <td>san antonio</td>\n",
       "      <td>USA</td>\n",
       "      <td>1056</td>\n",
       "      <td>1250</td>\n",
       "    </tr>\n",
       "    <tr>\n",
       "      <th>69</th>\n",
       "      <td>memphis</td>\n",
       "      <td>USA</td>\n",
       "      <td>1036</td>\n",
       "      <td>950</td>\n",
       "    </tr>\n",
       "    <tr>\n",
       "      <th>70</th>\n",
       "      <td>columbus</td>\n",
       "      <td>USA</td>\n",
       "      <td>1030</td>\n",
       "      <td>1100</td>\n",
       "    </tr>\n",
       "    <tr>\n",
       "      <th>71</th>\n",
       "      <td>birmingham</td>\n",
       "      <td>USA</td>\n",
       "      <td>1016</td>\n",
       "      <td>650</td>\n",
       "    </tr>\n",
       "    <tr>\n",
       "      <th>72</th>\n",
       "      <td>louisville</td>\n",
       "      <td>USA</td>\n",
       "      <td>1013</td>\n",
       "      <td>850</td>\n",
       "    </tr>\n",
       "    <tr>\n",
       "      <th>77</th>\n",
       "      <td>sa cramento</td>\n",
       "      <td>USA</td>\n",
       "      <td>956</td>\n",
       "      <td>1450</td>\n",
       "    </tr>\n",
       "    <tr>\n",
       "      <th>79</th>\n",
       "      <td>buffalo</td>\n",
       "      <td>USA</td>\n",
       "      <td>950</td>\n",
       "      <td>1050</td>\n",
       "    </tr>\n",
       "    <tr>\n",
       "      <th>82</th>\n",
       "      <td>knoxville</td>\n",
       "      <td>USA</td>\n",
       "      <td>879</td>\n",
       "      <td>500</td>\n",
       "    </tr>\n",
       "    <tr>\n",
       "      <th>86</th>\n",
       "      <td>dayton</td>\n",
       "      <td>USA</td>\n",
       "      <td>838</td>\n",
       "      <td>850</td>\n",
       "    </tr>\n",
       "    <tr>\n",
       "      <th>87</th>\n",
       "      <td>oklahoma city</td>\n",
       "      <td>USA</td>\n",
       "      <td>835</td>\n",
       "      <td>900</td>\n",
       "    </tr>\n",
       "    <tr>\n",
       "      <th>90</th>\n",
       "      <td>raleigh</td>\n",
       "      <td>USA</td>\n",
       "      <td>828</td>\n",
       "      <td>650</td>\n",
       "    </tr>\n",
       "    <tr>\n",
       "      <th>91</th>\n",
       "      <td>austin</td>\n",
       "      <td>USA</td>\n",
       "      <td>824</td>\n",
       "      <td>1100</td>\n",
       "    </tr>\n",
       "    <tr>\n",
       "      <th>94</th>\n",
       "      <td>mc allen</td>\n",
       "      <td>USA</td>\n",
       "      <td>813</td>\n",
       "      <td>650</td>\n",
       "    </tr>\n",
       "    <tr>\n",
       "      <th>97</th>\n",
       "      <td>springfield</td>\n",
       "      <td>USA</td>\n",
       "      <td>800</td>\n",
       "      <td>700</td>\n",
       "    </tr>\n",
       "    <tr>\n",
       "      <th>98</th>\n",
       "      <td>akron</td>\n",
       "      <td>USA</td>\n",
       "      <td>797</td>\n",
       "      <td>700</td>\n",
       "    </tr>\n",
       "    <tr>\n",
       "      <th>101</th>\n",
       "      <td>rochester</td>\n",
       "      <td>USA</td>\n",
       "      <td>764</td>\n",
       "      <td>900</td>\n",
       "    </tr>\n",
       "    <tr>\n",
       "      <th>102</th>\n",
       "      <td>tucson</td>\n",
       "      <td>USA</td>\n",
       "      <td>755</td>\n",
       "      <td>950</td>\n",
       "    </tr>\n",
       "    <tr>\n",
       "      <th>103</th>\n",
       "      <td>chattanooga</td>\n",
       "      <td>USA</td>\n",
       "      <td>751</td>\n",
       "      <td>450</td>\n",
       "    </tr>\n",
       "    <tr>\n",
       "      <th>104</th>\n",
       "      <td>allen town/bethlehem</td>\n",
       "      <td>USA</td>\n",
       "      <td>750</td>\n",
       "      <td>750</td>\n",
       "    </tr>\n",
       "    <tr>\n",
       "      <th>107</th>\n",
       "      <td>barnstable town</td>\n",
       "      <td>USA</td>\n",
       "      <td>741</td>\n",
       "      <td>350</td>\n",
       "    </tr>\n",
       "    <tr>\n",
       "      <th>108</th>\n",
       "      <td>las vegas</td>\n",
       "      <td>USA</td>\n",
       "      <td>741</td>\n",
       "      <td>1750</td>\n",
       "    </tr>\n",
       "    <tr>\n",
       "      <th>109</th>\n",
       "      <td>new hawen</td>\n",
       "      <td>USA</td>\n",
       "      <td>739</td>\n",
       "      <td>700</td>\n",
       "    </tr>\n",
       "    <tr>\n",
       "      <th>111</th>\n",
       "      <td>albany</td>\n",
       "      <td>USA</td>\n",
       "      <td>736</td>\n",
       "      <td>750</td>\n",
       "    </tr>\n",
       "    <tr>\n",
       "      <th>113</th>\n",
       "      <td>baton rouge</td>\n",
       "      <td>USA</td>\n",
       "      <td>727</td>\n",
       "      <td>650</td>\n",
       "    </tr>\n",
       "    <tr>\n",
       "      <th>121</th>\n",
       "      <td>sarasota//bradenton</td>\n",
       "      <td>USA</td>\n",
       "      <td>700</td>\n",
       "      <td>800</td>\n",
       "    </tr>\n",
       "    <tr>\n",
       "      <th>122</th>\n",
       "      <td>columbia</td>\n",
       "      <td>USA</td>\n",
       "      <td>697</td>\n",
       "      <td>600</td>\n",
       "    </tr>\n",
       "    <tr>\n",
       "      <th>124</th>\n",
       "      <td>pough keepsie</td>\n",
       "      <td>USA</td>\n",
       "      <td>686</td>\n",
       "      <td>500</td>\n",
       "    </tr>\n",
       "    <tr>\n",
       "      <th>127</th>\n",
       "      <td>tulsa</td>\n",
       "      <td>USA</td>\n",
       "      <td>677</td>\n",
       "      <td>800</td>\n",
       "    </tr>\n",
       "    <tr>\n",
       "      <th>128</th>\n",
       "      <td>san jose</td>\n",
       "      <td>USA</td>\n",
       "      <td>674</td>\n",
       "      <td>2300</td>\n",
       "    </tr>\n",
       "    <tr>\n",
       "      <th>132</th>\n",
       "      <td>grand rapids</td>\n",
       "      <td>USA</td>\n",
       "      <td>667</td>\n",
       "      <td>800</td>\n",
       "    </tr>\n",
       "    <tr>\n",
       "      <th>133</th>\n",
       "      <td>winston/salem</td>\n",
       "      <td>USA</td>\n",
       "      <td>651</td>\n",
       "      <td>450</td>\n",
       "    </tr>\n",
       "    <tr>\n",
       "      <th>137</th>\n",
       "      <td>worecester</td>\n",
       "      <td>USA</td>\n",
       "      <td>648</td>\n",
       "      <td>650</td>\n",
       "    </tr>\n",
       "    <tr>\n",
       "      <th>141</th>\n",
       "      <td>augusta</td>\n",
       "      <td>USA</td>\n",
       "      <td>600</td>\n",
       "      <td>550</td>\n",
       "    </tr>\n",
       "    <tr>\n",
       "      <th>143</th>\n",
       "      <td>flint</td>\n",
       "      <td>USA</td>\n",
       "      <td>599</td>\n",
       "      <td>600</td>\n",
       "    </tr>\n",
       "    <tr>\n",
       "      <th>144</th>\n",
       "      <td>charleston</td>\n",
       "      <td>USA</td>\n",
       "      <td>598</td>\n",
       "      <td>700</td>\n",
       "    </tr>\n",
       "    <tr>\n",
       "      <th>145</th>\n",
       "      <td>salt lake city</td>\n",
       "      <td>USA</td>\n",
       "      <td>598</td>\n",
       "      <td>1500</td>\n",
       "    </tr>\n",
       "    <tr>\n",
       "      <th>150</th>\n",
       "      <td>youngstown</td>\n",
       "      <td>USA</td>\n",
       "      <td>591</td>\n",
       "      <td>700</td>\n",
       "    </tr>\n",
       "    <tr>\n",
       "      <th>151</th>\n",
       "      <td>greenville</td>\n",
       "      <td>USA</td>\n",
       "      <td>587</td>\n",
       "      <td>500</td>\n",
       "    </tr>\n",
       "    <tr>\n",
       "      <th>152</th>\n",
       "      <td>omaha</td>\n",
       "      <td>USA</td>\n",
       "      <td>586</td>\n",
       "      <td>1050</td>\n",
       "    </tr>\n",
       "    <tr>\n",
       "      <th>160</th>\n",
       "      <td>albuquerque</td>\n",
       "      <td>USA</td>\n",
       "      <td>580</td>\n",
       "      <td>1050</td>\n",
       "    </tr>\n",
       "    <tr>\n",
       "      <th>161</th>\n",
       "      <td>palm bay</td>\n",
       "      <td>USA</td>\n",
       "      <td>569</td>\n",
       "      <td>700</td>\n",
       "    </tr>\n",
       "    <tr>\n",
       "      <th>162</th>\n",
       "      <td>el paso</td>\n",
       "      <td>USA</td>\n",
       "      <td>568</td>\n",
       "      <td>1200</td>\n",
       "    </tr>\n",
       "    <tr>\n",
       "      <th>163</th>\n",
       "      <td>pensacola</td>\n",
       "      <td>USA</td>\n",
       "      <td>568</td>\n",
       "      <td>550</td>\n",
       "    </tr>\n",
       "    <tr>\n",
       "      <th>165</th>\n",
       "      <td>hickory</td>\n",
       "      <td>USA</td>\n",
       "      <td>546</td>\n",
       "      <td>350</td>\n",
       "    </tr>\n",
       "    <tr>\n",
       "      <th>166</th>\n",
       "      <td>mobile</td>\n",
       "      <td>USA</td>\n",
       "      <td>546</td>\n",
       "      <td>600</td>\n",
       "    </tr>\n",
       "    <tr>\n",
       "      <th>171</th>\n",
       "      <td>harrisburg</td>\n",
       "      <td>USA</td>\n",
       "      <td>540</td>\n",
       "      <td>650</td>\n",
       "    </tr>\n",
       "    <tr>\n",
       "      <th>172</th>\n",
       "      <td>asheville</td>\n",
       "      <td>USA</td>\n",
       "      <td>536</td>\n",
       "      <td>400</td>\n",
       "    </tr>\n",
       "    <tr>\n",
       "      <th>174</th>\n",
       "      <td>little rock</td>\n",
       "      <td>USA</td>\n",
       "      <td>532</td>\n",
       "      <td>700</td>\n",
       "    </tr>\n",
       "    <tr>\n",
       "      <th>179</th>\n",
       "      <td>toledo</td>\n",
       "      <td>USA</td>\n",
       "      <td>524</td>\n",
       "      <td>950</td>\n",
       "    </tr>\n",
       "    <tr>\n",
       "      <th>186</th>\n",
       "      <td>lancaster</td>\n",
       "      <td>USA</td>\n",
       "      <td>517</td>\n",
       "      <td>650</td>\n",
       "    </tr>\n",
       "    <tr>\n",
       "      <th>187</th>\n",
       "      <td>new orleans</td>\n",
       "      <td>USA</td>\n",
       "      <td>512</td>\n",
       "      <td>1950</td>\n",
       "    </tr>\n",
       "    <tr>\n",
       "      <th>188</th>\n",
       "      <td>colorado springs</td>\n",
       "      <td>USA</td>\n",
       "      <td>511</td>\n",
       "      <td>900</td>\n",
       "    </tr>\n",
       "    <tr>\n",
       "      <th>194</th>\n",
       "      <td>cape coral</td>\n",
       "      <td>USA</td>\n",
       "      <td>497</td>\n",
       "      <td>650</td>\n",
       "    </tr>\n",
       "    <tr>\n",
       "      <th>208</th>\n",
       "      <td>ogden</td>\n",
       "      <td>USA</td>\n",
       "      <td>466</td>\n",
       "      <td>900</td>\n",
       "    </tr>\n",
       "    <tr>\n",
       "      <th>211</th>\n",
       "      <td>syracuse</td>\n",
       "      <td>USA</td>\n",
       "      <td>465</td>\n",
       "      <td>850</td>\n",
       "    </tr>\n",
       "    <tr>\n",
       "      <th>212</th>\n",
       "      <td>wichita</td>\n",
       "      <td>USA</td>\n",
       "      <td>457</td>\n",
       "      <td>900</td>\n",
       "    </tr>\n",
       "    <tr>\n",
       "      <th>213</th>\n",
       "      <td>concord</td>\n",
       "      <td>USA</td>\n",
       "      <td>453</td>\n",
       "      <td>1200</td>\n",
       "    </tr>\n",
       "    <tr>\n",
       "      <th>222</th>\n",
       "      <td>port st wcie</td>\n",
       "      <td>USA</td>\n",
       "      <td>438</td>\n",
       "      <td>600</td>\n",
       "    </tr>\n",
       "    <tr>\n",
       "      <th>223</th>\n",
       "      <td>fayetteville</td>\n",
       "      <td>USA</td>\n",
       "      <td>433</td>\n",
       "      <td>650</td>\n",
       "    </tr>\n",
       "    <tr>\n",
       "      <th>227</th>\n",
       "      <td>jackson</td>\n",
       "      <td>USA</td>\n",
       "      <td>417</td>\n",
       "      <td>700</td>\n",
       "    </tr>\n",
       "    <tr>\n",
       "      <th>231</th>\n",
       "      <td>scranton</td>\n",
       "      <td>USA</td>\n",
       "      <td>411</td>\n",
       "      <td>950</td>\n",
       "    </tr>\n",
       "    <tr>\n",
       "      <th>232</th>\n",
       "      <td>huntsuille</td>\n",
       "      <td>USA</td>\n",
       "      <td>407</td>\n",
       "      <td>500</td>\n",
       "    </tr>\n",
       "    <tr>\n",
       "      <th>233</th>\n",
       "      <td>durham</td>\n",
       "      <td>USA</td>\n",
       "      <td>406</td>\n",
       "      <td>700</td>\n",
       "    </tr>\n",
       "    <tr>\n",
       "      <th>234</th>\n",
       "      <td>south bend</td>\n",
       "      <td>USA</td>\n",
       "      <td>404</td>\n",
       "      <td>700</td>\n",
       "    </tr>\n",
       "    <tr>\n",
       "      <th>236</th>\n",
       "      <td>shreveport</td>\n",
       "      <td>USA</td>\n",
       "      <td>401</td>\n",
       "      <td>700</td>\n",
       "    </tr>\n",
       "    <tr>\n",
       "      <th>237</th>\n",
       "      <td>honolulu</td>\n",
       "      <td>USA</td>\n",
       "      <td>399</td>\n",
       "      <td>1800</td>\n",
       "    </tr>\n",
       "    <tr>\n",
       "      <th>239</th>\n",
       "      <td>bonita springs /naples</td>\n",
       "      <td>USA</td>\n",
       "      <td>389</td>\n",
       "      <td>550</td>\n",
       "    </tr>\n",
       "    <tr>\n",
       "      <th>246</th>\n",
       "      <td>canton</td>\n",
       "      <td>USA</td>\n",
       "      <td>372</td>\n",
       "      <td>700</td>\n",
       "    </tr>\n",
       "    <tr>\n",
       "      <th>247</th>\n",
       "      <td>spokane</td>\n",
       "      <td>USA</td>\n",
       "      <td>371</td>\n",
       "      <td>900</td>\n",
       "    </tr>\n",
       "  </tbody>\n",
       "</table>\n",
       "</div>"
      ],
      "text/plain": [
       "                         City Country  Landarea  Density\n",
       "1              New York Metro     USA      8683     2050\n",
       "3                     chicapo     USA      5498     1500\n",
       "4                     aflanta     USA      5083      700\n",
       "5                philadelphia     USA      4661     1100\n",
       "6                     boston      USA      4497      900\n",
       "7                los anpletes     USA      4320     2750\n",
       "8           Dallas/fort worth     USA      3644     1150\n",
       "9                     houston     USA      3355     1150\n",
       "10                    detroit     USA      3267     1200\n",
       "11                 washington     USA      2996     1300\n",
       "12                      miami     USA      2891     1700\n",
       "17                    seattle     USA      2470     1100\n",
       "19        minneapolis/st.paul     USA      2316     1050\n",
       "22                 pittsburgh     USA      2208      800\n",
       "24                   st.lousi     USA      2147      950\n",
       "26       tampa//st.petersburg     USA      2078     1000\n",
       "28               phoenix/mesa     USA      2069     1400\n",
       "29                  san diego     USA      2026     1300\n",
       "31                  baltimore     USA      1768     1150\n",
       "32                 cincinnati     USA      1740      850\n",
       "35                  cleveland     USA      1675     1050\n",
       "42                 kanas city     USA      1514      900\n",
       "43              indiana polis     USA      1432      850\n",
       "45     san francisco//oakland     USA      1365     2350\n",
       "46             virginia beach     USA      1364     1000\n",
       "48                 providence     USA      1304      900\n",
       "51                     denver     USA      1292     1550\n",
       "52                  milwaukee     USA      1261     1050\n",
       "53                   portland     USA      1228     1300\n",
       "54                   hartford     USA      1216      700\n",
       "55       bridgeport//stamford     USA      1205      750\n",
       "57                    orlando     USA      1174     1000\n",
       "59   riverside/san bernardino     USA      1136     1350\n",
       "60                   richmond     USA      1131      700\n",
       "61                  charlotte     USA      1126      650\n",
       "63                  nashville     USA      1116      650\n",
       "65               jacksonville     USA      1063      850\n",
       "67                san antonio     USA      1056     1250\n",
       "69                    memphis     USA      1036      950\n",
       "70                   columbus     USA      1030     1100\n",
       "71                 birmingham     USA      1016      650\n",
       "72                 louisville     USA      1013      850\n",
       "77                sa cramento     USA       956     1450\n",
       "79                    buffalo     USA       950     1050\n",
       "82                  knoxville     USA       879      500\n",
       "86                     dayton     USA       838      850\n",
       "87              oklahoma city     USA       835      900\n",
       "90                    raleigh     USA       828      650\n",
       "91                     austin     USA       824     1100\n",
       "94                   mc allen     USA       813      650\n",
       "97                springfield     USA       800      700\n",
       "98                      akron     USA       797      700\n",
       "101                 rochester     USA       764      900\n",
       "102                    tucson     USA       755      950\n",
       "103               chattanooga     USA       751      450\n",
       "104      allen town/bethlehem     USA       750      750\n",
       "107           barnstable town     USA       741      350\n",
       "108                 las vegas     USA       741     1750\n",
       "109                 new hawen     USA       739      700\n",
       "111                    albany     USA       736      750\n",
       "113               baton rouge     USA       727      650\n",
       "121       sarasota//bradenton     USA       700      800\n",
       "122                  columbia     USA       697      600\n",
       "124             pough keepsie     USA       686      500\n",
       "127                     tulsa     USA       677      800\n",
       "128                  san jose     USA       674     2300\n",
       "132              grand rapids     USA       667      800\n",
       "133             winston/salem     USA       651      450\n",
       "137                worecester     USA       648      650\n",
       "141                   augusta     USA       600      550\n",
       "143                     flint     USA       599      600\n",
       "144                charleston     USA       598      700\n",
       "145            salt lake city     USA       598     1500\n",
       "150                youngstown     USA       591      700\n",
       "151                greenville     USA       587      500\n",
       "152                     omaha     USA       586     1050\n",
       "160               albuquerque     USA       580     1050\n",
       "161                  palm bay     USA       569      700\n",
       "162                   el paso     USA       568     1200\n",
       "163                 pensacola     USA       568      550\n",
       "165                   hickory     USA       546      350\n",
       "166                    mobile     USA       546      600\n",
       "171                harrisburg     USA       540      650\n",
       "172                 asheville     USA       536      400\n",
       "174               little rock     USA       532      700\n",
       "179                    toledo     USA       524      950\n",
       "186                 lancaster     USA       517      650\n",
       "187               new orleans     USA       512     1950\n",
       "188          colorado springs     USA       511      900\n",
       "194                cape coral     USA       497      650\n",
       "208                     ogden     USA       466      900\n",
       "211                  syracuse     USA       465      850\n",
       "212                   wichita     USA       457      900\n",
       "213                   concord     USA       453     1200\n",
       "222              port st wcie     USA       438      600\n",
       "223              fayetteville     USA       433      650\n",
       "227                   jackson     USA       417      700\n",
       "231                  scranton     USA       411      950\n",
       "232                huntsuille     USA       407      500\n",
       "233                    durham     USA       406      700\n",
       "234                south bend     USA       404      700\n",
       "236                shreveport     USA       401      700\n",
       "237                  honolulu     USA       399     1800\n",
       "239    bonita springs /naples     USA       389      550\n",
       "246                    canton     USA       372      700\n",
       "247                   spokane     USA       371      900"
      ]
     },
     "execution_count": 146,
     "metadata": {},
     "output_type": "execute_result"
    }
   ],
   "source": [
    "# df24=df[df['Country']== 'USA' ]\n",
    "# display(df[df[\"Country\"]=='USA' ])\n",
    "df24 = df[df['Country'].isin(['USA','usa'])]\n",
    "USA=df24\n",
    "USA"
   ]
  },
  {
   "cell_type": "code",
   "execution_count": 147,
   "id": "8f3ef78c",
   "metadata": {},
   "outputs": [],
   "source": [
    "#USA.index\n",
    "#USA.index.values.tolist() \n",
    "#list(USA.index.values)"
   ]
  },
  {
   "cell_type": "code",
   "execution_count": 148,
   "id": "cea64119",
   "metadata": {},
   "outputs": [
    {
     "name": "stdout",
     "output_type": "stream",
     "text": [
      "1 3 4 5 6 7 8 9 10 11 12 17 19 22 24 26 28 29 31 32 35 42 43 45 46 48 51 52 53 54 55 57 59 60 61 63 65 67 69 70 71 72 77 79 82 86 87 90 91 94 97 98 101 102 103 104 107 108 109 111 113 121 122 124 127 128 132 133 137 141 143 144 145 150 151 152 160 161 162 163 165 166 171 172 174 179 186 187 188 194 208 211 212 213 222 223 227 231 232 233 234 236 237 239 246 247 "
     ]
    }
   ],
   "source": [
    "for row in USA.index:\n",
    "    print(row, end = \" \")"
   ]
  },
  {
   "cell_type": "code",
   "execution_count": 149,
   "id": "980619a5",
   "metadata": {},
   "outputs": [
    {
     "data": {
      "text/plain": [
       "106"
      ]
     },
     "execution_count": 149,
     "metadata": {},
     "output_type": "execute_result"
    }
   ],
   "source": [
    "len(USA)"
   ]
  },
  {
   "cell_type": "code",
   "execution_count": 150,
   "id": "e7bbc29a",
   "metadata": {},
   "outputs": [
    {
     "data": {
      "text/plain": [
       "108.58490566037736"
      ]
     },
     "execution_count": 150,
     "metadata": {},
     "output_type": "execute_result"
    }
   ],
   "source": [
    "USA_meanrank=(1+3+4+5+6+7+8+9+10+11+12+17+19+22+24+26+28+29+31+32+35+42+43+45+46+48+51+52+53+54+55+57+59+60+61+63+65+67+69+70+71+72+77+79+82+86+87+90+91+94+97+98+101+102+103+104+107+108+109+111+113+121+122+124+127+128+132+133+137+141+143+144+145+150+151+152+160+161+162+163+165+166+171+172+174+179+186+187+188+194+208+211+212+213+222+223+227+231+232+233+234+236+237+239+246+247)/106\n",
    "USA_meanrank"
   ]
  },
  {
   "cell_type": "markdown",
   "id": "300c3485",
   "metadata": {},
   "source": [
    "### _ _ _ _ _ _ _ _ _ _ _ _ _ _ _ _ _ _ _ _ _ _ _ _ _ _ _ _ _ _ _ _ _ _ _ _ _ _ _ _ _ _ _ _ _ _ _ _ _ _ _ _ _ _ _ _ _ _ _ _"
   ]
  },
  {
   "cell_type": "markdown",
   "id": "e2d512f7",
   "metadata": {},
   "source": [
    "## Average area of cities in USA"
   ]
  },
  {
   "cell_type": "markdown",
   "id": "433f1d1b",
   "metadata": {},
   "source": [
    "### 108\tlas vegas\tUSA\t741(Landarea)\t1750(Density)"
   ]
  },
  {
   "cell_type": "code",
   "execution_count": 359,
   "id": "e135ed35",
   "metadata": {},
   "outputs": [
    {
     "data": {
      "text/plain": [
       "4.334150943396238"
      ]
     },
     "execution_count": 359,
     "metadata": {},
     "output_type": "execute_result"
    }
   ],
   "source": [
    "7.41*.58490566037736"
   ]
  },
  {
   "cell_type": "code",
   "execution_count": 360,
   "id": "af401fd2",
   "metadata": {},
   "outputs": [
    {
     "data": {
      "text/plain": [
       "745.3341509433963"
      ]
     },
     "execution_count": 360,
     "metadata": {},
     "output_type": "execute_result"
    }
   ],
   "source": [
    "741+4.334150943396238"
   ]
  },
  {
   "cell_type": "markdown",
   "id": "68563413",
   "metadata": {},
   "source": [
    "### _ _ _ _ _ _ _ _ _ _ _ _ _ _ _ _ _ _ _ _ _ _ _ _ _ _ _ _ _ _ _ _ _ _ _ _ _ _ _ _ _ _ _ _ _ _ _ _ _ _ _ _ _ _ _ _ _ _ _ _"
   ]
  },
  {
   "cell_type": "markdown",
   "id": "38eccd2d",
   "metadata": {},
   "source": [
    "### France (15 Cities)"
   ]
  },
  {
   "cell_type": "code",
   "execution_count": 151,
   "id": "7a53bcf7",
   "metadata": {},
   "outputs": [
    {
     "data": {
      "text/html": [
       "<div>\n",
       "<style scoped>\n",
       "    .dataframe tbody tr th:only-of-type {\n",
       "        vertical-align: middle;\n",
       "    }\n",
       "\n",
       "    .dataframe tbody tr th {\n",
       "        vertical-align: top;\n",
       "    }\n",
       "\n",
       "    .dataframe thead th {\n",
       "        text-align: right;\n",
       "    }\n",
       "</style>\n",
       "<table border=\"1\" class=\"dataframe\">\n",
       "  <thead>\n",
       "    <tr style=\"text-align: right;\">\n",
       "      <th></th>\n",
       "      <th>City</th>\n",
       "      <th>Country</th>\n",
       "      <th>Landarea</th>\n",
       "      <th>Density</th>\n",
       "    </tr>\n",
       "  </thead>\n",
       "  <tbody>\n",
       "    <tr>\n",
       "      <th>14</th>\n",
       "      <td>paris</td>\n",
       "      <td>France</td>\n",
       "      <td>2723</td>\n",
       "      <td>3550</td>\n",
       "    </tr>\n",
       "    <tr>\n",
       "      <th>56</th>\n",
       "      <td>marseille</td>\n",
       "      <td>France</td>\n",
       "      <td>1204</td>\n",
       "      <td>1100</td>\n",
       "    </tr>\n",
       "    <tr>\n",
       "      <th>66</th>\n",
       "      <td>bordeaux</td>\n",
       "      <td>France</td>\n",
       "      <td>1057</td>\n",
       "      <td>700</td>\n",
       "    </tr>\n",
       "    <tr>\n",
       "      <th>78</th>\n",
       "      <td>lyon</td>\n",
       "      <td>France</td>\n",
       "      <td>954</td>\n",
       "      <td>1400</td>\n",
       "    </tr>\n",
       "    <tr>\n",
       "      <th>95</th>\n",
       "      <td>tou louse</td>\n",
       "      <td>france</td>\n",
       "      <td>808</td>\n",
       "      <td>950</td>\n",
       "    </tr>\n",
       "    <tr>\n",
       "      <th>114</th>\n",
       "      <td>nice</td>\n",
       "      <td>france</td>\n",
       "      <td>721</td>\n",
       "      <td>1250</td>\n",
       "    </tr>\n",
       "    <tr>\n",
       "      <th>115</th>\n",
       "      <td>toulon</td>\n",
       "      <td>france</td>\n",
       "      <td>713</td>\n",
       "      <td>750</td>\n",
       "    </tr>\n",
       "    <tr>\n",
       "      <th>190</th>\n",
       "      <td>avignon</td>\n",
       "      <td>France</td>\n",
       "      <td>508</td>\n",
       "      <td>500</td>\n",
       "    </tr>\n",
       "    <tr>\n",
       "      <th>191</th>\n",
       "      <td>valenciennes</td>\n",
       "      <td>France</td>\n",
       "      <td>507</td>\n",
       "      <td>700</td>\n",
       "    </tr>\n",
       "    <tr>\n",
       "      <th>197</th>\n",
       "      <td>douai/lens</td>\n",
       "      <td>France</td>\n",
       "      <td>489</td>\n",
       "      <td>1050</td>\n",
       "    </tr>\n",
       "    <tr>\n",
       "      <th>205</th>\n",
       "      <td>nantes</td>\n",
       "      <td>France</td>\n",
       "      <td>476</td>\n",
       "      <td>1150</td>\n",
       "    </tr>\n",
       "    <tr>\n",
       "      <th>206</th>\n",
       "      <td>lille</td>\n",
       "      <td>France</td>\n",
       "      <td>474</td>\n",
       "      <td>2200</td>\n",
       "    </tr>\n",
       "    <tr>\n",
       "      <th>220</th>\n",
       "      <td>pau</td>\n",
       "      <td>France</td>\n",
       "      <td>450</td>\n",
       "      <td>400</td>\n",
       "    </tr>\n",
       "    <tr>\n",
       "      <th>226</th>\n",
       "      <td>tours</td>\n",
       "      <td>France</td>\n",
       "      <td>421</td>\n",
       "      <td>700</td>\n",
       "    </tr>\n",
       "    <tr>\n",
       "      <th>238</th>\n",
       "      <td>bethune</td>\n",
       "      <td>France</td>\n",
       "      <td>390</td>\n",
       "      <td>650</td>\n",
       "    </tr>\n",
       "  </tbody>\n",
       "</table>\n",
       "</div>"
      ],
      "text/plain": [
       "             City Country  Landarea  Density\n",
       "14          paris  France      2723     3550\n",
       "56      marseille  France      1204     1100\n",
       "66       bordeaux  France      1057      700\n",
       "78           lyon  France       954     1400\n",
       "95      tou louse  france       808      950\n",
       "114          nice  france       721     1250\n",
       "115        toulon  france       713      750\n",
       "190       avignon  France       508      500\n",
       "191  valenciennes  France       507      700\n",
       "197    douai/lens  France       489     1050\n",
       "205        nantes  France       476     1150\n",
       "206         lille  France       474     2200\n",
       "220           pau  France       450      400\n",
       "226         tours  France       421      700\n",
       "238       bethune  France       390      650"
      ]
     },
     "execution_count": 151,
     "metadata": {},
     "output_type": "execute_result"
    }
   ],
   "source": [
    "# df26=df[df['Country']== 'France' ]\n",
    "# display(df[df[\"Country\"]=='France' ])\n",
    "df26 = df[df['Country'].isin(['France','france'])]\n",
    "France=df26\n",
    "France\n",
    "\n"
   ]
  },
  {
   "cell_type": "code",
   "execution_count": 152,
   "id": "d8aba227",
   "metadata": {},
   "outputs": [
    {
     "data": {
      "text/plain": [
       "Int64Index([14, 56, 66, 78, 95, 114, 115, 190, 191, 197, 205, 206, 220, 226,\n",
       "            238],\n",
       "           dtype='int64')"
      ]
     },
     "execution_count": 152,
     "metadata": {},
     "output_type": "execute_result"
    }
   ],
   "source": [
    "France.index"
   ]
  },
  {
   "cell_type": "code",
   "execution_count": 153,
   "id": "71d0dac3",
   "metadata": {},
   "outputs": [
    {
     "data": {
      "text/plain": [
       "15"
      ]
     },
     "execution_count": 153,
     "metadata": {},
     "output_type": "execute_result"
    }
   ],
   "source": [
    "len(France)"
   ]
  },
  {
   "cell_type": "markdown",
   "id": "76149700",
   "metadata": {},
   "source": [
    "###  _ _ _ _ __ _ _ _ _ _ _ _ _ _ __ _ _ _ _ _ _ _ _ _ _ _ _ _ _ _ _ _ _ _ _ _ _ _ _ _ _ _ _ _ _ _ _ _ _ _ _ _ __ _ _ _ _ _"
   ]
  },
  {
   "cell_type": "code",
   "execution_count": 154,
   "id": "0db97ee3",
   "metadata": {},
   "outputs": [
    {
     "data": {
      "text/plain": [
       "147.4"
      ]
     },
     "execution_count": 154,
     "metadata": {},
     "output_type": "execute_result"
    }
   ],
   "source": [
    "France_meanrank=(14+56+66+78+95+114+115+190+191+197+205+206+220+226+\n",
    "            238)/15\n",
    "France_meanrank"
   ]
  },
  {
   "cell_type": "markdown",
   "id": "5df78354",
   "metadata": {},
   "source": [
    "## 147\tbaghdad\tIraq\t596(area)\t9250(Density)"
   ]
  },
  {
   "cell_type": "code",
   "execution_count": 361,
   "id": "da4133df",
   "metadata": {},
   "outputs": [
    {
     "data": {
      "text/plain": [
       "2.384"
      ]
     },
     "execution_count": 361,
     "metadata": {},
     "output_type": "execute_result"
    }
   ],
   "source": [
    "5.96*0.4"
   ]
  },
  {
   "cell_type": "code",
   "execution_count": 362,
   "id": "4101c816",
   "metadata": {},
   "outputs": [
    {
     "data": {
      "text/plain": [
       "598.384"
      ]
     },
     "execution_count": 362,
     "metadata": {},
     "output_type": "execute_result"
    }
   ],
   "source": [
    "596+2.384"
   ]
  },
  {
   "cell_type": "markdown",
   "id": "6c37a8cf",
   "metadata": {},
   "source": [
    "## Average area of cities in france"
   ]
  },
  {
   "cell_type": "markdown",
   "id": "b0463e04",
   "metadata": {},
   "source": [
    "### 1) 144\tcharleston\tUSA\t598(Area) 700(Density)\n",
    "#### 2) 145\tsalt lake city\tUSA\t598(Area)\t1500(Density)"
   ]
  },
  {
   "cell_type": "markdown",
   "id": "9cf4301a",
   "metadata": {},
   "source": [
    "###  _ _ _ _ __ _ _ _ _ _ _ _ _ _ __ _ _ _ _ _ _ _ _ _ _ _ _ _ _ _ _ _ _ _ _ _ _ _ _ _ _ _ _ _ _ _ _ _ _ _ _ _ __ _ _ _ _ _"
   ]
  },
  {
   "cell_type": "markdown",
   "id": "1b4407ae",
   "metadata": {},
   "source": [
    "### Brazil (10 Cities)"
   ]
  },
  {
   "cell_type": "code",
   "execution_count": 155,
   "id": "704d3b2f",
   "metadata": {},
   "outputs": [
    {
     "data": {
      "text/html": [
       "<div>\n",
       "<style scoped>\n",
       "    .dataframe tbody tr th:only-of-type {\n",
       "        vertical-align: middle;\n",
       "    }\n",
       "\n",
       "    .dataframe tbody tr th {\n",
       "        vertical-align: top;\n",
       "    }\n",
       "\n",
       "    .dataframe thead th {\n",
       "        text-align: right;\n",
       "    }\n",
       "</style>\n",
       "<table border=\"1\" class=\"dataframe\">\n",
       "  <thead>\n",
       "    <tr style=\"text-align: right;\">\n",
       "      <th></th>\n",
       "      <th>City</th>\n",
       "      <th>Country</th>\n",
       "      <th>Landarea</th>\n",
       "      <th>Density</th>\n",
       "    </tr>\n",
       "  </thead>\n",
       "  <tbody>\n",
       "    <tr>\n",
       "      <th>30</th>\n",
       "      <td>sao paulo</td>\n",
       "      <td>Brazil</td>\n",
       "      <td>1968</td>\n",
       "      <td>9000</td>\n",
       "    </tr>\n",
       "    <tr>\n",
       "      <th>40</th>\n",
       "      <td>rio de janeiro</td>\n",
       "      <td>Brazil</td>\n",
       "      <td>1580</td>\n",
       "      <td>6850</td>\n",
       "    </tr>\n",
       "    <tr>\n",
       "      <th>83</th>\n",
       "      <td>belo horizonte</td>\n",
       "      <td>Brazil</td>\n",
       "      <td>868</td>\n",
       "      <td>4600</td>\n",
       "    </tr>\n",
       "    <tr>\n",
       "      <th>135</th>\n",
       "      <td>curitiba</td>\n",
       "      <td>Brazil</td>\n",
       "      <td>648</td>\n",
       "      <td>3850</td>\n",
       "    </tr>\n",
       "    <tr>\n",
       "      <th>154</th>\n",
       "      <td>brasile</td>\n",
       "      <td>Brazil</td>\n",
       "      <td>583</td>\n",
       "      <td>2800</td>\n",
       "    </tr>\n",
       "    <tr>\n",
       "      <th>155</th>\n",
       "      <td>fortaleza</td>\n",
       "      <td>Brazil</td>\n",
       "      <td>583</td>\n",
       "      <td>4550</td>\n",
       "    </tr>\n",
       "    <tr>\n",
       "      <th>159</th>\n",
       "      <td>porto alegre</td>\n",
       "      <td>Brazil</td>\n",
       "      <td>583</td>\n",
       "      <td>4800</td>\n",
       "    </tr>\n",
       "    <tr>\n",
       "      <th>195</th>\n",
       "      <td>campinas</td>\n",
       "      <td>Brazil</td>\n",
       "      <td>492</td>\n",
       "      <td>3550</td>\n",
       "    </tr>\n",
       "    <tr>\n",
       "      <th>199</th>\n",
       "      <td>goiania</td>\n",
       "      <td>Brazil</td>\n",
       "      <td>479</td>\n",
       "      <td>3100</td>\n",
       "    </tr>\n",
       "    <tr>\n",
       "      <th>244</th>\n",
       "      <td>recife</td>\n",
       "      <td>Brazil</td>\n",
       "      <td>376</td>\n",
       "      <td>8050</td>\n",
       "    </tr>\n",
       "  </tbody>\n",
       "</table>\n",
       "</div>"
      ],
      "text/plain": [
       "               City Country  Landarea  Density\n",
       "30        sao paulo  Brazil      1968     9000\n",
       "40   rio de janeiro  Brazil      1580     6850\n",
       "83   belo horizonte  Brazil       868     4600\n",
       "135        curitiba  Brazil       648     3850\n",
       "154         brasile  Brazil       583     2800\n",
       "155       fortaleza  Brazil       583     4550\n",
       "159    porto alegre  Brazil       583     4800\n",
       "195        campinas  Brazil       492     3550\n",
       "199         goiania  Brazil       479     3100\n",
       "244          recife  Brazil       376     8050"
      ]
     },
     "execution_count": 155,
     "metadata": {},
     "output_type": "execute_result"
    }
   ],
   "source": [
    "# df28=df[df['Country']== 'Brazil' ]\n",
    "# display(df[df[\"Country\"]=='Brazil' ])\n",
    "df28 = df[df['Country'].isin([\"Brazil\"])]\n",
    "Brazil=df28\n",
    "Brazil\n"
   ]
  },
  {
   "cell_type": "code",
   "execution_count": 156,
   "id": "e4c49aca",
   "metadata": {},
   "outputs": [
    {
     "data": {
      "text/plain": [
       "Int64Index([30, 40, 83, 135, 154, 155, 159, 195, 199, 244], dtype='int64')"
      ]
     },
     "execution_count": 156,
     "metadata": {},
     "output_type": "execute_result"
    }
   ],
   "source": [
    "Brazil.index"
   ]
  },
  {
   "cell_type": "code",
   "execution_count": 157,
   "id": "e66e1c2b",
   "metadata": {},
   "outputs": [
    {
     "data": {
      "text/plain": [
       "10"
      ]
     },
     "execution_count": 157,
     "metadata": {},
     "output_type": "execute_result"
    }
   ],
   "source": [
    "len(Brazil)"
   ]
  },
  {
   "cell_type": "code",
   "execution_count": 158,
   "id": "5bfd671f",
   "metadata": {},
   "outputs": [
    {
     "data": {
      "text/plain": [
       "139.4"
      ]
     },
     "execution_count": 158,
     "metadata": {},
     "output_type": "execute_result"
    }
   ],
   "source": [
    "Brazil_meanrank=(30+40+83+135+154+155+159+195+199+244)/10\n",
    "Brazil_meanrank"
   ]
  },
  {
   "cell_type": "markdown",
   "id": "710ebf5a",
   "metadata": {},
   "source": [
    "## Average area of cities in Brazil"
   ]
  },
  {
   "cell_type": "markdown",
   "id": "452c6287",
   "metadata": {},
   "source": [
    "#### 138\tlahore\tPakistan\t622(Area)\t8200(Density)\n",
    "### 139\tst petersburg\tRussia\t622(Area)\t8550(Density)"
   ]
  },
  {
   "cell_type": "code",
   "execution_count": 363,
   "id": "a42436c1",
   "metadata": {},
   "outputs": [
    {
     "data": {
      "text/plain": [
       "2.488"
      ]
     },
     "execution_count": 363,
     "metadata": {},
     "output_type": "execute_result"
    }
   ],
   "source": [
    "6.22*.4"
   ]
  },
  {
   "cell_type": "code",
   "execution_count": 364,
   "id": "6f73de2e",
   "metadata": {},
   "outputs": [
    {
     "data": {
      "text/plain": [
       "624.488"
      ]
     },
     "execution_count": 364,
     "metadata": {},
     "output_type": "execute_result"
    }
   ],
   "source": [
    "622+2.488"
   ]
  },
  {
   "cell_type": "markdown",
   "id": "e494c3e7",
   "metadata": {},
   "source": [
    "### _ _ _ _ _ _ _ _ _ _ _ _ _ _ _  _ _ _ _ _ _ _ _ _ _ _ _ _  _   _ __ _  _ __ _   _ _  _  _ _ _ _ _ _  _ _ _ _ __  __ _  _ _ _ _ _ "
   ]
  },
  {
   "cell_type": "markdown",
   "id": "9bc89944",
   "metadata": {},
   "source": [
    "### Canada (9 Cities)"
   ]
  },
  {
   "cell_type": "code",
   "execution_count": 159,
   "id": "95a7ef1d",
   "metadata": {},
   "outputs": [],
   "source": [
    "df31 = df[df['Country'].isin(['Canada','canada'])]\n"
   ]
  },
  {
   "cell_type": "code",
   "execution_count": 160,
   "id": "b437579b",
   "metadata": {},
   "outputs": [
    {
     "data": {
      "text/html": [
       "<div>\n",
       "<style scoped>\n",
       "    .dataframe tbody tr th:only-of-type {\n",
       "        vertical-align: middle;\n",
       "    }\n",
       "\n",
       "    .dataframe tbody tr th {\n",
       "        vertical-align: top;\n",
       "    }\n",
       "\n",
       "    .dataframe thead th {\n",
       "        text-align: right;\n",
       "    }\n",
       "</style>\n",
       "<table border=\"1\" class=\"dataframe\">\n",
       "  <thead>\n",
       "    <tr style=\"text-align: right;\">\n",
       "      <th></th>\n",
       "      <th>City</th>\n",
       "      <th>Country</th>\n",
       "      <th>Landarea</th>\n",
       "      <th>Density</th>\n",
       "    </tr>\n",
       "  </thead>\n",
       "  <tbody>\n",
       "    <tr>\n",
       "      <th>33</th>\n",
       "      <td>montreal</td>\n",
       "      <td>Canada</td>\n",
       "      <td>1740</td>\n",
       "      <td>1850</td>\n",
       "    </tr>\n",
       "    <tr>\n",
       "      <th>36</th>\n",
       "      <td>toronto</td>\n",
       "      <td>Canada</td>\n",
       "      <td>1655</td>\n",
       "      <td>2650</td>\n",
       "    </tr>\n",
       "    <tr>\n",
       "      <th>62</th>\n",
       "      <td>vancouver</td>\n",
       "      <td>Canada</td>\n",
       "      <td>1120</td>\n",
       "      <td>1650</td>\n",
       "    </tr>\n",
       "    <tr>\n",
       "      <th>84</th>\n",
       "      <td>edmonton</td>\n",
       "      <td>Canada</td>\n",
       "      <td>850</td>\n",
       "      <td>900</td>\n",
       "    </tr>\n",
       "    <tr>\n",
       "      <th>120</th>\n",
       "      <td>calgary</td>\n",
       "      <td>canada</td>\n",
       "      <td>702</td>\n",
       "      <td>1250</td>\n",
       "    </tr>\n",
       "    <tr>\n",
       "      <th>131</th>\n",
       "      <td>quebec</td>\n",
       "      <td>canada</td>\n",
       "      <td>669</td>\n",
       "      <td>950</td>\n",
       "    </tr>\n",
       "    <tr>\n",
       "      <th>196</th>\n",
       "      <td>ottawa/hull</td>\n",
       "      <td>Canada</td>\n",
       "      <td>490</td>\n",
       "      <td>1700</td>\n",
       "    </tr>\n",
       "    <tr>\n",
       "      <th>221</th>\n",
       "      <td>winnipeg</td>\n",
       "      <td>Canada</td>\n",
       "      <td>446</td>\n",
       "      <td>1400</td>\n",
       "    </tr>\n",
       "    <tr>\n",
       "      <th>242</th>\n",
       "      <td>st.cathariness</td>\n",
       "      <td>Canada</td>\n",
       "      <td>389</td>\n",
       "      <td>750</td>\n",
       "    </tr>\n",
       "  </tbody>\n",
       "</table>\n",
       "</div>"
      ],
      "text/plain": [
       "               City Country  Landarea  Density\n",
       "33         montreal  Canada      1740     1850\n",
       "36          toronto  Canada      1655     2650\n",
       "62        vancouver  Canada      1120     1650\n",
       "84         edmonton  Canada       850      900\n",
       "120         calgary  canada       702     1250\n",
       "131          quebec  canada       669      950\n",
       "196     ottawa/hull  Canada       490     1700\n",
       "221        winnipeg  Canada       446     1400\n",
       "242  st.cathariness  Canada       389      750"
      ]
     },
     "execution_count": 160,
     "metadata": {},
     "output_type": "execute_result"
    }
   ],
   "source": [
    "Canada=df31\n",
    "Canada"
   ]
  },
  {
   "cell_type": "code",
   "execution_count": 161,
   "id": "ee920c51",
   "metadata": {},
   "outputs": [
    {
     "data": {
      "text/plain": [
       "Int64Index([33, 36, 62, 84, 120, 131, 196, 221, 242], dtype='int64')"
      ]
     },
     "execution_count": 161,
     "metadata": {},
     "output_type": "execute_result"
    }
   ],
   "source": [
    "Canada.index"
   ]
  },
  {
   "cell_type": "code",
   "execution_count": 162,
   "id": "57c02042",
   "metadata": {},
   "outputs": [
    {
     "data": {
      "text/plain": [
       "9"
      ]
     },
     "execution_count": 162,
     "metadata": {},
     "output_type": "execute_result"
    }
   ],
   "source": [
    "len(Canada)"
   ]
  },
  {
   "cell_type": "code",
   "execution_count": 163,
   "id": "bd6d5d6e",
   "metadata": {},
   "outputs": [
    {
     "data": {
      "text/plain": [
       "125.0"
      ]
     },
     "execution_count": 163,
     "metadata": {},
     "output_type": "execute_result"
    }
   ],
   "source": [
    "Canada_meanrank=(33+36+62+84+120+131+196+221+242)/9\n",
    "Canada_meanrank\n"
   ]
  },
  {
   "cell_type": "markdown",
   "id": "60dda8c9",
   "metadata": {},
   "source": [
    "## Average area of cities in Canada"
   ]
  },
  {
   "cell_type": "markdown",
   "id": "b5cf5684",
   "metadata": {},
   "source": [
    "#### 123     cape town\tsouth africa\t686(Area)\t3950(Density)\n",
    "#### 124\tpough keepsie\tUSA\t686(Area)\t500(Density)\n",
    "### 125\ttehran\tiran\t686(Area)\t10550(Density)\n"
   ]
  },
  {
   "cell_type": "markdown",
   "id": "a908851e",
   "metadata": {},
   "source": [
    "###  _ _ _ _ _ _ _ _ _ _ _ _ _ _ _ _ _ _ _ _ _ _ _ _ _ _ _ _ _ _ _ _ _ _ _ _ _ _ _ _ _ _ _ _ _ _ _ _ _ _ _ _  _ _ _    \n"
   ]
  },
  {
   "cell_type": "markdown",
   "id": "ae21e8d4",
   "metadata": {},
   "source": [
    "### Germany (8 Cities)"
   ]
  },
  {
   "cell_type": "code",
   "execution_count": 164,
   "id": "279a5dcc",
   "metadata": {},
   "outputs": [
    {
     "data": {
      "text/html": [
       "<div>\n",
       "<style scoped>\n",
       "    .dataframe tbody tr th:only-of-type {\n",
       "        vertical-align: middle;\n",
       "    }\n",
       "\n",
       "    .dataframe tbody tr th {\n",
       "        vertical-align: top;\n",
       "    }\n",
       "\n",
       "    .dataframe thead th {\n",
       "        text-align: right;\n",
       "    }\n",
       "</style>\n",
       "<table border=\"1\" class=\"dataframe\">\n",
       "  <thead>\n",
       "    <tr style=\"text-align: right;\">\n",
       "      <th></th>\n",
       "      <th>City</th>\n",
       "      <th>Country</th>\n",
       "      <th>Landarea</th>\n",
       "      <th>Density</th>\n",
       "    </tr>\n",
       "  </thead>\n",
       "  <tbody>\n",
       "    <tr>\n",
       "      <th>15</th>\n",
       "      <td>essen/dusseldorf</td>\n",
       "      <td>Germany</td>\n",
       "      <td>2642</td>\n",
       "      <td>2800</td>\n",
       "    </tr>\n",
       "    <tr>\n",
       "      <th>74</th>\n",
       "      <td>berlin</td>\n",
       "      <td>Germany</td>\n",
       "      <td>984</td>\n",
       "      <td>3750</td>\n",
       "    </tr>\n",
       "    <tr>\n",
       "      <th>75</th>\n",
       "      <td>frankfurt</td>\n",
       "      <td>Germany</td>\n",
       "      <td>984</td>\n",
       "      <td>2300</td>\n",
       "    </tr>\n",
       "    <tr>\n",
       "      <th>89</th>\n",
       "      <td>hamburg</td>\n",
       "      <td>Germany</td>\n",
       "      <td>829</td>\n",
       "      <td>2300</td>\n",
       "    </tr>\n",
       "    <tr>\n",
       "      <th>92</th>\n",
       "      <td>cologne/bonn</td>\n",
       "      <td>germany</td>\n",
       "      <td>816</td>\n",
       "      <td>2400</td>\n",
       "    </tr>\n",
       "    <tr>\n",
       "      <th>183</th>\n",
       "      <td>munichi</td>\n",
       "      <td>Germany</td>\n",
       "      <td>518</td>\n",
       "      <td>3100</td>\n",
       "    </tr>\n",
       "    <tr>\n",
       "      <th>230</th>\n",
       "      <td>stuttgart</td>\n",
       "      <td>Germany</td>\n",
       "      <td>411</td>\n",
       "      <td>3000</td>\n",
       "    </tr>\n",
       "    <tr>\n",
       "      <th>235</th>\n",
       "      <td>aachen</td>\n",
       "      <td>Germany</td>\n",
       "      <td>401</td>\n",
       "      <td>1450</td>\n",
       "    </tr>\n",
       "  </tbody>\n",
       "</table>\n",
       "</div>"
      ],
      "text/plain": [
       "                 City  Country  Landarea  Density\n",
       "15   essen/dusseldorf  Germany      2642     2800\n",
       "74             berlin  Germany       984     3750\n",
       "75          frankfurt  Germany       984     2300\n",
       "89            hamburg  Germany       829     2300\n",
       "92       cologne/bonn  germany       816     2400\n",
       "183           munichi  Germany       518     3100\n",
       "230         stuttgart  Germany       411     3000\n",
       "235            aachen  Germany       401     1450"
      ]
     },
     "execution_count": 164,
     "metadata": {},
     "output_type": "execute_result"
    }
   ],
   "source": [
    "df30 = df[df['Country'].isin(['Germany','germany'])]\n",
    "Germany=df30\n",
    "Germany"
   ]
  },
  {
   "cell_type": "code",
   "execution_count": 165,
   "id": "02771019",
   "metadata": {},
   "outputs": [
    {
     "data": {
      "text/plain": [
       "Int64Index([15, 74, 75, 89, 92, 183, 230, 235], dtype='int64')"
      ]
     },
     "execution_count": 165,
     "metadata": {},
     "output_type": "execute_result"
    }
   ],
   "source": [
    "Germany.index"
   ]
  },
  {
   "cell_type": "code",
   "execution_count": 166,
   "id": "72d0d499",
   "metadata": {},
   "outputs": [
    {
     "data": {
      "text/plain": [
       "8"
      ]
     },
     "execution_count": 166,
     "metadata": {},
     "output_type": "execute_result"
    }
   ],
   "source": [
    "len(Germany)"
   ]
  },
  {
   "cell_type": "code",
   "execution_count": 167,
   "id": "3b783d6a",
   "metadata": {},
   "outputs": [
    {
     "data": {
      "text/plain": [
       "124.125"
      ]
     },
     "execution_count": 167,
     "metadata": {},
     "output_type": "execute_result"
    }
   ],
   "source": [
    "Germany_meanrank=(15+74+75+89+92+183+230+235)/8\n",
    "Germany_meanrank"
   ]
  },
  {
   "cell_type": "markdown",
   "id": "c797e327",
   "metadata": {},
   "source": [
    "## Average area of cities in Germany"
   ]
  },
  {
   "cell_type": "markdown",
   "id": "ed5b4bc4",
   "metadata": {},
   "source": [
    "#### 123\tcape town\tsouth africa\t686(Area)\t3950(Area)\n",
    "### 124\tpough keepsie\tUSA\t686(Area) 500(Density)\n",
    "#### 125\ttehran\tiran\t686(Area)\t10550(Area)"
   ]
  },
  {
   "cell_type": "code",
   "execution_count": 369,
   "id": "24d328fa",
   "metadata": {},
   "outputs": [
    {
     "data": {
      "text/plain": [
       "0.8575"
      ]
     },
     "execution_count": 369,
     "metadata": {},
     "output_type": "execute_result"
    }
   ],
   "source": [
    "6.86*.125\n"
   ]
  },
  {
   "cell_type": "code",
   "execution_count": 370,
   "id": "bc6dc750",
   "metadata": {},
   "outputs": [
    {
     "data": {
      "text/plain": [
       "686.8575"
      ]
     },
     "execution_count": 370,
     "metadata": {},
     "output_type": "execute_result"
    }
   ],
   "source": [
    "686+0.8575"
   ]
  },
  {
   "cell_type": "markdown",
   "id": "318c4d51",
   "metadata": {},
   "source": [
    "###  _ _ _ _ _ _ _ _ _ _ _ _ _ _ _ _ _ _ _ _ _ _ _ _ _ _ _ _ _ _ _ _ _ _ _ _ _ _ _ _ _ _ _ _ _ _ _ _ _ _ _ _  _ _ _  "
   ]
  },
  {
   "cell_type": "markdown",
   "id": "b23807ec",
   "metadata": {},
   "source": [
    "## Countries with 6 Cities"
   ]
  },
  {
   "cell_type": "markdown",
   "id": "69602884",
   "metadata": {},
   "source": [
    "###  _ _ _ _ _ _ _ _ _ _ _ _ _ _ _ _ _ _ _ _ _ _ _ _ _ _ _ _ _ _ _ _ _ _ _ _ _ _ _ _ _ _ _ _ _ _ _ _ _ _ _ _  _ _ _    "
   ]
  },
  {
   "cell_type": "markdown",
   "id": "61b9eca4",
   "metadata": {},
   "source": [
    "### 1)  India"
   ]
  },
  {
   "cell_type": "code",
   "execution_count": 168,
   "id": "4570eeae",
   "metadata": {},
   "outputs": [
    {
     "data": {
      "text/html": [
       "<div>\n",
       "<style scoped>\n",
       "    .dataframe tbody tr th:only-of-type {\n",
       "        vertical-align: middle;\n",
       "    }\n",
       "\n",
       "    .dataframe tbody tr th {\n",
       "        vertical-align: top;\n",
       "    }\n",
       "\n",
       "    .dataframe thead th {\n",
       "        text-align: right;\n",
       "    }\n",
       "</style>\n",
       "<table border=\"1\" class=\"dataframe\">\n",
       "  <thead>\n",
       "    <tr style=\"text-align: right;\">\n",
       "      <th></th>\n",
       "      <th>City</th>\n",
       "      <th>Country</th>\n",
       "      <th>Landarea</th>\n",
       "      <th>Density</th>\n",
       "    </tr>\n",
       "  </thead>\n",
       "  <tbody>\n",
       "    <tr>\n",
       "      <th>50</th>\n",
       "      <td>delhi</td>\n",
       "      <td>India</td>\n",
       "      <td>1295</td>\n",
       "      <td>11050</td>\n",
       "    </tr>\n",
       "    <tr>\n",
       "      <th>156</th>\n",
       "      <td>hyderabad</td>\n",
       "      <td>India</td>\n",
       "      <td>583</td>\n",
       "      <td>9100</td>\n",
       "    </tr>\n",
       "    <tr>\n",
       "      <th>173</th>\n",
       "      <td>bangalore</td>\n",
       "      <td>India</td>\n",
       "      <td>534</td>\n",
       "      <td>10100</td>\n",
       "    </tr>\n",
       "    <tr>\n",
       "      <th>176</th>\n",
       "      <td>kolkata</td>\n",
       "      <td>India</td>\n",
       "      <td>531</td>\n",
       "      <td>23900</td>\n",
       "    </tr>\n",
       "    <tr>\n",
       "      <th>198</th>\n",
       "      <td>mumbai</td>\n",
       "      <td>India</td>\n",
       "      <td>484</td>\n",
       "      <td>29650</td>\n",
       "    </tr>\n",
       "    <tr>\n",
       "      <th>228</th>\n",
       "      <td>chennai</td>\n",
       "      <td>India</td>\n",
       "      <td>414</td>\n",
       "      <td>14350</td>\n",
       "    </tr>\n",
       "  </tbody>\n",
       "</table>\n",
       "</div>"
      ],
      "text/plain": [
       "          City Country  Landarea  Density\n",
       "50       delhi   India      1295    11050\n",
       "156  hyderabad   India       583     9100\n",
       "173  bangalore   India       534    10100\n",
       "176    kolkata   India       531    23900\n",
       "198     mumbai   India       484    29650\n",
       "228    chennai   India       414    14350"
      ]
     },
     "execution_count": 168,
     "metadata": {},
     "output_type": "execute_result"
    }
   ],
   "source": [
    "df31 = df[df['Country'].isin(['India'])]\n",
    "India=df31\n",
    "India"
   ]
  },
  {
   "cell_type": "code",
   "execution_count": 169,
   "id": "d6652900",
   "metadata": {},
   "outputs": [
    {
     "data": {
      "text/plain": [
       "6"
      ]
     },
     "execution_count": 169,
     "metadata": {},
     "output_type": "execute_result"
    }
   ],
   "source": [
    "len(India)"
   ]
  },
  {
   "cell_type": "code",
   "execution_count": 170,
   "id": "4d787ead",
   "metadata": {},
   "outputs": [
    {
     "data": {
      "text/plain": [
       "Int64Index([50, 156, 173, 176, 198, 228], dtype='int64')"
      ]
     },
     "execution_count": 170,
     "metadata": {},
     "output_type": "execute_result"
    }
   ],
   "source": [
    "India.index"
   ]
  },
  {
   "cell_type": "code",
   "execution_count": 171,
   "id": "82b87923",
   "metadata": {},
   "outputs": [
    {
     "data": {
      "text/plain": [
       "163.5"
      ]
     },
     "execution_count": 171,
     "metadata": {},
     "output_type": "execute_result"
    }
   ],
   "source": [
    "India_meanrank=(50+156+173+176+198+228)/6\n",
    "India_meanrank"
   ]
  },
  {
   "cell_type": "markdown",
   "id": "38d89373",
   "metadata": {},
   "source": [
    "## Average area of cities in india"
   ]
  },
  {
   "cell_type": "markdown",
   "id": "f3ab34a9",
   "metadata": {},
   "source": [
    "### 163\tpensacola\tUSA\t568(Area)\t550(Density)"
   ]
  },
  {
   "cell_type": "code",
   "execution_count": 374,
   "id": "5450a2a0",
   "metadata": {},
   "outputs": [
    {
     "data": {
      "text/plain": [
       "2.84"
      ]
     },
     "execution_count": 374,
     "metadata": {},
     "output_type": "execute_result"
    }
   ],
   "source": [
    "5.68*.5"
   ]
  },
  {
   "cell_type": "code",
   "execution_count": 375,
   "id": "57ef8c4a",
   "metadata": {},
   "outputs": [
    {
     "data": {
      "text/plain": [
       "570.84"
      ]
     },
     "execution_count": 375,
     "metadata": {},
     "output_type": "execute_result"
    }
   ],
   "source": [
    "568+2.84"
   ]
  },
  {
   "cell_type": "markdown",
   "id": "da20637e",
   "metadata": {},
   "source": [
    "## 161\tpalm bay\tUSA\t569(Area) 700(Density)"
   ]
  },
  {
   "cell_type": "markdown",
   "id": "7b5511d9",
   "metadata": {},
   "source": [
    "### _ _ _ _ _ _ _ _ _ _ _ _ _ _ _ _ _ _ _ _ _ _ _ _ _ _ _ _ _ _ _ _ _ _  _ _ _ _ _ _ _ _ _ _ _ _ _ _ _ _ _ _ _ _ _ _ _ _  _ _ _ _ "
   ]
  },
  {
   "cell_type": "markdown",
   "id": "fea6c605",
   "metadata": {},
   "source": [
    "### 2)  Australia"
   ]
  },
  {
   "cell_type": "code",
   "execution_count": 172,
   "id": "862e529b",
   "metadata": {},
   "outputs": [
    {
     "data": {
      "text/html": [
       "<div>\n",
       "<style scoped>\n",
       "    .dataframe tbody tr th:only-of-type {\n",
       "        vertical-align: middle;\n",
       "    }\n",
       "\n",
       "    .dataframe tbody tr th {\n",
       "        vertical-align: top;\n",
       "    }\n",
       "\n",
       "    .dataframe thead th {\n",
       "        text-align: right;\n",
       "    }\n",
       "</style>\n",
       "<table border=\"1\" class=\"dataframe\">\n",
       "  <thead>\n",
       "    <tr style=\"text-align: right;\">\n",
       "      <th></th>\n",
       "      <th>City</th>\n",
       "      <th>Country</th>\n",
       "      <th>Landarea</th>\n",
       "      <th>Density</th>\n",
       "    </tr>\n",
       "  </thead>\n",
       "  <tbody>\n",
       "    <tr>\n",
       "      <th>25</th>\n",
       "      <td>melbourne</td>\n",
       "      <td>Australia</td>\n",
       "      <td>2080</td>\n",
       "      <td>1500</td>\n",
       "    </tr>\n",
       "    <tr>\n",
       "      <th>34</th>\n",
       "      <td>sydney</td>\n",
       "      <td>Australia</td>\n",
       "      <td>1687</td>\n",
       "      <td>2100</td>\n",
       "    </tr>\n",
       "    <tr>\n",
       "      <th>39</th>\n",
       "      <td>brisbane</td>\n",
       "      <td>Australia</td>\n",
       "      <td>1603</td>\n",
       "      <td>950</td>\n",
       "    </tr>\n",
       "    <tr>\n",
       "      <th>76</th>\n",
       "      <td>perth</td>\n",
       "      <td>Australia</td>\n",
       "      <td>964</td>\n",
       "      <td>1200</td>\n",
       "    </tr>\n",
       "    <tr>\n",
       "      <th>112</th>\n",
       "      <td>adelaide</td>\n",
       "      <td>australia</td>\n",
       "      <td>729</td>\n",
       "      <td>1350</td>\n",
       "    </tr>\n",
       "    <tr>\n",
       "      <th>243</th>\n",
       "      <td>gold coast</td>\n",
       "      <td>Australia</td>\n",
       "      <td>383</td>\n",
       "      <td>1100</td>\n",
       "    </tr>\n",
       "  </tbody>\n",
       "</table>\n",
       "</div>"
      ],
      "text/plain": [
       "           City    Country  Landarea  Density\n",
       "25    melbourne  Australia      2080     1500\n",
       "34       sydney  Australia      1687     2100\n",
       "39     brisbane  Australia      1603      950\n",
       "76        perth  Australia       964     1200\n",
       "112    adelaide  australia       729     1350\n",
       "243  gold coast  Australia       383     1100"
      ]
     },
     "execution_count": 172,
     "metadata": {},
     "output_type": "execute_result"
    }
   ],
   "source": [
    "df32 = df[df['Country'].isin(['Australia',\"australia\"])]\n",
    "Australia=df32\n",
    "Australia"
   ]
  },
  {
   "cell_type": "code",
   "execution_count": 173,
   "id": "e9ee03f5",
   "metadata": {},
   "outputs": [
    {
     "data": {
      "text/plain": [
       "Int64Index([25, 34, 39, 76, 112, 243], dtype='int64')"
      ]
     },
     "execution_count": 173,
     "metadata": {},
     "output_type": "execute_result"
    }
   ],
   "source": [
    "Australia.index"
   ]
  },
  {
   "cell_type": "code",
   "execution_count": 174,
   "id": "d0f09a36",
   "metadata": {},
   "outputs": [
    {
     "data": {
      "text/plain": [
       "6"
      ]
     },
     "execution_count": 174,
     "metadata": {},
     "output_type": "execute_result"
    }
   ],
   "source": [
    "len(Australia)"
   ]
  },
  {
   "cell_type": "code",
   "execution_count": 175,
   "id": "7cf0e0db",
   "metadata": {},
   "outputs": [
    {
     "data": {
      "text/plain": [
       "88.16666666666667"
      ]
     },
     "execution_count": 175,
     "metadata": {},
     "output_type": "execute_result"
    }
   ],
   "source": [
    "Australia_meanrank=(25+34+39+76+112+243)/6\n",
    "Australia_meanrank"
   ]
  },
  {
   "cell_type": "markdown",
   "id": "fb00debf",
   "metadata": {},
   "source": [
    "## Average area of cities in Australia"
   ]
  },
  {
   "cell_type": "markdown",
   "id": "8d0f5239",
   "metadata": {},
   "source": [
    "### 88\tdurban\tSouth Africa\t829(Area)\t3500(Density)"
   ]
  },
  {
   "cell_type": "code",
   "execution_count": 378,
   "id": "30c538dc",
   "metadata": {},
   "outputs": [
    {
     "data": {
      "text/plain": [
       "1.3816666666666941"
      ]
     },
     "execution_count": 378,
     "metadata": {},
     "output_type": "execute_result"
    }
   ],
   "source": [
    "8.29*.16666666666667"
   ]
  },
  {
   "cell_type": "code",
   "execution_count": 379,
   "id": "324d93b4",
   "metadata": {},
   "outputs": [
    {
     "data": {
      "text/plain": [
       "830.3816666666667"
      ]
     },
     "execution_count": 379,
     "metadata": {},
     "output_type": "execute_result"
    }
   ],
   "source": [
    "829+1.3816666666666941"
   ]
  },
  {
   "cell_type": "markdown",
   "id": "31f85095",
   "metadata": {},
   "source": [
    "###  _ _ _ _ _ _ _ _ _ _ _ _ _ _ _ _ _ _ _ _ _ _ _ _ _ _ _ _ _ _ _ _ _ _ _ _ _ _ _ _ _ _ _ _ _ _ _ _ _ _ _ _ _ _ _ _ _ _ "
   ]
  },
  {
   "cell_type": "markdown",
   "id": "df70656d",
   "metadata": {},
   "source": [
    "###  3 ) China"
   ]
  },
  {
   "cell_type": "code",
   "execution_count": 176,
   "id": "8494af4c",
   "metadata": {},
   "outputs": [
    {
     "data": {
      "text/html": [
       "<div>\n",
       "<style scoped>\n",
       "    .dataframe tbody tr th:only-of-type {\n",
       "        vertical-align: middle;\n",
       "    }\n",
       "\n",
       "    .dataframe tbody tr th {\n",
       "        vertical-align: top;\n",
       "    }\n",
       "\n",
       "    .dataframe thead th {\n",
       "        text-align: right;\n",
       "    }\n",
       "</style>\n",
       "<table border=\"1\" class=\"dataframe\">\n",
       "  <thead>\n",
       "    <tr style=\"text-align: right;\">\n",
       "      <th></th>\n",
       "      <th>City</th>\n",
       "      <th>Country</th>\n",
       "      <th>Landarea</th>\n",
       "      <th>Density</th>\n",
       "    </tr>\n",
       "  </thead>\n",
       "  <tbody>\n",
       "    <tr>\n",
       "      <th>105</th>\n",
       "      <td>beijing</td>\n",
       "      <td>china</td>\n",
       "      <td>748</td>\n",
       "      <td>11500</td>\n",
       "    </tr>\n",
       "    <tr>\n",
       "      <th>106</th>\n",
       "      <td>shanghai</td>\n",
       "      <td>china</td>\n",
       "      <td>746</td>\n",
       "      <td>13400</td>\n",
       "    </tr>\n",
       "    <tr>\n",
       "      <th>209</th>\n",
       "      <td>shenzhen</td>\n",
       "      <td>China</td>\n",
       "      <td>466</td>\n",
       "      <td>17150</td>\n",
       "    </tr>\n",
       "    <tr>\n",
       "      <th>215</th>\n",
       "      <td>shenyang</td>\n",
       "      <td>China</td>\n",
       "      <td>453</td>\n",
       "      <td>9250</td>\n",
       "    </tr>\n",
       "    <tr>\n",
       "      <th>217</th>\n",
       "      <td>tianjin</td>\n",
       "      <td>China</td>\n",
       "      <td>453</td>\n",
       "      <td>10500</td>\n",
       "    </tr>\n",
       "    <tr>\n",
       "      <th>240</th>\n",
       "      <td>dalian</td>\n",
       "      <td>China</td>\n",
       "      <td>389</td>\n",
       "      <td>7100</td>\n",
       "    </tr>\n",
       "  </tbody>\n",
       "</table>\n",
       "</div>"
      ],
      "text/plain": [
       "         City Country  Landarea  Density\n",
       "105   beijing   china       748    11500\n",
       "106  shanghai   china       746    13400\n",
       "209  shenzhen   China       466    17150\n",
       "215  shenyang   China       453     9250\n",
       "217   tianjin   China       453    10500\n",
       "240    dalian   China       389     7100"
      ]
     },
     "execution_count": 176,
     "metadata": {},
     "output_type": "execute_result"
    }
   ],
   "source": [
    "df37 = df[df['Country'].isin(['China',\"china\"])]\n",
    "China=df37\n",
    "China"
   ]
  },
  {
   "cell_type": "code",
   "execution_count": 177,
   "id": "878b6d88",
   "metadata": {},
   "outputs": [
    {
     "data": {
      "text/plain": [
       "Int64Index([105, 106, 209, 215, 217, 240], dtype='int64')"
      ]
     },
     "execution_count": 177,
     "metadata": {},
     "output_type": "execute_result"
    }
   ],
   "source": [
    "China.index"
   ]
  },
  {
   "cell_type": "code",
   "execution_count": 178,
   "id": "a54b2964",
   "metadata": {},
   "outputs": [
    {
     "data": {
      "text/plain": [
       "6"
      ]
     },
     "execution_count": 178,
     "metadata": {},
     "output_type": "execute_result"
    }
   ],
   "source": [
    "len(China)"
   ]
  },
  {
   "cell_type": "code",
   "execution_count": 179,
   "id": "001d7f9f",
   "metadata": {},
   "outputs": [
    {
     "data": {
      "text/plain": [
       "182.0"
      ]
     },
     "execution_count": 179,
     "metadata": {},
     "output_type": "execute_result"
    }
   ],
   "source": [
    "China_meanrank=(105+106+209+215+217+240)/6\n",
    "China_meanrank"
   ]
  },
  {
   "cell_type": "markdown",
   "id": "3e2e4e1b",
   "metadata": {},
   "source": [
    "## Average area of cities in China"
   ]
  },
  {
   "cell_type": "markdown",
   "id": "a98c8797",
   "metadata": {},
   "source": [
    "#### 180 bogota\tColombia\t518(Area)\t13500(Density)\n",
    "#### 181 hochi minh city\tVietnam\t518(Area)\t9450(Density)\n",
    "### 182\tkarachi\tPakistan\t518(Area)\t8900(Density)\n",
    "#### 183  munichi\tGermany\t518(Area)\t3100(Density)\n",
    "#### 184  phnompenh\tCambodia\t518(Area)\t2900(Density)\n",
    "#### 185  stockholm\tSweden\t518(Area)\t2700(Density)"
   ]
  },
  {
   "cell_type": "markdown",
   "id": "be36f546",
   "metadata": {},
   "source": [
    "### _ _ _ _ _ _ _ _ _ _ _ _ _ _ _ _  _ _ _ _ _ _ _ _ _ _ _ _ _ _ _ _ _ _ _ _ _ _ _ _ _ _ _ _ _ _ _ _ _ _ _ _ _ _ _  _ _ _ _ _"
   ]
  },
  {
   "cell_type": "markdown",
   "id": "4d20624e",
   "metadata": {},
   "source": [
    "### 4) South Africa"
   ]
  },
  {
   "cell_type": "code",
   "execution_count": 180,
   "id": "ee4a8513",
   "metadata": {},
   "outputs": [
    {
     "data": {
      "text/html": [
       "<div>\n",
       "<style scoped>\n",
       "    .dataframe tbody tr th:only-of-type {\n",
       "        vertical-align: middle;\n",
       "    }\n",
       "\n",
       "    .dataframe tbody tr th {\n",
       "        vertical-align: top;\n",
       "    }\n",
       "\n",
       "    .dataframe thead th {\n",
       "        text-align: right;\n",
       "    }\n",
       "</style>\n",
       "<table border=\"1\" class=\"dataframe\">\n",
       "  <thead>\n",
       "    <tr style=\"text-align: right;\">\n",
       "      <th></th>\n",
       "      <th>City</th>\n",
       "      <th>Country</th>\n",
       "      <th>Landarea</th>\n",
       "      <th>Density</th>\n",
       "    </tr>\n",
       "  </thead>\n",
       "  <tbody>\n",
       "    <tr>\n",
       "      <th>18</th>\n",
       "      <td>johannesburg/east round</td>\n",
       "      <td>South Africa</td>\n",
       "      <td>2396</td>\n",
       "      <td>2500</td>\n",
       "    </tr>\n",
       "    <tr>\n",
       "      <th>88</th>\n",
       "      <td>durban</td>\n",
       "      <td>South Africa</td>\n",
       "      <td>829</td>\n",
       "      <td>3500</td>\n",
       "    </tr>\n",
       "    <tr>\n",
       "      <th>123</th>\n",
       "      <td>cape town</td>\n",
       "      <td>south africa</td>\n",
       "      <td>686</td>\n",
       "      <td>3950</td>\n",
       "    </tr>\n",
       "    <tr>\n",
       "      <th>130</th>\n",
       "      <td>pretoria</td>\n",
       "      <td>South Africa</td>\n",
       "      <td>673</td>\n",
       "      <td>2750</td>\n",
       "    </tr>\n",
       "    <tr>\n",
       "      <th>204</th>\n",
       "      <td>vereeniging</td>\n",
       "      <td>South Africa</td>\n",
       "      <td>479</td>\n",
       "      <td>1250</td>\n",
       "    </tr>\n",
       "    <tr>\n",
       "      <th>225</th>\n",
       "      <td>port elizabeth</td>\n",
       "      <td>South Africa</td>\n",
       "      <td>427</td>\n",
       "      <td>2100</td>\n",
       "    </tr>\n",
       "  </tbody>\n",
       "</table>\n",
       "</div>"
      ],
      "text/plain": [
       "                        City       Country  Landarea  Density\n",
       "18   johannesburg/east round  South Africa      2396     2500\n",
       "88                    durban  South Africa       829     3500\n",
       "123                cape town  south africa       686     3950\n",
       "130                 pretoria  South Africa       673     2750\n",
       "204              vereeniging  South Africa       479     1250\n",
       "225           port elizabeth  South Africa       427     2100"
      ]
     },
     "execution_count": 180,
     "metadata": {},
     "output_type": "execute_result"
    }
   ],
   "source": [
    "df35 = df[df['Country'].isin(['South Africa',\"south africa\"])]\n",
    "South_Africa=df35\n",
    "South_Africa"
   ]
  },
  {
   "cell_type": "code",
   "execution_count": 181,
   "id": "ddae9ad6",
   "metadata": {},
   "outputs": [
    {
     "data": {
      "text/plain": [
       "Int64Index([18, 88, 123, 130, 204, 225], dtype='int64')"
      ]
     },
     "execution_count": 181,
     "metadata": {},
     "output_type": "execute_result"
    }
   ],
   "source": [
    "South_Africa.index"
   ]
  },
  {
   "cell_type": "code",
   "execution_count": 182,
   "id": "b38b7139",
   "metadata": {},
   "outputs": [
    {
     "data": {
      "text/plain": [
       "6"
      ]
     },
     "execution_count": 182,
     "metadata": {},
     "output_type": "execute_result"
    }
   ],
   "source": [
    "len(South_Africa)"
   ]
  },
  {
   "cell_type": "code",
   "execution_count": 183,
   "id": "ef492da3",
   "metadata": {},
   "outputs": [
    {
     "data": {
      "text/plain": [
       "131.33333333333334"
      ]
     },
     "execution_count": 183,
     "metadata": {},
     "output_type": "execute_result"
    }
   ],
   "source": [
    "South_Africa_meanrank=(18+88+123+130+204+225)/6\n",
    "South_Africa_meanrank"
   ]
  },
  {
   "cell_type": "markdown",
   "id": "f2cdfc0f",
   "metadata": {},
   "source": [
    "## Average area of cities in South Africa"
   ]
  },
  {
   "cell_type": "markdown",
   "id": "19d01e29",
   "metadata": {},
   "source": [
    "### 131\tquebec\tcanada\t669(Area)\t950(Density)"
   ]
  },
  {
   "cell_type": "code",
   "execution_count": 381,
   "id": "14ed8b0c",
   "metadata": {},
   "outputs": [
    {
     "data": {
      "text/plain": [
       "0.43666666666667536"
      ]
     },
     "execution_count": 381,
     "metadata": {},
     "output_type": "execute_result"
    }
   ],
   "source": [
    "1.31*.33333333333334"
   ]
  },
  {
   "cell_type": "code",
   "execution_count": 382,
   "id": "2fe1092f",
   "metadata": {},
   "outputs": [
    {
     "data": {
      "text/plain": [
       "669.4366666666667"
      ]
     },
     "execution_count": 382,
     "metadata": {},
     "output_type": "execute_result"
    }
   ],
   "source": [
    "669+0.43666666666667536"
   ]
  },
  {
   "cell_type": "markdown",
   "id": "0cefe870",
   "metadata": {},
   "source": [
    "### _ _ _ _ _ _ _ _ _ _ _ _ _ _ _ _  _ _ _ _ _ _ _ _ _ _ _ _ _ _ _ _ _ _ _ _ _ _ _ _ _ _ _ _ _ _ _ _ _ _ _ _ _ _ _  _ _ _ _ _"
   ]
  },
  {
   "cell_type": "markdown",
   "id": "b17adebf",
   "metadata": {},
   "source": [
    "## Countries with 5 Cities"
   ]
  },
  {
   "cell_type": "markdown",
   "id": "72cdc30a",
   "metadata": {},
   "source": [
    "### _ _ _ _ _ _ _ _ _ _ _ _ _ _ _ _  _ _ _ _ _ _ _ _ _ _ _ _ _ _ _ _ _ _ _ _ _ _ _ _ _ _ _ _ _ _ _ _ _ _ _ _ _ _ _  _ _ _ _ _"
   ]
  },
  {
   "cell_type": "markdown",
   "id": "cc6a5873",
   "metadata": {},
   "source": [
    "### 1) UK"
   ]
  },
  {
   "cell_type": "code",
   "execution_count": 184,
   "id": "d0d44427",
   "metadata": {},
   "outputs": [
    {
     "data": {
      "text/html": [
       "<div>\n",
       "<style scoped>\n",
       "    .dataframe tbody tr th:only-of-type {\n",
       "        vertical-align: middle;\n",
       "    }\n",
       "\n",
       "    .dataframe tbody tr th {\n",
       "        vertical-align: top;\n",
       "    }\n",
       "\n",
       "    .dataframe thead th {\n",
       "        text-align: right;\n",
       "    }\n",
       "</style>\n",
       "<table border=\"1\" class=\"dataframe\">\n",
       "  <thead>\n",
       "    <tr style=\"text-align: right;\">\n",
       "      <th></th>\n",
       "      <th>City</th>\n",
       "      <th>Country</th>\n",
       "      <th>Landarea</th>\n",
       "      <th>Density</th>\n",
       "    </tr>\n",
       "  </thead>\n",
       "  <tbody>\n",
       "    <tr>\n",
       "      <th>37</th>\n",
       "      <td>london</td>\n",
       "      <td>UK</td>\n",
       "      <td>1623</td>\n",
       "      <td>5100</td>\n",
       "    </tr>\n",
       "    <tr>\n",
       "      <th>142</th>\n",
       "      <td>birmingham</td>\n",
       "      <td>UK</td>\n",
       "      <td>600</td>\n",
       "      <td>3800</td>\n",
       "    </tr>\n",
       "    <tr>\n",
       "      <th>164</th>\n",
       "      <td>manchester</td>\n",
       "      <td>UK</td>\n",
       "      <td>558</td>\n",
       "      <td>4000</td>\n",
       "    </tr>\n",
       "    <tr>\n",
       "      <th>248</th>\n",
       "      <td>leeds/bradford</td>\n",
       "      <td>UK</td>\n",
       "      <td>370</td>\n",
       "      <td>4050</td>\n",
       "    </tr>\n",
       "    <tr>\n",
       "      <th>249</th>\n",
       "      <td>Glasgow</td>\n",
       "      <td>UK</td>\n",
       "      <td>368</td>\n",
       "      <td>3250</td>\n",
       "    </tr>\n",
       "  </tbody>\n",
       "</table>\n",
       "</div>"
      ],
      "text/plain": [
       "               City Country  Landarea  Density\n",
       "37           london      UK      1623     5100\n",
       "142      birmingham      UK       600     3800\n",
       "164      manchester      UK       558     4000\n",
       "248  leeds/bradford      UK       370     4050\n",
       "249         Glasgow      UK       368     3250"
      ]
     },
     "execution_count": 184,
     "metadata": {},
     "output_type": "execute_result"
    }
   ],
   "source": [
    "df33 = df[df['Country'].isin(['UK'])]\n",
    "UK=df33\n",
    "UK"
   ]
  },
  {
   "cell_type": "code",
   "execution_count": 185,
   "id": "6213100e",
   "metadata": {},
   "outputs": [
    {
     "data": {
      "text/plain": [
       "Int64Index([37, 142, 164, 248, 249], dtype='int64')"
      ]
     },
     "execution_count": 185,
     "metadata": {},
     "output_type": "execute_result"
    }
   ],
   "source": [
    "UK.index"
   ]
  },
  {
   "cell_type": "code",
   "execution_count": 186,
   "id": "2c5347e5",
   "metadata": {},
   "outputs": [
    {
     "data": {
      "text/plain": [
       "5"
      ]
     },
     "execution_count": 186,
     "metadata": {},
     "output_type": "execute_result"
    }
   ],
   "source": [
    "len(UK)"
   ]
  },
  {
   "cell_type": "code",
   "execution_count": 187,
   "id": "62329144",
   "metadata": {},
   "outputs": [
    {
     "data": {
      "text/plain": [
       "168.0"
      ]
     },
     "execution_count": 187,
     "metadata": {},
     "output_type": "execute_result"
    }
   ],
   "source": [
    "UK_meanrank=(37+142+164+248+249)/5\n",
    "UK_meanrank"
   ]
  },
  {
   "cell_type": "markdown",
   "id": "71b344fa",
   "metadata": {},
   "source": [
    "## Average area of Cities in UK"
   ]
  },
  {
   "cell_type": "markdown",
   "id": "4dfcc954",
   "metadata": {},
   "source": [
    "#### 167\tbaku/sumqaxit\tAzerbaijan\t544(Area)\t3850(Density)\n",
    "### 168\tfukuoka\tJapan\t544(Area)\t3950(Density)\n",
    "#### 169 katowice\tPoland\t544(Area)\t4050(Density)\n",
    "#### 170 kuwait\tKuwait\t544(Area) 2950(Density)"
   ]
  },
  {
   "cell_type": "markdown",
   "id": "781020e7",
   "metadata": {},
   "source": [
    "### _ _ _ _ _ _ _ _ _ _ _ _ _ _ _ _  _ _ _ _ _ _ _ _ _ _ _ _ _ _ _ _ _ _ _ _ _ _ _ _ _ _ _ _ _ _ _ _ _ _ _ _ _ _ _  _ _ _ _ _"
   ]
  },
  {
   "cell_type": "markdown",
   "id": "0a930423",
   "metadata": {},
   "source": [
    "### 2) Japan"
   ]
  },
  {
   "cell_type": "code",
   "execution_count": 188,
   "id": "da53d3e2",
   "metadata": {},
   "outputs": [
    {
     "data": {
      "text/html": [
       "<div>\n",
       "<style scoped>\n",
       "    .dataframe tbody tr th:only-of-type {\n",
       "        vertical-align: middle;\n",
       "    }\n",
       "\n",
       "    .dataframe tbody tr th {\n",
       "        vertical-align: top;\n",
       "    }\n",
       "\n",
       "    .dataframe thead th {\n",
       "        text-align: right;\n",
       "    }\n",
       "</style>\n",
       "<table border=\"1\" class=\"dataframe\">\n",
       "  <thead>\n",
       "    <tr style=\"text-align: right;\">\n",
       "      <th></th>\n",
       "      <th>City</th>\n",
       "      <th>Country</th>\n",
       "      <th>Landarea</th>\n",
       "      <th>Density</th>\n",
       "    </tr>\n",
       "  </thead>\n",
       "  <tbody>\n",
       "    <tr>\n",
       "      <th>2</th>\n",
       "      <td>Yokyo / yokohana</td>\n",
       "      <td>Japan</td>\n",
       "      <td>6993</td>\n",
       "      <td>4750</td>\n",
       "    </tr>\n",
       "    <tr>\n",
       "      <th>13</th>\n",
       "      <td>nagoya</td>\n",
       "      <td>Japan</td>\n",
       "      <td>2875</td>\n",
       "      <td>3150</td>\n",
       "    </tr>\n",
       "    <tr>\n",
       "      <th>16</th>\n",
       "      <td>osaka/kobe/kyoto</td>\n",
       "      <td>Japan</td>\n",
       "      <td>2664</td>\n",
       "      <td>6400</td>\n",
       "    </tr>\n",
       "    <tr>\n",
       "      <th>168</th>\n",
       "      <td>fukuoka</td>\n",
       "      <td>Japan</td>\n",
       "      <td>544</td>\n",
       "      <td>3950</td>\n",
       "    </tr>\n",
       "    <tr>\n",
       "      <th>229</th>\n",
       "      <td>sapporo</td>\n",
       "      <td>Japan</td>\n",
       "      <td>414</td>\n",
       "      <td>5000</td>\n",
       "    </tr>\n",
       "  </tbody>\n",
       "</table>\n",
       "</div>"
      ],
      "text/plain": [
       "                 City Country  Landarea  Density\n",
       "2    Yokyo / yokohana   Japan      6993     4750\n",
       "13             nagoya   Japan      2875     3150\n",
       "16   osaka/kobe/kyoto   Japan      2664     6400\n",
       "168           fukuoka   Japan       544     3950\n",
       "229           sapporo   Japan       414     5000"
      ]
     },
     "execution_count": 188,
     "metadata": {},
     "output_type": "execute_result"
    }
   ],
   "source": [
    "df34 = df[df['Country'].isin(['Japan'])]\n",
    "Japan=df34\n",
    "Japan"
   ]
  },
  {
   "cell_type": "code",
   "execution_count": 189,
   "id": "d150bf8f",
   "metadata": {},
   "outputs": [
    {
     "data": {
      "text/plain": [
       "Int64Index([2, 13, 16, 168, 229], dtype='int64')"
      ]
     },
     "execution_count": 189,
     "metadata": {},
     "output_type": "execute_result"
    }
   ],
   "source": [
    "Japan.index"
   ]
  },
  {
   "cell_type": "code",
   "execution_count": 388,
   "id": "ce75bd78",
   "metadata": {},
   "outputs": [
    {
     "data": {
      "text/plain": [
       "<bound method NDFrame._add_numeric_operations.<locals>.mean of 2      6993\n",
       "13     2875\n",
       "16     2664\n",
       "168     544\n",
       "229     414\n",
       "Name: Landarea, dtype: int32>"
      ]
     },
     "execution_count": 388,
     "metadata": {},
     "output_type": "execute_result"
    }
   ],
   "source": []
  },
  {
   "cell_type": "code",
   "execution_count": 190,
   "id": "d99b8ed8",
   "metadata": {},
   "outputs": [
    {
     "data": {
      "text/plain": [
       "5"
      ]
     },
     "execution_count": 190,
     "metadata": {},
     "output_type": "execute_result"
    }
   ],
   "source": [
    "len(Japan)"
   ]
  },
  {
   "cell_type": "code",
   "execution_count": 191,
   "id": "4f40ab96",
   "metadata": {},
   "outputs": [
    {
     "data": {
      "text/plain": [
       "85.6"
      ]
     },
     "execution_count": 191,
     "metadata": {},
     "output_type": "execute_result"
    }
   ],
   "source": [
    "Japan_meanrank=(2+13+16+168+229)/5\n",
    "Japan_meanrank"
   ]
  },
  {
   "cell_type": "markdown",
   "id": "3f706e88",
   "metadata": {},
   "source": [
    "## Average area of cities in Japan"
   ]
  },
  {
   "cell_type": "markdown",
   "id": "3385f1dc",
   "metadata": {},
   "source": [
    "### 85\trome\tItaly\t842(Area)\t2950(Density)"
   ]
  },
  {
   "cell_type": "code",
   "execution_count": 385,
   "id": "cb6139bb",
   "metadata": {},
   "outputs": [
    {
     "data": {
      "text/plain": [
       "5.052"
      ]
     },
     "execution_count": 385,
     "metadata": {},
     "output_type": "execute_result"
    }
   ],
   "source": [
    "8.42*0.6\n"
   ]
  },
  {
   "cell_type": "code",
   "execution_count": 386,
   "id": "515e3b0c",
   "metadata": {},
   "outputs": [
    {
     "data": {
      "text/plain": [
       "847.052"
      ]
     },
     "execution_count": 386,
     "metadata": {},
     "output_type": "execute_result"
    }
   ],
   "source": [
    "842+5.052"
   ]
  },
  {
   "cell_type": "markdown",
   "id": "f6e3635a",
   "metadata": {},
   "source": [
    "### 84\tedmonton\tCanada\t850(Area) 900(Density)"
   ]
  },
  {
   "cell_type": "code",
   "execution_count": 396,
   "id": "f296c675",
   "metadata": {},
   "outputs": [],
   "source": [
    "# Japan_Mean = Japan[[\"Landarea\"]].mean()\n",
    "# Japan_Mean"
   ]
  },
  {
   "cell_type": "code",
   "execution_count": 395,
   "id": "6bc3b6b5",
   "metadata": {},
   "outputs": [],
   "source": [
    "# Japan_Mean = Japan[[\"Landarea\"]].median()\n",
    "# Japan_Mean"
   ]
  },
  {
   "cell_type": "code",
   "execution_count": 394,
   "id": "eece1e3d",
   "metadata": {},
   "outputs": [],
   "source": [
    "# Japan_Mean = Japan[[\"Landarea\"]].mode()\n",
    "# Japan_Mean"
   ]
  },
  {
   "cell_type": "markdown",
   "id": "2c890802",
   "metadata": {},
   "source": [
    "###  _ _ _ _ _ _ _ _ _ _ _ _ _ _ _ _ _ _ _ _ _ _ _ _ _ _ _ _ _ _ _ _ _ _ _ _ _ _ _ _ _ _ _ _ _ _ _ _ _ _ _ _ _ _ "
   ]
  },
  {
   "cell_type": "markdown",
   "id": "7f83a963",
   "metadata": {},
   "source": [
    "### Italy (4 cities)"
   ]
  },
  {
   "cell_type": "code",
   "execution_count": 192,
   "id": "e1da1053",
   "metadata": {},
   "outputs": [
    {
     "data": {
      "text/html": [
       "<div>\n",
       "<style scoped>\n",
       "    .dataframe tbody tr th:only-of-type {\n",
       "        vertical-align: middle;\n",
       "    }\n",
       "\n",
       "    .dataframe tbody tr th {\n",
       "        vertical-align: top;\n",
       "    }\n",
       "\n",
       "    .dataframe thead th {\n",
       "        text-align: right;\n",
       "    }\n",
       "</style>\n",
       "<table border=\"1\" class=\"dataframe\">\n",
       "  <thead>\n",
       "    <tr style=\"text-align: right;\">\n",
       "      <th></th>\n",
       "      <th>City</th>\n",
       "      <th>Country</th>\n",
       "      <th>Landarea</th>\n",
       "      <th>Density</th>\n",
       "    </tr>\n",
       "  </thead>\n",
       "  <tbody>\n",
       "    <tr>\n",
       "      <th>41</th>\n",
       "      <td>milan</td>\n",
       "      <td>Italy</td>\n",
       "      <td>1554</td>\n",
       "      <td>2750</td>\n",
       "    </tr>\n",
       "    <tr>\n",
       "      <th>85</th>\n",
       "      <td>rome</td>\n",
       "      <td>Italy</td>\n",
       "      <td>842</td>\n",
       "      <td>2950</td>\n",
       "    </tr>\n",
       "    <tr>\n",
       "      <th>158</th>\n",
       "      <td>naples</td>\n",
       "      <td>Italy</td>\n",
       "      <td>583</td>\n",
       "      <td>4100</td>\n",
       "    </tr>\n",
       "    <tr>\n",
       "      <th>193</th>\n",
       "      <td>turin</td>\n",
       "      <td>Italy</td>\n",
       "      <td>500</td>\n",
       "      <td>2700</td>\n",
       "    </tr>\n",
       "  </tbody>\n",
       "</table>\n",
       "</div>"
      ],
      "text/plain": [
       "       City Country  Landarea  Density\n",
       "41    milan   Italy      1554     2750\n",
       "85     rome   Italy       842     2950\n",
       "158  naples   Italy       583     4100\n",
       "193   turin   Italy       500     2700"
      ]
     },
     "execution_count": 192,
     "metadata": {},
     "output_type": "execute_result"
    }
   ],
   "source": [
    "df36 = df[df['Country'].isin(['Italy'])]\n",
    "Italy=df36\n",
    "Italy"
   ]
  },
  {
   "cell_type": "code",
   "execution_count": 193,
   "id": "85a98bb9",
   "metadata": {},
   "outputs": [
    {
     "data": {
      "text/plain": [
       "Int64Index([41, 85, 158, 193], dtype='int64')"
      ]
     },
     "execution_count": 193,
     "metadata": {},
     "output_type": "execute_result"
    }
   ],
   "source": [
    "Italy.index"
   ]
  },
  {
   "cell_type": "code",
   "execution_count": 194,
   "id": "d80aa90b",
   "metadata": {},
   "outputs": [
    {
     "data": {
      "text/plain": [
       "119.25"
      ]
     },
     "execution_count": 194,
     "metadata": {},
     "output_type": "execute_result"
    }
   ],
   "source": [
    "Italy_meanrank=(41+85+158+193)/4\n",
    "Italy_meanrank"
   ]
  },
  {
   "cell_type": "markdown",
   "id": "aad0fbb2",
   "metadata": {},
   "source": [
    "## Average area of cities in Italy"
   ]
  },
  {
   "cell_type": "markdown",
   "id": "caf7a19f",
   "metadata": {},
   "source": [
    "### 119\tbudapest\thungry\t702(Area)\t2550(Density)\n",
    "#### 120\tcalgary\tcanada\t702(Area)\t1250(Density)"
   ]
  },
  {
   "cell_type": "code",
   "execution_count": 398,
   "id": "d3188a2d",
   "metadata": {},
   "outputs": [
    {
     "data": {
      "text/plain": [
       "1.755"
      ]
     },
     "execution_count": 398,
     "metadata": {},
     "output_type": "execute_result"
    }
   ],
   "source": [
    "7.02*.25"
   ]
  },
  {
   "cell_type": "code",
   "execution_count": 399,
   "id": "b8e0f3fe",
   "metadata": {},
   "outputs": [
    {
     "data": {
      "text/plain": [
       "703.755"
      ]
     },
     "execution_count": 399,
     "metadata": {},
     "output_type": "execute_result"
    }
   ],
   "source": [
    "702+1.755"
   ]
  },
  {
   "cell_type": "markdown",
   "id": "accea27b",
   "metadata": {},
   "source": [
    "###  _ _ _ _ _ _ _ _ _ _ _ _ _ _ _ _ _ _ _ _ _ _ _ _ _ _ _ _ _ _ _ _ _ _ _ _ _ _ _ _ _ _ _ _ _ _ _ _ _ _ _ _ _ _ "
   ]
  },
  {
   "cell_type": "markdown",
   "id": "471b895a",
   "metadata": {},
   "source": [
    "### Countries with 3 Cities"
   ]
  },
  {
   "cell_type": "markdown",
   "id": "c60f9841",
   "metadata": {},
   "source": [
    "###  _ _ _ _ _ _ _ _ _ _ _ _ _ _ _ _ _ _ _ _ _ _ _ _ _ _ _ _ _ _ _ _ _ _ _ _ _ _ _ _ _ _ _ _ _ _ _ _ _ _ _ _ _ _ "
   ]
  },
  {
   "cell_type": "markdown",
   "id": "783df744",
   "metadata": {},
   "source": [
    "### 1) Mexico"
   ]
  },
  {
   "cell_type": "code",
   "execution_count": 195,
   "id": "8c913a25",
   "metadata": {},
   "outputs": [
    {
     "data": {
      "text/html": [
       "<div>\n",
       "<style scoped>\n",
       "    .dataframe tbody tr th:only-of-type {\n",
       "        vertical-align: middle;\n",
       "    }\n",
       "\n",
       "    .dataframe tbody tr th {\n",
       "        vertical-align: top;\n",
       "    }\n",
       "\n",
       "    .dataframe thead th {\n",
       "        text-align: right;\n",
       "    }\n",
       "</style>\n",
       "<table border=\"1\" class=\"dataframe\">\n",
       "  <thead>\n",
       "    <tr style=\"text-align: right;\">\n",
       "      <th></th>\n",
       "      <th>City</th>\n",
       "      <th>Country</th>\n",
       "      <th>Landarea</th>\n",
       "      <th>Density</th>\n",
       "    </tr>\n",
       "  </thead>\n",
       "  <tbody>\n",
       "    <tr>\n",
       "      <th>27</th>\n",
       "      <td>mexico city</td>\n",
       "      <td>Mexico</td>\n",
       "      <td>2072</td>\n",
       "      <td>8400</td>\n",
       "    </tr>\n",
       "    <tr>\n",
       "      <th>148</th>\n",
       "      <td>guadalajara</td>\n",
       "      <td>Mexico</td>\n",
       "      <td>596</td>\n",
       "      <td>5900</td>\n",
       "    </tr>\n",
       "    <tr>\n",
       "      <th>201</th>\n",
       "      <td>monterey</td>\n",
       "      <td>Mexico</td>\n",
       "      <td>479</td>\n",
       "      <td>6700</td>\n",
       "    </tr>\n",
       "  </tbody>\n",
       "</table>\n",
       "</div>"
      ],
      "text/plain": [
       "            City Country  Landarea  Density\n",
       "27   mexico city  Mexico      2072     8400\n",
       "148  guadalajara  Mexico       596     5900\n",
       "201     monterey  Mexico       479     6700"
      ]
     },
     "execution_count": 195,
     "metadata": {},
     "output_type": "execute_result"
    }
   ],
   "source": [
    "df38 = df[df['Country'].isin(['Mexico'])]\n",
    "Mexico=df38\n",
    "Mexico"
   ]
  },
  {
   "cell_type": "code",
   "execution_count": 196,
   "id": "735bc380",
   "metadata": {},
   "outputs": [
    {
     "data": {
      "text/plain": [
       "Int64Index([27, 148, 201], dtype='int64')"
      ]
     },
     "execution_count": 196,
     "metadata": {},
     "output_type": "execute_result"
    }
   ],
   "source": [
    "Mexico.index"
   ]
  },
  {
   "cell_type": "code",
   "execution_count": 197,
   "id": "d53fe279",
   "metadata": {},
   "outputs": [
    {
     "data": {
      "text/plain": [
       "3"
      ]
     },
     "execution_count": 197,
     "metadata": {},
     "output_type": "execute_result"
    }
   ],
   "source": [
    "len(Mexico)"
   ]
  },
  {
   "cell_type": "code",
   "execution_count": 198,
   "id": "557946a5",
   "metadata": {},
   "outputs": [
    {
     "data": {
      "text/plain": [
       "125.33333333333333"
      ]
     },
     "execution_count": 198,
     "metadata": {},
     "output_type": "execute_result"
    }
   ],
   "source": [
    "Mexico_meanrank=(27+148+201)/3\n",
    "Mexico_meanrank"
   ]
  },
  {
   "cell_type": "markdown",
   "id": "f2118834",
   "metadata": {},
   "source": [
    "### _ _ _ _ _ __ _ _ _ _ _ _ _ _ _ _ _ _ _ _  _ _ _ _ _ _ _ _ _ _ _ _ _ _ _ _ _ _ _ _ _ _ _ _ _ _ _ _ _  _ _ _ _ _ _ _ _ "
   ]
  },
  {
   "cell_type": "markdown",
   "id": "1a0b83c3",
   "metadata": {},
   "source": [
    "### 2) Russia "
   ]
  },
  {
   "cell_type": "code",
   "execution_count": 199,
   "id": "9d144bd4",
   "metadata": {},
   "outputs": [
    {
     "data": {
      "text/html": [
       "<div>\n",
       "<style scoped>\n",
       "    .dataframe tbody tr th:only-of-type {\n",
       "        vertical-align: middle;\n",
       "    }\n",
       "\n",
       "    .dataframe tbody tr th {\n",
       "        vertical-align: top;\n",
       "    }\n",
       "\n",
       "    .dataframe thead th {\n",
       "        text-align: right;\n",
       "    }\n",
       "</style>\n",
       "<table border=\"1\" class=\"dataframe\">\n",
       "  <thead>\n",
       "    <tr style=\"text-align: right;\">\n",
       "      <th></th>\n",
       "      <th>City</th>\n",
       "      <th>Country</th>\n",
       "      <th>Landarea</th>\n",
       "      <th>Density</th>\n",
       "    </tr>\n",
       "  </thead>\n",
       "  <tbody>\n",
       "    <tr>\n",
       "      <th>23</th>\n",
       "      <td>moscow</td>\n",
       "      <td>Russia</td>\n",
       "      <td>2150</td>\n",
       "      <td>4900</td>\n",
       "    </tr>\n",
       "    <tr>\n",
       "      <th>139</th>\n",
       "      <td>st petersburg</td>\n",
       "      <td>Russia</td>\n",
       "      <td>622</td>\n",
       "      <td>8550</td>\n",
       "    </tr>\n",
       "    <tr>\n",
       "      <th>192</th>\n",
       "      <td>nizhni novgorod</td>\n",
       "      <td>Russia</td>\n",
       "      <td>505</td>\n",
       "      <td>2950</td>\n",
       "    </tr>\n",
       "  </tbody>\n",
       "</table>\n",
       "</div>"
      ],
      "text/plain": [
       "                City Country  Landarea  Density\n",
       "23            moscow  Russia      2150     4900\n",
       "139    st petersburg  Russia       622     8550\n",
       "192  nizhni novgorod  Russia       505     2950"
      ]
     },
     "execution_count": 199,
     "metadata": {},
     "output_type": "execute_result"
    }
   ],
   "source": [
    "df39 = df[df['Country'].isin(['Russia'])]\n",
    "Russia=df39\n",
    "Russia"
   ]
  },
  {
   "cell_type": "code",
   "execution_count": 200,
   "id": "d0a37f6f",
   "metadata": {},
   "outputs": [
    {
     "data": {
      "text/plain": [
       "Int64Index([23, 139, 192], dtype='int64')"
      ]
     },
     "execution_count": 200,
     "metadata": {},
     "output_type": "execute_result"
    }
   ],
   "source": [
    "Russia.index"
   ]
  },
  {
   "cell_type": "code",
   "execution_count": 201,
   "id": "ee848980",
   "metadata": {},
   "outputs": [
    {
     "data": {
      "text/plain": [
       "118.0"
      ]
     },
     "execution_count": 201,
     "metadata": {},
     "output_type": "execute_result"
    }
   ],
   "source": [
    "Russia_meanrank=(23+139+192)/3\n",
    "Russia_meanrank"
   ]
  },
  {
   "cell_type": "markdown",
   "id": "e4787d78",
   "metadata": {},
   "source": [
    "### _ _ _ _ _ _ _ _ _ _ _ _ _ _ _ _ _ _ _ _ _ _ _ _ _ _ _ _ _ _ _ _ _ _ _ _ _ _ _ _ _ _ _ _ _ _ _ _ _ _ _ _ _ _ _ _ _ _ _ _ _"
   ]
  },
  {
   "cell_type": "markdown",
   "id": "be622e36",
   "metadata": {},
   "source": [
    "### 3) Saudi Arabia"
   ]
  },
  {
   "cell_type": "code",
   "execution_count": 202,
   "id": "6a9e553c",
   "metadata": {},
   "outputs": [
    {
     "data": {
      "text/html": [
       "<div>\n",
       "<style scoped>\n",
       "    .dataframe tbody tr th:only-of-type {\n",
       "        vertical-align: middle;\n",
       "    }\n",
       "\n",
       "    .dataframe tbody tr th {\n",
       "        vertical-align: top;\n",
       "    }\n",
       "\n",
       "    .dataframe thead th {\n",
       "        text-align: right;\n",
       "    }\n",
       "</style>\n",
       "<table border=\"1\" class=\"dataframe\">\n",
       "  <thead>\n",
       "    <tr style=\"text-align: right;\">\n",
       "      <th></th>\n",
       "      <th>City</th>\n",
       "      <th>Country</th>\n",
       "      <th>Landarea</th>\n",
       "      <th>Density</th>\n",
       "    </tr>\n",
       "  </thead>\n",
       "  <tbody>\n",
       "    <tr>\n",
       "      <th>64</th>\n",
       "      <td>riyadh</td>\n",
       "      <td>Saudi Arabia</td>\n",
       "      <td>1101</td>\n",
       "      <td>3650</td>\n",
       "    </tr>\n",
       "    <tr>\n",
       "      <th>100</th>\n",
       "      <td>jeddah</td>\n",
       "      <td>saudi arabia</td>\n",
       "      <td>777</td>\n",
       "      <td>3550</td>\n",
       "    </tr>\n",
       "    <tr>\n",
       "      <th>129</th>\n",
       "      <td>arabia</td>\n",
       "      <td>Saudi Arabia</td>\n",
       "      <td>673</td>\n",
       "      <td>2250</td>\n",
       "    </tr>\n",
       "  </tbody>\n",
       "</table>\n",
       "</div>"
      ],
      "text/plain": [
       "       City       Country  Landarea  Density\n",
       "64   riyadh  Saudi Arabia      1101     3650\n",
       "100  jeddah  saudi arabia       777     3550\n",
       "129  arabia  Saudi Arabia       673     2250"
      ]
     },
     "execution_count": 202,
     "metadata": {},
     "output_type": "execute_result"
    }
   ],
   "source": [
    "df46 = df[df['Country'].isin(['Saudi Arabia',\"saudi arabia\"])]\n",
    "Saudi_Arabia=df46\n",
    "Saudi_Arabia"
   ]
  },
  {
   "cell_type": "code",
   "execution_count": 203,
   "id": "0d0819fc",
   "metadata": {},
   "outputs": [
    {
     "data": {
      "text/plain": [
       "Int64Index([64, 100, 129], dtype='int64')"
      ]
     },
     "execution_count": 203,
     "metadata": {},
     "output_type": "execute_result"
    }
   ],
   "source": [
    "Saudi_Arabia.index"
   ]
  },
  {
   "cell_type": "code",
   "execution_count": 204,
   "id": "f131db1d",
   "metadata": {},
   "outputs": [
    {
     "data": {
      "text/plain": [
       "97.66666666666667"
      ]
     },
     "execution_count": 204,
     "metadata": {},
     "output_type": "execute_result"
    }
   ],
   "source": [
    "Saudi_Arabia_meanrank=(64+100+129)/3\n",
    "Saudi_Arabia_meanrank"
   ]
  },
  {
   "cell_type": "markdown",
   "id": "4ad4a9c3",
   "metadata": {},
   "source": [
    "### _ _ _ _ _ _ _ _ _ _ _ _ _ _ _ _ _ _ _ _ _ _ _ _ _ _ _ _ _ _ _ _ _ _ _ _ _ _ _ _ _ _ _ _ _ _ _ _ _ _ _ _ _ _ _ _ _ _ _ _ _"
   ]
  },
  {
   "cell_type": "markdown",
   "id": "a4a196c7",
   "metadata": {},
   "source": [
    "### Countries With 2 Cities"
   ]
  },
  {
   "cell_type": "markdown",
   "id": "87bf1806",
   "metadata": {},
   "source": [
    "### _ _ _ _ _ _ _ _ _ _ _ _ _ _ _ _ _ _ _ _ _ _ _ _ _ _ _ _ _ _ _ _ _ _ _ _ _ _ _ _ _ _ _ _ _ _ _ _ _ _ _ _ _ _ _ _ _ _ _ _ _"
   ]
  },
  {
   "cell_type": "markdown",
   "id": "45fbb2c2",
   "metadata": {},
   "source": [
    "### 1) Spain"
   ]
  },
  {
   "cell_type": "code",
   "execution_count": 205,
   "id": "8c9a38b5",
   "metadata": {},
   "outputs": [
    {
     "data": {
      "text/html": [
       "<div>\n",
       "<style scoped>\n",
       "    .dataframe tbody tr th:only-of-type {\n",
       "        vertical-align: middle;\n",
       "    }\n",
       "\n",
       "    .dataframe tbody tr th {\n",
       "        vertical-align: top;\n",
       "    }\n",
       "\n",
       "    .dataframe thead th {\n",
       "        text-align: right;\n",
       "    }\n",
       "</style>\n",
       "<table border=\"1\" class=\"dataframe\">\n",
       "  <thead>\n",
       "    <tr style=\"text-align: right;\">\n",
       "      <th></th>\n",
       "      <th>City</th>\n",
       "      <th>Country</th>\n",
       "      <th>Landarea</th>\n",
       "      <th>Density</th>\n",
       "    </tr>\n",
       "  </thead>\n",
       "  <tbody>\n",
       "    <tr>\n",
       "      <th>80</th>\n",
       "      <td>madrid</td>\n",
       "      <td>Spain</td>\n",
       "      <td>945</td>\n",
       "      <td>5200</td>\n",
       "    </tr>\n",
       "    <tr>\n",
       "      <th>96</th>\n",
       "      <td>barcelona</td>\n",
       "      <td>spain</td>\n",
       "      <td>803</td>\n",
       "      <td>4850</td>\n",
       "    </tr>\n",
       "  </tbody>\n",
       "</table>\n",
       "</div>"
      ],
      "text/plain": [
       "          City Country  Landarea  Density\n",
       "80      madrid   Spain       945     5200\n",
       "96  barcelona    spain       803     4850"
      ]
     },
     "execution_count": 205,
     "metadata": {},
     "output_type": "execute_result"
    }
   ],
   "source": [
    "df40 = df[df['Country'].isin(['Spain',\"spain\"])]\n",
    "Spain=df40\n",
    "Spain"
   ]
  },
  {
   "cell_type": "code",
   "execution_count": 206,
   "id": "e0f46025",
   "metadata": {},
   "outputs": [
    {
     "data": {
      "text/plain": [
       "Int64Index([80, 96], dtype='int64')"
      ]
     },
     "execution_count": 206,
     "metadata": {},
     "output_type": "execute_result"
    }
   ],
   "source": [
    "Spain.index\n"
   ]
  },
  {
   "cell_type": "code",
   "execution_count": 207,
   "id": "bc13c592",
   "metadata": {},
   "outputs": [
    {
     "data": {
      "text/plain": [
       "88.0"
      ]
     },
     "execution_count": 207,
     "metadata": {},
     "output_type": "execute_result"
    }
   ],
   "source": [
    "Spain_meanrank=(80+96)/2\n",
    "Spain_meanrank"
   ]
  },
  {
   "cell_type": "markdown",
   "id": "742f3e27",
   "metadata": {},
   "source": [
    "### _ _ _ _ _ _ _ _ _ _ _ _ _ _ _ _ _ _ _ _ _ _ _ _ _ _ _ _ _ _ _ _ _ _ _  _ _ _ _ _ _ _ _ _  _ _ _ _ _ _ _ _ _ _ _ _ _ _ _ "
   ]
  },
  {
   "cell_type": "markdown",
   "id": "a831d688",
   "metadata": {},
   "source": [
    "### 2) Belgium"
   ]
  },
  {
   "cell_type": "code",
   "execution_count": 208,
   "id": "b3e27c50",
   "metadata": {},
   "outputs": [
    {
     "data": {
      "text/html": [
       "<div>\n",
       "<style scoped>\n",
       "    .dataframe tbody tr th:only-of-type {\n",
       "        vertical-align: middle;\n",
       "    }\n",
       "\n",
       "    .dataframe tbody tr th {\n",
       "        vertical-align: top;\n",
       "    }\n",
       "\n",
       "    .dataframe thead th {\n",
       "        text-align: right;\n",
       "    }\n",
       "</style>\n",
       "<table border=\"1\" class=\"dataframe\">\n",
       "  <thead>\n",
       "    <tr style=\"text-align: right;\">\n",
       "      <th></th>\n",
       "      <th>City</th>\n",
       "      <th>Country</th>\n",
       "      <th>Landarea</th>\n",
       "      <th>Density</th>\n",
       "    </tr>\n",
       "  </thead>\n",
       "  <tbody>\n",
       "    <tr>\n",
       "      <th>116</th>\n",
       "      <td>brussels</td>\n",
       "      <td>belgium</td>\n",
       "      <td>712</td>\n",
       "      <td>2200</td>\n",
       "    </tr>\n",
       "    <tr>\n",
       "      <th>146</th>\n",
       "      <td>antwerp</td>\n",
       "      <td>Belgium</td>\n",
       "      <td>596</td>\n",
       "      <td>1550</td>\n",
       "    </tr>\n",
       "  </tbody>\n",
       "</table>\n",
       "</div>"
      ],
      "text/plain": [
       "         City  Country  Landarea  Density\n",
       "116  brussels  belgium       712     2200\n",
       "146   antwerp  Belgium       596     1550"
      ]
     },
     "execution_count": 208,
     "metadata": {},
     "output_type": "execute_result"
    }
   ],
   "source": [
    "df41 = df[df['Country'].isin(['Belgium',\"belgium\"])]\n",
    "Belgium=df41\n",
    "Belgium"
   ]
  },
  {
   "cell_type": "code",
   "execution_count": 209,
   "id": "26beb06d",
   "metadata": {},
   "outputs": [
    {
     "data": {
      "text/plain": [
       "Int64Index([116, 146], dtype='int64')"
      ]
     },
     "execution_count": 209,
     "metadata": {},
     "output_type": "execute_result"
    }
   ],
   "source": [
    "Belgium.index"
   ]
  },
  {
   "cell_type": "code",
   "execution_count": 210,
   "id": "8026a6c7",
   "metadata": {},
   "outputs": [
    {
     "data": {
      "text/plain": [
       "131.0"
      ]
     },
     "execution_count": 210,
     "metadata": {},
     "output_type": "execute_result"
    }
   ],
   "source": [
    "Belgium_meanrank=(116+146)/2\n",
    "Belgium_meanrank"
   ]
  },
  {
   "cell_type": "markdown",
   "id": "61766556",
   "metadata": {},
   "source": [
    "### _ _ _ _ _ _ _ _ _ _ _ _ _ _ _ _ _ _ _ _ _ _ _ _ _ _ _ _ _ _ _ _ _ _ _ _  _ _ _ _ _ _ _ _ _ _ _ _ _ _ _ _ _ _ _ _ _ "
   ]
  },
  {
   "cell_type": "markdown",
   "id": "0c7ce185",
   "metadata": {},
   "source": [
    "### The Countries with 2 Cities as per table(some of them are in wrong position)"
   ]
  },
  {
   "cell_type": "code",
   "execution_count": 211,
   "id": "35f9a9fd",
   "metadata": {},
   "outputs": [
    {
     "data": {
      "text/plain": [
       "china           2\n",
       "UAE             2\n",
       "Taiwan          2\n",
       "canada          2\n",
       "Portugal        2\n",
       "Congo           2\n",
       "Saudi Arabia    2\n",
       "Turkey          2\n",
       "Puerto Rico     2\n",
       "Pakistan        2\n",
       "Poland          2\n",
       "Name: Country, dtype: int64"
      ]
     },
     "execution_count": 211,
     "metadata": {},
     "output_type": "execute_result"
    }
   ],
   "source": [
    "ser= pd.value_counts(df['Country'])\n",
    "ser1= ser[ser==2]\n",
    "ser1"
   ]
  },
  {
   "cell_type": "markdown",
   "id": "86ba8897",
   "metadata": {},
   "source": [
    "### _ _ _ _ _ _ _ _ _  _ _ _ _ _ _ _ _ _ _ _ _ _ _ _ _ _ _ _ _ _ _ _ _ _ _ _ _ _ _ _ _ _ _ _ _ _ _ _ _ _ _ _ _ _ _ _ _ _ _ _ _"
   ]
  },
  {
   "cell_type": "markdown",
   "id": "07c94923",
   "metadata": {},
   "source": [
    "### 3) UAE"
   ]
  },
  {
   "cell_type": "code",
   "execution_count": 212,
   "id": "fbaadaaf",
   "metadata": {},
   "outputs": [
    {
     "data": {
      "text/html": [
       "<div>\n",
       "<style scoped>\n",
       "    .dataframe tbody tr th:only-of-type {\n",
       "        vertical-align: middle;\n",
       "    }\n",
       "\n",
       "    .dataframe tbody tr th {\n",
       "        vertical-align: top;\n",
       "    }\n",
       "\n",
       "    .dataframe thead th {\n",
       "        text-align: right;\n",
       "    }\n",
       "</style>\n",
       "<table border=\"1\" class=\"dataframe\">\n",
       "  <thead>\n",
       "    <tr style=\"text-align: right;\">\n",
       "      <th></th>\n",
       "      <th>City</th>\n",
       "      <th>Country</th>\n",
       "      <th>Landarea</th>\n",
       "      <th>Density</th>\n",
       "    </tr>\n",
       "  </thead>\n",
       "  <tbody>\n",
       "    <tr>\n",
       "      <th>99</th>\n",
       "      <td>abu dhabi</td>\n",
       "      <td>UAE</td>\n",
       "      <td>777</td>\n",
       "      <td>700</td>\n",
       "    </tr>\n",
       "    <tr>\n",
       "      <th>117</th>\n",
       "      <td>dubai</td>\n",
       "      <td>UAE</td>\n",
       "      <td>712</td>\n",
       "      <td>2650</td>\n",
       "    </tr>\n",
       "  </tbody>\n",
       "</table>\n",
       "</div>"
      ],
      "text/plain": [
       "          City Country  Landarea  Density\n",
       "99   abu dhabi     UAE       777      700\n",
       "117      dubai     UAE       712     2650"
      ]
     },
     "execution_count": 212,
     "metadata": {},
     "output_type": "execute_result"
    }
   ],
   "source": [
    "df42 = df[df['Country'].isin(['UAE'])]\n",
    "UAE=df42\n",
    "UAE"
   ]
  },
  {
   "cell_type": "code",
   "execution_count": 213,
   "id": "b6e1449c",
   "metadata": {},
   "outputs": [
    {
     "data": {
      "text/plain": [
       "Int64Index([99, 117], dtype='int64')"
      ]
     },
     "execution_count": 213,
     "metadata": {},
     "output_type": "execute_result"
    }
   ],
   "source": [
    "UAE.index"
   ]
  },
  {
   "cell_type": "code",
   "execution_count": 214,
   "id": "c590c249",
   "metadata": {},
   "outputs": [
    {
     "data": {
      "text/plain": [
       "108.0"
      ]
     },
     "execution_count": 214,
     "metadata": {},
     "output_type": "execute_result"
    }
   ],
   "source": [
    "UAE_meanrank=(99+117)/2\n",
    "UAE_meanrank"
   ]
  },
  {
   "cell_type": "markdown",
   "id": "ae1fe3f4",
   "metadata": {},
   "source": [
    "### _ _ _ _ _ _ _ _ _ _ _ _ _ _ _ _ _ _ _ _ _ _ _ _ _ _ _  _ _ _ _  _ _ _ _ _ _ _ _ _ _ _ _ _ _ _ _ _ _ _ _ _ _ _ _ _ _ _ _ "
   ]
  },
  {
   "cell_type": "markdown",
   "id": "2681c3dd",
   "metadata": {},
   "source": [
    "### 4) Taiwan"
   ]
  },
  {
   "cell_type": "code",
   "execution_count": 215,
   "id": "7276bb42",
   "metadata": {},
   "outputs": [
    {
     "data": {
      "text/html": [
       "<div>\n",
       "<style scoped>\n",
       "    .dataframe tbody tr th:only-of-type {\n",
       "        vertical-align: middle;\n",
       "    }\n",
       "\n",
       "    .dataframe tbody tr th {\n",
       "        vertical-align: top;\n",
       "    }\n",
       "\n",
       "    .dataframe thead th {\n",
       "        text-align: right;\n",
       "    }\n",
       "</style>\n",
       "<table border=\"1\" class=\"dataframe\">\n",
       "  <thead>\n",
       "    <tr style=\"text-align: right;\">\n",
       "      <th></th>\n",
       "      <th>City</th>\n",
       "      <th>Country</th>\n",
       "      <th>Landarea</th>\n",
       "      <th>Density</th>\n",
       "    </tr>\n",
       "  </thead>\n",
       "  <tbody>\n",
       "    <tr>\n",
       "      <th>189</th>\n",
       "      <td>taichung</td>\n",
       "      <td>Taiwan</td>\n",
       "      <td>510</td>\n",
       "      <td>3900</td>\n",
       "    </tr>\n",
       "    <tr>\n",
       "      <th>245</th>\n",
       "      <td>taipei</td>\n",
       "      <td>Taiwan</td>\n",
       "      <td>376</td>\n",
       "      <td>15200</td>\n",
       "    </tr>\n",
       "  </tbody>\n",
       "</table>\n",
       "</div>"
      ],
      "text/plain": [
       "         City Country  Landarea  Density\n",
       "189  taichung  Taiwan       510     3900\n",
       "245    taipei  Taiwan       376    15200"
      ]
     },
     "execution_count": 215,
     "metadata": {},
     "output_type": "execute_result"
    }
   ],
   "source": [
    "df43 = df[df['Country'].isin(['Taiwan'])]\n",
    "Taiwan=df43\n",
    "Taiwan"
   ]
  },
  {
   "cell_type": "code",
   "execution_count": 216,
   "id": "bae537b3",
   "metadata": {},
   "outputs": [
    {
     "data": {
      "text/plain": [
       "Int64Index([189, 245], dtype='int64')"
      ]
     },
     "execution_count": 216,
     "metadata": {},
     "output_type": "execute_result"
    }
   ],
   "source": [
    "Taiwan.index"
   ]
  },
  {
   "cell_type": "code",
   "execution_count": 217,
   "id": "39e3e7b3",
   "metadata": {},
   "outputs": [
    {
     "data": {
      "text/plain": [
       "217.0"
      ]
     },
     "execution_count": 217,
     "metadata": {},
     "output_type": "execute_result"
    }
   ],
   "source": [
    "Taiwan_meanrank=(189+245)/2\n",
    "Taiwan_meanrank"
   ]
  },
  {
   "cell_type": "markdown",
   "id": "feed206a",
   "metadata": {},
   "source": [
    "### _ _ _ _ _ _ _ _ _ _ _ _ _ _ _ _ _ _ _ _ _ _ _ _ _ _ _ _ _ _ _ _ _ _ _ _ _ _ _ _ _ _ _ _ _ _ _ _ _ _ _ _ _ _ _ _ _ _ _ _ _"
   ]
  },
  {
   "cell_type": "markdown",
   "id": "ee930fe8",
   "metadata": {},
   "source": [
    "### 5)  Portugal"
   ]
  },
  {
   "cell_type": "code",
   "execution_count": 218,
   "id": "a0c45715",
   "metadata": {},
   "outputs": [
    {
     "data": {
      "text/html": [
       "<div>\n",
       "<style scoped>\n",
       "    .dataframe tbody tr th:only-of-type {\n",
       "        vertical-align: middle;\n",
       "    }\n",
       "\n",
       "    .dataframe tbody tr th {\n",
       "        vertical-align: top;\n",
       "    }\n",
       "\n",
       "    .dataframe thead th {\n",
       "        text-align: right;\n",
       "    }\n",
       "</style>\n",
       "<table border=\"1\" class=\"dataframe\">\n",
       "  <thead>\n",
       "    <tr style=\"text-align: right;\">\n",
       "      <th></th>\n",
       "      <th>City</th>\n",
       "      <th>Country</th>\n",
       "      <th>Landarea</th>\n",
       "      <th>Density</th>\n",
       "    </tr>\n",
       "  </thead>\n",
       "  <tbody>\n",
       "    <tr>\n",
       "      <th>81</th>\n",
       "      <td>lisbon</td>\n",
       "      <td>Portugal</td>\n",
       "      <td>881</td>\n",
       "      <td>2550</td>\n",
       "    </tr>\n",
       "    <tr>\n",
       "      <th>241</th>\n",
       "      <td>porto</td>\n",
       "      <td>Portugal</td>\n",
       "      <td>389</td>\n",
       "      <td>2650</td>\n",
       "    </tr>\n",
       "  </tbody>\n",
       "</table>\n",
       "</div>"
      ],
      "text/plain": [
       "       City   Country  Landarea  Density\n",
       "81   lisbon  Portugal       881     2550\n",
       "241  porto   Portugal       389     2650"
      ]
     },
     "execution_count": 218,
     "metadata": {},
     "output_type": "execute_result"
    }
   ],
   "source": [
    "df44 = df[df['Country'].isin(['Portugal'])]\n",
    "Portugal=df44\n",
    "Portugal"
   ]
  },
  {
   "cell_type": "code",
   "execution_count": 219,
   "id": "ee42ec86",
   "metadata": {},
   "outputs": [
    {
     "data": {
      "text/plain": [
       "Int64Index([81, 241], dtype='int64')"
      ]
     },
     "execution_count": 219,
     "metadata": {},
     "output_type": "execute_result"
    }
   ],
   "source": [
    "Portugal.index"
   ]
  },
  {
   "cell_type": "code",
   "execution_count": 220,
   "id": "6867434e",
   "metadata": {},
   "outputs": [
    {
     "data": {
      "text/plain": [
       "161.0"
      ]
     },
     "execution_count": 220,
     "metadata": {},
     "output_type": "execute_result"
    }
   ],
   "source": [
    "Portugal_meanrank=(81+241)/2\n",
    "Portugal_meanrank"
   ]
  },
  {
   "cell_type": "markdown",
   "id": "95b25d6a",
   "metadata": {},
   "source": [
    "### _ _ _ _ _ _ _ _ _ _ _ _ _ _ _ _ _ _ _ _ _ _ _ _ _ _ _ _ _ _ _ _ _ _ _ _ _ _ _ _ _ _ _ _ _ _ _ _ _ _ _ _ _ _ _ _ _  _"
   ]
  },
  {
   "cell_type": "markdown",
   "id": "3907350b",
   "metadata": {},
   "source": [
    "### 6) Congo"
   ]
  },
  {
   "cell_type": "code",
   "execution_count": 221,
   "id": "e1f6eabb",
   "metadata": {},
   "outputs": [
    {
     "data": {
      "text/html": [
       "<div>\n",
       "<style scoped>\n",
       "    .dataframe tbody tr th:only-of-type {\n",
       "        vertical-align: middle;\n",
       "    }\n",
       "\n",
       "    .dataframe tbody tr th {\n",
       "        vertical-align: top;\n",
       "    }\n",
       "\n",
       "    .dataframe thead th {\n",
       "        text-align: right;\n",
       "    }\n",
       "</style>\n",
       "<table border=\"1\" class=\"dataframe\">\n",
       "  <thead>\n",
       "    <tr style=\"text-align: right;\">\n",
       "      <th></th>\n",
       "      <th>City</th>\n",
       "      <th>Country</th>\n",
       "      <th>Landarea</th>\n",
       "      <th>Density</th>\n",
       "    </tr>\n",
       "  </thead>\n",
       "  <tbody>\n",
       "    <tr>\n",
       "      <th>207</th>\n",
       "      <td>kinshasa</td>\n",
       "      <td>Congo</td>\n",
       "      <td>469</td>\n",
       "      <td>10650</td>\n",
       "    </tr>\n",
       "    <tr>\n",
       "      <th>224</th>\n",
       "      <td>lumumbashi</td>\n",
       "      <td>Congo</td>\n",
       "      <td>427</td>\n",
       "      <td>2800</td>\n",
       "    </tr>\n",
       "  </tbody>\n",
       "</table>\n",
       "</div>"
      ],
      "text/plain": [
       "           City Country  Landarea  Density\n",
       "207    kinshasa   Congo       469    10650\n",
       "224  lumumbashi   Congo       427     2800"
      ]
     },
     "execution_count": 221,
     "metadata": {},
     "output_type": "execute_result"
    }
   ],
   "source": [
    "df45 = df[df['Country'].isin(['Congo'])]\n",
    "Congo=df45\n",
    "Congo"
   ]
  },
  {
   "cell_type": "code",
   "execution_count": 222,
   "id": "3b5f7036",
   "metadata": {},
   "outputs": [
    {
     "data": {
      "text/plain": [
       "Int64Index([207, 224], dtype='int64')"
      ]
     },
     "execution_count": 222,
     "metadata": {},
     "output_type": "execute_result"
    }
   ],
   "source": [
    "Congo.index"
   ]
  },
  {
   "cell_type": "code",
   "execution_count": 223,
   "id": "8864fae8",
   "metadata": {},
   "outputs": [
    {
     "data": {
      "text/plain": [
       "215.5"
      ]
     },
     "execution_count": 223,
     "metadata": {},
     "output_type": "execute_result"
    }
   ],
   "source": [
    "Congo_meanrank=(207+ 224)/2\n",
    "Congo_meanrank"
   ]
  },
  {
   "cell_type": "markdown",
   "id": "651a1b6a",
   "metadata": {},
   "source": [
    "### _ _ _ _ _ _ _ _ _ _ _ _ _ _ _ _ _ _ _ _ _ _ _ _ _ _ _ _ _ _ _ _ _ _ _ _ _ _ _ _ _ _ _ _ _ _  _ _ _ _ _ _ _ _ _ _ _ _ _"
   ]
  },
  {
   "cell_type": "markdown",
   "id": "5453c0db",
   "metadata": {},
   "source": [
    "### 7) Turkey"
   ]
  },
  {
   "cell_type": "code",
   "execution_count": 224,
   "id": "f1123e7e",
   "metadata": {},
   "outputs": [
    {
     "data": {
      "text/html": [
       "<div>\n",
       "<style scoped>\n",
       "    .dataframe tbody tr th:only-of-type {\n",
       "        vertical-align: middle;\n",
       "    }\n",
       "\n",
       "    .dataframe tbody tr th {\n",
       "        vertical-align: top;\n",
       "    }\n",
       "\n",
       "    .dataframe thead th {\n",
       "        text-align: right;\n",
       "    }\n",
       "</style>\n",
       "<table border=\"1\" class=\"dataframe\">\n",
       "  <thead>\n",
       "    <tr style=\"text-align: right;\">\n",
       "      <th></th>\n",
       "      <th>City</th>\n",
       "      <th>Country</th>\n",
       "      <th>Landarea</th>\n",
       "      <th>Density</th>\n",
       "    </tr>\n",
       "  </thead>\n",
       "  <tbody>\n",
       "    <tr>\n",
       "      <th>58</th>\n",
       "      <td>istanbul</td>\n",
       "      <td>Turkey</td>\n",
       "      <td>1166</td>\n",
       "      <td>7700</td>\n",
       "    </tr>\n",
       "    <tr>\n",
       "      <th>153</th>\n",
       "      <td>ankara</td>\n",
       "      <td>Turkey</td>\n",
       "      <td>583</td>\n",
       "      <td>5300</td>\n",
       "    </tr>\n",
       "  </tbody>\n",
       "</table>\n",
       "</div>"
      ],
      "text/plain": [
       "         City Country  Landarea  Density\n",
       "58   istanbul  Turkey      1166     7700\n",
       "153    ankara  Turkey       583     5300"
      ]
     },
     "execution_count": 224,
     "metadata": {},
     "output_type": "execute_result"
    }
   ],
   "source": [
    "df47 = df[df['Country'].isin(['Turkey'])]\n",
    "Turkey=df47\n",
    "Turkey"
   ]
  },
  {
   "cell_type": "code",
   "execution_count": 225,
   "id": "4db3e98f",
   "metadata": {},
   "outputs": [
    {
     "data": {
      "text/plain": [
       "Int64Index([58, 153], dtype='int64')"
      ]
     },
     "execution_count": 225,
     "metadata": {},
     "output_type": "execute_result"
    }
   ],
   "source": [
    "Turkey.index\n"
   ]
  },
  {
   "cell_type": "code",
   "execution_count": 226,
   "id": "d29b0308",
   "metadata": {},
   "outputs": [
    {
     "data": {
      "text/plain": [
       "105.5"
      ]
     },
     "execution_count": 226,
     "metadata": {},
     "output_type": "execute_result"
    }
   ],
   "source": [
    "Turkey_meanrank=(58+153)/2\n",
    "Turkey_meanrank"
   ]
  },
  {
   "cell_type": "markdown",
   "id": "96ff30c8",
   "metadata": {},
   "source": [
    "### _ _ _ _ _ _ _ _ _ _ _ _ _ _ _ _ _ _ _ _ _ _ _ _ _ _ _ _ _ _ _ _ _ _ _ _ _ _ _ _ _ _ _ _ _ _  _ _ _ _ _ _ _ _ _ _ _ _ _"
   ]
  },
  {
   "cell_type": "markdown",
   "id": "8ce3bafe",
   "metadata": {},
   "source": [
    "### 8) Puerto Rico"
   ]
  },
  {
   "cell_type": "code",
   "execution_count": 227,
   "id": "6e662e8f",
   "metadata": {},
   "outputs": [
    {
     "data": {
      "text/html": [
       "<div>\n",
       "<style scoped>\n",
       "    .dataframe tbody tr th:only-of-type {\n",
       "        vertical-align: middle;\n",
       "    }\n",
       "\n",
       "    .dataframe tbody tr th {\n",
       "        vertical-align: top;\n",
       "    }\n",
       "\n",
       "    .dataframe thead th {\n",
       "        text-align: right;\n",
       "    }\n",
       "</style>\n",
       "<table border=\"1\" class=\"dataframe\">\n",
       "  <thead>\n",
       "    <tr style=\"text-align: right;\">\n",
       "      <th></th>\n",
       "      <th>City</th>\n",
       "      <th>Country</th>\n",
       "      <th>Landarea</th>\n",
       "      <th>Density</th>\n",
       "    </tr>\n",
       "  </thead>\n",
       "  <tbody>\n",
       "    <tr>\n",
       "      <th>20</th>\n",
       "      <td>san juan</td>\n",
       "      <td>Puerto Rico</td>\n",
       "      <td>2309</td>\n",
       "      <td>950</td>\n",
       "    </tr>\n",
       "    <tr>\n",
       "      <th>140</th>\n",
       "      <td>aguadilla</td>\n",
       "      <td>Puerto Rico</td>\n",
       "      <td>620</td>\n",
       "      <td>500</td>\n",
       "    </tr>\n",
       "  </tbody>\n",
       "</table>\n",
       "</div>"
      ],
      "text/plain": [
       "          City      Country  Landarea  Density\n",
       "20    san juan  Puerto Rico      2309      950\n",
       "140  aguadilla  Puerto Rico       620      500"
      ]
     },
     "execution_count": 227,
     "metadata": {},
     "output_type": "execute_result"
    }
   ],
   "source": [
    "df48 = df[df['Country'].isin(['Puerto Rico'])]\n",
    "Puerto_Rico=df48\n",
    "Puerto_Rico"
   ]
  },
  {
   "cell_type": "code",
   "execution_count": 228,
   "id": "347815b3",
   "metadata": {},
   "outputs": [
    {
     "data": {
      "text/plain": [
       "Int64Index([20, 140], dtype='int64')"
      ]
     },
     "execution_count": 228,
     "metadata": {},
     "output_type": "execute_result"
    }
   ],
   "source": [
    "Puerto_Rico.index"
   ]
  },
  {
   "cell_type": "code",
   "execution_count": 229,
   "id": "97889185",
   "metadata": {},
   "outputs": [
    {
     "data": {
      "text/plain": [
       "80.0"
      ]
     },
     "execution_count": 229,
     "metadata": {},
     "output_type": "execute_result"
    }
   ],
   "source": [
    "Puerto_Rico_meanrank=(20+140)/2\n",
    "Puerto_Rico_meanrank"
   ]
  },
  {
   "cell_type": "markdown",
   "id": "f0e3e327",
   "metadata": {},
   "source": [
    "### _ _ _ _ _ _ _ _ _ _ _ _ _ _ _ _ _ _ _ _ _ _ _ _ _ _ _ _ _ _ _ _ _ _ _ _ _ _ _ _ _ _ _ _ _ _  _ _ _ _ _ _ _ _ _ _ _ _ _"
   ]
  },
  {
   "cell_type": "markdown",
   "id": "a367e396",
   "metadata": {},
   "source": [
    "### 9) Pakistan"
   ]
  },
  {
   "cell_type": "code",
   "execution_count": 230,
   "id": "88582201",
   "metadata": {},
   "outputs": [
    {
     "data": {
      "text/html": [
       "<div>\n",
       "<style scoped>\n",
       "    .dataframe tbody tr th:only-of-type {\n",
       "        vertical-align: middle;\n",
       "    }\n",
       "\n",
       "    .dataframe tbody tr th {\n",
       "        vertical-align: top;\n",
       "    }\n",
       "\n",
       "    .dataframe thead th {\n",
       "        text-align: right;\n",
       "    }\n",
       "</style>\n",
       "<table border=\"1\" class=\"dataframe\">\n",
       "  <thead>\n",
       "    <tr style=\"text-align: right;\">\n",
       "      <th></th>\n",
       "      <th>City</th>\n",
       "      <th>Country</th>\n",
       "      <th>Landarea</th>\n",
       "      <th>Density</th>\n",
       "    </tr>\n",
       "  </thead>\n",
       "  <tbody>\n",
       "    <tr>\n",
       "      <th>138</th>\n",
       "      <td>lahore</td>\n",
       "      <td>Pakistan</td>\n",
       "      <td>622</td>\n",
       "      <td>8200</td>\n",
       "    </tr>\n",
       "    <tr>\n",
       "      <th>182</th>\n",
       "      <td>karachi</td>\n",
       "      <td>Pakistan</td>\n",
       "      <td>518</td>\n",
       "      <td>8900</td>\n",
       "    </tr>\n",
       "  </tbody>\n",
       "</table>\n",
       "</div>"
      ],
      "text/plain": [
       "        City   Country  Landarea  Density\n",
       "138   lahore  Pakistan       622     8200\n",
       "182  karachi  Pakistan       518     8900"
      ]
     },
     "execution_count": 230,
     "metadata": {},
     "output_type": "execute_result"
    }
   ],
   "source": [
    "df49 = df[df['Country'].isin(['Pakistan'])]\n",
    "Pakistan=df49\n",
    "Pakistan"
   ]
  },
  {
   "cell_type": "code",
   "execution_count": 231,
   "id": "2c984d88",
   "metadata": {},
   "outputs": [
    {
     "data": {
      "text/plain": [
       "Int64Index([138, 182], dtype='int64')"
      ]
     },
     "execution_count": 231,
     "metadata": {},
     "output_type": "execute_result"
    }
   ],
   "source": [
    "Pakistan.index"
   ]
  },
  {
   "cell_type": "code",
   "execution_count": 232,
   "id": "c8a1122f",
   "metadata": {},
   "outputs": [
    {
     "data": {
      "text/plain": [
       "160.0"
      ]
     },
     "execution_count": 232,
     "metadata": {},
     "output_type": "execute_result"
    }
   ],
   "source": [
    "Pakistan_meanrank=(138+182)/2\n",
    "Pakistan_meanrank"
   ]
  },
  {
   "cell_type": "markdown",
   "id": "3b32f94d",
   "metadata": {},
   "source": [
    "### _ _ _ _ _ _ _ _ _ _ _ _ _ _ _ _ _ _ _ _ _ _ _ _ _ _ _ _ _ _ _ _ _ _ _ _ _ _ _ _ _ _ _ _ _ _  _ _ _ _ _ _ _ _ _ _ _ _ _"
   ]
  },
  {
   "cell_type": "markdown",
   "id": "44a2aea4",
   "metadata": {},
   "source": [
    "### 10) Poland"
   ]
  },
  {
   "cell_type": "code",
   "execution_count": 233,
   "id": "990e556c",
   "metadata": {},
   "outputs": [
    {
     "data": {
      "text/html": [
       "<div>\n",
       "<style scoped>\n",
       "    .dataframe tbody tr th:only-of-type {\n",
       "        vertical-align: middle;\n",
       "    }\n",
       "\n",
       "    .dataframe tbody tr th {\n",
       "        vertical-align: top;\n",
       "    }\n",
       "\n",
       "    .dataframe thead th {\n",
       "        text-align: right;\n",
       "    }\n",
       "</style>\n",
       "<table border=\"1\" class=\"dataframe\">\n",
       "  <thead>\n",
       "    <tr style=\"text-align: right;\">\n",
       "      <th></th>\n",
       "      <th>City</th>\n",
       "      <th>Country</th>\n",
       "      <th>Landarea</th>\n",
       "      <th>Density</th>\n",
       "    </tr>\n",
       "  </thead>\n",
       "  <tbody>\n",
       "    <tr>\n",
       "      <th>169</th>\n",
       "      <td>katowice</td>\n",
       "      <td>Poland</td>\n",
       "      <td>544</td>\n",
       "      <td>4050</td>\n",
       "    </tr>\n",
       "    <tr>\n",
       "      <th>210</th>\n",
       "      <td>warsaw</td>\n",
       "      <td>Poland</td>\n",
       "      <td>465</td>\n",
       "      <td>4300</td>\n",
       "    </tr>\n",
       "  </tbody>\n",
       "</table>\n",
       "</div>"
      ],
      "text/plain": [
       "         City Country  Landarea  Density\n",
       "169  katowice  Poland       544     4050\n",
       "210    warsaw  Poland       465     4300"
      ]
     },
     "execution_count": 233,
     "metadata": {},
     "output_type": "execute_result"
    }
   ],
   "source": [
    "df50 = df[df['Country'].isin(['Poland'])]\n",
    "Poland=df50\n",
    "Poland"
   ]
  },
  {
   "cell_type": "code",
   "execution_count": 234,
   "id": "2b893ae6",
   "metadata": {},
   "outputs": [
    {
     "data": {
      "text/plain": [
       "Int64Index([169, 210], dtype='int64')"
      ]
     },
     "execution_count": 234,
     "metadata": {},
     "output_type": "execute_result"
    }
   ],
   "source": [
    "Poland.index"
   ]
  },
  {
   "cell_type": "code",
   "execution_count": 235,
   "id": "f7fe1a7a",
   "metadata": {},
   "outputs": [
    {
     "data": {
      "text/plain": [
       "189.5"
      ]
     },
     "execution_count": 235,
     "metadata": {},
     "output_type": "execute_result"
    }
   ],
   "source": [
    "Poland_meanrank=(169+210)/2\n",
    "Poland_meanrank"
   ]
  },
  {
   "cell_type": "markdown",
   "id": "5692f464",
   "metadata": {},
   "source": [
    "### _ _ _ _ _ _ _ _ _ _ _ _ _ _ _ _ _ _ _ _ _ _ _ _ _ _ _ _ _ _ _ _ _ _ _ _ _ _ _ _ _ _ _ _ _ _  _ _ _ _ _ _ _ _ _ _ _ _ _"
   ]
  },
  {
   "cell_type": "code",
   "execution_count": 236,
   "id": "afd9282f",
   "metadata": {},
   "outputs": [
    {
     "data": {
      "text/plain": [
       "Kuwait          1\n",
       "New Zealand     1\n",
       "Colombia        1\n",
       "Azerbaijan      1\n",
       "Sudan           1\n",
       "Netherlands     1\n",
       "Uzbekistan      1\n",
       "Singapore       1\n",
       "Vietnam         1\n",
       "Cambodia        1\n",
       "Sweden          1\n",
       "Finland         1\n",
       "Ecuador         1\n",
       "Iraq            1\n",
       "Ghana           1\n",
       "Israel          1\n",
       "Austria         1\n",
       "Ukraine         1\n",
       "Peru            1\n",
       "belgium         1\n",
       "Belgium         1\n",
       "denmark         1\n",
       "Argentina       1\n",
       "Malaysia        1\n",
       "Philippines     1\n",
       "Indonesia       1\n",
       "Egypt           1\n",
       "South Korea     1\n",
       "Thailand        1\n",
       "Spain           1\n",
       "germany         1\n",
       "spain           1\n",
       "Chile           1\n",
       "saudi arabia    1\n",
       "nigeria         1\n",
       "australia       1\n",
       "zimbabwe        1\n",
       "hungry          1\n",
       "south africa    1\n",
       "iran            1\n",
       "Greece          1\n",
       "lebanon         1\n",
       "Ireland         1\n",
       "Name: Country, dtype: int64"
      ]
     },
     "execution_count": 236,
     "metadata": {},
     "output_type": "execute_result"
    }
   ],
   "source": [
    "ser= pd.value_counts(df['Country'])\n",
    "ser1= ser[ser==1]\n",
    "ser1"
   ]
  },
  {
   "cell_type": "code",
   "execution_count": 237,
   "id": "cc9925c6",
   "metadata": {},
   "outputs": [
    {
     "data": {
      "text/plain": [
       "35"
      ]
     },
     "execution_count": 237,
     "metadata": {},
     "output_type": "execute_result"
    }
   ],
   "source": [
    "no_of_countries_with_single_cities=len(ser1)-8\n",
    "no_of_countries_with_single_cities"
   ]
  },
  {
   "cell_type": "code",
   "execution_count": 238,
   "id": "ebcff192",
   "metadata": {},
   "outputs": [],
   "source": [
    "# Remove australia ,germany,spain ,Spain ,south africa,,belgium  ,Belgium  ,saudi arabia"
   ]
  },
  {
   "cell_type": "code",
   "execution_count": 239,
   "id": "e6f81243",
   "metadata": {},
   "outputs": [],
   "source": [
    "# df50=df.iloc[[21,38,44,47,49,68,73,93,110,119,125,126,134,136,147,149,157,167,170,177,178,180,181,184,185,200,202,203,214,216,218,250],:]\n",
    "# df50"
   ]
  },
  {
   "cell_type": "code",
   "execution_count": 240,
   "id": "9137d7ff",
   "metadata": {},
   "outputs": [
    {
     "data": {
      "text/html": [
       "<div>\n",
       "<style scoped>\n",
       "    .dataframe tbody tr th:only-of-type {\n",
       "        vertical-align: middle;\n",
       "    }\n",
       "\n",
       "    .dataframe tbody tr th {\n",
       "        vertical-align: top;\n",
       "    }\n",
       "\n",
       "    .dataframe thead th {\n",
       "        text-align: right;\n",
       "    }\n",
       "</style>\n",
       "<table border=\"1\" class=\"dataframe\">\n",
       "  <thead>\n",
       "    <tr style=\"text-align: right;\">\n",
       "      <th></th>\n",
       "      <th>City</th>\n",
       "      <th>Country</th>\n",
       "      <th>Landarea</th>\n",
       "      <th>Density</th>\n",
       "    </tr>\n",
       "  </thead>\n",
       "  <tbody>\n",
       "    <tr>\n",
       "      <th>21</th>\n",
       "      <td>bvenos aires</td>\n",
       "      <td>Argentina</td>\n",
       "      <td>2266</td>\n",
       "      <td>4950</td>\n",
       "    </tr>\n",
       "    <tr>\n",
       "      <th>38</th>\n",
       "      <td>kuala lumpur</td>\n",
       "      <td>Malaysia</td>\n",
       "      <td>1606</td>\n",
       "      <td>2750</td>\n",
       "    </tr>\n",
       "    <tr>\n",
       "      <th>44</th>\n",
       "      <td>manila</td>\n",
       "      <td>Philippines</td>\n",
       "      <td>1399</td>\n",
       "      <td>10550</td>\n",
       "    </tr>\n",
       "    <tr>\n",
       "      <th>47</th>\n",
       "      <td>jakarta</td>\n",
       "      <td>Indonesia</td>\n",
       "      <td>1360</td>\n",
       "      <td>10500</td>\n",
       "    </tr>\n",
       "    <tr>\n",
       "      <th>49</th>\n",
       "      <td>cairo</td>\n",
       "      <td>Egypt</td>\n",
       "      <td>1295</td>\n",
       "      <td>9400</td>\n",
       "    </tr>\n",
       "    <tr>\n",
       "      <th>68</th>\n",
       "      <td>seoul /incheon</td>\n",
       "      <td>South Korea</td>\n",
       "      <td>1049</td>\n",
       "      <td>16700</td>\n",
       "    </tr>\n",
       "    <tr>\n",
       "      <th>73</th>\n",
       "      <td>bangkok</td>\n",
       "      <td>Thailand</td>\n",
       "      <td>1010</td>\n",
       "      <td>6450</td>\n",
       "    </tr>\n",
       "    <tr>\n",
       "      <th>93</th>\n",
       "      <td>copenhagen</td>\n",
       "      <td>denmark</td>\n",
       "      <td>816</td>\n",
       "      <td>1850</td>\n",
       "    </tr>\n",
       "    <tr>\n",
       "      <th>110</th>\n",
       "      <td>lagos</td>\n",
       "      <td>nigeria</td>\n",
       "      <td>738</td>\n",
       "      <td>18150</td>\n",
       "    </tr>\n",
       "    <tr>\n",
       "      <th>118</th>\n",
       "      <td>harare</td>\n",
       "      <td>zimbabwe</td>\n",
       "      <td>712</td>\n",
       "      <td>2450</td>\n",
       "    </tr>\n",
       "    <tr>\n",
       "      <th>119</th>\n",
       "      <td>budapest</td>\n",
       "      <td>hungry</td>\n",
       "      <td>702</td>\n",
       "      <td>2550</td>\n",
       "    </tr>\n",
       "    <tr>\n",
       "      <th>125</th>\n",
       "      <td>tehran</td>\n",
       "      <td>iran</td>\n",
       "      <td>686</td>\n",
       "      <td>10550</td>\n",
       "    </tr>\n",
       "    <tr>\n",
       "      <th>126</th>\n",
       "      <td>athens</td>\n",
       "      <td>Greece</td>\n",
       "      <td>684</td>\n",
       "      <td>5400</td>\n",
       "    </tr>\n",
       "    <tr>\n",
       "      <th>134</th>\n",
       "      <td>beirut</td>\n",
       "      <td>lebanon</td>\n",
       "      <td>648</td>\n",
       "      <td>2800</td>\n",
       "    </tr>\n",
       "    <tr>\n",
       "      <th>136</th>\n",
       "      <td>santiago</td>\n",
       "      <td>Chile</td>\n",
       "      <td>648</td>\n",
       "      <td>8400</td>\n",
       "    </tr>\n",
       "    <tr>\n",
       "      <th>147</th>\n",
       "      <td>baghdad</td>\n",
       "      <td>Iraq</td>\n",
       "      <td>596</td>\n",
       "      <td>9250</td>\n",
       "    </tr>\n",
       "    <tr>\n",
       "      <th>149</th>\n",
       "      <td>lima</td>\n",
       "      <td>Peru</td>\n",
       "      <td>596</td>\n",
       "      <td>11750</td>\n",
       "    </tr>\n",
       "    <tr>\n",
       "      <th>157</th>\n",
       "      <td>khartoum</td>\n",
       "      <td>Sudan</td>\n",
       "      <td>583</td>\n",
       "      <td>6850</td>\n",
       "    </tr>\n",
       "    <tr>\n",
       "      <th>167</th>\n",
       "      <td>baku/sumqaxit</td>\n",
       "      <td>Azerbaijan</td>\n",
       "      <td>544</td>\n",
       "      <td>3850</td>\n",
       "    </tr>\n",
       "    <tr>\n",
       "      <th>170</th>\n",
       "      <td>kuwait</td>\n",
       "      <td>Kuwait</td>\n",
       "      <td>544</td>\n",
       "      <td>2950</td>\n",
       "    </tr>\n",
       "    <tr>\n",
       "      <th>175</th>\n",
       "      <td>auck land</td>\n",
       "      <td>New Zealand</td>\n",
       "      <td>531</td>\n",
       "      <td>2000</td>\n",
       "    </tr>\n",
       "    <tr>\n",
       "      <th>177</th>\n",
       "      <td>rotterdam</td>\n",
       "      <td>Netherlands</td>\n",
       "      <td>531</td>\n",
       "      <td>2500</td>\n",
       "    </tr>\n",
       "    <tr>\n",
       "      <th>178</th>\n",
       "      <td>tashkent</td>\n",
       "      <td>Uzbekistan</td>\n",
       "      <td>531</td>\n",
       "      <td>4150</td>\n",
       "    </tr>\n",
       "    <tr>\n",
       "      <th>180</th>\n",
       "      <td>bogota</td>\n",
       "      <td>Colombia</td>\n",
       "      <td>518</td>\n",
       "      <td>13500</td>\n",
       "    </tr>\n",
       "    <tr>\n",
       "      <th>181</th>\n",
       "      <td>hochi minh city</td>\n",
       "      <td>Vietnam</td>\n",
       "      <td>518</td>\n",
       "      <td>9450</td>\n",
       "    </tr>\n",
       "    <tr>\n",
       "      <th>184</th>\n",
       "      <td>phnompenh</td>\n",
       "      <td>Cambodia</td>\n",
       "      <td>518</td>\n",
       "      <td>2900</td>\n",
       "    </tr>\n",
       "    <tr>\n",
       "      <th>185</th>\n",
       "      <td>stockholm</td>\n",
       "      <td>Sweden</td>\n",
       "      <td>518</td>\n",
       "      <td>2700</td>\n",
       "    </tr>\n",
       "    <tr>\n",
       "      <th>200</th>\n",
       "      <td>helsinki</td>\n",
       "      <td>Finland</td>\n",
       "      <td>479</td>\n",
       "      <td>2100</td>\n",
       "    </tr>\n",
       "    <tr>\n",
       "      <th>202</th>\n",
       "      <td>quito</td>\n",
       "      <td>Ecuador</td>\n",
       "      <td>479</td>\n",
       "      <td>3150</td>\n",
       "    </tr>\n",
       "    <tr>\n",
       "      <th>203</th>\n",
       "      <td>singapore</td>\n",
       "      <td>Singapore</td>\n",
       "      <td>479</td>\n",
       "      <td>8350</td>\n",
       "    </tr>\n",
       "    <tr>\n",
       "      <th>214</th>\n",
       "      <td>accra</td>\n",
       "      <td>Ghana</td>\n",
       "      <td>453</td>\n",
       "      <td>3300</td>\n",
       "    </tr>\n",
       "    <tr>\n",
       "      <th>216</th>\n",
       "      <td>tel aviv</td>\n",
       "      <td>Israel</td>\n",
       "      <td>453</td>\n",
       "      <td>5050</td>\n",
       "    </tr>\n",
       "    <tr>\n",
       "      <th>218</th>\n",
       "      <td>vienna</td>\n",
       "      <td>Austria</td>\n",
       "      <td>453</td>\n",
       "      <td>3400</td>\n",
       "    </tr>\n",
       "    <tr>\n",
       "      <th>219</th>\n",
       "      <td>donetsk</td>\n",
       "      <td>Ukraine</td>\n",
       "      <td>451</td>\n",
       "      <td>3100</td>\n",
       "    </tr>\n",
       "    <tr>\n",
       "      <th>250</th>\n",
       "      <td>Dublin</td>\n",
       "      <td>Ireland</td>\n",
       "      <td>365</td>\n",
       "      <td>2950</td>\n",
       "    </tr>\n",
       "  </tbody>\n",
       "</table>\n",
       "</div>"
      ],
      "text/plain": [
       "                City      Country  Landarea  Density\n",
       "21      bvenos aires    Argentina      2266     4950\n",
       "38      kuala lumpur     Malaysia      1606     2750\n",
       "44            manila  Philippines      1399    10550\n",
       "47           jakarta    Indonesia      1360    10500\n",
       "49             cairo        Egypt      1295     9400\n",
       "68    seoul /incheon  South Korea      1049    16700\n",
       "73           bangkok     Thailand      1010     6450\n",
       "93        copenhagen      denmark       816     1850\n",
       "110            lagos      nigeria       738    18150\n",
       "118           harare     zimbabwe       712     2450\n",
       "119         budapest       hungry       702     2550\n",
       "125           tehran         iran       686    10550\n",
       "126           athens       Greece       684     5400\n",
       "134           beirut      lebanon       648     2800\n",
       "136         santiago        Chile       648     8400\n",
       "147          baghdad         Iraq       596     9250\n",
       "149             lima         Peru       596    11750\n",
       "157         khartoum        Sudan       583     6850\n",
       "167    baku/sumqaxit   Azerbaijan       544     3850\n",
       "170           kuwait       Kuwait       544     2950\n",
       "175        auck land  New Zealand       531     2000\n",
       "177        rotterdam  Netherlands       531     2500\n",
       "178         tashkent   Uzbekistan       531     4150\n",
       "180           bogota     Colombia       518    13500\n",
       "181  hochi minh city      Vietnam       518     9450\n",
       "184        phnompenh     Cambodia       518     2900\n",
       "185        stockholm       Sweden       518     2700\n",
       "200         helsinki      Finland       479     2100\n",
       "202            quito      Ecuador       479     3150\n",
       "203        singapore    Singapore       479     8350\n",
       "214            accra        Ghana       453     3300\n",
       "216         tel aviv       Israel       453     5050\n",
       "218           vienna      Austria       453     3400\n",
       "219          donetsk      Ukraine       451     3100\n",
       "250           Dublin      Ireland       365     2950"
      ]
     },
     "execution_count": 240,
     "metadata": {},
     "output_type": "execute_result"
    }
   ],
   "source": [
    "df111=df.iloc[[20,37,43,46,48,67,72,92,109,117,118,124,125,133,135,146,148,156,166,169,174,176,177,179,180,183,184,199,201,202,213,215,217,218,249],:]\n",
    "Single_City_Countries=df111\n",
    "Single_City_Countries"
   ]
  },
  {
   "cell_type": "code",
   "execution_count": 241,
   "id": "5faf66be",
   "metadata": {},
   "outputs": [
    {
     "data": {
      "text/plain": [
       "35"
      ]
     },
     "execution_count": 241,
     "metadata": {},
     "output_type": "execute_result"
    }
   ],
   "source": [
    "len(Single_City_Countries)\n"
   ]
  },
  {
   "cell_type": "code",
   "execution_count": 242,
   "id": "68e48468",
   "metadata": {},
   "outputs": [
    {
     "data": {
      "text/plain": [
       "Int64Index([ 21,  38,  44,  47,  49,  68,  73,  93, 110, 118, 119, 125, 126,\n",
       "            134, 136, 147, 149, 157, 167, 170, 175, 177, 178, 180, 181, 184,\n",
       "            185, 200, 202, 203, 214, 216, 218, 219, 250],\n",
       "           dtype='int64')"
      ]
     },
     "execution_count": 242,
     "metadata": {},
     "output_type": "execute_result"
    }
   ],
   "source": [
    "Single_City_Countries.index"
   ]
  },
  {
   "cell_type": "code",
   "execution_count": 243,
   "id": "eab357ae",
   "metadata": {},
   "outputs": [
    {
     "data": {
      "text/plain": [
       "144.94285714285715"
      ]
     },
     "execution_count": 243,
     "metadata": {},
     "output_type": "execute_result"
    }
   ],
   "source": [
    "_1_City_Countries_meanrank=(21+38+44+47+49+68+73+93+110+118+119+125+126+\n",
    "            134+136+147+149+157+167+170+175+177+178+180+181+184+\n",
    "            185+200+202+203+214+216+218+219+250)/35\n",
    "_1_City_Countries_meanrank"
   ]
  },
  {
   "cell_type": "code",
   "execution_count": 244,
   "id": "2380710b",
   "metadata": {},
   "outputs": [
    {
     "data": {
      "text/plain": [
       "145.55"
      ]
     },
     "execution_count": 244,
     "metadata": {},
     "output_type": "execute_result"
    }
   ],
   "source": [
    "_2_Cities_Countries_meanrank=(UAE_meanrank+Taiwan_meanrank+Portugal_meanrank+Congo_meanrank+Turkey_meanrank+Puerto_Rico_meanrank+Pakistan_meanrank+Poland_meanrank+Belgium_meanrank+Spain_meanrank)/10\n",
    "_2_Cities_Countries_meanrank"
   ]
  },
  {
   "cell_type": "code",
   "execution_count": 245,
   "id": "02f54fb8",
   "metadata": {},
   "outputs": [
    {
     "data": {
      "text/plain": [
       "113.66666666666667"
      ]
     },
     "execution_count": 245,
     "metadata": {},
     "output_type": "execute_result"
    }
   ],
   "source": [
    "_3_Cities_Countries_meanrank=(Saudi_Arabia_meanrank+Mexico_meanrank+Russia_meanrank)/3\n",
    "_3_Cities_Countries_meanrank"
   ]
  },
  {
   "cell_type": "code",
   "execution_count": 246,
   "id": "de781563",
   "metadata": {},
   "outputs": [
    {
     "data": {
      "text/plain": [
       "119.25"
      ]
     },
     "execution_count": 246,
     "metadata": {},
     "output_type": "execute_result"
    }
   ],
   "source": [
    "_4_Cities_Countries_meanrank=Italy_meanrank\n",
    "_4_Cities_Countries_meanrank"
   ]
  },
  {
   "cell_type": "code",
   "execution_count": 247,
   "id": "b7527590",
   "metadata": {},
   "outputs": [
    {
     "data": {
      "text/plain": [
       "126.8"
      ]
     },
     "execution_count": 247,
     "metadata": {},
     "output_type": "execute_result"
    }
   ],
   "source": [
    "_5_Cities_Countries_meanrank=(Japan_meanrank+UK_meanrank)/2\n",
    "_5_Cities_Countries_meanrank"
   ]
  },
  {
   "cell_type": "code",
   "execution_count": 248,
   "id": "d2625585",
   "metadata": {},
   "outputs": [
    {
     "data": {
      "text/plain": [
       "141.25"
      ]
     },
     "execution_count": 248,
     "metadata": {},
     "output_type": "execute_result"
    }
   ],
   "source": [
    "_6_Cities_Countries_meanrank=(India_meanrank+South_Africa_meanrank+China_meanrank+Australia_meanrank)/4\n",
    "_6_Cities_Countries_meanrank"
   ]
  },
  {
   "cell_type": "code",
   "execution_count": 249,
   "id": "0ed282bd",
   "metadata": {},
   "outputs": [
    {
     "data": {
      "text/plain": [
       "124.125"
      ]
     },
     "execution_count": 249,
     "metadata": {},
     "output_type": "execute_result"
    }
   ],
   "source": [
    "_8_Cities_Countries_meanrank=Germany_meanrank\n",
    "_8_Cities_Countries_meanrank"
   ]
  },
  {
   "cell_type": "code",
   "execution_count": 250,
   "id": "22c37222",
   "metadata": {},
   "outputs": [
    {
     "data": {
      "text/plain": [
       "125.0"
      ]
     },
     "execution_count": 250,
     "metadata": {},
     "output_type": "execute_result"
    }
   ],
   "source": [
    "_9_Cities_Countries_meanrank=Canada_meanrank\n",
    "_9_Cities_Countries_meanrank"
   ]
  },
  {
   "cell_type": "code",
   "execution_count": 251,
   "id": "8298da7c",
   "metadata": {},
   "outputs": [
    {
     "data": {
      "text/plain": [
       "139.4"
      ]
     },
     "execution_count": 251,
     "metadata": {},
     "output_type": "execute_result"
    }
   ],
   "source": [
    "_10_Cities_Countries_meanrank=Brazil_meanrank\n",
    "_10_Cities_Countries_meanrank"
   ]
  },
  {
   "cell_type": "code",
   "execution_count": 252,
   "id": "3fb0741c",
   "metadata": {},
   "outputs": [
    {
     "data": {
      "text/plain": [
       "147.4"
      ]
     },
     "execution_count": 252,
     "metadata": {},
     "output_type": "execute_result"
    }
   ],
   "source": [
    "_15_Cities_Countries_meanrank=France_meanrank\n",
    "_15_Cities_Countries_meanrank"
   ]
  },
  {
   "cell_type": "code",
   "execution_count": 253,
   "id": "beeb23e2",
   "metadata": {},
   "outputs": [
    {
     "data": {
      "text/plain": [
       "108.58490566037736"
      ]
     },
     "execution_count": 253,
     "metadata": {},
     "output_type": "execute_result"
    }
   ],
   "source": [
    "_106_Cities_Countries_meanrank=USA_meanrank\n",
    "_106_Cities_Countries_meanrank"
   ]
  },
  {
   "cell_type": "code",
   "execution_count": 254,
   "id": "2eb559a3",
   "metadata": {},
   "outputs": [
    {
     "data": {
      "text/plain": [
       "130.54267540635468"
      ]
     },
     "execution_count": 254,
     "metadata": {},
     "output_type": "execute_result"
    }
   ],
   "source": [
    "Total__Cities_Countries_meanrank=(_1_City_Countries_meanrank+_2_Cities_Countries_meanrank+_3_Cities_Countries_meanrank+_4_Cities_Countries_meanrank+_5_Cities_Countries_meanrank+_6_Cities_Countries_meanrank+_8_Cities_Countries_meanrank+_9_Cities_Countries_meanrank+_10_Cities_Countries_meanrank+_15_Cities_Countries_meanrank+_106_Cities_Countries_meanrank)/11\n",
    "Total__Cities_Countries_meanrank"
   ]
  },
  {
   "cell_type": "code",
   "execution_count": 255,
   "id": "3d840e2c",
   "metadata": {},
   "outputs": [
    {
     "data": {
      "text/plain": [
       "250"
      ]
     },
     "execution_count": 255,
     "metadata": {},
     "output_type": "execute_result"
    }
   ],
   "source": [
    "Total_No_of_Cities=(1*35)+(2*10)+(3*3)+(4*1)+(5*2)+(6*4)+(8*1)+(9*1)+(10*1)+(15*1)+(106*1)\n",
    "Total_No_of_Cities"
   ]
  },
  {
   "cell_type": "code",
   "execution_count": 256,
   "id": "5fba206d",
   "metadata": {},
   "outputs": [
    {
     "data": {
      "text/plain": [
       "676.6522054847669"
      ]
     },
     "execution_count": 256,
     "metadata": {},
     "output_type": "execute_result"
    }
   ],
   "source": [
    "Average_area_of_top_250_cities=676.6522054847669\n",
    "Average_area_of_top_250_cities"
   ]
  },
  {
   "cell_type": "code",
   "execution_count": 257,
   "id": "8c661e93",
   "metadata": {},
   "outputs": [
    {
     "data": {
      "text/plain": [
       "130.54267540635468"
      ]
     },
     "execution_count": 257,
     "metadata": {},
     "output_type": "execute_result"
    }
   ],
   "source": [
    "Average_area_of_top_250_cities_meanrank=130.54267540635468\n",
    "Average_area_of_top_250_cities_meanrank"
   ]
  },
  {
   "cell_type": "code",
   "execution_count": 258,
   "id": "e484e92e",
   "metadata": {},
   "outputs": [
    {
     "data": {
      "text/plain": [
       "130.54267540635468"
      ]
     },
     "execution_count": 258,
     "metadata": {},
     "output_type": "execute_result"
    }
   ],
   "source": [
    "minor_ratio=130.54267540635468-130\n",
    "Average_area_of_top_250_cities_meanrank"
   ]
  },
  {
   "cell_type": "markdown",
   "id": "1d97b61e",
   "metadata": {},
   "source": [
    "### 130 pretoria South Africa 673"
   ]
  },
  {
   "cell_type": "markdown",
   "id": "78d92ebf",
   "metadata": {},
   "source": [
    "### 131 quebec canada 669"
   ]
  },
  {
   "cell_type": "code",
   "execution_count": 259,
   "id": "1f91b28d",
   "metadata": {},
   "outputs": [
    {
     "data": {
      "text/plain": [
       "671.0"
      ]
     },
     "execution_count": 259,
     "metadata": {},
     "output_type": "execute_result"
    }
   ],
   "source": [
    " (669+673)/2"
   ]
  },
  {
   "cell_type": "code",
   "execution_count": 260,
   "id": "9abad1c6",
   "metadata": {},
   "outputs": [
    {
     "data": {
      "text/plain": [
       "3.6522054847669647"
      ]
     },
     "execution_count": 260,
     "metadata": {},
     "output_type": "execute_result"
    }
   ],
   "source": [
    "6.73*0.5426754063546753\n"
   ]
  },
  {
   "cell_type": "code",
   "execution_count": 261,
   "id": "0803194e",
   "metadata": {},
   "outputs": [
    {
     "data": {
      "text/plain": [
       "676.6522054847669"
      ]
     },
     "execution_count": 261,
     "metadata": {},
     "output_type": "execute_result"
    }
   ],
   "source": [
    "673+3.6522054847669647"
   ]
  },
  {
   "cell_type": "code",
   "execution_count": 262,
   "id": "b898a62f",
   "metadata": {},
   "outputs": [
    {
     "data": {
      "text/plain": [
       "Landarea    1035.468\n",
       "Density     3233.600\n",
       "dtype: float64"
      ]
     },
     "execution_count": 262,
     "metadata": {},
     "output_type": "execute_result"
    }
   ],
   "source": [
    "df333 = df[[\"Landarea\",\"Density\"]].mean()\n",
    "df333"
   ]
  },
  {
   "cell_type": "code",
   "execution_count": 263,
   "id": "7d3e2fc7",
   "metadata": {},
   "outputs": [
    {
     "data": {
      "text/plain": [
       "Landarea     685.0\n",
       "Density     1525.0\n",
       "dtype: float64"
      ]
     },
     "execution_count": 263,
     "metadata": {},
     "output_type": "execute_result"
    }
   ],
   "source": [
    "df334 = df[[\"Landarea\",\"Density\"]].median()\n",
    "df334"
   ]
  },
  {
   "cell_type": "code",
   "execution_count": 264,
   "id": "549fcf56",
   "metadata": {},
   "outputs": [
    {
     "data": {
      "text/html": [
       "<div>\n",
       "<style scoped>\n",
       "    .dataframe tbody tr th:only-of-type {\n",
       "        vertical-align: middle;\n",
       "    }\n",
       "\n",
       "    .dataframe tbody tr th {\n",
       "        vertical-align: top;\n",
       "    }\n",
       "\n",
       "    .dataframe thead th {\n",
       "        text-align: right;\n",
       "    }\n",
       "</style>\n",
       "<table border=\"1\" class=\"dataframe\">\n",
       "  <thead>\n",
       "    <tr style=\"text-align: right;\">\n",
       "      <th></th>\n",
       "      <th>Landarea</th>\n",
       "      <th>Density</th>\n",
       "    </tr>\n",
       "  </thead>\n",
       "  <tbody>\n",
       "    <tr>\n",
       "      <th>0</th>\n",
       "      <td>583</td>\n",
       "      <td>700</td>\n",
       "    </tr>\n",
       "  </tbody>\n",
       "</table>\n",
       "</div>"
      ],
      "text/plain": [
       "   Landarea  Density\n",
       "0       583      700"
      ]
     },
     "execution_count": 264,
     "metadata": {},
     "output_type": "execute_result"
    }
   ],
   "source": [
    "df335 = df[[\"Landarea\",\"Density\"]].mode()\n",
    "df335"
   ]
  },
  {
   "cell_type": "code",
   "execution_count": null,
   "id": "9cf4da2a",
   "metadata": {},
   "outputs": [],
   "source": []
  },
  {
   "cell_type": "code",
   "execution_count": 265,
   "id": "1c75dbb8",
   "metadata": {},
   "outputs": [],
   "source": [
    "# no_of_countries=pd.value_counts(df[\"Landarea\"])\n",
    "# no_of_countries"
   ]
  },
  {
   "cell_type": "code",
   "execution_count": 266,
   "id": "ab5bd850",
   "metadata": {},
   "outputs": [],
   "source": [
    "# no_of_countries=pd.value_counts(df[\"Density\"])\n",
    "# no_of_countries"
   ]
  },
  {
   "cell_type": "markdown",
   "id": "5119d2c8",
   "metadata": {},
   "source": [
    "## Finding an Average(optimal) Landarea as per Countrywise"
   ]
  },
  {
   "cell_type": "code",
   "execution_count": 267,
   "id": "8bea2846",
   "metadata": {},
   "outputs": [
    {
     "data": {
      "text/plain": [
       "583     7\n",
       "518     6\n",
       "479     6\n",
       "453     6\n",
       "531     4\n",
       "596     4\n",
       "389     4\n",
       "648     4\n",
       "544     4\n",
       "686     3\n",
       "712     3\n",
       "1295    2\n",
       "598     2\n",
       "600     2\n",
       "984     2\n",
       "568     2\n",
       "1740    2\n",
       "673     2\n",
       "466     2\n",
       "622     2\n",
       "465     2\n",
       "546     2\n",
       "414     2\n",
       "401     2\n",
       "777     2\n",
       "816     2\n",
       "411     2\n",
       "376     2\n",
       "829     2\n",
       "741     2\n",
       "427     2\n",
       "702     2\n",
       "569     1\n",
       "736     1\n",
       "580     1\n",
       "558     1\n",
       "738     1\n",
       "586     1\n",
       "587     1\n",
       "591     1\n",
       "739     1\n",
       "700     1\n",
       "599     1\n",
       "729     1\n",
       "620     1\n",
       "697     1\n",
       "721     1\n",
       "651     1\n",
       "667     1\n",
       "669     1\n",
       "713     1\n",
       "674     1\n",
       "677     1\n",
       "684     1\n",
       "727     1\n",
       "8683    1\n",
       "540     1\n",
       "469     1\n",
       "451     1\n",
       "450     1\n",
       "446     1\n",
       "438     1\n",
       "433     1\n",
       "421     1\n",
       "417     1\n",
       "407     1\n",
       "406     1\n",
       "404     1\n",
       "399     1\n",
       "390     1\n",
       "383     1\n",
       "372     1\n",
       "371     1\n",
       "370     1\n",
       "368     1\n",
       "457     1\n",
       "474     1\n",
       "536     1\n",
       "476     1\n",
       "534     1\n",
       "532     1\n",
       "524     1\n",
       "748     1\n",
       "517     1\n",
       "512     1\n",
       "511     1\n",
       "510     1\n",
       "508     1\n",
       "507     1\n",
       "505     1\n",
       "500     1\n",
       "497     1\n",
       "492     1\n",
       "490     1\n",
       "489     1\n",
       "484     1\n",
       "746     1\n",
       "764     1\n",
       "750     1\n",
       "2147    1\n",
       "2078    1\n",
       "2072    1\n",
       "2069    1\n",
       "2026    1\n",
       "1968    1\n",
       "1768    1\n",
       "1687    1\n",
       "1675    1\n",
       "1655    1\n",
       "1623    1\n",
       "1606    1\n",
       "1603    1\n",
       "1580    1\n",
       "1554    1\n",
       "1514    1\n",
       "1432    1\n",
       "1399    1\n",
       "1365    1\n",
       "1364    1\n",
       "2080    1\n",
       "2150    1\n",
       "1304    1\n",
       "2208    1\n",
       "5498    1\n",
       "5083    1\n",
       "4661    1\n",
       "4497    1\n",
       "4320    1\n",
       "3644    1\n",
       "3355    1\n",
       "3267    1\n",
       "2996    1\n",
       "2891    1\n",
       "2875    1\n",
       "2723    1\n",
       "2642    1\n",
       "2664    1\n",
       "2470    1\n",
       "2396    1\n",
       "2316    1\n",
       "2309    1\n",
       "2266    1\n",
       "1360    1\n",
       "1292    1\n",
       "751     1\n",
       "964     1\n",
       "954     1\n",
       "950     1\n",
       "945     1\n",
       "881     1\n",
       "879     1\n",
       "868     1\n",
       "850     1\n",
       "842     1\n",
       "838     1\n",
       "835     1\n",
       "828     1\n",
       "824     1\n",
       "813     1\n",
       "808     1\n",
       "803     1\n",
       "800     1\n",
       "797     1\n",
       "6993    1\n",
       "755     1\n",
       "956     1\n",
       "1010    1\n",
       "1261    1\n",
       "1013    1\n",
       "1228    1\n",
       "1216    1\n",
       "1205    1\n",
       "1204    1\n",
       "1174    1\n",
       "1166    1\n",
       "1136    1\n",
       "1131    1\n",
       "1126    1\n",
       "1120    1\n",
       "1116    1\n",
       "1101    1\n",
       "1063    1\n",
       "1057    1\n",
       "1056    1\n",
       "1049    1\n",
       "1036    1\n",
       "1030    1\n",
       "1016    1\n",
       "365     1\n",
       "Name: Landarea, dtype: int64"
      ]
     },
     "execution_count": 267,
     "metadata": {},
     "output_type": "execute_result"
    }
   ],
   "source": [
    "no_of_countries=pd.value_counts(df[\"Landarea\"])\n",
    "no_of_countries"
   ]
  },
  {
   "cell_type": "markdown",
   "id": "4a7a8aa0",
   "metadata": {},
   "source": [
    "### _ _ _ _ _ _ _ _ _ _ _ _ _ _ _ _ _ _ _ _ _ _ _ _ _ _ _ _ _ _ _ _ _ _ _ _ _ _ _ _ _ _ _ _ _ _  _ _ _ _ _ _ _ _ _ _ _ _ _"
   ]
  },
  {
   "cell_type": "markdown",
   "id": "72676e24",
   "metadata": {},
   "source": [
    "### 1)583 sqkm (7times)"
   ]
  },
  {
   "cell_type": "code",
   "execution_count": 268,
   "id": "acd205f1",
   "metadata": {},
   "outputs": [
    {
     "data": {
      "text/html": [
       "<div>\n",
       "<style scoped>\n",
       "    .dataframe tbody tr th:only-of-type {\n",
       "        vertical-align: middle;\n",
       "    }\n",
       "\n",
       "    .dataframe tbody tr th {\n",
       "        vertical-align: top;\n",
       "    }\n",
       "\n",
       "    .dataframe thead th {\n",
       "        text-align: right;\n",
       "    }\n",
       "</style>\n",
       "<table border=\"1\" class=\"dataframe\">\n",
       "  <thead>\n",
       "    <tr style=\"text-align: right;\">\n",
       "      <th></th>\n",
       "      <th>City</th>\n",
       "      <th>Country</th>\n",
       "      <th>Landarea</th>\n",
       "      <th>Density</th>\n",
       "    </tr>\n",
       "  </thead>\n",
       "  <tbody>\n",
       "    <tr>\n",
       "      <th>153</th>\n",
       "      <td>ankara</td>\n",
       "      <td>Turkey</td>\n",
       "      <td>583</td>\n",
       "      <td>5300</td>\n",
       "    </tr>\n",
       "    <tr>\n",
       "      <th>154</th>\n",
       "      <td>brasile</td>\n",
       "      <td>Brazil</td>\n",
       "      <td>583</td>\n",
       "      <td>2800</td>\n",
       "    </tr>\n",
       "    <tr>\n",
       "      <th>155</th>\n",
       "      <td>fortaleza</td>\n",
       "      <td>Brazil</td>\n",
       "      <td>583</td>\n",
       "      <td>4550</td>\n",
       "    </tr>\n",
       "    <tr>\n",
       "      <th>156</th>\n",
       "      <td>hyderabad</td>\n",
       "      <td>India</td>\n",
       "      <td>583</td>\n",
       "      <td>9100</td>\n",
       "    </tr>\n",
       "    <tr>\n",
       "      <th>157</th>\n",
       "      <td>khartoum</td>\n",
       "      <td>Sudan</td>\n",
       "      <td>583</td>\n",
       "      <td>6850</td>\n",
       "    </tr>\n",
       "    <tr>\n",
       "      <th>158</th>\n",
       "      <td>naples</td>\n",
       "      <td>Italy</td>\n",
       "      <td>583</td>\n",
       "      <td>4100</td>\n",
       "    </tr>\n",
       "    <tr>\n",
       "      <th>159</th>\n",
       "      <td>porto alegre</td>\n",
       "      <td>Brazil</td>\n",
       "      <td>583</td>\n",
       "      <td>4800</td>\n",
       "    </tr>\n",
       "  </tbody>\n",
       "</table>\n",
       "</div>"
      ],
      "text/plain": [
       "             City Country  Landarea  Density\n",
       "153        ankara  Turkey       583     5300\n",
       "154       brasile  Brazil       583     2800\n",
       "155     fortaleza  Brazil       583     4550\n",
       "156     hyderabad   India       583     9100\n",
       "157      khartoum   Sudan       583     6850\n",
       "158        naples   Italy       583     4100\n",
       "159  porto alegre  Brazil       583     4800"
      ]
     },
     "execution_count": 268,
     "metadata": {},
     "output_type": "execute_result"
    }
   ],
   "source": [
    "df50 = df[df['Landarea'].isin([583])]\n",
    "df50\n"
   ]
  },
  {
   "cell_type": "code",
   "execution_count": 269,
   "id": "9a0da15a",
   "metadata": {},
   "outputs": [
    {
     "data": {
      "text/plain": [
       "Int64Index([153, 154, 155, 156, 157, 158, 159], dtype='int64')"
      ]
     },
     "execution_count": 269,
     "metadata": {},
     "output_type": "execute_result"
    }
   ],
   "source": [
    "df50.index"
   ]
  },
  {
   "cell_type": "code",
   "execution_count": 270,
   "id": "c12543c4",
   "metadata": {},
   "outputs": [
    {
     "data": {
      "text/plain": [
       "7"
      ]
     },
     "execution_count": 270,
     "metadata": {},
     "output_type": "execute_result"
    }
   ],
   "source": [
    "len(df50)"
   ]
  },
  {
   "cell_type": "code",
   "execution_count": 271,
   "id": "782eccbe",
   "metadata": {},
   "outputs": [
    {
     "data": {
      "text/plain": [
       "156.0"
      ]
     },
     "execution_count": 271,
     "metadata": {},
     "output_type": "execute_result"
    }
   ],
   "source": [
    "_583_meanrank=(153+154+155+156+157+158+159)/7\n",
    "_583_meanrank"
   ]
  },
  {
   "cell_type": "markdown",
   "id": "774bdf43",
   "metadata": {},
   "source": [
    "### _ _ _ _ _ _ _ _ _ _ _ _ _ _ _ _ _ _ _ _ _ _ _ _ _ _ _ _ _ _ _ _ _ _ _ _ _ _ _ _ _ _ _ _ _ _  _ _ _ _ _ _ _ _ _ _ _ _ _\""
   ]
  },
  {
   "cell_type": "code",
   "execution_count": 272,
   "id": "5228b3b2",
   "metadata": {},
   "outputs": [
    {
     "data": {
      "text/plain": [
       "156.0"
      ]
     },
     "execution_count": 272,
     "metadata": {},
     "output_type": "execute_result"
    }
   ],
   "source": [
    "_7_Times_meanrank=_583_meanrank\n",
    "_7_Times_meanrank"
   ]
  },
  {
   "cell_type": "markdown",
   "id": "db6715d3",
   "metadata": {},
   "source": [
    "## 156\thyderabad\tIndia\t583(area)\t9100(Density)"
   ]
  },
  {
   "cell_type": "markdown",
   "id": "e4e3cc3f",
   "metadata": {},
   "source": [
    "### _ _ _ _ _ _ _ _ _ _ _ _ _ _ _ _ _ _ _ _ _ _ _ _ _ _ _ _ _ _ _ _ _ _ _ _ _ _ _ _ _ _ _ _ _ _  _ _ _ _ _ _ _ _ _ _ _ _ _\""
   ]
  },
  {
   "cell_type": "markdown",
   "id": "2e749f47",
   "metadata": {},
   "source": [
    "## 6 Times"
   ]
  },
  {
   "cell_type": "markdown",
   "id": "c2e33f9d",
   "metadata": {},
   "source": [
    "### _ _ _ _ _ _ _ _ _ _ _ _ _ _ _ _ _ _ _ _ _ _ _ _ _ _ _ _ _ _ _ _ _ _ _ _ _ _ _ _ _ _ _ _ _ _  _ _ _ _ _ _ _ _ _ _ _ _ _"
   ]
  },
  {
   "cell_type": "markdown",
   "id": "7cff2de6",
   "metadata": {},
   "source": [
    "### 1)518 sqkm "
   ]
  },
  {
   "cell_type": "code",
   "execution_count": 273,
   "id": "5297ae20",
   "metadata": {},
   "outputs": [
    {
     "data": {
      "text/html": [
       "<div>\n",
       "<style scoped>\n",
       "    .dataframe tbody tr th:only-of-type {\n",
       "        vertical-align: middle;\n",
       "    }\n",
       "\n",
       "    .dataframe tbody tr th {\n",
       "        vertical-align: top;\n",
       "    }\n",
       "\n",
       "    .dataframe thead th {\n",
       "        text-align: right;\n",
       "    }\n",
       "</style>\n",
       "<table border=\"1\" class=\"dataframe\">\n",
       "  <thead>\n",
       "    <tr style=\"text-align: right;\">\n",
       "      <th></th>\n",
       "      <th>City</th>\n",
       "      <th>Country</th>\n",
       "      <th>Landarea</th>\n",
       "      <th>Density</th>\n",
       "    </tr>\n",
       "  </thead>\n",
       "  <tbody>\n",
       "    <tr>\n",
       "      <th>180</th>\n",
       "      <td>bogota</td>\n",
       "      <td>Colombia</td>\n",
       "      <td>518</td>\n",
       "      <td>13500</td>\n",
       "    </tr>\n",
       "    <tr>\n",
       "      <th>181</th>\n",
       "      <td>hochi minh city</td>\n",
       "      <td>Vietnam</td>\n",
       "      <td>518</td>\n",
       "      <td>9450</td>\n",
       "    </tr>\n",
       "    <tr>\n",
       "      <th>182</th>\n",
       "      <td>karachi</td>\n",
       "      <td>Pakistan</td>\n",
       "      <td>518</td>\n",
       "      <td>8900</td>\n",
       "    </tr>\n",
       "    <tr>\n",
       "      <th>183</th>\n",
       "      <td>munichi</td>\n",
       "      <td>Germany</td>\n",
       "      <td>518</td>\n",
       "      <td>3100</td>\n",
       "    </tr>\n",
       "    <tr>\n",
       "      <th>184</th>\n",
       "      <td>phnompenh</td>\n",
       "      <td>Cambodia</td>\n",
       "      <td>518</td>\n",
       "      <td>2900</td>\n",
       "    </tr>\n",
       "    <tr>\n",
       "      <th>185</th>\n",
       "      <td>stockholm</td>\n",
       "      <td>Sweden</td>\n",
       "      <td>518</td>\n",
       "      <td>2700</td>\n",
       "    </tr>\n",
       "  </tbody>\n",
       "</table>\n",
       "</div>"
      ],
      "text/plain": [
       "                City   Country  Landarea  Density\n",
       "180           bogota  Colombia       518    13500\n",
       "181  hochi minh city   Vietnam       518     9450\n",
       "182          karachi  Pakistan       518     8900\n",
       "183          munichi   Germany       518     3100\n",
       "184        phnompenh  Cambodia       518     2900\n",
       "185        stockholm    Sweden       518     2700"
      ]
     },
     "execution_count": 273,
     "metadata": {},
     "output_type": "execute_result"
    }
   ],
   "source": [
    "df51 = df[df['Landarea'].isin([518])]\n",
    "df51"
   ]
  },
  {
   "cell_type": "code",
   "execution_count": 274,
   "id": "6854a444",
   "metadata": {},
   "outputs": [
    {
     "data": {
      "text/plain": [
       "6"
      ]
     },
     "execution_count": 274,
     "metadata": {},
     "output_type": "execute_result"
    }
   ],
   "source": [
    "len(df51)"
   ]
  },
  {
   "cell_type": "code",
   "execution_count": 275,
   "id": "0b0b5ade",
   "metadata": {},
   "outputs": [
    {
     "data": {
      "text/plain": [
       "182.5"
      ]
     },
     "execution_count": 275,
     "metadata": {},
     "output_type": "execute_result"
    }
   ],
   "source": [
    "_518_meanrank=(180+181+182+183+184+185)/6\n",
    "_518_meanrank"
   ]
  },
  {
   "cell_type": "markdown",
   "id": "5e5ea34a",
   "metadata": {},
   "source": [
    "### _ _ _ _ _ _ _ _ _ _ _ _ _ _ _ _ _ _ _ _ _ _ _ _ _ _ _ _ _ _ _ _ _ _ _ _ _ _ _ _ _ _ _ _ _ _  _ _ _ _ _ _ _ _ _ _ _ _ _"
   ]
  },
  {
   "cell_type": "markdown",
   "id": "f89e3973",
   "metadata": {},
   "source": [
    "### 2) 479 sqkm "
   ]
  },
  {
   "cell_type": "code",
   "execution_count": 276,
   "id": "fc60e320",
   "metadata": {},
   "outputs": [
    {
     "data": {
      "text/html": [
       "<div>\n",
       "<style scoped>\n",
       "    .dataframe tbody tr th:only-of-type {\n",
       "        vertical-align: middle;\n",
       "    }\n",
       "\n",
       "    .dataframe tbody tr th {\n",
       "        vertical-align: top;\n",
       "    }\n",
       "\n",
       "    .dataframe thead th {\n",
       "        text-align: right;\n",
       "    }\n",
       "</style>\n",
       "<table border=\"1\" class=\"dataframe\">\n",
       "  <thead>\n",
       "    <tr style=\"text-align: right;\">\n",
       "      <th></th>\n",
       "      <th>City</th>\n",
       "      <th>Country</th>\n",
       "      <th>Landarea</th>\n",
       "      <th>Density</th>\n",
       "    </tr>\n",
       "  </thead>\n",
       "  <tbody>\n",
       "    <tr>\n",
       "      <th>199</th>\n",
       "      <td>goiania</td>\n",
       "      <td>Brazil</td>\n",
       "      <td>479</td>\n",
       "      <td>3100</td>\n",
       "    </tr>\n",
       "    <tr>\n",
       "      <th>200</th>\n",
       "      <td>helsinki</td>\n",
       "      <td>Finland</td>\n",
       "      <td>479</td>\n",
       "      <td>2100</td>\n",
       "    </tr>\n",
       "    <tr>\n",
       "      <th>201</th>\n",
       "      <td>monterey</td>\n",
       "      <td>Mexico</td>\n",
       "      <td>479</td>\n",
       "      <td>6700</td>\n",
       "    </tr>\n",
       "    <tr>\n",
       "      <th>202</th>\n",
       "      <td>quito</td>\n",
       "      <td>Ecuador</td>\n",
       "      <td>479</td>\n",
       "      <td>3150</td>\n",
       "    </tr>\n",
       "    <tr>\n",
       "      <th>203</th>\n",
       "      <td>singapore</td>\n",
       "      <td>Singapore</td>\n",
       "      <td>479</td>\n",
       "      <td>8350</td>\n",
       "    </tr>\n",
       "    <tr>\n",
       "      <th>204</th>\n",
       "      <td>vereeniging</td>\n",
       "      <td>South Africa</td>\n",
       "      <td>479</td>\n",
       "      <td>1250</td>\n",
       "    </tr>\n",
       "  </tbody>\n",
       "</table>\n",
       "</div>"
      ],
      "text/plain": [
       "            City       Country  Landarea  Density\n",
       "199      goiania        Brazil       479     3100\n",
       "200     helsinki       Finland       479     2100\n",
       "201     monterey        Mexico       479     6700\n",
       "202        quito       Ecuador       479     3150\n",
       "203    singapore     Singapore       479     8350\n",
       "204  vereeniging  South Africa       479     1250"
      ]
     },
     "execution_count": 276,
     "metadata": {},
     "output_type": "execute_result"
    }
   ],
   "source": [
    "df52 = df[df['Landarea'].isin([479])]\n",
    "df52"
   ]
  },
  {
   "cell_type": "code",
   "execution_count": 277,
   "id": "47d264d3",
   "metadata": {},
   "outputs": [
    {
     "data": {
      "text/plain": [
       "Int64Index([199, 200, 201, 202, 203, 204], dtype='int64')"
      ]
     },
     "execution_count": 277,
     "metadata": {},
     "output_type": "execute_result"
    }
   ],
   "source": [
    "df52.index"
   ]
  },
  {
   "cell_type": "code",
   "execution_count": 278,
   "id": "f93698de",
   "metadata": {},
   "outputs": [
    {
     "data": {
      "text/plain": [
       "6"
      ]
     },
     "execution_count": 278,
     "metadata": {},
     "output_type": "execute_result"
    }
   ],
   "source": [
    "len(df52)"
   ]
  },
  {
   "cell_type": "code",
   "execution_count": 279,
   "id": "a24593fe",
   "metadata": {},
   "outputs": [
    {
     "data": {
      "text/plain": [
       "201.5"
      ]
     },
     "execution_count": 279,
     "metadata": {},
     "output_type": "execute_result"
    }
   ],
   "source": [
    "_479_meanrank=(199+200+201+202+203+204)/6\n",
    "_479_meanrank"
   ]
  },
  {
   "cell_type": "markdown",
   "id": "a3ca8ba5",
   "metadata": {},
   "source": [
    "### _ _ _ _ _ _ _ _ _ _ _ _ _ _ _ _ _ _ _ _ _ _ _ _ _ _ _ _ _ _ _ _ _ _ _ _ _ _ _ _ _ _ _ _ _ _  _ _ _ _ _ _ _ _ _ _ _ _ _"
   ]
  },
  {
   "cell_type": "markdown",
   "id": "4b3f8268",
   "metadata": {},
   "source": [
    "### 3)453sqkm "
   ]
  },
  {
   "cell_type": "code",
   "execution_count": 280,
   "id": "5cdc7fc2",
   "metadata": {
    "scrolled": true
   },
   "outputs": [
    {
     "data": {
      "text/html": [
       "<div>\n",
       "<style scoped>\n",
       "    .dataframe tbody tr th:only-of-type {\n",
       "        vertical-align: middle;\n",
       "    }\n",
       "\n",
       "    .dataframe tbody tr th {\n",
       "        vertical-align: top;\n",
       "    }\n",
       "\n",
       "    .dataframe thead th {\n",
       "        text-align: right;\n",
       "    }\n",
       "</style>\n",
       "<table border=\"1\" class=\"dataframe\">\n",
       "  <thead>\n",
       "    <tr style=\"text-align: right;\">\n",
       "      <th></th>\n",
       "      <th>City</th>\n",
       "      <th>Country</th>\n",
       "      <th>Landarea</th>\n",
       "      <th>Density</th>\n",
       "    </tr>\n",
       "  </thead>\n",
       "  <tbody>\n",
       "    <tr>\n",
       "      <th>213</th>\n",
       "      <td>concord</td>\n",
       "      <td>USA</td>\n",
       "      <td>453</td>\n",
       "      <td>1200</td>\n",
       "    </tr>\n",
       "    <tr>\n",
       "      <th>214</th>\n",
       "      <td>accra</td>\n",
       "      <td>Ghana</td>\n",
       "      <td>453</td>\n",
       "      <td>3300</td>\n",
       "    </tr>\n",
       "    <tr>\n",
       "      <th>215</th>\n",
       "      <td>shenyang</td>\n",
       "      <td>China</td>\n",
       "      <td>453</td>\n",
       "      <td>9250</td>\n",
       "    </tr>\n",
       "    <tr>\n",
       "      <th>216</th>\n",
       "      <td>tel aviv</td>\n",
       "      <td>Israel</td>\n",
       "      <td>453</td>\n",
       "      <td>5050</td>\n",
       "    </tr>\n",
       "    <tr>\n",
       "      <th>217</th>\n",
       "      <td>tianjin</td>\n",
       "      <td>China</td>\n",
       "      <td>453</td>\n",
       "      <td>10500</td>\n",
       "    </tr>\n",
       "    <tr>\n",
       "      <th>218</th>\n",
       "      <td>vienna</td>\n",
       "      <td>Austria</td>\n",
       "      <td>453</td>\n",
       "      <td>3400</td>\n",
       "    </tr>\n",
       "  </tbody>\n",
       "</table>\n",
       "</div>"
      ],
      "text/plain": [
       "         City  Country  Landarea  Density\n",
       "213   concord      USA       453     1200\n",
       "214     accra    Ghana       453     3300\n",
       "215  shenyang    China       453     9250\n",
       "216  tel aviv   Israel       453     5050\n",
       "217   tianjin    China       453    10500\n",
       "218    vienna  Austria       453     3400"
      ]
     },
     "execution_count": 280,
     "metadata": {},
     "output_type": "execute_result"
    }
   ],
   "source": [
    "df53 = df[df['Landarea'].isin([453])]\n",
    "df53"
   ]
  },
  {
   "cell_type": "code",
   "execution_count": 281,
   "id": "0483e75c",
   "metadata": {},
   "outputs": [
    {
     "data": {
      "text/plain": [
       "Int64Index([213, 214, 215, 216, 217, 218], dtype='int64')"
      ]
     },
     "execution_count": 281,
     "metadata": {},
     "output_type": "execute_result"
    }
   ],
   "source": [
    "df53.index"
   ]
  },
  {
   "cell_type": "code",
   "execution_count": 282,
   "id": "9190e368",
   "metadata": {},
   "outputs": [
    {
     "data": {
      "text/plain": [
       "6"
      ]
     },
     "execution_count": 282,
     "metadata": {},
     "output_type": "execute_result"
    }
   ],
   "source": [
    "len(df53)"
   ]
  },
  {
   "cell_type": "code",
   "execution_count": 283,
   "id": "a621e3a4",
   "metadata": {},
   "outputs": [
    {
     "data": {
      "text/plain": [
       "215.5"
      ]
     },
     "execution_count": 283,
     "metadata": {},
     "output_type": "execute_result"
    }
   ],
   "source": [
    "_453_meanrank=(213+214+215+216+217+218)/6\n",
    "_453_meanrank"
   ]
  },
  {
   "cell_type": "markdown",
   "id": "5b7d5a91",
   "metadata": {},
   "source": [
    "### _ _ _ _ _ _ _ _ _ _ _ _ _ _ _ _ _ _ _ _ _ _ _ _ _ _ _ _ _ _ _ _ _ _ _ _ _ _ _ _ _ _ _ _ _ _  _ _ _ _ _ _ _ _ _ _ _ _ _"
   ]
  },
  {
   "cell_type": "code",
   "execution_count": 284,
   "id": "eea13142",
   "metadata": {},
   "outputs": [
    {
     "data": {
      "text/plain": [
       "199.83333333333334"
      ]
     },
     "execution_count": 284,
     "metadata": {},
     "output_type": "execute_result"
    }
   ],
   "source": [
    "_6_Times_meanrank=(215.5+201.5+182.5)/3\n",
    "_6_Times_meanrank"
   ]
  },
  {
   "cell_type": "markdown",
   "id": "e12c202a",
   "metadata": {},
   "source": [
    "## 199\tgoiania\tBrazil\t479(Area)\t3100(Density)"
   ]
  },
  {
   "cell_type": "code",
   "execution_count": 356,
   "id": "c2d67398",
   "metadata": {},
   "outputs": [
    {
     "data": {
      "text/plain": [
       "3.9916666666666987"
      ]
     },
     "execution_count": 356,
     "metadata": {},
     "output_type": "execute_result"
    }
   ],
   "source": [
    "4.79*.83333333333334"
   ]
  },
  {
   "cell_type": "code",
   "execution_count": 357,
   "id": "4ce317ac",
   "metadata": {},
   "outputs": [
    {
     "data": {
      "text/plain": [
       "482.9916666666667"
      ]
     },
     "execution_count": 357,
     "metadata": {},
     "output_type": "execute_result"
    }
   ],
   "source": [
    "479+3.9916666666666987"
   ]
  },
  {
   "cell_type": "markdown",
   "id": "976d914f",
   "metadata": {},
   "source": [
    "### _ _ _ _ _ _ _ _ _ _ _ _ _ _ _ _ _ _ _ _ _ _ _ _ _ _ _ _ _ _ _ _ _ _ _ _ _ _ _ _ _ _ _ _ _ _  _ _ _ _ _ _ _ _ _ _ _ _ _"
   ]
  },
  {
   "cell_type": "markdown",
   "id": "d15d5072",
   "metadata": {},
   "source": [
    "### _ _ _ _ _ _ _ _ _ _ _ _ _ _ _ _ _ _ _ _ _ _ _ _ _ _ _ _ _ _ _ _ _ _ _ _ _ _ _ _ _ _ _ _ _ _  _ _ _ _ _ _ _ _ _ _ _ _ _"
   ]
  },
  {
   "cell_type": "markdown",
   "id": "9e89523d",
   "metadata": {},
   "source": [
    "## 4 Times"
   ]
  },
  {
   "cell_type": "markdown",
   "id": "b2de35d6",
   "metadata": {},
   "source": [
    "### _ _ _ _ _ _ _ _ _ _ _ _ _ _ _ _ _ _ _ _ _ _ _ _ _ _ _ _ _ _ _ _ _ _ _ _ _ _ _ _ _ _ _ _ _ _  _ _ _ _ _ _ _ _ _ _ _ _ _"
   ]
  },
  {
   "cell_type": "markdown",
   "id": "4260fa50",
   "metadata": {},
   "source": [
    "### 1) 531 sqkm "
   ]
  },
  {
   "cell_type": "code",
   "execution_count": 285,
   "id": "71370a6c",
   "metadata": {},
   "outputs": [
    {
     "data": {
      "text/html": [
       "<div>\n",
       "<style scoped>\n",
       "    .dataframe tbody tr th:only-of-type {\n",
       "        vertical-align: middle;\n",
       "    }\n",
       "\n",
       "    .dataframe tbody tr th {\n",
       "        vertical-align: top;\n",
       "    }\n",
       "\n",
       "    .dataframe thead th {\n",
       "        text-align: right;\n",
       "    }\n",
       "</style>\n",
       "<table border=\"1\" class=\"dataframe\">\n",
       "  <thead>\n",
       "    <tr style=\"text-align: right;\">\n",
       "      <th></th>\n",
       "      <th>City</th>\n",
       "      <th>Country</th>\n",
       "      <th>Landarea</th>\n",
       "      <th>Density</th>\n",
       "    </tr>\n",
       "  </thead>\n",
       "  <tbody>\n",
       "    <tr>\n",
       "      <th>175</th>\n",
       "      <td>auck land</td>\n",
       "      <td>New Zealand</td>\n",
       "      <td>531</td>\n",
       "      <td>2000</td>\n",
       "    </tr>\n",
       "    <tr>\n",
       "      <th>176</th>\n",
       "      <td>kolkata</td>\n",
       "      <td>India</td>\n",
       "      <td>531</td>\n",
       "      <td>23900</td>\n",
       "    </tr>\n",
       "    <tr>\n",
       "      <th>177</th>\n",
       "      <td>rotterdam</td>\n",
       "      <td>Netherlands</td>\n",
       "      <td>531</td>\n",
       "      <td>2500</td>\n",
       "    </tr>\n",
       "    <tr>\n",
       "      <th>178</th>\n",
       "      <td>tashkent</td>\n",
       "      <td>Uzbekistan</td>\n",
       "      <td>531</td>\n",
       "      <td>4150</td>\n",
       "    </tr>\n",
       "  </tbody>\n",
       "</table>\n",
       "</div>"
      ],
      "text/plain": [
       "          City      Country  Landarea  Density\n",
       "175  auck land  New Zealand       531     2000\n",
       "176    kolkata        India       531    23900\n",
       "177  rotterdam  Netherlands       531     2500\n",
       "178   tashkent   Uzbekistan       531     4150"
      ]
     },
     "execution_count": 285,
     "metadata": {},
     "output_type": "execute_result"
    }
   ],
   "source": [
    "df54 = df[df['Landarea'].isin([531])]\n",
    "df54"
   ]
  },
  {
   "cell_type": "code",
   "execution_count": 286,
   "id": "e33e63b5",
   "metadata": {},
   "outputs": [
    {
     "data": {
      "text/plain": [
       "Int64Index([175, 176, 177, 178], dtype='int64')"
      ]
     },
     "execution_count": 286,
     "metadata": {},
     "output_type": "execute_result"
    }
   ],
   "source": [
    "df54.index"
   ]
  },
  {
   "cell_type": "code",
   "execution_count": 287,
   "id": "6cae1488",
   "metadata": {},
   "outputs": [
    {
     "data": {
      "text/plain": [
       "176.5"
      ]
     },
     "execution_count": 287,
     "metadata": {},
     "output_type": "execute_result"
    }
   ],
   "source": [
    "_531_meanrank=(175+176+177+178)/4\n",
    "_531_meanrank"
   ]
  },
  {
   "cell_type": "markdown",
   "id": "0dd7f61d",
   "metadata": {},
   "source": [
    "### _ _ _ _ _ _ _ _ _ _ _ _ _ _ _ _ _ _ _ _ _ _ _ _ _ _ _ _ _ _ _ _ _ _ _ _ _ _ _ _ _ _ _ _ _ _  _ _ _ _ _ _ _ _ _ _ _ _ _"
   ]
  },
  {
   "cell_type": "markdown",
   "id": "1acd92cb",
   "metadata": {},
   "source": [
    "### 2)596 "
   ]
  },
  {
   "cell_type": "code",
   "execution_count": 288,
   "id": "d7a0f7df",
   "metadata": {},
   "outputs": [
    {
     "data": {
      "text/html": [
       "<div>\n",
       "<style scoped>\n",
       "    .dataframe tbody tr th:only-of-type {\n",
       "        vertical-align: middle;\n",
       "    }\n",
       "\n",
       "    .dataframe tbody tr th {\n",
       "        vertical-align: top;\n",
       "    }\n",
       "\n",
       "    .dataframe thead th {\n",
       "        text-align: right;\n",
       "    }\n",
       "</style>\n",
       "<table border=\"1\" class=\"dataframe\">\n",
       "  <thead>\n",
       "    <tr style=\"text-align: right;\">\n",
       "      <th></th>\n",
       "      <th>City</th>\n",
       "      <th>Country</th>\n",
       "      <th>Landarea</th>\n",
       "      <th>Density</th>\n",
       "    </tr>\n",
       "  </thead>\n",
       "  <tbody>\n",
       "    <tr>\n",
       "      <th>146</th>\n",
       "      <td>antwerp</td>\n",
       "      <td>Belgium</td>\n",
       "      <td>596</td>\n",
       "      <td>1550</td>\n",
       "    </tr>\n",
       "    <tr>\n",
       "      <th>147</th>\n",
       "      <td>baghdad</td>\n",
       "      <td>Iraq</td>\n",
       "      <td>596</td>\n",
       "      <td>9250</td>\n",
       "    </tr>\n",
       "    <tr>\n",
       "      <th>148</th>\n",
       "      <td>guadalajara</td>\n",
       "      <td>Mexico</td>\n",
       "      <td>596</td>\n",
       "      <td>5900</td>\n",
       "    </tr>\n",
       "    <tr>\n",
       "      <th>149</th>\n",
       "      <td>lima</td>\n",
       "      <td>Peru</td>\n",
       "      <td>596</td>\n",
       "      <td>11750</td>\n",
       "    </tr>\n",
       "  </tbody>\n",
       "</table>\n",
       "</div>"
      ],
      "text/plain": [
       "            City  Country  Landarea  Density\n",
       "146      antwerp  Belgium       596     1550\n",
       "147      baghdad     Iraq       596     9250\n",
       "148  guadalajara   Mexico       596     5900\n",
       "149         lima     Peru       596    11750"
      ]
     },
     "execution_count": 288,
     "metadata": {},
     "output_type": "execute_result"
    }
   ],
   "source": [
    "df55= df[df['Landarea'].isin([596])]\n",
    "df55"
   ]
  },
  {
   "cell_type": "code",
   "execution_count": 289,
   "id": "70c7aa79",
   "metadata": {},
   "outputs": [
    {
     "data": {
      "text/plain": [
       "Int64Index([146, 147, 148, 149], dtype='int64')"
      ]
     },
     "execution_count": 289,
     "metadata": {},
     "output_type": "execute_result"
    }
   ],
   "source": [
    "df55.index"
   ]
  },
  {
   "cell_type": "code",
   "execution_count": 290,
   "id": "f2942ebd",
   "metadata": {},
   "outputs": [
    {
     "data": {
      "text/plain": [
       "147.5"
      ]
     },
     "execution_count": 290,
     "metadata": {},
     "output_type": "execute_result"
    }
   ],
   "source": [
    "_596_meanrank=(146+147+148+149)/4\n",
    "_596_meanrank"
   ]
  },
  {
   "cell_type": "markdown",
   "id": "f6a21acc",
   "metadata": {},
   "source": [
    "### _ _ _ _ _ _ _ _ _ _ _ _ _ _ _ _ _ _ _ _ _ _ _ _ _ _ _ _ _ _ _ _ _ _ _ _ _ _ _ _ _ _ _ _ _ _  _ _ _ _ _ _ _ _ _ _ _ _ _"
   ]
  },
  {
   "cell_type": "markdown",
   "id": "fc6fb1ca",
   "metadata": {},
   "source": [
    "### 3) 389 "
   ]
  },
  {
   "cell_type": "code",
   "execution_count": 291,
   "id": "2bd7c9e5",
   "metadata": {},
   "outputs": [
    {
     "data": {
      "text/html": [
       "<div>\n",
       "<style scoped>\n",
       "    .dataframe tbody tr th:only-of-type {\n",
       "        vertical-align: middle;\n",
       "    }\n",
       "\n",
       "    .dataframe tbody tr th {\n",
       "        vertical-align: top;\n",
       "    }\n",
       "\n",
       "    .dataframe thead th {\n",
       "        text-align: right;\n",
       "    }\n",
       "</style>\n",
       "<table border=\"1\" class=\"dataframe\">\n",
       "  <thead>\n",
       "    <tr style=\"text-align: right;\">\n",
       "      <th></th>\n",
       "      <th>City</th>\n",
       "      <th>Country</th>\n",
       "      <th>Landarea</th>\n",
       "      <th>Density</th>\n",
       "    </tr>\n",
       "  </thead>\n",
       "  <tbody>\n",
       "    <tr>\n",
       "      <th>239</th>\n",
       "      <td>bonita springs /naples</td>\n",
       "      <td>USA</td>\n",
       "      <td>389</td>\n",
       "      <td>550</td>\n",
       "    </tr>\n",
       "    <tr>\n",
       "      <th>240</th>\n",
       "      <td>dalian</td>\n",
       "      <td>China</td>\n",
       "      <td>389</td>\n",
       "      <td>7100</td>\n",
       "    </tr>\n",
       "    <tr>\n",
       "      <th>241</th>\n",
       "      <td>porto</td>\n",
       "      <td>Portugal</td>\n",
       "      <td>389</td>\n",
       "      <td>2650</td>\n",
       "    </tr>\n",
       "    <tr>\n",
       "      <th>242</th>\n",
       "      <td>st.cathariness</td>\n",
       "      <td>Canada</td>\n",
       "      <td>389</td>\n",
       "      <td>750</td>\n",
       "    </tr>\n",
       "  </tbody>\n",
       "</table>\n",
       "</div>"
      ],
      "text/plain": [
       "                       City   Country  Landarea  Density\n",
       "239  bonita springs /naples       USA       389      550\n",
       "240                  dalian     China       389     7100\n",
       "241                  porto   Portugal       389     2650\n",
       "242          st.cathariness    Canada       389      750"
      ]
     },
     "execution_count": 291,
     "metadata": {},
     "output_type": "execute_result"
    }
   ],
   "source": [
    "df56= df[df['Landarea'].isin([389])]\n",
    "df56"
   ]
  },
  {
   "cell_type": "code",
   "execution_count": 292,
   "id": "d0f7cf8b",
   "metadata": {},
   "outputs": [
    {
     "data": {
      "text/plain": [
       "Int64Index([239, 240, 241, 242], dtype='int64')"
      ]
     },
     "execution_count": 292,
     "metadata": {},
     "output_type": "execute_result"
    }
   ],
   "source": [
    "df56.index"
   ]
  },
  {
   "cell_type": "code",
   "execution_count": 293,
   "id": "4931ab2c",
   "metadata": {},
   "outputs": [
    {
     "data": {
      "text/plain": [
       "284.625"
      ]
     },
     "execution_count": 293,
     "metadata": {},
     "output_type": "execute_result"
    }
   ],
   "source": [
    "_389_meanrank=(239+240+241+242+176.5)/4\n",
    "_389_meanrank"
   ]
  },
  {
   "cell_type": "markdown",
   "id": "b22222e6",
   "metadata": {},
   "source": [
    "### _ _ _ _ _ _ _ _ _ _ _ _ _ _ _ _ _ _ _ _ _ _ _ _ _ _ _ _ _ _ _ _ _ _ _ _ _ _ _ _ _ _ _ _ _ _  _ _ _ _ _ _ _ _ _ _ _ _ _"
   ]
  },
  {
   "cell_type": "markdown",
   "id": "e1a527a7",
   "metadata": {},
   "source": [
    "### 4) 648 "
   ]
  },
  {
   "cell_type": "code",
   "execution_count": 294,
   "id": "c71495b1",
   "metadata": {},
   "outputs": [
    {
     "data": {
      "text/html": [
       "<div>\n",
       "<style scoped>\n",
       "    .dataframe tbody tr th:only-of-type {\n",
       "        vertical-align: middle;\n",
       "    }\n",
       "\n",
       "    .dataframe tbody tr th {\n",
       "        vertical-align: top;\n",
       "    }\n",
       "\n",
       "    .dataframe thead th {\n",
       "        text-align: right;\n",
       "    }\n",
       "</style>\n",
       "<table border=\"1\" class=\"dataframe\">\n",
       "  <thead>\n",
       "    <tr style=\"text-align: right;\">\n",
       "      <th></th>\n",
       "      <th>City</th>\n",
       "      <th>Country</th>\n",
       "      <th>Landarea</th>\n",
       "      <th>Density</th>\n",
       "    </tr>\n",
       "  </thead>\n",
       "  <tbody>\n",
       "    <tr>\n",
       "      <th>134</th>\n",
       "      <td>beirut</td>\n",
       "      <td>lebanon</td>\n",
       "      <td>648</td>\n",
       "      <td>2800</td>\n",
       "    </tr>\n",
       "    <tr>\n",
       "      <th>135</th>\n",
       "      <td>curitiba</td>\n",
       "      <td>Brazil</td>\n",
       "      <td>648</td>\n",
       "      <td>3850</td>\n",
       "    </tr>\n",
       "    <tr>\n",
       "      <th>136</th>\n",
       "      <td>santiago</td>\n",
       "      <td>Chile</td>\n",
       "      <td>648</td>\n",
       "      <td>8400</td>\n",
       "    </tr>\n",
       "    <tr>\n",
       "      <th>137</th>\n",
       "      <td>worecester</td>\n",
       "      <td>USA</td>\n",
       "      <td>648</td>\n",
       "      <td>650</td>\n",
       "    </tr>\n",
       "  </tbody>\n",
       "</table>\n",
       "</div>"
      ],
      "text/plain": [
       "           City  Country  Landarea  Density\n",
       "134      beirut  lebanon       648     2800\n",
       "135    curitiba   Brazil       648     3850\n",
       "136    santiago    Chile       648     8400\n",
       "137  worecester      USA       648      650"
      ]
     },
     "execution_count": 294,
     "metadata": {},
     "output_type": "execute_result"
    }
   ],
   "source": [
    "df57= df[df['Landarea'].isin([648])]\n",
    "df57"
   ]
  },
  {
   "cell_type": "code",
   "execution_count": 295,
   "id": "dbd8ca3f",
   "metadata": {},
   "outputs": [
    {
     "data": {
      "text/plain": [
       "Int64Index([134, 135, 136, 137], dtype='int64')"
      ]
     },
     "execution_count": 295,
     "metadata": {},
     "output_type": "execute_result"
    }
   ],
   "source": [
    "df57.index"
   ]
  },
  {
   "cell_type": "code",
   "execution_count": 296,
   "id": "2cf66aa8",
   "metadata": {},
   "outputs": [
    {
     "data": {
      "text/plain": [
       "135.5"
      ]
     },
     "execution_count": 296,
     "metadata": {},
     "output_type": "execute_result"
    }
   ],
   "source": [
    "_648_meanrank=(134+135+136+137)/4\n",
    "_648_meanrank"
   ]
  },
  {
   "cell_type": "markdown",
   "id": "606e6f78",
   "metadata": {},
   "source": [
    "### _ _ _ _ _ _ _ _ _ _ _ _ _ _ _ _ _ _ _ _ _ _ _ _ _ _ _ _ _ _ _ _ _ _ _ _ _ _ _ _ _ _ _ _ _ _  _ _ _ _ _ _ _ _ _ _ _ _ _"
   ]
  },
  {
   "cell_type": "markdown",
   "id": "5271ebcf",
   "metadata": {},
   "source": [
    "### 5) 544 "
   ]
  },
  {
   "cell_type": "code",
   "execution_count": 297,
   "id": "98888a7d",
   "metadata": {},
   "outputs": [
    {
     "data": {
      "text/html": [
       "<div>\n",
       "<style scoped>\n",
       "    .dataframe tbody tr th:only-of-type {\n",
       "        vertical-align: middle;\n",
       "    }\n",
       "\n",
       "    .dataframe tbody tr th {\n",
       "        vertical-align: top;\n",
       "    }\n",
       "\n",
       "    .dataframe thead th {\n",
       "        text-align: right;\n",
       "    }\n",
       "</style>\n",
       "<table border=\"1\" class=\"dataframe\">\n",
       "  <thead>\n",
       "    <tr style=\"text-align: right;\">\n",
       "      <th></th>\n",
       "      <th>City</th>\n",
       "      <th>Country</th>\n",
       "      <th>Landarea</th>\n",
       "      <th>Density</th>\n",
       "    </tr>\n",
       "  </thead>\n",
       "  <tbody>\n",
       "    <tr>\n",
       "      <th>167</th>\n",
       "      <td>baku/sumqaxit</td>\n",
       "      <td>Azerbaijan</td>\n",
       "      <td>544</td>\n",
       "      <td>3850</td>\n",
       "    </tr>\n",
       "    <tr>\n",
       "      <th>168</th>\n",
       "      <td>fukuoka</td>\n",
       "      <td>Japan</td>\n",
       "      <td>544</td>\n",
       "      <td>3950</td>\n",
       "    </tr>\n",
       "    <tr>\n",
       "      <th>169</th>\n",
       "      <td>katowice</td>\n",
       "      <td>Poland</td>\n",
       "      <td>544</td>\n",
       "      <td>4050</td>\n",
       "    </tr>\n",
       "    <tr>\n",
       "      <th>170</th>\n",
       "      <td>kuwait</td>\n",
       "      <td>Kuwait</td>\n",
       "      <td>544</td>\n",
       "      <td>2950</td>\n",
       "    </tr>\n",
       "  </tbody>\n",
       "</table>\n",
       "</div>"
      ],
      "text/plain": [
       "              City     Country  Landarea  Density\n",
       "167  baku/sumqaxit  Azerbaijan       544     3850\n",
       "168        fukuoka       Japan       544     3950\n",
       "169       katowice      Poland       544     4050\n",
       "170         kuwait      Kuwait       544     2950"
      ]
     },
     "execution_count": 297,
     "metadata": {},
     "output_type": "execute_result"
    }
   ],
   "source": [
    "df58= df[df['Landarea'].isin([544])]\n",
    "df58"
   ]
  },
  {
   "cell_type": "code",
   "execution_count": 298,
   "id": "f0b6e701",
   "metadata": {},
   "outputs": [
    {
     "data": {
      "text/plain": [
       "Int64Index([167, 168, 169, 170], dtype='int64')"
      ]
     },
     "execution_count": 298,
     "metadata": {},
     "output_type": "execute_result"
    }
   ],
   "source": [
    "df58.index"
   ]
  },
  {
   "cell_type": "code",
   "execution_count": 299,
   "id": "676bc2e1",
   "metadata": {},
   "outputs": [
    {
     "data": {
      "text/plain": [
       "168.5"
      ]
     },
     "execution_count": 299,
     "metadata": {},
     "output_type": "execute_result"
    }
   ],
   "source": [
    "_544_meanrank=(167+168+169+170)/4\n",
    "_544_meanrank"
   ]
  },
  {
   "cell_type": "markdown",
   "id": "d27f101d",
   "metadata": {},
   "source": [
    "### _ _ _ _ _ _ _ _ _ _ _ _ _ _ _ _ _ _ _ _ _ _ _ _ _ _ _ _ _ _ _ _ _ _ _ _ _ _ _ _ _ _ _ _ _ _  _ _ _ _ _ _ _ _ _ _ _ _ _"
   ]
  },
  {
   "cell_type": "code",
   "execution_count": 300,
   "id": "a2c95fe3",
   "metadata": {},
   "outputs": [
    {
     "data": {
      "text/plain": [
       "173.7"
      ]
     },
     "execution_count": 300,
     "metadata": {},
     "output_type": "execute_result"
    }
   ],
   "source": [
    "_4_Times_meanrank=(168.5+135.5+240.5+176.5+147.5)/5\n",
    "_4_Times_meanrank"
   ]
  },
  {
   "cell_type": "markdown",
   "id": "738dd32a",
   "metadata": {},
   "source": [
    "### _ _ _ _ _ _ _ _ _ _ _ _ _ _ _ _ _ _ _ _ _ _ _ _ _ _ _ _ _ _ _ _ _ _ _ _ _ _ _ _ _ _ _ _ _ _  _ _ _ _ _ _ _ _ _ _ _ _ _"
   ]
  },
  {
   "cell_type": "markdown",
   "id": "61352755",
   "metadata": {},
   "source": [
    "## 3 Times"
   ]
  },
  {
   "cell_type": "markdown",
   "id": "fcee1420",
   "metadata": {},
   "source": [
    "### _ _ _ _ _ _ _ _ _ _ _ _ _ _ _ _ _ _ _ _ _ _ _ _ _ _ _ _ _ _ _ _ _ _ _ _ _ _ _ _ _ _ _ _ _ _  _ _ _ _ _ _ _ _ _ _ _ _ _"
   ]
  },
  {
   "cell_type": "markdown",
   "id": "2becd563",
   "metadata": {},
   "source": [
    "### 1) 686 "
   ]
  },
  {
   "cell_type": "code",
   "execution_count": 301,
   "id": "f1169c59",
   "metadata": {},
   "outputs": [
    {
     "data": {
      "text/html": [
       "<div>\n",
       "<style scoped>\n",
       "    .dataframe tbody tr th:only-of-type {\n",
       "        vertical-align: middle;\n",
       "    }\n",
       "\n",
       "    .dataframe tbody tr th {\n",
       "        vertical-align: top;\n",
       "    }\n",
       "\n",
       "    .dataframe thead th {\n",
       "        text-align: right;\n",
       "    }\n",
       "</style>\n",
       "<table border=\"1\" class=\"dataframe\">\n",
       "  <thead>\n",
       "    <tr style=\"text-align: right;\">\n",
       "      <th></th>\n",
       "      <th>City</th>\n",
       "      <th>Country</th>\n",
       "      <th>Landarea</th>\n",
       "      <th>Density</th>\n",
       "    </tr>\n",
       "  </thead>\n",
       "  <tbody>\n",
       "    <tr>\n",
       "      <th>123</th>\n",
       "      <td>cape town</td>\n",
       "      <td>south africa</td>\n",
       "      <td>686</td>\n",
       "      <td>3950</td>\n",
       "    </tr>\n",
       "    <tr>\n",
       "      <th>124</th>\n",
       "      <td>pough keepsie</td>\n",
       "      <td>USA</td>\n",
       "      <td>686</td>\n",
       "      <td>500</td>\n",
       "    </tr>\n",
       "    <tr>\n",
       "      <th>125</th>\n",
       "      <td>tehran</td>\n",
       "      <td>iran</td>\n",
       "      <td>686</td>\n",
       "      <td>10550</td>\n",
       "    </tr>\n",
       "  </tbody>\n",
       "</table>\n",
       "</div>"
      ],
      "text/plain": [
       "              City       Country  Landarea  Density\n",
       "123      cape town  south africa       686     3950\n",
       "124  pough keepsie           USA       686      500\n",
       "125         tehran          iran       686    10550"
      ]
     },
     "execution_count": 301,
     "metadata": {},
     "output_type": "execute_result"
    }
   ],
   "source": [
    "df59= df[df['Landarea'].isin([686])]\n",
    "df59\n"
   ]
  },
  {
   "cell_type": "code",
   "execution_count": 302,
   "id": "75a3d735",
   "metadata": {},
   "outputs": [
    {
     "data": {
      "text/plain": [
       "Int64Index([123, 124, 125], dtype='int64')"
      ]
     },
     "execution_count": 302,
     "metadata": {},
     "output_type": "execute_result"
    }
   ],
   "source": [
    "df59.index"
   ]
  },
  {
   "cell_type": "code",
   "execution_count": 303,
   "id": "b3e0b0d6",
   "metadata": {},
   "outputs": [
    {
     "data": {
      "text/plain": [
       "124.0"
      ]
     },
     "execution_count": 303,
     "metadata": {},
     "output_type": "execute_result"
    }
   ],
   "source": [
    "_686_meanrank=(123+124+125)/3\n",
    "_686_meanrank"
   ]
  },
  {
   "cell_type": "markdown",
   "id": "1398e41a",
   "metadata": {},
   "source": [
    "### _ _ _ _ _ _ _ _ _ _ _ _ _ _ _ _ _ _ _ _ _ _ _ _ _ _ _ _ _ _ _ _ _ _ _ _ _ _ _ _ _ _ _ _ _ _  _ _ _ _ _ _ _ _ _ _ _ _ _"
   ]
  },
  {
   "cell_type": "markdown",
   "id": "631e5667",
   "metadata": {},
   "source": [
    "### 2) 712 "
   ]
  },
  {
   "cell_type": "code",
   "execution_count": 304,
   "id": "8411f9b5",
   "metadata": {},
   "outputs": [
    {
     "data": {
      "text/html": [
       "<div>\n",
       "<style scoped>\n",
       "    .dataframe tbody tr th:only-of-type {\n",
       "        vertical-align: middle;\n",
       "    }\n",
       "\n",
       "    .dataframe tbody tr th {\n",
       "        vertical-align: top;\n",
       "    }\n",
       "\n",
       "    .dataframe thead th {\n",
       "        text-align: right;\n",
       "    }\n",
       "</style>\n",
       "<table border=\"1\" class=\"dataframe\">\n",
       "  <thead>\n",
       "    <tr style=\"text-align: right;\">\n",
       "      <th></th>\n",
       "      <th>City</th>\n",
       "      <th>Country</th>\n",
       "      <th>Landarea</th>\n",
       "      <th>Density</th>\n",
       "    </tr>\n",
       "  </thead>\n",
       "  <tbody>\n",
       "    <tr>\n",
       "      <th>116</th>\n",
       "      <td>brussels</td>\n",
       "      <td>belgium</td>\n",
       "      <td>712</td>\n",
       "      <td>2200</td>\n",
       "    </tr>\n",
       "    <tr>\n",
       "      <th>117</th>\n",
       "      <td>dubai</td>\n",
       "      <td>UAE</td>\n",
       "      <td>712</td>\n",
       "      <td>2650</td>\n",
       "    </tr>\n",
       "    <tr>\n",
       "      <th>118</th>\n",
       "      <td>harare</td>\n",
       "      <td>zimbabwe</td>\n",
       "      <td>712</td>\n",
       "      <td>2450</td>\n",
       "    </tr>\n",
       "  </tbody>\n",
       "</table>\n",
       "</div>"
      ],
      "text/plain": [
       "         City   Country  Landarea  Density\n",
       "116  brussels   belgium       712     2200\n",
       "117     dubai       UAE       712     2650\n",
       "118    harare  zimbabwe       712     2450"
      ]
     },
     "execution_count": 304,
     "metadata": {},
     "output_type": "execute_result"
    }
   ],
   "source": [
    "df60= df[df['Landarea'].isin([712])]\n",
    "df60"
   ]
  },
  {
   "cell_type": "code",
   "execution_count": 305,
   "id": "0eea5025",
   "metadata": {},
   "outputs": [
    {
     "data": {
      "text/plain": [
       "Int64Index([116, 117, 118], dtype='int64')"
      ]
     },
     "execution_count": 305,
     "metadata": {},
     "output_type": "execute_result"
    }
   ],
   "source": [
    "df60.index"
   ]
  },
  {
   "cell_type": "code",
   "execution_count": 306,
   "id": "e7d8dbcc",
   "metadata": {},
   "outputs": [
    {
     "data": {
      "text/plain": [
       "117.0"
      ]
     },
     "execution_count": 306,
     "metadata": {},
     "output_type": "execute_result"
    }
   ],
   "source": [
    "_712_meanrank=(116+ 117+ 118)/3\n",
    "_712_meanrank"
   ]
  },
  {
   "cell_type": "markdown",
   "id": "51142a4d",
   "metadata": {},
   "source": [
    "### _ _ _ _ _ _ _ _ _ _ _ _ _ _ _ _ _ _ _ _ _ _ _ _ _ _ _ _ _ _ _ _ _ _ _ _ _ _ _ _ _ _ _ _ _ _  _ _ _ _ _ _ _ _ _ _ _ _ _"
   ]
  },
  {
   "cell_type": "code",
   "execution_count": 307,
   "id": "dfadd92b",
   "metadata": {},
   "outputs": [
    {
     "data": {
      "text/plain": [
       "120.5"
      ]
     },
     "execution_count": 307,
     "metadata": {},
     "output_type": "execute_result"
    }
   ],
   "source": [
    "_3_Times_meanrank=(124.0+117.0)/2\n",
    "_3_Times_meanrank"
   ]
  },
  {
   "cell_type": "markdown",
   "id": "34aabbeb",
   "metadata": {},
   "source": [
    "### _ _ _ _ _ _ _ _ _ _ _ _ _ _ _ _ _ _ _ _ _ _ _ _ _ _ _ _ _ _ _ _ _ _ _ _ _ _ _ _ _ _ _ _ _ _  _ _ _ _ _ _ _ _ _ _ _ _ _"
   ]
  },
  {
   "cell_type": "markdown",
   "id": "56f6f55b",
   "metadata": {},
   "source": [
    "## 2 Times"
   ]
  },
  {
   "cell_type": "markdown",
   "id": "c4cb97c6",
   "metadata": {},
   "source": [
    "### _ _ _ _ _ _ _ _ _ _ _ _ _ _ _ _ _ _ _ _ _ _ _ _ _ _ _ _ _ _ _ _ _ _ _ _ _ _ _ _ _ _ _ _ _ _  _ _ _ _ _ _ _ _ _ _ _ _ _"
   ]
  },
  {
   "cell_type": "markdown",
   "id": "31da08f0",
   "metadata": {},
   "source": [
    "### 1) 1295 "
   ]
  },
  {
   "cell_type": "code",
   "execution_count": 308,
   "id": "737752ec",
   "metadata": {},
   "outputs": [
    {
     "data": {
      "text/html": [
       "<div>\n",
       "<style scoped>\n",
       "    .dataframe tbody tr th:only-of-type {\n",
       "        vertical-align: middle;\n",
       "    }\n",
       "\n",
       "    .dataframe tbody tr th {\n",
       "        vertical-align: top;\n",
       "    }\n",
       "\n",
       "    .dataframe thead th {\n",
       "        text-align: right;\n",
       "    }\n",
       "</style>\n",
       "<table border=\"1\" class=\"dataframe\">\n",
       "  <thead>\n",
       "    <tr style=\"text-align: right;\">\n",
       "      <th></th>\n",
       "      <th>City</th>\n",
       "      <th>Country</th>\n",
       "      <th>Landarea</th>\n",
       "      <th>Density</th>\n",
       "    </tr>\n",
       "  </thead>\n",
       "  <tbody>\n",
       "    <tr>\n",
       "      <th>49</th>\n",
       "      <td>cairo</td>\n",
       "      <td>Egypt</td>\n",
       "      <td>1295</td>\n",
       "      <td>9400</td>\n",
       "    </tr>\n",
       "    <tr>\n",
       "      <th>50</th>\n",
       "      <td>delhi</td>\n",
       "      <td>India</td>\n",
       "      <td>1295</td>\n",
       "      <td>11050</td>\n",
       "    </tr>\n",
       "  </tbody>\n",
       "</table>\n",
       "</div>"
      ],
      "text/plain": [
       "     City Country  Landarea  Density\n",
       "49  cairo   Egypt      1295     9400\n",
       "50  delhi   India      1295    11050"
      ]
     },
     "execution_count": 308,
     "metadata": {},
     "output_type": "execute_result"
    }
   ],
   "source": [
    "df61= df[df['Landarea'].isin([1295])]\n",
    "df61"
   ]
  },
  {
   "cell_type": "code",
   "execution_count": 309,
   "id": "bbca89ec",
   "metadata": {},
   "outputs": [
    {
     "data": {
      "text/plain": [
       "Int64Index([49, 50], dtype='int64')"
      ]
     },
     "execution_count": 309,
     "metadata": {},
     "output_type": "execute_result"
    }
   ],
   "source": [
    "df61.index\n"
   ]
  },
  {
   "cell_type": "code",
   "execution_count": 310,
   "id": "2caacf57",
   "metadata": {},
   "outputs": [
    {
     "data": {
      "text/plain": [
       "49.5"
      ]
     },
     "execution_count": 310,
     "metadata": {},
     "output_type": "execute_result"
    }
   ],
   "source": [
    "_df61_meanrank=(49+50)/2\n",
    "_df61_meanrank"
   ]
  },
  {
   "cell_type": "markdown",
   "id": "df7f613a",
   "metadata": {},
   "source": [
    "### _ _ _ _ _ _ _ _ _ _ _ _ _ _ _ _ _ _ _ _ _ _ _ _ _ _ _ _ _ _ _ _ _ _ _ _ _ _ _ _ _ _ _ _ _ _  _ _ _ _ _ _ _ _ _ _ _ _ _"
   ]
  },
  {
   "cell_type": "markdown",
   "id": "0c7e1193",
   "metadata": {},
   "source": [
    "### 2) 598 "
   ]
  },
  {
   "cell_type": "code",
   "execution_count": 311,
   "id": "8a89172d",
   "metadata": {},
   "outputs": [
    {
     "data": {
      "text/html": [
       "<div>\n",
       "<style scoped>\n",
       "    .dataframe tbody tr th:only-of-type {\n",
       "        vertical-align: middle;\n",
       "    }\n",
       "\n",
       "    .dataframe tbody tr th {\n",
       "        vertical-align: top;\n",
       "    }\n",
       "\n",
       "    .dataframe thead th {\n",
       "        text-align: right;\n",
       "    }\n",
       "</style>\n",
       "<table border=\"1\" class=\"dataframe\">\n",
       "  <thead>\n",
       "    <tr style=\"text-align: right;\">\n",
       "      <th></th>\n",
       "      <th>City</th>\n",
       "      <th>Country</th>\n",
       "      <th>Landarea</th>\n",
       "      <th>Density</th>\n",
       "    </tr>\n",
       "  </thead>\n",
       "  <tbody>\n",
       "    <tr>\n",
       "      <th>144</th>\n",
       "      <td>charleston</td>\n",
       "      <td>USA</td>\n",
       "      <td>598</td>\n",
       "      <td>700</td>\n",
       "    </tr>\n",
       "    <tr>\n",
       "      <th>145</th>\n",
       "      <td>salt lake city</td>\n",
       "      <td>USA</td>\n",
       "      <td>598</td>\n",
       "      <td>1500</td>\n",
       "    </tr>\n",
       "  </tbody>\n",
       "</table>\n",
       "</div>"
      ],
      "text/plain": [
       "               City Country  Landarea  Density\n",
       "144      charleston     USA       598      700\n",
       "145  salt lake city     USA       598     1500"
      ]
     },
     "execution_count": 311,
     "metadata": {},
     "output_type": "execute_result"
    }
   ],
   "source": [
    "df62= df[df['Landarea'].isin([598])]\n",
    "df62"
   ]
  },
  {
   "cell_type": "code",
   "execution_count": 312,
   "id": "ff6db10c",
   "metadata": {},
   "outputs": [
    {
     "data": {
      "text/plain": [
       "144.5"
      ]
     },
     "execution_count": 312,
     "metadata": {},
     "output_type": "execute_result"
    }
   ],
   "source": [
    "_598_meanrank=144.5\n",
    "_598_meanrank"
   ]
  },
  {
   "cell_type": "markdown",
   "id": "0edfb968",
   "metadata": {},
   "source": [
    "### _ _ _ _ _ _ _ _ _ _ _ _ _ _ _ _ _ _ _ _ _ _ _ _ _ _ _ _ _ _ _ _ _ _ _ _ _ _ _ _ _ _ _ _ _ _  _ _ _ _ _ _ _ _ _ _ _ _ _"
   ]
  },
  {
   "cell_type": "markdown",
   "id": "048a317e",
   "metadata": {},
   "source": [
    "### 3) 600 "
   ]
  },
  {
   "cell_type": "code",
   "execution_count": 313,
   "id": "58414779",
   "metadata": {},
   "outputs": [
    {
     "data": {
      "text/html": [
       "<div>\n",
       "<style scoped>\n",
       "    .dataframe tbody tr th:only-of-type {\n",
       "        vertical-align: middle;\n",
       "    }\n",
       "\n",
       "    .dataframe tbody tr th {\n",
       "        vertical-align: top;\n",
       "    }\n",
       "\n",
       "    .dataframe thead th {\n",
       "        text-align: right;\n",
       "    }\n",
       "</style>\n",
       "<table border=\"1\" class=\"dataframe\">\n",
       "  <thead>\n",
       "    <tr style=\"text-align: right;\">\n",
       "      <th></th>\n",
       "      <th>City</th>\n",
       "      <th>Country</th>\n",
       "      <th>Landarea</th>\n",
       "      <th>Density</th>\n",
       "    </tr>\n",
       "  </thead>\n",
       "  <tbody>\n",
       "    <tr>\n",
       "      <th>141</th>\n",
       "      <td>augusta</td>\n",
       "      <td>USA</td>\n",
       "      <td>600</td>\n",
       "      <td>550</td>\n",
       "    </tr>\n",
       "    <tr>\n",
       "      <th>142</th>\n",
       "      <td>birmingham</td>\n",
       "      <td>UK</td>\n",
       "      <td>600</td>\n",
       "      <td>3800</td>\n",
       "    </tr>\n",
       "  </tbody>\n",
       "</table>\n",
       "</div>"
      ],
      "text/plain": [
       "           City Country  Landarea  Density\n",
       "141     augusta     USA       600      550\n",
       "142  birmingham      UK       600     3800"
      ]
     },
     "execution_count": 313,
     "metadata": {},
     "output_type": "execute_result"
    }
   ],
   "source": [
    "df63= df[df['Landarea'].isin([600])]\n",
    "df63"
   ]
  },
  {
   "cell_type": "code",
   "execution_count": 314,
   "id": "36f9c38d",
   "metadata": {},
   "outputs": [
    {
     "data": {
      "text/plain": [
       "141.5"
      ]
     },
     "execution_count": 314,
     "metadata": {},
     "output_type": "execute_result"
    }
   ],
   "source": [
    "_600_meanrank=141.5\n",
    "_600_meanrank"
   ]
  },
  {
   "cell_type": "markdown",
   "id": "b0887478",
   "metadata": {},
   "source": [
    "### _ _ _ _ _ _ _ _ _ _ _ _ _ _ _ _ _ _ _ _ _ _ _ _ _ _ _ _ _ _ _ _ _ _ _ _ _ _ _ _ _ _ _ _ _ _  _ _ _ _ _ _ _ _ _ _ _ _ _"
   ]
  },
  {
   "cell_type": "markdown",
   "id": "78f7b68c",
   "metadata": {},
   "source": [
    "### 4) 984 \n"
   ]
  },
  {
   "cell_type": "code",
   "execution_count": 315,
   "id": "cfa29597",
   "metadata": {},
   "outputs": [
    {
     "data": {
      "text/html": [
       "<div>\n",
       "<style scoped>\n",
       "    .dataframe tbody tr th:only-of-type {\n",
       "        vertical-align: middle;\n",
       "    }\n",
       "\n",
       "    .dataframe tbody tr th {\n",
       "        vertical-align: top;\n",
       "    }\n",
       "\n",
       "    .dataframe thead th {\n",
       "        text-align: right;\n",
       "    }\n",
       "</style>\n",
       "<table border=\"1\" class=\"dataframe\">\n",
       "  <thead>\n",
       "    <tr style=\"text-align: right;\">\n",
       "      <th></th>\n",
       "      <th>City</th>\n",
       "      <th>Country</th>\n",
       "      <th>Landarea</th>\n",
       "      <th>Density</th>\n",
       "    </tr>\n",
       "  </thead>\n",
       "  <tbody>\n",
       "    <tr>\n",
       "      <th>74</th>\n",
       "      <td>berlin</td>\n",
       "      <td>Germany</td>\n",
       "      <td>984</td>\n",
       "      <td>3750</td>\n",
       "    </tr>\n",
       "    <tr>\n",
       "      <th>75</th>\n",
       "      <td>frankfurt</td>\n",
       "      <td>Germany</td>\n",
       "      <td>984</td>\n",
       "      <td>2300</td>\n",
       "    </tr>\n",
       "  </tbody>\n",
       "</table>\n",
       "</div>"
      ],
      "text/plain": [
       "         City  Country  Landarea  Density\n",
       "74     berlin  Germany       984     3750\n",
       "75  frankfurt  Germany       984     2300"
      ]
     },
     "execution_count": 315,
     "metadata": {},
     "output_type": "execute_result"
    }
   ],
   "source": [
    "df64= df[df['Landarea'].isin([984])]\n",
    "df64"
   ]
  },
  {
   "cell_type": "code",
   "execution_count": 316,
   "id": "b3013830",
   "metadata": {},
   "outputs": [],
   "source": [
    "_984_meanrank=74.5\n"
   ]
  },
  {
   "cell_type": "markdown",
   "id": "a46ab6dc",
   "metadata": {},
   "source": [
    "### _ _ _ _ _ _ _ _ _ _ _ _ _ _ _ _ _ _ _ _ _ _ _ _ _ _ _ _ _ _ _ _ _ _ _ _ _ _ _ _ _ _ _ _ _ _  _ _ _ _ _ _ _ _ _ _ _ _ _"
   ]
  },
  {
   "cell_type": "markdown",
   "id": "b2a8dcb5",
   "metadata": {},
   "source": [
    "### 5) 568 "
   ]
  },
  {
   "cell_type": "code",
   "execution_count": 317,
   "id": "1bac13bc",
   "metadata": {},
   "outputs": [
    {
     "data": {
      "text/html": [
       "<div>\n",
       "<style scoped>\n",
       "    .dataframe tbody tr th:only-of-type {\n",
       "        vertical-align: middle;\n",
       "    }\n",
       "\n",
       "    .dataframe tbody tr th {\n",
       "        vertical-align: top;\n",
       "    }\n",
       "\n",
       "    .dataframe thead th {\n",
       "        text-align: right;\n",
       "    }\n",
       "</style>\n",
       "<table border=\"1\" class=\"dataframe\">\n",
       "  <thead>\n",
       "    <tr style=\"text-align: right;\">\n",
       "      <th></th>\n",
       "      <th>City</th>\n",
       "      <th>Country</th>\n",
       "      <th>Landarea</th>\n",
       "      <th>Density</th>\n",
       "    </tr>\n",
       "  </thead>\n",
       "  <tbody>\n",
       "    <tr>\n",
       "      <th>162</th>\n",
       "      <td>el paso</td>\n",
       "      <td>USA</td>\n",
       "      <td>568</td>\n",
       "      <td>1200</td>\n",
       "    </tr>\n",
       "    <tr>\n",
       "      <th>163</th>\n",
       "      <td>pensacola</td>\n",
       "      <td>USA</td>\n",
       "      <td>568</td>\n",
       "      <td>550</td>\n",
       "    </tr>\n",
       "  </tbody>\n",
       "</table>\n",
       "</div>"
      ],
      "text/plain": [
       "          City Country  Landarea  Density\n",
       "162    el paso     USA       568     1200\n",
       "163  pensacola     USA       568      550"
      ]
     },
     "execution_count": 317,
     "metadata": {},
     "output_type": "execute_result"
    }
   ],
   "source": [
    "df65= df[df['Landarea'].isin([568])]\n",
    "df65"
   ]
  },
  {
   "cell_type": "code",
   "execution_count": 318,
   "id": "90762f1c",
   "metadata": {},
   "outputs": [],
   "source": [
    "_568_meanrank=162.5\n"
   ]
  },
  {
   "cell_type": "markdown",
   "id": "d3cd3b9b",
   "metadata": {},
   "source": [
    "### _ _ _ _ _ _ _ _ _ _ _ _ _ _ _ _ _ _ _ _ _ _ _ _ _ _ _ _ _ _ _ _ _ _ _ _ _ _ _ _ _ _ _ _ _ _  _ _ _ _ _ _ _ _ _ _ _ _ _"
   ]
  },
  {
   "cell_type": "markdown",
   "id": "a0dd23ed",
   "metadata": {},
   "source": [
    "### 6) 1740 \n"
   ]
  },
  {
   "cell_type": "code",
   "execution_count": 319,
   "id": "7ee71b25",
   "metadata": {},
   "outputs": [
    {
     "data": {
      "text/html": [
       "<div>\n",
       "<style scoped>\n",
       "    .dataframe tbody tr th:only-of-type {\n",
       "        vertical-align: middle;\n",
       "    }\n",
       "\n",
       "    .dataframe tbody tr th {\n",
       "        vertical-align: top;\n",
       "    }\n",
       "\n",
       "    .dataframe thead th {\n",
       "        text-align: right;\n",
       "    }\n",
       "</style>\n",
       "<table border=\"1\" class=\"dataframe\">\n",
       "  <thead>\n",
       "    <tr style=\"text-align: right;\">\n",
       "      <th></th>\n",
       "      <th>City</th>\n",
       "      <th>Country</th>\n",
       "      <th>Landarea</th>\n",
       "      <th>Density</th>\n",
       "    </tr>\n",
       "  </thead>\n",
       "  <tbody>\n",
       "    <tr>\n",
       "      <th>32</th>\n",
       "      <td>cincinnati</td>\n",
       "      <td>USA</td>\n",
       "      <td>1740</td>\n",
       "      <td>850</td>\n",
       "    </tr>\n",
       "    <tr>\n",
       "      <th>33</th>\n",
       "      <td>montreal</td>\n",
       "      <td>Canada</td>\n",
       "      <td>1740</td>\n",
       "      <td>1850</td>\n",
       "    </tr>\n",
       "  </tbody>\n",
       "</table>\n",
       "</div>"
      ],
      "text/plain": [
       "          City Country  Landarea  Density\n",
       "32  cincinnati     USA      1740      850\n",
       "33    montreal  Canada      1740     1850"
      ]
     },
     "execution_count": 319,
     "metadata": {},
     "output_type": "execute_result"
    }
   ],
   "source": [
    "df66= df[df['Landarea'].isin([1740])]\n",
    "df66"
   ]
  },
  {
   "cell_type": "code",
   "execution_count": 320,
   "id": "2d452da4",
   "metadata": {},
   "outputs": [],
   "source": [
    "_1740_meanrank=32.5"
   ]
  },
  {
   "cell_type": "markdown",
   "id": "b6c2d031",
   "metadata": {},
   "source": [
    "### _ _ _ _ _ _ _ _ _ _ _ _ _ _ _ _ _ _ _ _ _ _ _ _ _ _ _ _ _ _ _ _ _ _ _ _ _ _ _ _ _ _ _ _ _ _  _ _ _ _ _ _ _ _ _ _ _ _ _"
   ]
  },
  {
   "cell_type": "markdown",
   "id": "0565500b",
   "metadata": {},
   "source": [
    "### 7) 673 "
   ]
  },
  {
   "cell_type": "code",
   "execution_count": 321,
   "id": "94b83580",
   "metadata": {},
   "outputs": [
    {
     "data": {
      "text/html": [
       "<div>\n",
       "<style scoped>\n",
       "    .dataframe tbody tr th:only-of-type {\n",
       "        vertical-align: middle;\n",
       "    }\n",
       "\n",
       "    .dataframe tbody tr th {\n",
       "        vertical-align: top;\n",
       "    }\n",
       "\n",
       "    .dataframe thead th {\n",
       "        text-align: right;\n",
       "    }\n",
       "</style>\n",
       "<table border=\"1\" class=\"dataframe\">\n",
       "  <thead>\n",
       "    <tr style=\"text-align: right;\">\n",
       "      <th></th>\n",
       "      <th>City</th>\n",
       "      <th>Country</th>\n",
       "      <th>Landarea</th>\n",
       "      <th>Density</th>\n",
       "    </tr>\n",
       "  </thead>\n",
       "  <tbody>\n",
       "    <tr>\n",
       "      <th>129</th>\n",
       "      <td>arabia</td>\n",
       "      <td>Saudi Arabia</td>\n",
       "      <td>673</td>\n",
       "      <td>2250</td>\n",
       "    </tr>\n",
       "    <tr>\n",
       "      <th>130</th>\n",
       "      <td>pretoria</td>\n",
       "      <td>South Africa</td>\n",
       "      <td>673</td>\n",
       "      <td>2750</td>\n",
       "    </tr>\n",
       "  </tbody>\n",
       "</table>\n",
       "</div>"
      ],
      "text/plain": [
       "         City       Country  Landarea  Density\n",
       "129    arabia  Saudi Arabia       673     2250\n",
       "130  pretoria  South Africa       673     2750"
      ]
     },
     "execution_count": 321,
     "metadata": {},
     "output_type": "execute_result"
    }
   ],
   "source": [
    "df67= df[df['Landarea'].isin([673])]\n",
    "df67"
   ]
  },
  {
   "cell_type": "code",
   "execution_count": 322,
   "id": "06af96eb",
   "metadata": {},
   "outputs": [],
   "source": [
    "_673_meanrank=129.5"
   ]
  },
  {
   "cell_type": "markdown",
   "id": "f0960b40",
   "metadata": {},
   "source": [
    "### _ _ _ _ _ _ _ _ _ _ _ _ _ _ _ _ _ _ _ _ _ _ _ _ _ _ _ _ _ _ _ _ _ _ _ _ _ _ _ _ _ _ _ _ _ _  _ _ _ _ _ _ _ _ _ _ _ _ _"
   ]
  },
  {
   "cell_type": "markdown",
   "id": "bf9cc002",
   "metadata": {},
   "source": [
    "### 8) 466 \n"
   ]
  },
  {
   "cell_type": "code",
   "execution_count": 323,
   "id": "081f8443",
   "metadata": {},
   "outputs": [
    {
     "data": {
      "text/html": [
       "<div>\n",
       "<style scoped>\n",
       "    .dataframe tbody tr th:only-of-type {\n",
       "        vertical-align: middle;\n",
       "    }\n",
       "\n",
       "    .dataframe tbody tr th {\n",
       "        vertical-align: top;\n",
       "    }\n",
       "\n",
       "    .dataframe thead th {\n",
       "        text-align: right;\n",
       "    }\n",
       "</style>\n",
       "<table border=\"1\" class=\"dataframe\">\n",
       "  <thead>\n",
       "    <tr style=\"text-align: right;\">\n",
       "      <th></th>\n",
       "      <th>City</th>\n",
       "      <th>Country</th>\n",
       "      <th>Landarea</th>\n",
       "      <th>Density</th>\n",
       "    </tr>\n",
       "  </thead>\n",
       "  <tbody>\n",
       "    <tr>\n",
       "      <th>208</th>\n",
       "      <td>ogden</td>\n",
       "      <td>USA</td>\n",
       "      <td>466</td>\n",
       "      <td>900</td>\n",
       "    </tr>\n",
       "    <tr>\n",
       "      <th>209</th>\n",
       "      <td>shenzhen</td>\n",
       "      <td>China</td>\n",
       "      <td>466</td>\n",
       "      <td>17150</td>\n",
       "    </tr>\n",
       "  </tbody>\n",
       "</table>\n",
       "</div>"
      ],
      "text/plain": [
       "         City Country  Landarea  Density\n",
       "208     ogden     USA       466      900\n",
       "209  shenzhen   China       466    17150"
      ]
     },
     "execution_count": 323,
     "metadata": {},
     "output_type": "execute_result"
    }
   ],
   "source": [
    "df68=df[df['Landarea'].isin([466])]\n",
    "df68"
   ]
  },
  {
   "cell_type": "code",
   "execution_count": 324,
   "id": "c9d29599",
   "metadata": {},
   "outputs": [],
   "source": [
    "_466_meanrank=208.5"
   ]
  },
  {
   "cell_type": "markdown",
   "id": "5e63f358",
   "metadata": {},
   "source": [
    "### _ _ _ _ _ _ _ _ _ _ _ _ _ _ _ _ _ _ _ _ _ _ _ _ _ _ _ _ _ _ _ _ _ _ _ _ _ _ _ _ _ _ _ _ _ _  _ _ _ _ _ _ _ _ _ _ _ _ _"
   ]
  },
  {
   "cell_type": "markdown",
   "id": "0670655a",
   "metadata": {},
   "source": [
    "### 9) 622 "
   ]
  },
  {
   "cell_type": "code",
   "execution_count": 325,
   "id": "131e2176",
   "metadata": {},
   "outputs": [
    {
     "data": {
      "text/html": [
       "<div>\n",
       "<style scoped>\n",
       "    .dataframe tbody tr th:only-of-type {\n",
       "        vertical-align: middle;\n",
       "    }\n",
       "\n",
       "    .dataframe tbody tr th {\n",
       "        vertical-align: top;\n",
       "    }\n",
       "\n",
       "    .dataframe thead th {\n",
       "        text-align: right;\n",
       "    }\n",
       "</style>\n",
       "<table border=\"1\" class=\"dataframe\">\n",
       "  <thead>\n",
       "    <tr style=\"text-align: right;\">\n",
       "      <th></th>\n",
       "      <th>City</th>\n",
       "      <th>Country</th>\n",
       "      <th>Landarea</th>\n",
       "      <th>Density</th>\n",
       "    </tr>\n",
       "  </thead>\n",
       "  <tbody>\n",
       "    <tr>\n",
       "      <th>138</th>\n",
       "      <td>lahore</td>\n",
       "      <td>Pakistan</td>\n",
       "      <td>622</td>\n",
       "      <td>8200</td>\n",
       "    </tr>\n",
       "    <tr>\n",
       "      <th>139</th>\n",
       "      <td>st petersburg</td>\n",
       "      <td>Russia</td>\n",
       "      <td>622</td>\n",
       "      <td>8550</td>\n",
       "    </tr>\n",
       "  </tbody>\n",
       "</table>\n",
       "</div>"
      ],
      "text/plain": [
       "              City   Country  Landarea  Density\n",
       "138         lahore  Pakistan       622     8200\n",
       "139  st petersburg    Russia       622     8550"
      ]
     },
     "execution_count": 325,
     "metadata": {},
     "output_type": "execute_result"
    }
   ],
   "source": [
    "df69=df[df['Landarea'].isin([622])]\n",
    "df69"
   ]
  },
  {
   "cell_type": "code",
   "execution_count": 326,
   "id": "e64e8295",
   "metadata": {},
   "outputs": [],
   "source": [
    "_622_meanrank=138.5"
   ]
  },
  {
   "cell_type": "markdown",
   "id": "918a38bf",
   "metadata": {},
   "source": [
    "### _ _ _ _ _ _ _ _ _ _ _ _ _ _ _ _ _ _ _ _ _ _ _ _ _ _ _ _ _ _ _ _ _ _ _ _ _ _ _ _ _ _ _ _ _ _  _ _ _ _ _ _ _ _ _ _ _ _ _"
   ]
  },
  {
   "cell_type": "markdown",
   "id": "bca5eec7",
   "metadata": {},
   "source": [
    "### 10) 465 \n"
   ]
  },
  {
   "cell_type": "code",
   "execution_count": 327,
   "id": "e938de33",
   "metadata": {},
   "outputs": [
    {
     "data": {
      "text/html": [
       "<div>\n",
       "<style scoped>\n",
       "    .dataframe tbody tr th:only-of-type {\n",
       "        vertical-align: middle;\n",
       "    }\n",
       "\n",
       "    .dataframe tbody tr th {\n",
       "        vertical-align: top;\n",
       "    }\n",
       "\n",
       "    .dataframe thead th {\n",
       "        text-align: right;\n",
       "    }\n",
       "</style>\n",
       "<table border=\"1\" class=\"dataframe\">\n",
       "  <thead>\n",
       "    <tr style=\"text-align: right;\">\n",
       "      <th></th>\n",
       "      <th>City</th>\n",
       "      <th>Country</th>\n",
       "      <th>Landarea</th>\n",
       "      <th>Density</th>\n",
       "    </tr>\n",
       "  </thead>\n",
       "  <tbody>\n",
       "    <tr>\n",
       "      <th>210</th>\n",
       "      <td>warsaw</td>\n",
       "      <td>Poland</td>\n",
       "      <td>465</td>\n",
       "      <td>4300</td>\n",
       "    </tr>\n",
       "    <tr>\n",
       "      <th>211</th>\n",
       "      <td>syracuse</td>\n",
       "      <td>USA</td>\n",
       "      <td>465</td>\n",
       "      <td>850</td>\n",
       "    </tr>\n",
       "  </tbody>\n",
       "</table>\n",
       "</div>"
      ],
      "text/plain": [
       "         City Country  Landarea  Density\n",
       "210    warsaw  Poland       465     4300\n",
       "211  syracuse     USA       465      850"
      ]
     },
     "execution_count": 327,
     "metadata": {},
     "output_type": "execute_result"
    }
   ],
   "source": [
    "df70=df[df['Landarea'].isin([465])]\n",
    "df70"
   ]
  },
  {
   "cell_type": "code",
   "execution_count": 328,
   "id": "cf48d133",
   "metadata": {},
   "outputs": [],
   "source": [
    "_465_meanrank=210.5"
   ]
  },
  {
   "cell_type": "markdown",
   "id": "2885aadd",
   "metadata": {},
   "source": [
    "### _ _ _ _ _ _ _ _ _ _ _ _ _ _ _ _ _ _ _ _ _ _ _ _ _ _ _ _ _ _ _ _ _ _ _ _ _ _ _ _ _ _ _ _ _ _  _ _ _ _ _ _ _ _ _ _ _ _ _"
   ]
  },
  {
   "cell_type": "markdown",
   "id": "4743eaa8",
   "metadata": {},
   "source": [
    "### 11) 546 "
   ]
  },
  {
   "cell_type": "code",
   "execution_count": 329,
   "id": "aeb644b6",
   "metadata": {},
   "outputs": [
    {
     "data": {
      "text/html": [
       "<div>\n",
       "<style scoped>\n",
       "    .dataframe tbody tr th:only-of-type {\n",
       "        vertical-align: middle;\n",
       "    }\n",
       "\n",
       "    .dataframe tbody tr th {\n",
       "        vertical-align: top;\n",
       "    }\n",
       "\n",
       "    .dataframe thead th {\n",
       "        text-align: right;\n",
       "    }\n",
       "</style>\n",
       "<table border=\"1\" class=\"dataframe\">\n",
       "  <thead>\n",
       "    <tr style=\"text-align: right;\">\n",
       "      <th></th>\n",
       "      <th>City</th>\n",
       "      <th>Country</th>\n",
       "      <th>Landarea</th>\n",
       "      <th>Density</th>\n",
       "    </tr>\n",
       "  </thead>\n",
       "  <tbody>\n",
       "    <tr>\n",
       "      <th>165</th>\n",
       "      <td>hickory</td>\n",
       "      <td>USA</td>\n",
       "      <td>546</td>\n",
       "      <td>350</td>\n",
       "    </tr>\n",
       "    <tr>\n",
       "      <th>166</th>\n",
       "      <td>mobile</td>\n",
       "      <td>USA</td>\n",
       "      <td>546</td>\n",
       "      <td>600</td>\n",
       "    </tr>\n",
       "  </tbody>\n",
       "</table>\n",
       "</div>"
      ],
      "text/plain": [
       "        City Country  Landarea  Density\n",
       "165  hickory     USA       546      350\n",
       "166   mobile     USA       546      600"
      ]
     },
     "execution_count": 329,
     "metadata": {},
     "output_type": "execute_result"
    }
   ],
   "source": [
    "df71=df[df['Landarea'].isin([546])]\n",
    "df71"
   ]
  },
  {
   "cell_type": "code",
   "execution_count": 330,
   "id": "39a632c7",
   "metadata": {},
   "outputs": [],
   "source": [
    "_546_meanrank=165.5"
   ]
  },
  {
   "cell_type": "markdown",
   "id": "a1048f7a",
   "metadata": {},
   "source": [
    "### _ _ _ _ _ _ _ _ _ _ _ _ _ _ _ _ _ _ _ _ _ _ _ _ _ _ _ _ _ _ _ _ _ _ _ _ _ _ _ _ _ _ _ _ _ _  _ _ _ _ _ _ _ _ _ _ _ _ _"
   ]
  },
  {
   "cell_type": "markdown",
   "id": "c1b75c57",
   "metadata": {},
   "source": [
    "### 12) 414 "
   ]
  },
  {
   "cell_type": "code",
   "execution_count": 331,
   "id": "e45b45e5",
   "metadata": {},
   "outputs": [
    {
     "data": {
      "text/html": [
       "<div>\n",
       "<style scoped>\n",
       "    .dataframe tbody tr th:only-of-type {\n",
       "        vertical-align: middle;\n",
       "    }\n",
       "\n",
       "    .dataframe tbody tr th {\n",
       "        vertical-align: top;\n",
       "    }\n",
       "\n",
       "    .dataframe thead th {\n",
       "        text-align: right;\n",
       "    }\n",
       "</style>\n",
       "<table border=\"1\" class=\"dataframe\">\n",
       "  <thead>\n",
       "    <tr style=\"text-align: right;\">\n",
       "      <th></th>\n",
       "      <th>City</th>\n",
       "      <th>Country</th>\n",
       "      <th>Landarea</th>\n",
       "      <th>Density</th>\n",
       "    </tr>\n",
       "  </thead>\n",
       "  <tbody>\n",
       "    <tr>\n",
       "      <th>228</th>\n",
       "      <td>chennai</td>\n",
       "      <td>India</td>\n",
       "      <td>414</td>\n",
       "      <td>14350</td>\n",
       "    </tr>\n",
       "    <tr>\n",
       "      <th>229</th>\n",
       "      <td>sapporo</td>\n",
       "      <td>Japan</td>\n",
       "      <td>414</td>\n",
       "      <td>5000</td>\n",
       "    </tr>\n",
       "  </tbody>\n",
       "</table>\n",
       "</div>"
      ],
      "text/plain": [
       "        City Country  Landarea  Density\n",
       "228  chennai   India       414    14350\n",
       "229  sapporo   Japan       414     5000"
      ]
     },
     "execution_count": 331,
     "metadata": {},
     "output_type": "execute_result"
    }
   ],
   "source": [
    "df72=df[df['Landarea'].isin([414])]\n",
    "df72"
   ]
  },
  {
   "cell_type": "code",
   "execution_count": 332,
   "id": "c8672657",
   "metadata": {},
   "outputs": [],
   "source": [
    "_414_meanrank=228.5"
   ]
  },
  {
   "cell_type": "markdown",
   "id": "5ec89a38",
   "metadata": {},
   "source": [
    "### _ _ _ _ _ _ _ _ _ _ _ _ _ _ _ _ _ _ _ _ _ _ _ _ _ _ _ _ _ _ _ _ _ _ _ _ _ _ _ _ _ _ _ _ _ _  _ _ _ _ _ _ _ _ _ _ _ _ _"
   ]
  },
  {
   "cell_type": "markdown",
   "id": "bb28a8d5",
   "metadata": {},
   "source": [
    "### 13) 401 "
   ]
  },
  {
   "cell_type": "code",
   "execution_count": 333,
   "id": "12560723",
   "metadata": {},
   "outputs": [
    {
     "data": {
      "text/html": [
       "<div>\n",
       "<style scoped>\n",
       "    .dataframe tbody tr th:only-of-type {\n",
       "        vertical-align: middle;\n",
       "    }\n",
       "\n",
       "    .dataframe tbody tr th {\n",
       "        vertical-align: top;\n",
       "    }\n",
       "\n",
       "    .dataframe thead th {\n",
       "        text-align: right;\n",
       "    }\n",
       "</style>\n",
       "<table border=\"1\" class=\"dataframe\">\n",
       "  <thead>\n",
       "    <tr style=\"text-align: right;\">\n",
       "      <th></th>\n",
       "      <th>City</th>\n",
       "      <th>Country</th>\n",
       "      <th>Landarea</th>\n",
       "      <th>Density</th>\n",
       "    </tr>\n",
       "  </thead>\n",
       "  <tbody>\n",
       "    <tr>\n",
       "      <th>235</th>\n",
       "      <td>aachen</td>\n",
       "      <td>Germany</td>\n",
       "      <td>401</td>\n",
       "      <td>1450</td>\n",
       "    </tr>\n",
       "    <tr>\n",
       "      <th>236</th>\n",
       "      <td>shreveport</td>\n",
       "      <td>USA</td>\n",
       "      <td>401</td>\n",
       "      <td>700</td>\n",
       "    </tr>\n",
       "  </tbody>\n",
       "</table>\n",
       "</div>"
      ],
      "text/plain": [
       "           City  Country  Landarea  Density\n",
       "235      aachen  Germany       401     1450\n",
       "236  shreveport      USA       401      700"
      ]
     },
     "execution_count": 333,
     "metadata": {},
     "output_type": "execute_result"
    }
   ],
   "source": [
    "df73=df[df['Landarea'].isin([401])]\n",
    "df73"
   ]
  },
  {
   "cell_type": "code",
   "execution_count": 334,
   "id": "caa4cfea",
   "metadata": {},
   "outputs": [],
   "source": [
    "_401_meanrank=235.5"
   ]
  },
  {
   "cell_type": "markdown",
   "id": "6586a934",
   "metadata": {},
   "source": [
    "### _ _ _ _ _ _ _ _ _ _ _ _ _ _ _ _ _ _ _ _ _ _ _ _ _ _ _ _ _ _ _ _ _ _ _ _ _ _ _ _ _ _ _ _ _ _  _ _ _ _ _ _ _ _ _ _ _ _ _"
   ]
  },
  {
   "cell_type": "markdown",
   "id": "0b2fd391",
   "metadata": {},
   "source": [
    "### 14) 777 "
   ]
  },
  {
   "cell_type": "code",
   "execution_count": 335,
   "id": "e94cdee0",
   "metadata": {},
   "outputs": [
    {
     "data": {
      "text/html": [
       "<div>\n",
       "<style scoped>\n",
       "    .dataframe tbody tr th:only-of-type {\n",
       "        vertical-align: middle;\n",
       "    }\n",
       "\n",
       "    .dataframe tbody tr th {\n",
       "        vertical-align: top;\n",
       "    }\n",
       "\n",
       "    .dataframe thead th {\n",
       "        text-align: right;\n",
       "    }\n",
       "</style>\n",
       "<table border=\"1\" class=\"dataframe\">\n",
       "  <thead>\n",
       "    <tr style=\"text-align: right;\">\n",
       "      <th></th>\n",
       "      <th>City</th>\n",
       "      <th>Country</th>\n",
       "      <th>Landarea</th>\n",
       "      <th>Density</th>\n",
       "    </tr>\n",
       "  </thead>\n",
       "  <tbody>\n",
       "    <tr>\n",
       "      <th>99</th>\n",
       "      <td>abu dhabi</td>\n",
       "      <td>UAE</td>\n",
       "      <td>777</td>\n",
       "      <td>700</td>\n",
       "    </tr>\n",
       "    <tr>\n",
       "      <th>100</th>\n",
       "      <td>jeddah</td>\n",
       "      <td>saudi arabia</td>\n",
       "      <td>777</td>\n",
       "      <td>3550</td>\n",
       "    </tr>\n",
       "  </tbody>\n",
       "</table>\n",
       "</div>"
      ],
      "text/plain": [
       "          City       Country  Landarea  Density\n",
       "99   abu dhabi           UAE       777      700\n",
       "100     jeddah  saudi arabia       777     3550"
      ]
     },
     "execution_count": 335,
     "metadata": {},
     "output_type": "execute_result"
    }
   ],
   "source": [
    "df74=df[df['Landarea'].isin([777])]\n",
    "df74"
   ]
  },
  {
   "cell_type": "code",
   "execution_count": 336,
   "id": "63a85481",
   "metadata": {},
   "outputs": [],
   "source": [
    "_777_meanrank=99.5"
   ]
  },
  {
   "cell_type": "markdown",
   "id": "a79c319e",
   "metadata": {},
   "source": [
    "### _ _ _ _ _ _ _ _ _ _ _ _ _ _ _ _ _ _ _ _ _ _ _ _ _ _ _ _ _ _ _ _ _ _ _ _ _ _ _ _ _ _ _ _ _ _  _ _ _ _ _ _ _ _ _ _ _ _ _"
   ]
  },
  {
   "cell_type": "markdown",
   "id": "5bf83bd7",
   "metadata": {},
   "source": [
    "### 15) 816 \n"
   ]
  },
  {
   "cell_type": "code",
   "execution_count": 337,
   "id": "ee5c6e77",
   "metadata": {},
   "outputs": [
    {
     "data": {
      "text/html": [
       "<div>\n",
       "<style scoped>\n",
       "    .dataframe tbody tr th:only-of-type {\n",
       "        vertical-align: middle;\n",
       "    }\n",
       "\n",
       "    .dataframe tbody tr th {\n",
       "        vertical-align: top;\n",
       "    }\n",
       "\n",
       "    .dataframe thead th {\n",
       "        text-align: right;\n",
       "    }\n",
       "</style>\n",
       "<table border=\"1\" class=\"dataframe\">\n",
       "  <thead>\n",
       "    <tr style=\"text-align: right;\">\n",
       "      <th></th>\n",
       "      <th>City</th>\n",
       "      <th>Country</th>\n",
       "      <th>Landarea</th>\n",
       "      <th>Density</th>\n",
       "    </tr>\n",
       "  </thead>\n",
       "  <tbody>\n",
       "    <tr>\n",
       "      <th>92</th>\n",
       "      <td>cologne/bonn</td>\n",
       "      <td>germany</td>\n",
       "      <td>816</td>\n",
       "      <td>2400</td>\n",
       "    </tr>\n",
       "    <tr>\n",
       "      <th>93</th>\n",
       "      <td>copenhagen</td>\n",
       "      <td>denmark</td>\n",
       "      <td>816</td>\n",
       "      <td>1850</td>\n",
       "    </tr>\n",
       "  </tbody>\n",
       "</table>\n",
       "</div>"
      ],
      "text/plain": [
       "            City  Country  Landarea  Density\n",
       "92  cologne/bonn  germany       816     2400\n",
       "93    copenhagen  denmark       816     1850"
      ]
     },
     "execution_count": 337,
     "metadata": {},
     "output_type": "execute_result"
    }
   ],
   "source": [
    "df75=df[df['Landarea'].isin([816])]\n",
    "df75"
   ]
  },
  {
   "cell_type": "code",
   "execution_count": 338,
   "id": "b7961f4a",
   "metadata": {},
   "outputs": [],
   "source": [
    "_816_meanrank=92.5"
   ]
  },
  {
   "cell_type": "markdown",
   "id": "378700bf",
   "metadata": {},
   "source": [
    "### _ _ _ _ _ _ _ _ _ _ _ _ _ _ _ _ _ _ _ _ _ _ _ _ _ _ _ _ _ _ _ _ _ _ _ _ _ _ _ _ _ _ _ _ _ _  _ _ _ _ _ _ _ _ _ _ _ _ _"
   ]
  },
  {
   "cell_type": "markdown",
   "id": "7380dcf0",
   "metadata": {},
   "source": [
    "### 16) 411 \n"
   ]
  },
  {
   "cell_type": "code",
   "execution_count": 339,
   "id": "14284ce0",
   "metadata": {},
   "outputs": [
    {
     "data": {
      "text/html": [
       "<div>\n",
       "<style scoped>\n",
       "    .dataframe tbody tr th:only-of-type {\n",
       "        vertical-align: middle;\n",
       "    }\n",
       "\n",
       "    .dataframe tbody tr th {\n",
       "        vertical-align: top;\n",
       "    }\n",
       "\n",
       "    .dataframe thead th {\n",
       "        text-align: right;\n",
       "    }\n",
       "</style>\n",
       "<table border=\"1\" class=\"dataframe\">\n",
       "  <thead>\n",
       "    <tr style=\"text-align: right;\">\n",
       "      <th></th>\n",
       "      <th>City</th>\n",
       "      <th>Country</th>\n",
       "      <th>Landarea</th>\n",
       "      <th>Density</th>\n",
       "    </tr>\n",
       "  </thead>\n",
       "  <tbody>\n",
       "    <tr>\n",
       "      <th>230</th>\n",
       "      <td>stuttgart</td>\n",
       "      <td>Germany</td>\n",
       "      <td>411</td>\n",
       "      <td>3000</td>\n",
       "    </tr>\n",
       "    <tr>\n",
       "      <th>231</th>\n",
       "      <td>scranton</td>\n",
       "      <td>USA</td>\n",
       "      <td>411</td>\n",
       "      <td>950</td>\n",
       "    </tr>\n",
       "  </tbody>\n",
       "</table>\n",
       "</div>"
      ],
      "text/plain": [
       "          City  Country  Landarea  Density\n",
       "230  stuttgart  Germany       411     3000\n",
       "231   scranton      USA       411      950"
      ]
     },
     "execution_count": 339,
     "metadata": {},
     "output_type": "execute_result"
    }
   ],
   "source": [
    "df76=df[df['Landarea'].isin([411])]\n",
    "df76"
   ]
  },
  {
   "cell_type": "code",
   "execution_count": 340,
   "id": "ad23e4b1",
   "metadata": {},
   "outputs": [],
   "source": [
    "_411_meanrank=230.5"
   ]
  },
  {
   "cell_type": "markdown",
   "id": "c426482d",
   "metadata": {},
   "source": [
    "### _ _ _ _ _ _ _ _ _ _ _ _ _ _ _ _ _ _ _ _ _ _ _ _ _ _ _ _ _ _ _ _ _ _ _ _ _ _ _ _ _ _ _ _ _ _  _ _ _ _ _ _ _ _ _ _ _ _ _"
   ]
  },
  {
   "cell_type": "markdown",
   "id": "ddc421df",
   "metadata": {},
   "source": [
    "### 17) 376 "
   ]
  },
  {
   "cell_type": "code",
   "execution_count": 341,
   "id": "cd1a7f4b",
   "metadata": {},
   "outputs": [
    {
     "data": {
      "text/html": [
       "<div>\n",
       "<style scoped>\n",
       "    .dataframe tbody tr th:only-of-type {\n",
       "        vertical-align: middle;\n",
       "    }\n",
       "\n",
       "    .dataframe tbody tr th {\n",
       "        vertical-align: top;\n",
       "    }\n",
       "\n",
       "    .dataframe thead th {\n",
       "        text-align: right;\n",
       "    }\n",
       "</style>\n",
       "<table border=\"1\" class=\"dataframe\">\n",
       "  <thead>\n",
       "    <tr style=\"text-align: right;\">\n",
       "      <th></th>\n",
       "      <th>City</th>\n",
       "      <th>Country</th>\n",
       "      <th>Landarea</th>\n",
       "      <th>Density</th>\n",
       "    </tr>\n",
       "  </thead>\n",
       "  <tbody>\n",
       "    <tr>\n",
       "      <th>244</th>\n",
       "      <td>recife</td>\n",
       "      <td>Brazil</td>\n",
       "      <td>376</td>\n",
       "      <td>8050</td>\n",
       "    </tr>\n",
       "    <tr>\n",
       "      <th>245</th>\n",
       "      <td>taipei</td>\n",
       "      <td>Taiwan</td>\n",
       "      <td>376</td>\n",
       "      <td>15200</td>\n",
       "    </tr>\n",
       "  </tbody>\n",
       "</table>\n",
       "</div>"
      ],
      "text/plain": [
       "       City Country  Landarea  Density\n",
       "244  recife  Brazil       376     8050\n",
       "245  taipei  Taiwan       376    15200"
      ]
     },
     "execution_count": 341,
     "metadata": {},
     "output_type": "execute_result"
    }
   ],
   "source": [
    "df77=df[df['Landarea'].isin([376])]\n",
    "df77"
   ]
  },
  {
   "cell_type": "code",
   "execution_count": 342,
   "id": "6df1a1bf",
   "metadata": {},
   "outputs": [],
   "source": [
    "_376_meanrank=244.5"
   ]
  },
  {
   "cell_type": "markdown",
   "id": "fab385da",
   "metadata": {},
   "source": [
    "### _ _ _ _ _ _ _ _ _ _ _ _ _ _ _ _ _ _ _ _ _ _ _ _ _ _ _ _ _ _ _ _ _ _ _ _ _ _ _ _ _ _ _ _ _ _  _ _ _ _ _ _ _ _ _ _ _ _ _"
   ]
  },
  {
   "cell_type": "markdown",
   "id": "f0e02f4e",
   "metadata": {},
   "source": [
    "### 18) 829\n"
   ]
  },
  {
   "cell_type": "code",
   "execution_count": 343,
   "id": "55e1a00f",
   "metadata": {},
   "outputs": [
    {
     "data": {
      "text/html": [
       "<div>\n",
       "<style scoped>\n",
       "    .dataframe tbody tr th:only-of-type {\n",
       "        vertical-align: middle;\n",
       "    }\n",
       "\n",
       "    .dataframe tbody tr th {\n",
       "        vertical-align: top;\n",
       "    }\n",
       "\n",
       "    .dataframe thead th {\n",
       "        text-align: right;\n",
       "    }\n",
       "</style>\n",
       "<table border=\"1\" class=\"dataframe\">\n",
       "  <thead>\n",
       "    <tr style=\"text-align: right;\">\n",
       "      <th></th>\n",
       "      <th>City</th>\n",
       "      <th>Country</th>\n",
       "      <th>Landarea</th>\n",
       "      <th>Density</th>\n",
       "    </tr>\n",
       "  </thead>\n",
       "  <tbody>\n",
       "    <tr>\n",
       "      <th>88</th>\n",
       "      <td>durban</td>\n",
       "      <td>South Africa</td>\n",
       "      <td>829</td>\n",
       "      <td>3500</td>\n",
       "    </tr>\n",
       "    <tr>\n",
       "      <th>89</th>\n",
       "      <td>hamburg</td>\n",
       "      <td>Germany</td>\n",
       "      <td>829</td>\n",
       "      <td>2300</td>\n",
       "    </tr>\n",
       "  </tbody>\n",
       "</table>\n",
       "</div>"
      ],
      "text/plain": [
       "       City       Country  Landarea  Density\n",
       "88   durban  South Africa       829     3500\n",
       "89  hamburg       Germany       829     2300"
      ]
     },
     "execution_count": 343,
     "metadata": {},
     "output_type": "execute_result"
    }
   ],
   "source": [
    "df78=df[df['Landarea'].isin([829])]\n",
    "df78"
   ]
  },
  {
   "cell_type": "code",
   "execution_count": 344,
   "id": "610f86a2",
   "metadata": {},
   "outputs": [],
   "source": [
    "_829_meanrank=88.5"
   ]
  },
  {
   "cell_type": "markdown",
   "id": "dfcbf5c4",
   "metadata": {},
   "source": [
    "### _ _ _ _ _ _ _ _ _ _ _ _ _ _ _ _ _ _ _ _ _ _ _ _ _ _ _ _ _ _ _ _ _ _ _ _ _ _ _ _ _ _ _ _ _ _  _ _ _ _ _ _ _ _ _ _ _ _ _"
   ]
  },
  {
   "cell_type": "markdown",
   "id": "7202d3f7",
   "metadata": {},
   "source": [
    "### 19) 741 "
   ]
  },
  {
   "cell_type": "code",
   "execution_count": 345,
   "id": "f0c83328",
   "metadata": {},
   "outputs": [
    {
     "data": {
      "text/html": [
       "<div>\n",
       "<style scoped>\n",
       "    .dataframe tbody tr th:only-of-type {\n",
       "        vertical-align: middle;\n",
       "    }\n",
       "\n",
       "    .dataframe tbody tr th {\n",
       "        vertical-align: top;\n",
       "    }\n",
       "\n",
       "    .dataframe thead th {\n",
       "        text-align: right;\n",
       "    }\n",
       "</style>\n",
       "<table border=\"1\" class=\"dataframe\">\n",
       "  <thead>\n",
       "    <tr style=\"text-align: right;\">\n",
       "      <th></th>\n",
       "      <th>City</th>\n",
       "      <th>Country</th>\n",
       "      <th>Landarea</th>\n",
       "      <th>Density</th>\n",
       "    </tr>\n",
       "  </thead>\n",
       "  <tbody>\n",
       "    <tr>\n",
       "      <th>107</th>\n",
       "      <td>barnstable town</td>\n",
       "      <td>USA</td>\n",
       "      <td>741</td>\n",
       "      <td>350</td>\n",
       "    </tr>\n",
       "    <tr>\n",
       "      <th>108</th>\n",
       "      <td>las vegas</td>\n",
       "      <td>USA</td>\n",
       "      <td>741</td>\n",
       "      <td>1750</td>\n",
       "    </tr>\n",
       "  </tbody>\n",
       "</table>\n",
       "</div>"
      ],
      "text/plain": [
       "                City Country  Landarea  Density\n",
       "107  barnstable town     USA       741      350\n",
       "108        las vegas     USA       741     1750"
      ]
     },
     "execution_count": 345,
     "metadata": {},
     "output_type": "execute_result"
    }
   ],
   "source": [
    "df79=df[df['Landarea'].isin([741])]\n",
    "df79"
   ]
  },
  {
   "cell_type": "code",
   "execution_count": 346,
   "id": "84377c49",
   "metadata": {},
   "outputs": [],
   "source": [
    "_741_meanrank=107.5"
   ]
  },
  {
   "cell_type": "markdown",
   "id": "043d179b",
   "metadata": {},
   "source": [
    "### _ _ _ _ _ _ _ _ _ _ _ _ _ _ _ _ _ _ _ _ _ _ _ _ _ _ _ _ _ _ _ _ _ _ _ _ _ _ _ _ _ _ _ _ _ _  _ _ _ _ _ _ _ _ _ _ _ _ _"
   ]
  },
  {
   "cell_type": "markdown",
   "id": "6869ade1",
   "metadata": {},
   "source": [
    "### 20) 427 \n"
   ]
  },
  {
   "cell_type": "code",
   "execution_count": 347,
   "id": "b1c4e705",
   "metadata": {},
   "outputs": [
    {
     "data": {
      "text/html": [
       "<div>\n",
       "<style scoped>\n",
       "    .dataframe tbody tr th:only-of-type {\n",
       "        vertical-align: middle;\n",
       "    }\n",
       "\n",
       "    .dataframe tbody tr th {\n",
       "        vertical-align: top;\n",
       "    }\n",
       "\n",
       "    .dataframe thead th {\n",
       "        text-align: right;\n",
       "    }\n",
       "</style>\n",
       "<table border=\"1\" class=\"dataframe\">\n",
       "  <thead>\n",
       "    <tr style=\"text-align: right;\">\n",
       "      <th></th>\n",
       "      <th>City</th>\n",
       "      <th>Country</th>\n",
       "      <th>Landarea</th>\n",
       "      <th>Density</th>\n",
       "    </tr>\n",
       "  </thead>\n",
       "  <tbody>\n",
       "    <tr>\n",
       "      <th>224</th>\n",
       "      <td>lumumbashi</td>\n",
       "      <td>Congo</td>\n",
       "      <td>427</td>\n",
       "      <td>2800</td>\n",
       "    </tr>\n",
       "    <tr>\n",
       "      <th>225</th>\n",
       "      <td>port elizabeth</td>\n",
       "      <td>South Africa</td>\n",
       "      <td>427</td>\n",
       "      <td>2100</td>\n",
       "    </tr>\n",
       "  </tbody>\n",
       "</table>\n",
       "</div>"
      ],
      "text/plain": [
       "               City       Country  Landarea  Density\n",
       "224      lumumbashi         Congo       427     2800\n",
       "225  port elizabeth  South Africa       427     2100"
      ]
     },
     "execution_count": 347,
     "metadata": {},
     "output_type": "execute_result"
    }
   ],
   "source": [
    "df80=df[df['Landarea'].isin([427])]\n",
    "df80"
   ]
  },
  {
   "cell_type": "code",
   "execution_count": 348,
   "id": "40777819",
   "metadata": {},
   "outputs": [],
   "source": [
    "_427_meanrank=224.5"
   ]
  },
  {
   "cell_type": "markdown",
   "id": "2ccbe97a",
   "metadata": {},
   "source": [
    "### _ _ _ _ _ _ _ _ _ _ _ _ _ _ _ _ _ _ _ _ _ _ _ _ _ _ _ _ _ _ _ _ _ _ _ _ _ _ _ _ _ _ _ _ _ _  _ _ _ _ _ _ _ _ _ _ _ _ _"
   ]
  },
  {
   "cell_type": "markdown",
   "id": "2ad5102e",
   "metadata": {},
   "source": [
    "### 21) 702 "
   ]
  },
  {
   "cell_type": "code",
   "execution_count": 349,
   "id": "3f7f9e21",
   "metadata": {},
   "outputs": [
    {
     "data": {
      "text/html": [
       "<div>\n",
       "<style scoped>\n",
       "    .dataframe tbody tr th:only-of-type {\n",
       "        vertical-align: middle;\n",
       "    }\n",
       "\n",
       "    .dataframe tbody tr th {\n",
       "        vertical-align: top;\n",
       "    }\n",
       "\n",
       "    .dataframe thead th {\n",
       "        text-align: right;\n",
       "    }\n",
       "</style>\n",
       "<table border=\"1\" class=\"dataframe\">\n",
       "  <thead>\n",
       "    <tr style=\"text-align: right;\">\n",
       "      <th></th>\n",
       "      <th>City</th>\n",
       "      <th>Country</th>\n",
       "      <th>Landarea</th>\n",
       "      <th>Density</th>\n",
       "    </tr>\n",
       "  </thead>\n",
       "  <tbody>\n",
       "    <tr>\n",
       "      <th>119</th>\n",
       "      <td>budapest</td>\n",
       "      <td>hungry</td>\n",
       "      <td>702</td>\n",
       "      <td>2550</td>\n",
       "    </tr>\n",
       "    <tr>\n",
       "      <th>120</th>\n",
       "      <td>calgary</td>\n",
       "      <td>canada</td>\n",
       "      <td>702</td>\n",
       "      <td>1250</td>\n",
       "    </tr>\n",
       "  </tbody>\n",
       "</table>\n",
       "</div>"
      ],
      "text/plain": [
       "         City Country  Landarea  Density\n",
       "119  budapest  hungry       702     2550\n",
       "120   calgary  canada       702     1250"
      ]
     },
     "execution_count": 349,
     "metadata": {},
     "output_type": "execute_result"
    }
   ],
   "source": [
    "df81=df[df['Landarea'].isin([702])]\n",
    "df81"
   ]
  },
  {
   "cell_type": "code",
   "execution_count": 350,
   "id": "265b7fe8",
   "metadata": {},
   "outputs": [],
   "source": [
    "_702_meanrank=119.5"
   ]
  },
  {
   "cell_type": "markdown",
   "id": "dc83ff33",
   "metadata": {},
   "source": [
    "### _ _ _ _ _ _ _ _ _ _ _ _ _ _ _ _ _ _ _ _ _ _ _ _ _ _ _ _ _ _ _ _ _ _ _ _ _ _ _ _ _ _ _ _ _ _  _ _ _ _ _ _ _ _ _ _ _ _ _"
   ]
  },
  {
   "cell_type": "code",
   "execution_count": 351,
   "id": "0e17e108",
   "metadata": {},
   "outputs": [
    {
     "data": {
      "text/plain": [
       "148.97619047619048"
      ]
     },
     "execution_count": 351,
     "metadata": {},
     "output_type": "execute_result"
    }
   ],
   "source": [
    "_2_Times_meanrank=(119.5+224.5+107.5+88.5+244.5+230.5+92.5+99.5+235.5+228.5+165.5+210.5+138.5+208.5+129.5+32.5+162.5+74.5+141.5+144.5+49.5)/21\n",
    "_2_Times_meanrank"
   ]
  },
  {
   "cell_type": "markdown",
   "id": "05dea353",
   "metadata": {},
   "source": [
    "### _ _ _ _ _ _ _ _ _ _ _ _ _ _ _ _ _ _ _ _ _ _ _ _ _ _ _ _ _ _ _ _ _ _ _ _ _ _ _ _ _ _ _ _ _ _  _ _ _ _ _ _ _ _ _ _ _ _ _"
   ]
  },
  {
   "cell_type": "code",
   "execution_count": 352,
   "id": "cc29907b",
   "metadata": {},
   "outputs": [
    {
     "data": {
      "text/html": [
       "<div>\n",
       "<style scoped>\n",
       "    .dataframe tbody tr th:only-of-type {\n",
       "        vertical-align: middle;\n",
       "    }\n",
       "\n",
       "    .dataframe tbody tr th {\n",
       "        vertical-align: top;\n",
       "    }\n",
       "\n",
       "    .dataframe thead th {\n",
       "        text-align: right;\n",
       "    }\n",
       "</style>\n",
       "<table border=\"1\" class=\"dataframe\">\n",
       "  <thead>\n",
       "    <tr style=\"text-align: right;\">\n",
       "      <th></th>\n",
       "      <th>City</th>\n",
       "      <th>Country</th>\n",
       "      <th>Landarea</th>\n",
       "      <th>Density</th>\n",
       "    </tr>\n",
       "  </thead>\n",
       "  <tbody>\n",
       "    <tr>\n",
       "      <th>21</th>\n",
       "      <td>bvenos aires</td>\n",
       "      <td>Argentina</td>\n",
       "      <td>2266</td>\n",
       "      <td>4950</td>\n",
       "    </tr>\n",
       "    <tr>\n",
       "      <th>38</th>\n",
       "      <td>kuala lumpur</td>\n",
       "      <td>Malaysia</td>\n",
       "      <td>1606</td>\n",
       "      <td>2750</td>\n",
       "    </tr>\n",
       "    <tr>\n",
       "      <th>44</th>\n",
       "      <td>manila</td>\n",
       "      <td>Philippines</td>\n",
       "      <td>1399</td>\n",
       "      <td>10550</td>\n",
       "    </tr>\n",
       "    <tr>\n",
       "      <th>47</th>\n",
       "      <td>jakarta</td>\n",
       "      <td>Indonesia</td>\n",
       "      <td>1360</td>\n",
       "      <td>10500</td>\n",
       "    </tr>\n",
       "    <tr>\n",
       "      <th>49</th>\n",
       "      <td>cairo</td>\n",
       "      <td>Egypt</td>\n",
       "      <td>1295</td>\n",
       "      <td>9400</td>\n",
       "    </tr>\n",
       "    <tr>\n",
       "      <th>68</th>\n",
       "      <td>seoul /incheon</td>\n",
       "      <td>South Korea</td>\n",
       "      <td>1049</td>\n",
       "      <td>16700</td>\n",
       "    </tr>\n",
       "    <tr>\n",
       "      <th>73</th>\n",
       "      <td>bangkok</td>\n",
       "      <td>Thailand</td>\n",
       "      <td>1010</td>\n",
       "      <td>6450</td>\n",
       "    </tr>\n",
       "    <tr>\n",
       "      <th>93</th>\n",
       "      <td>copenhagen</td>\n",
       "      <td>denmark</td>\n",
       "      <td>816</td>\n",
       "      <td>1850</td>\n",
       "    </tr>\n",
       "    <tr>\n",
       "      <th>110</th>\n",
       "      <td>lagos</td>\n",
       "      <td>nigeria</td>\n",
       "      <td>738</td>\n",
       "      <td>18150</td>\n",
       "    </tr>\n",
       "    <tr>\n",
       "      <th>118</th>\n",
       "      <td>harare</td>\n",
       "      <td>zimbabwe</td>\n",
       "      <td>712</td>\n",
       "      <td>2450</td>\n",
       "    </tr>\n",
       "    <tr>\n",
       "      <th>119</th>\n",
       "      <td>budapest</td>\n",
       "      <td>hungry</td>\n",
       "      <td>702</td>\n",
       "      <td>2550</td>\n",
       "    </tr>\n",
       "    <tr>\n",
       "      <th>125</th>\n",
       "      <td>tehran</td>\n",
       "      <td>iran</td>\n",
       "      <td>686</td>\n",
       "      <td>10550</td>\n",
       "    </tr>\n",
       "    <tr>\n",
       "      <th>126</th>\n",
       "      <td>athens</td>\n",
       "      <td>Greece</td>\n",
       "      <td>684</td>\n",
       "      <td>5400</td>\n",
       "    </tr>\n",
       "    <tr>\n",
       "      <th>134</th>\n",
       "      <td>beirut</td>\n",
       "      <td>lebanon</td>\n",
       "      <td>648</td>\n",
       "      <td>2800</td>\n",
       "    </tr>\n",
       "    <tr>\n",
       "      <th>136</th>\n",
       "      <td>santiago</td>\n",
       "      <td>Chile</td>\n",
       "      <td>648</td>\n",
       "      <td>8400</td>\n",
       "    </tr>\n",
       "    <tr>\n",
       "      <th>147</th>\n",
       "      <td>baghdad</td>\n",
       "      <td>Iraq</td>\n",
       "      <td>596</td>\n",
       "      <td>9250</td>\n",
       "    </tr>\n",
       "    <tr>\n",
       "      <th>149</th>\n",
       "      <td>lima</td>\n",
       "      <td>Peru</td>\n",
       "      <td>596</td>\n",
       "      <td>11750</td>\n",
       "    </tr>\n",
       "    <tr>\n",
       "      <th>157</th>\n",
       "      <td>khartoum</td>\n",
       "      <td>Sudan</td>\n",
       "      <td>583</td>\n",
       "      <td>6850</td>\n",
       "    </tr>\n",
       "    <tr>\n",
       "      <th>167</th>\n",
       "      <td>baku/sumqaxit</td>\n",
       "      <td>Azerbaijan</td>\n",
       "      <td>544</td>\n",
       "      <td>3850</td>\n",
       "    </tr>\n",
       "    <tr>\n",
       "      <th>170</th>\n",
       "      <td>kuwait</td>\n",
       "      <td>Kuwait</td>\n",
       "      <td>544</td>\n",
       "      <td>2950</td>\n",
       "    </tr>\n",
       "    <tr>\n",
       "      <th>175</th>\n",
       "      <td>auck land</td>\n",
       "      <td>New Zealand</td>\n",
       "      <td>531</td>\n",
       "      <td>2000</td>\n",
       "    </tr>\n",
       "    <tr>\n",
       "      <th>177</th>\n",
       "      <td>rotterdam</td>\n",
       "      <td>Netherlands</td>\n",
       "      <td>531</td>\n",
       "      <td>2500</td>\n",
       "    </tr>\n",
       "    <tr>\n",
       "      <th>178</th>\n",
       "      <td>tashkent</td>\n",
       "      <td>Uzbekistan</td>\n",
       "      <td>531</td>\n",
       "      <td>4150</td>\n",
       "    </tr>\n",
       "    <tr>\n",
       "      <th>180</th>\n",
       "      <td>bogota</td>\n",
       "      <td>Colombia</td>\n",
       "      <td>518</td>\n",
       "      <td>13500</td>\n",
       "    </tr>\n",
       "    <tr>\n",
       "      <th>181</th>\n",
       "      <td>hochi minh city</td>\n",
       "      <td>Vietnam</td>\n",
       "      <td>518</td>\n",
       "      <td>9450</td>\n",
       "    </tr>\n",
       "    <tr>\n",
       "      <th>184</th>\n",
       "      <td>phnompenh</td>\n",
       "      <td>Cambodia</td>\n",
       "      <td>518</td>\n",
       "      <td>2900</td>\n",
       "    </tr>\n",
       "    <tr>\n",
       "      <th>185</th>\n",
       "      <td>stockholm</td>\n",
       "      <td>Sweden</td>\n",
       "      <td>518</td>\n",
       "      <td>2700</td>\n",
       "    </tr>\n",
       "    <tr>\n",
       "      <th>200</th>\n",
       "      <td>helsinki</td>\n",
       "      <td>Finland</td>\n",
       "      <td>479</td>\n",
       "      <td>2100</td>\n",
       "    </tr>\n",
       "    <tr>\n",
       "      <th>202</th>\n",
       "      <td>quito</td>\n",
       "      <td>Ecuador</td>\n",
       "      <td>479</td>\n",
       "      <td>3150</td>\n",
       "    </tr>\n",
       "    <tr>\n",
       "      <th>203</th>\n",
       "      <td>singapore</td>\n",
       "      <td>Singapore</td>\n",
       "      <td>479</td>\n",
       "      <td>8350</td>\n",
       "    </tr>\n",
       "    <tr>\n",
       "      <th>214</th>\n",
       "      <td>accra</td>\n",
       "      <td>Ghana</td>\n",
       "      <td>453</td>\n",
       "      <td>3300</td>\n",
       "    </tr>\n",
       "    <tr>\n",
       "      <th>216</th>\n",
       "      <td>tel aviv</td>\n",
       "      <td>Israel</td>\n",
       "      <td>453</td>\n",
       "      <td>5050</td>\n",
       "    </tr>\n",
       "    <tr>\n",
       "      <th>218</th>\n",
       "      <td>vienna</td>\n",
       "      <td>Austria</td>\n",
       "      <td>453</td>\n",
       "      <td>3400</td>\n",
       "    </tr>\n",
       "    <tr>\n",
       "      <th>219</th>\n",
       "      <td>donetsk</td>\n",
       "      <td>Ukraine</td>\n",
       "      <td>451</td>\n",
       "      <td>3100</td>\n",
       "    </tr>\n",
       "    <tr>\n",
       "      <th>250</th>\n",
       "      <td>Dublin</td>\n",
       "      <td>Ireland</td>\n",
       "      <td>365</td>\n",
       "      <td>2950</td>\n",
       "    </tr>\n",
       "  </tbody>\n",
       "</table>\n",
       "</div>"
      ],
      "text/plain": [
       "                City      Country  Landarea  Density\n",
       "21      bvenos aires    Argentina      2266     4950\n",
       "38      kuala lumpur     Malaysia      1606     2750\n",
       "44            manila  Philippines      1399    10550\n",
       "47           jakarta    Indonesia      1360    10500\n",
       "49             cairo        Egypt      1295     9400\n",
       "68    seoul /incheon  South Korea      1049    16700\n",
       "73           bangkok     Thailand      1010     6450\n",
       "93        copenhagen      denmark       816     1850\n",
       "110            lagos      nigeria       738    18150\n",
       "118           harare     zimbabwe       712     2450\n",
       "119         budapest       hungry       702     2550\n",
       "125           tehran         iran       686    10550\n",
       "126           athens       Greece       684     5400\n",
       "134           beirut      lebanon       648     2800\n",
       "136         santiago        Chile       648     8400\n",
       "147          baghdad         Iraq       596     9250\n",
       "149             lima         Peru       596    11750\n",
       "157         khartoum        Sudan       583     6850\n",
       "167    baku/sumqaxit   Azerbaijan       544     3850\n",
       "170           kuwait       Kuwait       544     2950\n",
       "175        auck land  New Zealand       531     2000\n",
       "177        rotterdam  Netherlands       531     2500\n",
       "178         tashkent   Uzbekistan       531     4150\n",
       "180           bogota     Colombia       518    13500\n",
       "181  hochi minh city      Vietnam       518     9450\n",
       "184        phnompenh     Cambodia       518     2900\n",
       "185        stockholm       Sweden       518     2700\n",
       "200         helsinki      Finland       479     2100\n",
       "202            quito      Ecuador       479     3150\n",
       "203        singapore    Singapore       479     8350\n",
       "214            accra        Ghana       453     3300\n",
       "216         tel aviv       Israel       453     5050\n",
       "218           vienna      Austria       453     3400\n",
       "219          donetsk      Ukraine       451     3100\n",
       "250           Dublin      Ireland       365     2950"
      ]
     },
     "execution_count": 352,
     "metadata": {},
     "output_type": "execute_result"
    }
   ],
   "source": [
    "df111=df.iloc[[20,37,43,46,48,67,72,92,109,117,118,124,125,133,135,146,148,156,166,169,174,176,177,179,180,183,184,199,201,202,213,215,217,218,249],:]\n",
    "Single_City_Countries=df111\n",
    "Single_City_Countries"
   ]
  },
  {
   "cell_type": "code",
   "execution_count": 353,
   "id": "a5e6e3d6",
   "metadata": {},
   "outputs": [],
   "source": [
    "# ser= pd.value_counts(df['Landarea'])\n",
    "# ser2= ser[ser==2]\n",
    "# ser2"
   ]
  },
  {
   "cell_type": "code",
   "execution_count": 354,
   "id": "345a9011",
   "metadata": {},
   "outputs": [
    {
     "ename": "NameError",
     "evalue": "name 'ser2' is not defined",
     "output_type": "error",
     "traceback": [
      "\u001b[1;31m---------------------------------------------------------------------------\u001b[0m",
      "\u001b[1;31mNameError\u001b[0m                                 Traceback (most recent call last)",
      "\u001b[1;32m~\\AppData\\Local\\Temp\\ipykernel_4616\\2894376364.py\u001b[0m in \u001b[0;36m<cell line: 1>\u001b[1;34m()\u001b[0m\n\u001b[1;32m----> 1\u001b[1;33m \u001b[0mlen\u001b[0m\u001b[1;33m(\u001b[0m\u001b[0mser2\u001b[0m\u001b[1;33m)\u001b[0m\u001b[1;33m\u001b[0m\u001b[1;33m\u001b[0m\u001b[0m\n\u001b[0m",
      "\u001b[1;31mNameError\u001b[0m: name 'ser2' is not defined"
     ]
    }
   ],
   "source": [
    "len(ser2)"
   ]
  },
  {
   "cell_type": "code",
   "execution_count": null,
   "id": "c7cc0278",
   "metadata": {},
   "outputs": [],
   "source": [
    "ser= pd.value_counts(df['Landarea'])\n",
    "ser25= ser[ser==1]\n",
    "ser25"
   ]
  },
  {
   "cell_type": "code",
   "execution_count": null,
   "id": "eeb4b77d",
   "metadata": {},
   "outputs": [],
   "source": [
    "len(ser25)"
   ]
  },
  {
   "cell_type": "code",
   "execution_count": null,
   "id": "315a2096",
   "metadata": {},
   "outputs": [],
   "source": []
  }
 ],
 "metadata": {
  "kernelspec": {
   "display_name": "Python 3 (ipykernel)",
   "language": "python",
   "name": "python3"
  },
  "language_info": {
   "codemirror_mode": {
    "name": "ipython",
    "version": 3
   },
   "file_extension": ".py",
   "mimetype": "text/x-python",
   "name": "python",
   "nbconvert_exporter": "python",
   "pygments_lexer": "ipython3",
   "version": "3.10.6"
  }
 },
 "nbformat": 4,
 "nbformat_minor": 5
}
